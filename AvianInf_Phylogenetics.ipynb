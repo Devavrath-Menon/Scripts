{
 "cells": [
  {
   "cell_type": "code",
   "execution_count": null,
   "metadata": {
    "colab": {
     "base_uri": "https://localhost:8080/"
    },
    "id": "uUCA4PN6Z9zf",
    "outputId": "e811c14e-91e7-4ee1-9832-f0c75abea037"
   },
   "outputs": [
    {
     "name": "stdout",
     "output_type": "stream",
     "text": [
      "Collecting zstandard\n",
      "  Using cached zstandard-0.23.0-cp310-cp310-manylinux_2_17_x86_64.manylinux2014_x86_64.whl.metadata (3.0 kB)\n",
      "Collecting cuda-python\n",
      "  Using cached cuda_python-12.6.0-cp310-cp310-manylinux_2_17_x86_64.manylinux2014_x86_64.whl.metadata (12 kB)\n",
      "Using cached zstandard-0.23.0-cp310-cp310-manylinux_2_17_x86_64.manylinux2014_x86_64.whl (5.4 MB)\n",
      "Using cached cuda_python-12.6.0-cp310-cp310-manylinux_2_17_x86_64.manylinux2014_x86_64.whl (24.2 MB)\n",
      "Installing collected packages: cuda-python, zstandard\n",
      "  Attempting uninstall: zstandard\n",
      "    Found existing installation: zstandard 0.22.0\n",
      "    Uninstalling zstandard-0.22.0:\n",
      "      Successfully uninstalled zstandard-0.22.0\n",
      "Successfully installed cuda-python-12.6.0 zstandard-0.23.0\n",
      "\u001b[2K     \u001b[90m━━━━━━━━━━━━━━━━━━━━━━━━━━━━━━━━━━━━━━━━\u001b[0m \u001b[32m60.9/60.9 kB\u001b[0m \u001b[31m2.4 MB/s\u001b[0m eta \u001b[36m0:00:00\u001b[0m\n",
      "\u001b[2K     \u001b[90m━━━━━━━━━━━━━━━━━━━━━━━━━━━━━━━━━━━━━━━━\u001b[0m \u001b[32m89.9/89.9 kB\u001b[0m \u001b[31m5.9 MB/s\u001b[0m eta \u001b[36m0:00:00\u001b[0m\n",
      "\u001b[2K     \u001b[90m━━━━━━━━━━━━━━━━━━━━━━━━━━━━━━━━━━━━━━━━\u001b[0m \u001b[32m60.8/60.8 kB\u001b[0m \u001b[31m4.1 MB/s\u001b[0m eta \u001b[36m0:00:00\u001b[0m\n",
      "\u001b[2K     \u001b[90m━━━━━━━━━━━━━━━━━━━━━━━━━━━━━━━━━━━━━━━━\u001b[0m \u001b[32m163.7/163.7 kB\u001b[0m \u001b[31m10.1 MB/s\u001b[0m eta \u001b[36m0:00:00\u001b[0m\n",
      "\u001b[2K   \u001b[90m━━━━━━━━━━━━━━━━━━━━━━━━━━━━━━━━━━━━━━━━\u001b[0m \u001b[32m8.3/8.3 MB\u001b[0m \u001b[31m62.9 MB/s\u001b[0m eta \u001b[36m0:00:00\u001b[0m\n",
      "\u001b[2K   \u001b[90m━━━━━━━━━━━━━━━━━━━━━━━━━━━━━━━━━━━━━━━━\u001b[0m \u001b[32m16.3/16.3 MB\u001b[0m \u001b[31m55.1 MB/s\u001b[0m eta \u001b[36m0:00:00\u001b[0m\n",
      "\u001b[2K   \u001b[90m━━━━━━━━━━━━━━━━━━━━━━━━━━━━━━━━━━━━━━━━\u001b[0m \u001b[32m13.1/13.1 MB\u001b[0m \u001b[31m61.8 MB/s\u001b[0m eta \u001b[36m0:00:00\u001b[0m\n",
      "\u001b[2K   \u001b[90m━━━━━━━━━━━━━━━━━━━━━━━━━━━━━━━━━━━━━━━━\u001b[0m \u001b[32m41.2/41.2 MB\u001b[0m \u001b[31m10.8 MB/s\u001b[0m eta \u001b[36m0:00:00\u001b[0m\n",
      "\u001b[2K   \u001b[90m━━━━━━━━━━━━━━━━━━━━━━━━━━━━━━━━━━━━━━━━\u001b[0m \u001b[32m322.0/322.0 kB\u001b[0m \u001b[31m20.9 MB/s\u001b[0m eta \u001b[36m0:00:00\u001b[0m\n",
      "\u001b[2K   \u001b[90m━━━━━━━━━━━━━━━━━━━━━━━━━━━━━━━━━━━━━━━━\u001b[0m \u001b[32m4.6/4.6 MB\u001b[0m \u001b[31m85.4 MB/s\u001b[0m eta \u001b[36m0:00:00\u001b[0m\n",
      "\u001b[2K   \u001b[90m━━━━━━━━━━━━━━━━━━━━━━━━━━━━━━━━━━━━━━━━\u001b[0m \u001b[32m1.6/1.6 MB\u001b[0m \u001b[31m64.3 MB/s\u001b[0m eta \u001b[36m0:00:00\u001b[0m\n",
      "\u001b[2K   \u001b[90m━━━━━━━━━━━━━━━━━━━━━━━━━━━━━━━━━━━━━━━━\u001b[0m \u001b[32m4.4/4.4 MB\u001b[0m \u001b[31m85.0 MB/s\u001b[0m eta \u001b[36m0:00:00\u001b[0m\n",
      "\u001b[2K   \u001b[90m━━━━━━━━━━━━━━━━━━━━━━━━━━━━━━━━━━━━━━━━\u001b[0m \u001b[32m106.9/106.9 kB\u001b[0m \u001b[31m7.8 MB/s\u001b[0m eta \u001b[36m0:00:00\u001b[0m\n",
      "\u001b[2K   \u001b[90m━━━━━━━━━━━━━━━━━━━━━━━━━━━━━━━━━━━━━━━━\u001b[0m \u001b[32m229.9/229.9 kB\u001b[0m \u001b[31m16.4 MB/s\u001b[0m eta \u001b[36m0:00:00\u001b[0m\n",
      "\u001b[2K   \u001b[90m━━━━━━━━━━━━━━━━━━━━━━━━━━━━━━━━━━━━━━━━\u001b[0m \u001b[32m508.0/508.0 kB\u001b[0m \u001b[31m29.5 MB/s\u001b[0m eta \u001b[36m0:00:00\u001b[0m\n",
      "\u001b[2K   \u001b[90m━━━━━━━━━━━━━━━━━━━━━━━━━━━━━━━━━━━━━━━━\u001b[0m \u001b[32m346.6/346.6 kB\u001b[0m \u001b[31m21.8 MB/s\u001b[0m eta \u001b[36m0:00:00\u001b[0m\n",
      "\u001b[?25h✨🍰✨ Everything looks OK!\n"
     ]
    }
   ],
   "source": [
    "#setup \n",
    "!pip install --upgrade --force-reinstall zstandard cuda-python\n",
    "!pip install -q condacolab alv phylo-treetime\n",
    "!mamba install -c bioconda mafft iqtree seqkit --quiet\n",
    "import condacolab\n",
    "condacolab.install()"
   ]
  },
  {
   "cell_type": "code",
   "execution_count": null,
   "metadata": {
    "id": "smtfzUEVucie"
   },
   "outputs": [],
   "source": [
    "datafile = \"/content/Dataset1.fasta\" #load data"
   ]
  },
  {
   "cell_type": "code",
   "execution_count": 4,
   "metadata": {
    "colab": {
     "base_uri": "https://localhost:8080/"
    },
    "id": "N_zMi0upqAmE",
    "outputId": "66e8f8f5-26cc-4c17-9551-f7db7400a55c"
   },
   "outputs": [
    {
     "name": "stdout",
     "output_type": "stream",
     "text": [
      ">A/Bald_Eagle/BC/OTH-33-36/2022_H5N1|A/Bald_Eagle/BC/OTH-33-36/2022|2022-02-03|\n",
      "AGCAAAAGCAGGGGTTCACTCTGTCAAAATGGAGAACATAGTACTTCTTCTTGCAATAATTAGCCTTGTTAAAAGTGATCAGATTTGCATTGGTTACCATGCAAACAATTCGACAGAGCAGGTTGACACGATAATGGAAAAGAACGTCACCGTTACACATGCCCAAGACATACTGGAAAAAACACACAACGGGAAGCTCTGTGATCTAAATGGGGTGAAGCCTCTGATTTTAAAGGATTGTAGTGTAGCTGGATGGCTCCTCGGAAACCCAATGTGCGACGAATTCATCAGAGTGCCGGAATGGTCCTACATAGTGGAGCGGGCTAATCCAGCTAATGACCTCTGTTACCCAGGGAGCCTCAATGACTACGAAGAACTGAAACACCTGTTGAGCAGAATAAATCACTTTGAGAAGATTCTGATCATCCCCAAGAGTTCCTGGCCAAATCATGAAACATCACTAGGGGTGAGCGCAGCTTGTCCATACCAGGGAGCGCCCTCCTTTTTCAGAAATGTGGTGTGGCTTATCAAAAAGAACGATGCATACCCAACAATAAAGATAAGCTACAATAATACCAATCGGGAAGATCTCTTGATACTGTGGGGGATTCATCATTCCAACAATGCAGAAGAGCAGACAAATCTCTATAAAAACCCAACCACCTACATTTCAGTTGGAACATCAACTTTAAACCAGAGGTTGGTACCAAAAATAGCTACTAGATCCCAAGTAAACGGGCAACGTGGAAGAATGGACTTCTTCTGGACAATTTTAAAACCAGATGATGCCATCCATTTCGAGAGTAATGGAAATTTCATTGCTCCAGAATATGCATACAAAATTGTCAAGAAAGGGGACTCAACAATTATGAAAAGTGGAGTGGAATATGGCCACTGCAACACCAAATGTCAAACCCCAGTAGGAGCGATAAATTCTAGTATGCCATTCCACAACATACATCCTCTCACCATTGGGGAATGCCCCAAATACGTGAAATCAAACAAGTTGGTCCTTGCGACTGGGCTCAGAAATAGTCCTCTAAGAGAAAGGAGAAGAAAAAGAGGCCTGTTTGGGGCAATAGCAGGGTTTATAGAGGGAGGATGGCAGGGAATGGTTGATGGTTGGTATGGGTACCATCATAGCAATGAGCAGGGGAGTGGGTACGCTGCAGACAAAGAATCCACCCAAAAGGCAATAGATGGAGTTACCAATAAGGTCAACTCAATCATTGACAAAATGAACACTCAATTTGAGGCAGTTGGAAGGGAGTTTAATAACTTAGAAAGGAGGATAGAGAATTTGAACAAGAAAATGGAAGACGGATTCCTAGATGTCTGGACCTATAATGCTGAACTTCTAGTTCTCATGGAAAACGAGAGGACTCTAGATTTCCATGATTCAAATGTCAAGAACCTTTACGACAAAGTCAGACTACAGCTTAGGGATAATGCAAAGGAGCTGGGTAATGGCTGTTTCGAATTCTATCACAAATGCGATAATGAATGTATGGAAAGTGTGAGAAATGGGACGTATGACTACCCTCAGTATTCAGAAGAAGCAAGATTAAAAAGAGAAGAAATAAGCGGAGTGAAATTAGAATCAATAGGAACTTACCAGATACTGTCAATTTATTCAACAGCGGCGAGTTCCCTAGCACTGGCAATCATGATGGCTGGTCTATCTTTATGGATGTGCTCCAATGGGTCGTTACAGTGCAGAATTTGCATTTAGATTTGTGAGCTCAGATTGTAGTTAAAAACACCCTTGTTTCTACT\n",
      ">A/chicken/Aomori/21C14T/2022|2022-04-14|\n",
      "AAGCAGGGGTTCACTCTGTCAAAATGGAGAACATAGTACTTCTTCTTGCAATAATTAGCCTTGTTAAAAGTGATCAGATTTGCATTGGTTACCATGCAAACAATTCGACAGAGCAGGTTGACACGATAATGGAAAAGAACGTCACCGTTACACATGCCCAAGACATACTGGAAAAAACACACAACGGGAAGCTCTGTGATCTAAATGGGGTGAAGCCTCTGATTTTAAAGGATTGTAGTGTAGCTGGATGGCTCCTCGGAAACCCAATGTGCGACGAATTCATCAGAGTGCCGGAATGGTCCTACATAGTGGAGCGGGCTAATCCAGCTAATGACCTCTGTTACCCAGGGAGCCTCAATGACTACGAAGAACTGAAACACCTGTTGAGCAGAATAAATCACTTTGAGAAGATTCTGATCATCCCCAAGAGTTCATGGCCAAATCATGAAACATCACTAGGGGTGAGCGCAGCTTGTCCATACCAGGGAGCGCCCTCCTTTTTCAGAAATGTGGTGTGGCTTATCAAAAAGAACGATGCATACCCAACAATAAAGATAAGCTACAATAATACCAATCGGGAAGATCTCTTGATACTGTGGGGGATTCATCATTCCAACAATGCAGAAGAGCAGACAAATCTCTATAAAAACCCAACCACCTACATTTCAGTTGGAACATCAACTTTAAACCAGAGGTTGGTACCAAAAATAGCTACTAGATCCCAAGTAAACGGGCAACGTGGAAGAATGGACTTCTTCTGGACAATTTTAAAACCAGATGATGCCATCCATTTCGAGAGTAATGGAAATTTCATTGCTCCAGAATATGCATACAAAATTGTCAAGAAAGGGGACTCAACAATTATGAAAAGTGGAGTGGAATATGGCCACTGCAACACCAAATGTCAAACCCCAGTAGGAGCGATAAATTCTAGTATGCCATTCCACAACATACATCCTCTCACCATTGGGGAATGCCCCAAATACGTGAAATCAAACAAGTTGGTCCTTGCGACTGGGCTCAGAAATAGTCCTCTAAGAGAAAGGAGAAGAAAAAGAGGCCTGTTTGGGGCGATAGCAGGGTTTATAGAGGGAGGATGGCAGGGAATGGTTGATGGTTGGTATGGGTACCATCATAGCAATGAGCAGGGGAGTGGGTACGCTGCAGACAAAGAATCCACCCAAAAGGCAATAGATGGAGTTACCAATAAGGTCAACTCAATCATTGACAAAATGAACACTCAATTTGAGGCAGTTGGAAGGGAGTTTAATAACTTAGAAAGGAGGATAGAGAATTTGAACAAGAAAATGGAAGACGGATTCCTAGATGTCTGGACCTATAATGCTGAACTTCTAGTTCTCATGGAAAACGAGAGGACTCTAGATTTCCATGATTCAAATGTCAAGAACCTTTACGACAAAGTCAGACTACAGCTTAGGGATAATGCAAAGGAGCTGGGTAATGGCTGTTTCGAATTCTATCACARATGCGATAATGAATGTATGGAAAGTGTGAGAAATGGGACGTATGACTACCCTCAGTATTCAGAAGAAGCAAGATTAAAAAGAGAAGAAATAAGCGGAGTGAAATTAGAATCAATAGGAACTTACCAGATACTGTCAATTTATTCAACAGCGGCGAGTTCCCTAGCACTGGCAATCATGATGGCTGGTCTATCTTTATGGATGTGCTCCAATGGGTCGTTACAGTGCAGAATTTGCATTTAGATTTGTGAGCTCAGATTGTAGTTAAAAACACCCTTGTT\n",
      ">A/Chicken/BC/FAV-0369-OS/2022|2.3.4.4b|2022-03-05\n",
      "CAAAAGCAGGGGTTCACTCTGTCAAAATGGAGAACATAGTACTACTTCTTGCAATAGTTAGCCTTGTTAAAAGTGATCAGATTTGCATTGGTTACCATGCAAACAATTCGACAGAGCAAGTTGACACGATAATGGAAAAGAACGTCACTGTTACACATGCCCAAGACATACTGGAAAAAACACACAACGGGAAGCTCTGTGATCTAAATGGGGTGAAGCCTCTGATTTTAAAGGATTGTAGTGTAGCTGGATGGCTCCTCGGAAACCCAATGTGCGACGAATTCATCAGAGTGCCGGAATGGTCCTACATAGTGGAGCGGGCTAACCCAGCTAATGACCTCTGTTACCCAGGGAGCCTCAATGACTATGAAGAACTGAAACACATGTTGAGCAGAATAAATCATTTTGAGAAGATTCTGATCATCCCCAAGAGTTCCTGGCCAAATCATGAAACATCACTAGGGGTGAGCGCAGCTTGTCCATACCAGGGAGCGCCCTCCTTTTTCAGAAATGTGGTGTGGCTTATCAAAAAGAACGATGCATACCCAACAATAAAGATAAGCTACAATAATACCAATCGGGAAGATCTCTTGATACTGTGGGGGATTCATCATTCCAACAATGCAGAAGAGCAGACAAATCTCTACAAAAACCCAACCACCTACATTTCAGTTGGAACATCAACTTTAAACCAGAGGTTGGCACCAAAAATAGCTACTAGATCCCAAGTAAACGGGCAACGTGGAAGAATGGACTTCTTCTGGACAATCTTAAAACCAGATGATGCAATCCATTTCGAGAGTAATGGAAATTTCATTGCTCCAGAATATGCATACAAAATTGTCAAGAAAGGGGACTCAACAATTATGAAAAGTGGAGTGGAATATGGCCACTGCAACACCAAATGTCAAACCCCAGTAGGTGCGATAAATTCTAGTATGCCATTCCACAACATACATCCTCTCACCATTGGGGAATGCCCCAAATACGTGAAGTCAAACAAGTTGGTCCTTGCGACTGGGCTCAGAAATAGCCCTCTAAGAGAAAAGAGAAGAAAAAGAGGCCTGTTTGGGGCGATAGCAGGGTTTATAGAGGGAGGATGGCAGGGAATGGTTGATGGTTGGTATGGGTACCATCATAGCAATGAGCAGGGGAGTGGGTACGCTGCGGACAAAGAATCCACCCAAAAGGCAATAGATGGAGTTACCAATAAGGTCAACTCAATCATTGACAAAATGAACACTCAATTTGAGGCAGTTGGAAGGGAGTTTAATAACTTAGAAAGGAGGATAGAGAATTTGAACAAGAAAATGGAAGACGGATTCCTAGATGTCTGGACCTATAATGCTGAACTTCTAGTTCTCATGGAAAACGAGAGGACTCTAGATTTCCATGATTCAAATGTCAAGAACCTTTACGACAAAGTCAGATTACAGCTTAGGGATAATGCAAAGGAGCTGGGTAACGGCTGTTTCGAATTCTATCACAAATGTGATAATGAATGTATGGAAAGTGTGAAAAATGGGACGTATGACTACCCTCAGTATTCAGAAGAAGCAAGATTAAAAAGAGAAGAAATAAGCGGAGTGAAATTAGAATCAGTAGGAACTTACCAGATACTGTCAATTTATTCAACAGCGGCAAGTTCCCTAGCACTGGCAATCATGATGGCTGGTCTATCTTTATGGATGTGCTCCAATGGGTCGTTACAGTGCAGAATTTGCATTTAGATTTGTGAGCTCAGATTATAGTTAAAAACACCCTTGTTTCTAC\n",
      ">A/chicken/Iwate/21A1T/2022|2022-02-11|\n",
      "AGCAGGGGTTCACTCTGCCAAAATGGAGAACATAGTACTTCTTCTTGCAATAATTAGCCTTGTTAAAAGTGATCAGATTTGCATTGGTTACCATGCAAACAATTCGACAGAGCAGGTTGACACGATAATGGAAAAGAACGTCACCGTTACACATGCCCAAGACATACTGGAAAAAACACACAACGGGAAGCTCTGTGATCTAAATGGGGTGAAGCCTCTGATTTTAAAGGATTGTAGTGTAGCTGGATGGCTCCTCGGAAACCCAATGTGCGACGAATTCATCAGAGTGCCGGAATGGTCCTACATAGTGGAGCGGGCTAATCCAGCTAATGACCTCTGTTACCCAGGGAGCCTCAATGACTACGAAGAACTGAAACACCTGTTGAGCAGAATAAATCACTTTGAGAAGATTCTGATCATCCCCAAGAGTTCCTGGCCAAATCATGAAACATCACTAGGGGTGAGCGCAGCTTGTCCATACCAGGGAGCGCCCTCCTTTTTCAGAAATGTGGTGTGGCTTATCAAAAAGAACGATGCATACCCAACAATAAAGATAAGCTACAATAATACCAATCGGGAAGATCTCTTGATACTGTGGGGGATTCATCATTCCAACAATGCAGAAGAGCAGACAAATCTCTATAAAAACCCAACCACCTACATTTCAGTTGGAACATCAACTTTAAACCAGAGGTTGGTACCAAAAATAGCTACTAGATCCCAAGTAAACGGGCAACGTGGAAGAATGGACTTCTTCTGGACAATTTTAAAACCAGATGATGCCATCCATTTCGAGAGTAATGGAAATTTCATTGCTCCAGAATATGCATACAAAATTGTCAAGAAAGGGGACTCAACAATTATGAAAAGTGGAGTGGAATATGGCCACTGCAACACCAAATGTCAAACCCCAGTAGGAGCGATAAATTCTAGTATGCCATTCCACAACATACATCCTCTCACCATTGGGGAATGCCCCAAATACGTGAAATCAAACAAGTTGGTCCTTGCGACTGGGCTCAGAAATAGTCCTCTAAGAGAAAGGAGAAGAAAAAGAGGCCTGTTTGGGGCGATAGCAGGGTTTATAGAGGGAGGATGGCAGGGAATGGTTGATGGTTGGTATGGGTACCATCATAGCAATGAGCAGGGGAGTGGGTACGCTGCAGACAAAGAATCCACCCAAAAGGCAATAGATGGAGTTACCAATAAGGTCAACTCAATCATTGACAAAATGAACACTCAATTTGAGGCAGTTGGAAGGGAGTTTAATAACTTAGAAAGGAGGATAGAGAATTTGAACAAGAAAATGGAAGACGGATTCCTAGATGTCTGGACCTATAATGCTGAACTTCTAGTTCTCATGGAAAACGAGAGGACTCTAGATTTCCATGATTCAAATGTCAAGAACCTTTACGACAAAGTCAGACTACAGCTTAGGGATAATGCAAAGGAGCTGGGTAATGGCTGTTTCGAATTCTATCACAAATGCGATAATGAATGTATGGAAAGTGTGAGAAATGGGACGTATGACTACCCTCAGTATTCAGAAGAAGCAAGATTAAAAAGAGAAGAAATAAGCGGAGTGAAATTAGAATCAATAGGAACTTACCAGATACTGTCAATTTATTCAACAGCGGCGAGTTCCCTAGCACTGGCAATCATGATGGCTGGTCTATCTTTATGGATGTGCTCCAATGGGTCGTTACAGTGCAGAATTTGCATTTAGATTTGTGAGCTCAGATTGTAGTTAAAAACACCCTTGTT\n",
      ">A/chicken/Iwate/21A2T/2022|2022-02-11|\n",
      "AGCAGGGGTTCACTCTGTCAAAATGGAGAACATAGTACTTCTTCTTGCAATAATTAGCCTTGTTAAAAGTGATCAGATTTGCATTGGTTACCATGCAAACAATTCGACAGAGCAGGTTGACACGATAATGGAAAAGAACGTCACCGTTACACATGCCCAAGACATACTGGAAAAAACACACAACGGGAAGCTCTGTGATCTAAATGGGGTGAAGCCTCTGATTTTAAAGGATTGTAGTGTAGCTGGATGGCTCCTCGGAAACCCAATGTGCGACGAATTCATCAGAGTGCCGGAATGGTCCTACATAGTGGAGCGGGCTAATCCAGCTAATGACCTCTGTTACCCAGGGAGCCTCAATGACTACGAAGAACTGAAACACCTGTTGAGCAGAATAAATCACTTTGAGAAGATTCTGATCATCCCCAAGAGTTCCTGGCCAAATCATGAAACATCACTAGGGGTGAGCGCAGCTTGTCCATACCAGGGAGCGCCCTCCTTTTTCAGAAATGTGGTGTGGCTTATCAAAAAGAACGATGCATACCCAACAATAAAGATAAGCTACAATAATACCAATCGGGAAGATCTCTTGATACTGTGGGGGATTCATCATTCCAACAATGCAGAAGAGCAGACAAATCTCTATAAAAACCCAACCACCTACATTTCAGTTGGAACATCAACTTTAAACCAGAGGTTGGTACCAAAAATAGCTACTAGATCCCAAGTAAACGGGCAACGTGGAAGAATGGACTTCTTCTGGACAATTTTAAAACCAGATGATGCCATCCATTTCGAGAGTAATGGAAATTTCATTGCTCCAGAATATGCATACAAAATTGTCAAGAAAGGGGACTCAACAATTATGAAAAGTGGAGTGGAATATGGCCACTGCAACACCAAATGTCAAACCCCAGTAGGAGCGATAAATTCTAGTATGCCATTCCACAACATACATCCTCTCACCATTGGGGAATGCCCCAAATACGTGAAATCAAACAAGTTGGTCCTTGCGACTGGGCTCAGAAATAGTCCTCTAAGAGAAAGGAGAAGAAAAAGAGGCCTGTTTGGGGCGATAGCAGGGTTTATAGAGGGAGGATGGCAGGGAATGGTTGATGGTTGGTATGGGTACCATCATAGCAATGAGCAGGGGAGTGGGTACGCTGCAGACAAAGAATCCACCCAAAAGGCAATAGATGGAGTTACCAATAAGGTCAACTCAATCATTGACAAAATGAACACTCAATTTGAGGCAGTTGGAAGGGAGTTTAATAACTTAGAAAGGAGGATAGAGAATTTGAACAAGAAAATGGAAGACGGATTCCTAGATGTCTGGACCTATAATGCTGAACTTCTAGTTCTCATGGAAAACGAGAGGACTCTAGATTTCCATGATTCAAATGTCAAGAACCTTTACGACAAAGTCAGACTACAGCTTAGGGATAATGCAAAGGAGCTGGGTAATGGCTGTTTCGAATTCTATCACAAATGCGATAATGAATGTATGGAAAGTGTGAGAAATGGGACGTATGACTACCCTCAGTATTCAGAAGAAGCAAGATTAAAAAGAGAAGAAATAAGCGGAGTGAAATTAGAATCAATAGGAACTTACCAGATACTGTCAATTTATTCAACAGCGGCGAGTTCCCTAGCACTGGCAATCATGATGGCTGGTCTATCTTTATGGATGTGCTCCAATGGGTCGTTACAGTGCAGAATTTGCATTTAGATTTGTGAGCTCAGATTGTAGTTAAAAACACCCTTG\n"
     ]
    }
   ],
   "source": [
    "!head Dataset1.fasta #inspecting input data"
   ]
  },
  {
   "cell_type": "code",
   "execution_count": 6,
   "metadata": {
    "colab": {
     "base_uri": "https://localhost:8080/"
    },
    "id": "tlW6mpmkhDmo",
    "outputId": "40fdea27-d77e-4b4c-de30-73e4118d6096"
   },
   "outputs": [
    {
     "name": "stdout",
     "output_type": "stream",
     "text": [
      "file            format  type  num_seqs  sum_len  min_len  avg_len  max_len     Q1     Q2     Q3  sum_gap    N50  N50_num  Q20(%)  Q30(%)  AvgQual  GC(%)\n",
      "Dataset1.fasta  FASTA   DNA         43   76,118    1,757  1,770.2    1,816  1,763  1,770  1,776        0  1,770        6       0       0        0  42.14\n"
     ]
    }
   ],
   "source": [
    "# seqkit inspection\n",
    "!seqkit stats --all Dataset1.fasta"
   ]
  },
  {
   "cell_type": "code",
   "execution_count": 7,
   "metadata": {
    "id": "1DMOcwlv3j__"
   },
   "outputs": [],
   "source": [
    "# remove gaps\n",
    "!seqkit seq  --remove-gaps  Dataset1.fasta > Dataset1.dna.fasta && cp Dataset1.dna.fasta Dataset1.fasta"
   ]
  },
  {
   "cell_type": "markdown",
   "metadata": {
    "id": "pAlO80owiZ1t"
   },
   "source": [
    "### Python seq import"
   ]
  },
  {
   "cell_type": "code",
   "execution_count": null,
   "metadata": {
    "colab": {
     "base_uri": "https://localhost:8080/"
    },
    "id": "Gv4c86DpiVYH",
    "outputId": "903bcfcd-ab4b-449b-e6a3-359a9b32b42e"
   },
   "outputs": [
    {
     "name": "stdout",
     "output_type": "stream",
     "text": [
      "Number of sequences:  43\n",
      "Min length  1757\n",
      "Max length  1816\n",
      "Average length  1770.1860465116279\n"
     ]
    }
   ],
   "source": [
    "#loading sequences \n",
    "def read_fasta(input_file):\n",
    "  sequences = {}\n",
    "  with open(input_file, \"r\") as f:\n",
    "      for line in f:\n",
    "          if line.startswith(\">\"):\n",
    "              header = line.strip()[1:] # Why?\n",
    "              sequences[header] = \"\"\n",
    "          else:\n",
    "              sequences[header] += line.strip()\n",
    "\n",
    "  return sequences\n",
    "\n",
    "sequences = read_fasta(datafile)\n",
    "\n",
    "print(\"Number of sequences: \", len(sequences))\n",
    "print(\"Min length \", min(len(seq) for seq in sequences.values()))\n",
    "print(\"Max length \", max(len(seq) for seq in sequences.values()))\n",
    "print(\"Average length \", sum(len(seq) for seq in sequences.values())/len(sequences))"
   ]
  },
  {
   "cell_type": "markdown",
   "metadata": {
    "id": "1a-xqisQt26U"
   },
   "source": [
    "\n",
    "\n",
    "We will retain sequences with < %10 ambiguous nucleotides defined as (W, S, K, M, Y, R, V, H, D, B, or N). The code is from the original pipeline."
   ]
  },
  {
   "cell_type": "code",
   "execution_count": 9,
   "metadata": {
    "colab": {
     "base_uri": "https://localhost:8080/"
    },
    "id": "vLuiKBLxtNHo",
    "outputId": "08613709-422b-4a67-f268-6b1bad2d2c08"
   },
   "outputs": [
    {
     "name": "stdout",
     "output_type": "stream",
     "text": [
      "A/Cooper_s_Hawk/BC/AIVPHL-893/2023|2023-01-16|: 3 ambiguous nucleotides\n",
      "\u001b[33m[WARN]\u001b[0m 0 patterns loaded from file\n"
     ]
    }
   ],
   "source": [
    "from collections import Counter\n",
    "\n",
    "with open(\"sequence_to_filter.txt\", \"w\") as f:\n",
    "  for header, sequence in sequences.items():\n",
    "      non_ambiguous_count = sum(sequence.count(char) for char in \"ACTG\")\n",
    "      count = len(sequence) - non_ambiguous_count # ambiguous_count\n",
    "      # Sequences with > 10% ambiguous nucleotides\n",
    "      if count > 1:\n",
    "          print(f\"{header}: {count} ambiguous nucleotides\")\n",
    "      if count / len(sequence) > 0.1:\n",
    "          print(f\"Removing {header}: {count} ambiguous nucleotides\")\n",
    "          f.write(header + \"\\n\")\n",
    "\n",
    "# Filter selected sequences\n",
    "!seqkit grep -v -f sequence_to_filter.txt Dataset1.fasta > Dataset1.filtered.fasta && cp Dataset1.filtered.fasta Dataset1.fasta"
   ]
  },
  {
   "cell_type": "markdown",
   "metadata": {
    "id": "eS4twiwUoX_E"
   },
   "source": [
    "Running MAFFT on auto and directing output"
   ]
  },
  {
   "cell_type": "code",
   "execution_count": 11,
   "metadata": {
    "colab": {
     "base_uri": "https://localhost:8080/"
    },
    "id": "lctKoEKLbrVG",
    "outputId": "68173d51-d14d-4eee-d27e-4c26283508e0"
   },
   "outputs": [
    {
     "name": "stdout",
     "output_type": "stream",
     "text": [
      "OS = linux\n",
      "The number of physical cores =  1\n",
      "outputhat23=16\n",
      "treein = 0\n",
      "compacttree = 0\n",
      "stacksize: 8192 kb\n",
      "generating a scoring matrix for nucleotide (dist=200) ... done\n",
      "All-to-all alignment.\n",
      "tbfast-pair (nuc) Version 7.525\n",
      "alg=L, model=DNA200 (2), 2.00 (6.00), -0.10 (-0.30), noshift, amax=0.0\n",
      "1 thread(s)\n",
      "\n",
      "outputhat23=16\n",
      "Loading 'hat3.seed' ... \n",
      "done.\n",
      "Writing hat3 for iterative refinement\n",
      "generating a scoring matrix for nucleotide (dist=200) ... done\n",
      "Gap Penalty = -1.53, +0.00, +0.00\n",
      "tbutree = 1, compacttree = 0\n",
      "Constructing a UPGMA tree ... \n",
      "   40 / 43\n",
      "done.\n",
      "\n",
      "Progressive alignment ... \n",
      "STEP    42 /42 (thread    0) \n",
      "done.\n",
      "tbfast (nuc) Version 7.525\n",
      "alg=A, model=DNA200 (2), 1.53 (4.59), -0.00 (-0.00), noshift, amax=0.0\n",
      "1 thread(s)\n",
      "\n",
      "minimumweight = 0.000010\n",
      "autosubalignment = 0.000000\n",
      "nthread = 1\n",
      "randomseed = 0\n",
      "blosum 62 / kimura 200\n",
      "poffset = 0\n",
      "niter = 16\n",
      "sueff_global = 0.100000\n",
      "nadd = 16\n",
      "Loading 'hat3' ... done.\n",
      "generating a scoring matrix for nucleotide (dist=200) ... done\n",
      "\n",
      "   40 / 43\n",
      "Segment   1/  1    1-1823\n",
      "001-0082-1 (thread    1) identical     \n",
      "Converged.\n",
      "done\n",
      "dvtditr (nuc) Version 7.525\n",
      "alg=A, model=DNA200 (2), 1.53 (4.59), -0.00 (-0.00), noshift, amax=0.0\n",
      "1 thread(s)\n",
      "\n",
      "\n",
      "Strategy:\n",
      " L-INS-i (Probably most accurate, very slow)\n",
      " Iterative refinement method (<16) with LOCAL pairwise alignment information\n",
      "\n",
      "If unsure which option to use, try 'mafft --auto input > output'.\n",
      "For more information, see 'mafft --help', 'mafft --man' and the mafft page.\n",
      "\n",
      "The default gap scoring scheme has been changed in version 7.110 (2013 Oct).\n",
      "It tends to insert more gaps into gap-rich regions than previous versions.\n",
      "To disable this change, add the --leavegappyregion option.\n",
      "\n"
     ]
    }
   ],
   "source": [
    "!mafft --thread -1 --auto Dataset1.fasta > Dataset1.aligned.fasta && cp Dataset1.aligned.fasta Dataset1.aln"
   ]
  },
  {
   "cell_type": "markdown",
   "metadata": {
    "id": "08rpcf-nogXb"
   },
   "source": [
    "#### MAFFT OUTPUT\n",
    " Alignment was run on a single thread (`nthread = 1`). A matrix was generated for nucleotide sequences with a gap opening penalty of `-1.53`.L-INS-i was chose strategy as it accurate and suitable for less than 200 sequences."
   ]
  },
  {
   "cell_type": "code",
   "execution_count": 12,
   "metadata": {
    "colab": {
     "base_uri": "https://localhost:8080/"
    },
    "id": "8dj-buBjj_Ws",
    "outputId": "46a5ad10-ccd3-4184-faeb-eafed281fd36"
   },
   "outputs": [
    {
     "name": "stdout",
     "output_type": "stream",
     "text": [
      ">A/Bald_Eagle/BC/OTH-33-36/2022_H5N1|A/Bald_Eagle/BC/OTH-33-36/2022|2022-02-03|\n",
      "agcaaaagcaggggttcactctgtcaaaatggagaacatagtacttcttcttgcaataat\n",
      "tagccttgttaaaagtgatcagatttgcattggttaccatgcaaacaattcgacagagca\n",
      "ggttgacacgataatggaaaagaacgtcaccgttacacatgcccaagacatactggaaaa\n",
      "aacacacaacgggaagctctgtgatctaaatggggtgaagcctctgattttaaaggattg\n",
      "tagtgtagctggatggctcctcggaaacccaatgtgcgacgaattcatcagagtgccgga\n",
      "atggtcctacatagtggagcgggctaatccagctaatgacctctgttacccagggagcct\n",
      "caatgactacgaagaactgaaacacctgttgagcagaataaatcactttgagaagattct\n",
      "gatcatccccaagagttcctggccaaatcatgaaacatcactaggggtgagcgcagcttg\n",
      "tccataccagggagcgccctcctttttcagaaatgtggtgtggcttatcaaaaagaacga\n"
     ]
    }
   ],
   "source": [
    "!head Dataset1.aln"
   ]
  },
  {
   "cell_type": "code",
   "execution_count": 13,
   "metadata": {
    "colab": {
     "base_uri": "https://localhost:8080/"
    },
    "id": "zzyagFsI8clu",
    "outputId": "4f3bdb98-c21f-42bd-984a-a335109a3c6d"
   },
   "outputs": [
    {
     "name": "stdout",
     "output_type": "stream",
     "text": [
      "file          format  type  num_seqs  sum_len  min_len  avg_len  max_len\n",
      "Dataset1.aln  FASTA   DNA         43   78,346    1,822    1,822    1,822\n"
     ]
    }
   ],
   "source": [
    "!seqkit stats Dataset1.aln"
   ]
  },
  {
   "cell_type": "code",
   "execution_count": 15,
   "metadata": {
    "colab": {
     "base_uri": "https://localhost:8080/"
    },
    "id": "u5YRGadh-LKR",
    "outputId": "eed5a9a2-a900-4a8a-e449-b038f2b70058"
   },
   "outputs": [
    {
     "name": "stdout",
     "output_type": "stream",
     "text": [
      "A/Bald_Eagle/BC/OTH- \u001b[30m\u001b[47m\u001b[44ma\u001b[47m\u001b[43mg\u001b[47m\u001b[44mc\u001b[47m\u001b[44ma\u001b[47m\u001b[44ma\u001b[47m\u001b[44ma\u001b[47m\u001b[44ma\u001b[47m\u001b[43mg\u001b[47m\u001b[44mc\u001b[47m\u001b[44ma\u001b[47m\u001b[43mg\u001b[47m\u001b[43mg\u001b[47m\u001b[43mg\u001b[47m\u001b[43mg\u001b[47m\u001b[42mt\u001b[47m\u001b[42mt\u001b[47m\u001b[44mc\u001b[47m\u001b[44ma\u001b[47m\u001b[44mc\u001b[47m\u001b[42mt\u001b[47m\u001b[44mc\u001b[47m\u001b[42mt\u001b[47m\u001b[43mg\u001b[47m\u001b[42mt\u001b[47m\u001b[44mc\u001b[47m\u001b[44ma\u001b[47m\u001b[44ma\u001b[47m\u001b[44ma\u001b[47m\u001b[44ma\u001b[47m\u001b[42mt\u001b[47m\u001b[43mg\u001b[47m\u001b[43mg\u001b[47m\u001b[44ma\u001b[47m\u001b[43mg\u001b[47m\u001b[44ma\u001b[47m\u001b[44ma\u001b[47m\u001b[44mc\u001b[47m\u001b[44ma\u001b[47m\u001b[42mt\u001b[47m\u001b[44ma\u001b[47m\u001b[43mg\u001b[47m\u001b[42mt\u001b[47m\u001b[44ma\u001b[47m\u001b[44mc\u001b[47m\u001b[42mt\u001b[47m\u001b[42mt\u001b[47m\u001b[44mc\u001b[47m\u001b[42mt\u001b[47m\u001b[42mt\u001b[47m\u001b[44mc\u001b[47m\u001b[42mt\u001b[47m\u001b[42mt\u001b[47m\u001b[43mg\u001b[47m\u001b[44mc\u001b[47m\u001b[44ma\u001b[47m\u001b[44ma\u001b[47m\u001b[42mt\u001b[47m\u001b[44ma\u001b[47m\u001b[44ma\u001b[47m\u001b[42mt\u001b[47m\u001b[42mt\u001b[47m\u001b[44ma\u001b[47m\u001b[43mg\u001b[47m\u001b[44mc\u001b[47m\u001b[44mc\u001b[47m\u001b[42mt\u001b[47m\u001b[42mt\u001b[47m\u001b[43mg\u001b[47m\u001b[42mt\u001b[47m\u001b[42mt\u001b[47m\u001b[44ma\u001b[47m\u001b[44ma\u001b[47m\u001b[44ma\u001b[47m\u001b[44ma\u001b[47m\u001b[43mg\u001b[47m\u001b[42mt\u001b[47m\u001b[43mg\u001b[47m\u001b[44ma\u001b[47m\u001b[42mt\u001b[47m\u001b[44mc\u001b[47m\u001b[44ma\u001b[47m\u001b[43mg\u001b[47m\u001b[44ma\u001b[47m\u001b[42mt\u001b[47m\u001b[42mt\u001b[47m\u001b[42mt\u001b[47m\u001b[43mg\u001b[47m\u001b[44mc\u001b[47m\u001b[44ma\u001b[47m\u001b[42mt\u001b[47m\u001b[42mt\u001b[47m\u001b[43mg\u001b[47m\u001b[43mg\u001b[47m\u001b[42mt\u001b[47m\u001b[42mt\u001b[47m\u001b[44ma\u001b[47m\u001b[44mc\u001b[47m\u001b[44mc\u001b[47m\u001b[44ma\u001b[47m\u001b[42mt\u001b[47m\u001b[0m\n",
      "A/chicken/Aomori/21C \u001b[30m\u001b[47m\u001b[47m-\u001b[47m\u001b[47m-\u001b[47m\u001b[47m-\u001b[47m\u001b[47m-\u001b[47m\u001b[47m-\u001b[47m\u001b[44ma\u001b[47m\u001b[44ma\u001b[47m\u001b[43mg\u001b[47m\u001b[44mc\u001b[47m\u001b[44ma\u001b[47m\u001b[43mg\u001b[47m\u001b[43mg\u001b[47m\u001b[43mg\u001b[47m\u001b[43mg\u001b[47m\u001b[42mt\u001b[47m\u001b[42mt\u001b[47m\u001b[44mc\u001b[47m\u001b[44ma\u001b[47m\u001b[44mc\u001b[47m\u001b[42mt\u001b[47m\u001b[44mc\u001b[47m\u001b[42mt\u001b[47m\u001b[43mg\u001b[47m\u001b[42mt\u001b[47m\u001b[44mc\u001b[47m\u001b[44ma\u001b[47m\u001b[44ma\u001b[47m\u001b[44ma\u001b[47m\u001b[44ma\u001b[47m\u001b[42mt\u001b[47m\u001b[43mg\u001b[47m\u001b[43mg\u001b[47m\u001b[44ma\u001b[47m\u001b[43mg\u001b[47m\u001b[44ma\u001b[47m\u001b[44ma\u001b[47m\u001b[44mc\u001b[47m\u001b[44ma\u001b[47m\u001b[42mt\u001b[47m\u001b[44ma\u001b[47m\u001b[43mg\u001b[47m\u001b[42mt\u001b[47m\u001b[44ma\u001b[47m\u001b[44mc\u001b[47m\u001b[42mt\u001b[47m\u001b[42mt\u001b[47m\u001b[44mc\u001b[47m\u001b[42mt\u001b[47m\u001b[42mt\u001b[47m\u001b[44mc\u001b[47m\u001b[42mt\u001b[47m\u001b[42mt\u001b[47m\u001b[43mg\u001b[47m\u001b[44mc\u001b[47m\u001b[44ma\u001b[47m\u001b[44ma\u001b[47m\u001b[42mt\u001b[47m\u001b[44ma\u001b[47m\u001b[44ma\u001b[47m\u001b[42mt\u001b[47m\u001b[42mt\u001b[47m\u001b[44ma\u001b[47m\u001b[43mg\u001b[47m\u001b[44mc\u001b[47m\u001b[44mc\u001b[47m\u001b[42mt\u001b[47m\u001b[42mt\u001b[47m\u001b[43mg\u001b[47m\u001b[42mt\u001b[47m\u001b[42mt\u001b[47m\u001b[44ma\u001b[47m\u001b[44ma\u001b[47m\u001b[44ma\u001b[47m\u001b[44ma\u001b[47m\u001b[43mg\u001b[47m\u001b[42mt\u001b[47m\u001b[43mg\u001b[47m\u001b[44ma\u001b[47m\u001b[42mt\u001b[47m\u001b[44mc\u001b[47m\u001b[44ma\u001b[47m\u001b[43mg\u001b[47m\u001b[44ma\u001b[47m\u001b[42mt\u001b[47m\u001b[42mt\u001b[47m\u001b[42mt\u001b[47m\u001b[43mg\u001b[47m\u001b[44mc\u001b[47m\u001b[44ma\u001b[47m\u001b[42mt\u001b[47m\u001b[42mt\u001b[47m\u001b[43mg\u001b[47m\u001b[43mg\u001b[47m\u001b[42mt\u001b[47m\u001b[42mt\u001b[47m\u001b[44ma\u001b[47m\u001b[44mc\u001b[47m\u001b[44mc\u001b[47m\u001b[44ma\u001b[47m\u001b[42mt\u001b[47m\u001b[0m\n",
      "A/Chicken/BC/FAV-036 \u001b[30m\u001b[47m\u001b[47m-\u001b[47m\u001b[47m-\u001b[47m\u001b[44mc\u001b[47m\u001b[44ma\u001b[47m\u001b[44ma\u001b[47m\u001b[44ma\u001b[47m\u001b[44ma\u001b[47m\u001b[43mg\u001b[47m\u001b[44mc\u001b[47m\u001b[44ma\u001b[47m\u001b[43mg\u001b[47m\u001b[43mg\u001b[47m\u001b[43mg\u001b[47m\u001b[43mg\u001b[47m\u001b[42mt\u001b[47m\u001b[42mt\u001b[47m\u001b[44mc\u001b[47m\u001b[44ma\u001b[47m\u001b[44mc\u001b[47m\u001b[42mt\u001b[47m\u001b[44mc\u001b[47m\u001b[42mt\u001b[47m\u001b[43mg\u001b[47m\u001b[42mt\u001b[47m\u001b[44mc\u001b[47m\u001b[44ma\u001b[47m\u001b[44ma\u001b[47m\u001b[44ma\u001b[47m\u001b[44ma\u001b[47m\u001b[42mt\u001b[47m\u001b[43mg\u001b[47m\u001b[43mg\u001b[47m\u001b[44ma\u001b[47m\u001b[43mg\u001b[47m\u001b[44ma\u001b[47m\u001b[44ma\u001b[47m\u001b[44mc\u001b[47m\u001b[44ma\u001b[47m\u001b[42mt\u001b[47m\u001b[44ma\u001b[47m\u001b[43mg\u001b[47m\u001b[42mt\u001b[47m\u001b[44ma\u001b[47m\u001b[44mc\u001b[47m\u001b[42mt\u001b[47m\u001b[44ma\u001b[47m\u001b[44mc\u001b[47m\u001b[42mt\u001b[47m\u001b[42mt\u001b[47m\u001b[44mc\u001b[47m\u001b[42mt\u001b[47m\u001b[42mt\u001b[47m\u001b[43mg\u001b[47m\u001b[44mc\u001b[47m\u001b[44ma\u001b[47m\u001b[44ma\u001b[47m\u001b[42mt\u001b[47m\u001b[44ma\u001b[47m\u001b[43mg\u001b[47m\u001b[42mt\u001b[47m\u001b[42mt\u001b[47m\u001b[44ma\u001b[47m\u001b[43mg\u001b[47m\u001b[44mc\u001b[47m\u001b[44mc\u001b[47m\u001b[42mt\u001b[47m\u001b[42mt\u001b[47m\u001b[43mg\u001b[47m\u001b[42mt\u001b[47m\u001b[42mt\u001b[47m\u001b[44ma\u001b[47m\u001b[44ma\u001b[47m\u001b[44ma\u001b[47m\u001b[44ma\u001b[47m\u001b[43mg\u001b[47m\u001b[42mt\u001b[47m\u001b[43mg\u001b[47m\u001b[44ma\u001b[47m\u001b[42mt\u001b[47m\u001b[44mc\u001b[47m\u001b[44ma\u001b[47m\u001b[43mg\u001b[47m\u001b[44ma\u001b[47m\u001b[42mt\u001b[47m\u001b[42mt\u001b[47m\u001b[42mt\u001b[47m\u001b[43mg\u001b[47m\u001b[44mc\u001b[47m\u001b[44ma\u001b[47m\u001b[42mt\u001b[47m\u001b[42mt\u001b[47m\u001b[43mg\u001b[47m\u001b[43mg\u001b[47m\u001b[42mt\u001b[47m\u001b[42mt\u001b[47m\u001b[44ma\u001b[47m\u001b[44mc\u001b[47m\u001b[44mc\u001b[47m\u001b[44ma\u001b[47m\u001b[42mt\u001b[47m\u001b[0m\n",
      "A/chicken/Iwate/21A1 \u001b[30m\u001b[47m\u001b[47m-\u001b[47m\u001b[47m-\u001b[47m\u001b[47m-\u001b[47m\u001b[47m-\u001b[47m\u001b[47m-\u001b[47m\u001b[47m-\u001b[47m\u001b[44ma\u001b[47m\u001b[43mg\u001b[47m\u001b[44mc\u001b[47m\u001b[44ma\u001b[47m\u001b[43mg\u001b[47m\u001b[43mg\u001b[47m\u001b[43mg\u001b[47m\u001b[43mg\u001b[47m\u001b[42mt\u001b[47m\u001b[42mt\u001b[47m\u001b[44mc\u001b[47m\u001b[44ma\u001b[47m\u001b[44mc\u001b[47m\u001b[42mt\u001b[47m\u001b[44mc\u001b[47m\u001b[42mt\u001b[47m\u001b[43mg\u001b[47m\u001b[42mt\u001b[47m\u001b[44mc\u001b[47m\u001b[44ma\u001b[47m\u001b[44ma\u001b[47m\u001b[44ma\u001b[47m\u001b[44ma\u001b[47m\u001b[42mt\u001b[47m\u001b[43mg\u001b[47m\u001b[43mg\u001b[47m\u001b[44ma\u001b[47m\u001b[43mg\u001b[47m\u001b[44ma\u001b[47m\u001b[44ma\u001b[47m\u001b[44mc\u001b[47m\u001b[44ma\u001b[47m\u001b[42mt\u001b[47m\u001b[44ma\u001b[47m\u001b[43mg\u001b[47m\u001b[42mt\u001b[47m\u001b[44ma\u001b[47m\u001b[44mc\u001b[47m\u001b[42mt\u001b[47m\u001b[42mt\u001b[47m\u001b[44mc\u001b[47m\u001b[42mt\u001b[47m\u001b[42mt\u001b[47m\u001b[44mc\u001b[47m\u001b[42mt\u001b[47m\u001b[42mt\u001b[47m\u001b[43mg\u001b[47m\u001b[44mc\u001b[47m\u001b[44ma\u001b[47m\u001b[44ma\u001b[47m\u001b[42mt\u001b[47m\u001b[44ma\u001b[47m\u001b[44ma\u001b[47m\u001b[42mt\u001b[47m\u001b[42mt\u001b[47m\u001b[44ma\u001b[47m\u001b[43mg\u001b[47m\u001b[44mc\u001b[47m\u001b[44mc\u001b[47m\u001b[42mt\u001b[47m\u001b[42mt\u001b[47m\u001b[43mg\u001b[47m\u001b[42mt\u001b[47m\u001b[42mt\u001b[47m\u001b[44ma\u001b[47m\u001b[44ma\u001b[47m\u001b[44ma\u001b[47m\u001b[44ma\u001b[47m\u001b[43mg\u001b[47m\u001b[42mt\u001b[47m\u001b[43mg\u001b[47m\u001b[44ma\u001b[47m\u001b[42mt\u001b[47m\u001b[44mc\u001b[47m\u001b[44ma\u001b[47m\u001b[43mg\u001b[47m\u001b[44ma\u001b[47m\u001b[42mt\u001b[47m\u001b[42mt\u001b[47m\u001b[42mt\u001b[47m\u001b[43mg\u001b[47m\u001b[44mc\u001b[47m\u001b[44ma\u001b[47m\u001b[42mt\u001b[47m\u001b[42mt\u001b[47m\u001b[43mg\u001b[47m\u001b[43mg\u001b[47m\u001b[42mt\u001b[47m\u001b[42mt\u001b[47m\u001b[44ma\u001b[47m\u001b[44mc\u001b[47m\u001b[44mc\u001b[47m\u001b[44ma\u001b[47m\u001b[42mt\u001b[47m\u001b[0m\n",
      "A/chicken/Iwate/21A2 \u001b[30m\u001b[47m\u001b[47m-\u001b[47m\u001b[47m-\u001b[47m\u001b[47m-\u001b[47m\u001b[47m-\u001b[47m\u001b[47m-\u001b[47m\u001b[47m-\u001b[47m\u001b[44ma\u001b[47m\u001b[43mg\u001b[47m\u001b[44mc\u001b[47m\u001b[44ma\u001b[47m\u001b[43mg\u001b[47m\u001b[43mg\u001b[47m\u001b[43mg\u001b[47m\u001b[43mg\u001b[47m\u001b[42mt\u001b[47m\u001b[42mt\u001b[47m\u001b[44mc\u001b[47m\u001b[44ma\u001b[47m\u001b[44mc\u001b[47m\u001b[42mt\u001b[47m\u001b[44mc\u001b[47m\u001b[42mt\u001b[47m\u001b[43mg\u001b[47m\u001b[42mt\u001b[47m\u001b[44mc\u001b[47m\u001b[44ma\u001b[47m\u001b[44ma\u001b[47m\u001b[44ma\u001b[47m\u001b[44ma\u001b[47m\u001b[42mt\u001b[47m\u001b[43mg\u001b[47m\u001b[43mg\u001b[47m\u001b[44ma\u001b[47m\u001b[43mg\u001b[47m\u001b[44ma\u001b[47m\u001b[44ma\u001b[47m\u001b[44mc\u001b[47m\u001b[44ma\u001b[47m\u001b[42mt\u001b[47m\u001b[44ma\u001b[47m\u001b[43mg\u001b[47m\u001b[42mt\u001b[47m\u001b[44ma\u001b[47m\u001b[44mc\u001b[47m\u001b[42mt\u001b[47m\u001b[42mt\u001b[47m\u001b[44mc\u001b[47m\u001b[42mt\u001b[47m\u001b[42mt\u001b[47m\u001b[44mc\u001b[47m\u001b[42mt\u001b[47m\u001b[42mt\u001b[47m\u001b[43mg\u001b[47m\u001b[44mc\u001b[47m\u001b[44ma\u001b[47m\u001b[44ma\u001b[47m\u001b[42mt\u001b[47m\u001b[44ma\u001b[47m\u001b[44ma\u001b[47m\u001b[42mt\u001b[47m\u001b[42mt\u001b[47m\u001b[44ma\u001b[47m\u001b[43mg\u001b[47m\u001b[44mc\u001b[47m\u001b[44mc\u001b[47m\u001b[42mt\u001b[47m\u001b[42mt\u001b[47m\u001b[43mg\u001b[47m\u001b[42mt\u001b[47m\u001b[42mt\u001b[47m\u001b[44ma\u001b[47m\u001b[44ma\u001b[47m\u001b[44ma\u001b[47m\u001b[44ma\u001b[47m\u001b[43mg\u001b[47m\u001b[42mt\u001b[47m\u001b[43mg\u001b[47m\u001b[44ma\u001b[47m\u001b[42mt\u001b[47m\u001b[44mc\u001b[47m\u001b[44ma\u001b[47m\u001b[43mg\u001b[47m\u001b[44ma\u001b[47m\u001b[42mt\u001b[47m\u001b[42mt\u001b[47m\u001b[42mt\u001b[47m\u001b[43mg\u001b[47m\u001b[44mc\u001b[47m\u001b[44ma\u001b[47m\u001b[42mt\u001b[47m\u001b[42mt\u001b[47m\u001b[43mg\u001b[47m\u001b[43mg\u001b[47m\u001b[42mt\u001b[47m\u001b[42mt\u001b[47m\u001b[44ma\u001b[47m\u001b[44mc\u001b[47m\u001b[44mc\u001b[47m\u001b[44ma\u001b[47m\u001b[42mt\u001b[47m\u001b[0m\n",
      "A/chicken/Iwate/21A7 \u001b[30m\u001b[47m\u001b[47m-\u001b[47m\u001b[47m-\u001b[47m\u001b[47m-\u001b[47m\u001b[47m-\u001b[47m\u001b[47m-\u001b[47m\u001b[47m-\u001b[47m\u001b[44ma\u001b[47m\u001b[43mg\u001b[47m\u001b[44mc\u001b[47m\u001b[44ma\u001b[47m\u001b[43mg\u001b[47m\u001b[43mg\u001b[47m\u001b[43mg\u001b[47m\u001b[43mg\u001b[47m\u001b[42mt\u001b[47m\u001b[42mt\u001b[47m\u001b[44mc\u001b[47m\u001b[44ma\u001b[47m\u001b[44mc\u001b[47m\u001b[42mt\u001b[47m\u001b[44mc\u001b[47m\u001b[42mt\u001b[47m\u001b[43mg\u001b[47m\u001b[42mt\u001b[47m\u001b[44mc\u001b[47m\u001b[44ma\u001b[47m\u001b[44ma\u001b[47m\u001b[44ma\u001b[47m\u001b[44ma\u001b[47m\u001b[42mt\u001b[47m\u001b[43mg\u001b[47m\u001b[43mg\u001b[47m\u001b[44ma\u001b[47m\u001b[43mg\u001b[47m\u001b[44ma\u001b[47m\u001b[44ma\u001b[47m\u001b[44mc\u001b[47m\u001b[44ma\u001b[47m\u001b[42mt\u001b[47m\u001b[44ma\u001b[47m\u001b[43mg\u001b[47m\u001b[42mt\u001b[47m\u001b[44ma\u001b[47m\u001b[44mc\u001b[47m\u001b[42mt\u001b[47m\u001b[42mt\u001b[47m\u001b[44mc\u001b[47m\u001b[42mt\u001b[47m\u001b[42mt\u001b[47m\u001b[44mc\u001b[47m\u001b[42mt\u001b[47m\u001b[42mt\u001b[47m\u001b[43mg\u001b[47m\u001b[44mc\u001b[47m\u001b[44ma\u001b[47m\u001b[44ma\u001b[47m\u001b[42mt\u001b[47m\u001b[44ma\u001b[47m\u001b[44ma\u001b[47m\u001b[42mt\u001b[47m\u001b[42mt\u001b[47m\u001b[44ma\u001b[47m\u001b[43mg\u001b[47m\u001b[44mc\u001b[47m\u001b[44mc\u001b[47m\u001b[42mt\u001b[47m\u001b[42mt\u001b[47m\u001b[43mg\u001b[47m\u001b[42mt\u001b[47m\u001b[42mt\u001b[47m\u001b[44ma\u001b[47m\u001b[44ma\u001b[47m\u001b[44ma\u001b[47m\u001b[44ma\u001b[47m\u001b[43mg\u001b[47m\u001b[42mt\u001b[47m\u001b[43mg\u001b[47m\u001b[44ma\u001b[47m\u001b[42mt\u001b[47m\u001b[44mc\u001b[47m\u001b[44ma\u001b[47m\u001b[43mg\u001b[47m\u001b[44ma\u001b[47m\u001b[42mt\u001b[47m\u001b[42mt\u001b[47m\u001b[42mt\u001b[47m\u001b[43mg\u001b[47m\u001b[44mc\u001b[47m\u001b[44ma\u001b[47m\u001b[42mt\u001b[47m\u001b[42mt\u001b[47m\u001b[43mg\u001b[47m\u001b[43mg\u001b[47m\u001b[42mt\u001b[47m\u001b[42mt\u001b[47m\u001b[44ma\u001b[47m\u001b[44mc\u001b[47m\u001b[44mc\u001b[47m\u001b[44ma\u001b[47m\u001b[42mt\u001b[47m\u001b[0m\n",
      "A/chicken/Iwate/21A1 \u001b[30m\u001b[47m\u001b[47m-\u001b[47m\u001b[47m-\u001b[47m\u001b[47m-\u001b[47m\u001b[47m-\u001b[47m\u001b[47m-\u001b[47m\u001b[47m-\u001b[47m\u001b[44ma\u001b[47m\u001b[43mg\u001b[47m\u001b[44mc\u001b[47m\u001b[44ma\u001b[47m\u001b[43mg\u001b[47m\u001b[43mg\u001b[47m\u001b[43mg\u001b[47m\u001b[43mg\u001b[47m\u001b[42mt\u001b[47m\u001b[42mt\u001b[47m\u001b[44mc\u001b[47m\u001b[44ma\u001b[47m\u001b[44mc\u001b[47m\u001b[42mt\u001b[47m\u001b[44mc\u001b[47m\u001b[42mt\u001b[47m\u001b[43mg\u001b[47m\u001b[42mt\u001b[47m\u001b[44mc\u001b[47m\u001b[44ma\u001b[47m\u001b[44ma\u001b[47m\u001b[44ma\u001b[47m\u001b[44ma\u001b[47m\u001b[42mt\u001b[47m\u001b[43mg\u001b[47m\u001b[43mg\u001b[47m\u001b[44ma\u001b[47m\u001b[43mg\u001b[47m\u001b[44ma\u001b[47m\u001b[44ma\u001b[47m\u001b[44mc\u001b[47m\u001b[44ma\u001b[47m\u001b[42mt\u001b[47m\u001b[44ma\u001b[47m\u001b[43mg\u001b[47m\u001b[42mt\u001b[47m\u001b[44ma\u001b[47m\u001b[44mc\u001b[47m\u001b[42mt\u001b[47m\u001b[42mt\u001b[47m\u001b[44mc\u001b[47m\u001b[42mt\u001b[47m\u001b[42mt\u001b[47m\u001b[44mc\u001b[47m\u001b[42mt\u001b[47m\u001b[42mt\u001b[47m\u001b[43mg\u001b[47m\u001b[44mc\u001b[47m\u001b[44ma\u001b[47m\u001b[44ma\u001b[47m\u001b[42mt\u001b[47m\u001b[44ma\u001b[47m\u001b[44ma\u001b[47m\u001b[42mt\u001b[47m\u001b[42mt\u001b[47m\u001b[44ma\u001b[47m\u001b[43mg\u001b[47m\u001b[44mc\u001b[47m\u001b[44mc\u001b[47m\u001b[42mt\u001b[47m\u001b[42mt\u001b[47m\u001b[43mg\u001b[47m\u001b[42mt\u001b[47m\u001b[42mt\u001b[47m\u001b[44ma\u001b[47m\u001b[44ma\u001b[47m\u001b[44ma\u001b[47m\u001b[44ma\u001b[47m\u001b[43mg\u001b[47m\u001b[42mt\u001b[47m\u001b[43mg\u001b[47m\u001b[44ma\u001b[47m\u001b[42mt\u001b[47m\u001b[44mc\u001b[47m\u001b[44ma\u001b[47m\u001b[43mg\u001b[47m\u001b[44ma\u001b[47m\u001b[42mt\u001b[47m\u001b[42mt\u001b[47m\u001b[42mt\u001b[47m\u001b[43mg\u001b[47m\u001b[44mc\u001b[47m\u001b[44ma\u001b[47m\u001b[42mt\u001b[47m\u001b[42mt\u001b[47m\u001b[43mg\u001b[47m\u001b[43mg\u001b[47m\u001b[42mt\u001b[47m\u001b[42mt\u001b[47m\u001b[44ma\u001b[47m\u001b[44mc\u001b[47m\u001b[44mc\u001b[47m\u001b[44ma\u001b[47m\u001b[42mt\u001b[47m\u001b[0m\n",
      "A/chicken/Japan/TU16 \u001b[30m\u001b[47m\u001b[47m-\u001b[47m\u001b[47m-\u001b[47m\u001b[47m-\u001b[47m\u001b[47m-\u001b[47m\u001b[47m-\u001b[47m\u001b[44ma\u001b[47m\u001b[44ma\u001b[47m\u001b[43mg\u001b[47m\u001b[44mc\u001b[47m\u001b[44ma\u001b[47m\u001b[43mg\u001b[47m\u001b[43mg\u001b[47m\u001b[43mg\u001b[47m\u001b[43mg\u001b[47m\u001b[42mt\u001b[47m\u001b[42mt\u001b[47m\u001b[44mc\u001b[47m\u001b[44ma\u001b[47m\u001b[44mc\u001b[47m\u001b[42mt\u001b[47m\u001b[44mc\u001b[47m\u001b[42mt\u001b[47m\u001b[43mg\u001b[47m\u001b[42mt\u001b[47m\u001b[44mc\u001b[47m\u001b[44ma\u001b[47m\u001b[44ma\u001b[47m\u001b[44ma\u001b[47m\u001b[44ma\u001b[47m\u001b[42mt\u001b[47m\u001b[43mg\u001b[47m\u001b[43mg\u001b[47m\u001b[44ma\u001b[47m\u001b[43mg\u001b[47m\u001b[44ma\u001b[47m\u001b[44ma\u001b[47m\u001b[44mc\u001b[47m\u001b[44ma\u001b[47m\u001b[42mt\u001b[47m\u001b[44ma\u001b[47m\u001b[43mg\u001b[47m\u001b[42mt\u001b[47m\u001b[44ma\u001b[47m\u001b[44mc\u001b[47m\u001b[42mt\u001b[47m\u001b[42mt\u001b[47m\u001b[44mc\u001b[47m\u001b[42mt\u001b[47m\u001b[42mt\u001b[47m\u001b[44mc\u001b[47m\u001b[42mt\u001b[47m\u001b[42mt\u001b[47m\u001b[43mg\u001b[47m\u001b[44mc\u001b[47m\u001b[44ma\u001b[47m\u001b[44ma\u001b[47m\u001b[42mt\u001b[47m\u001b[44ma\u001b[47m\u001b[44ma\u001b[47m\u001b[42mt\u001b[47m\u001b[42mt\u001b[47m\u001b[44ma\u001b[47m\u001b[43mg\u001b[47m\u001b[44mc\u001b[47m\u001b[44mc\u001b[47m\u001b[42mt\u001b[47m\u001b[42mt\u001b[47m\u001b[43mg\u001b[47m\u001b[42mt\u001b[47m\u001b[42mt\u001b[47m\u001b[44ma\u001b[47m\u001b[44ma\u001b[47m\u001b[44ma\u001b[47m\u001b[44ma\u001b[47m\u001b[43mg\u001b[47m\u001b[42mt\u001b[47m\u001b[43mg\u001b[47m\u001b[44ma\u001b[47m\u001b[42mt\u001b[47m\u001b[44mc\u001b[47m\u001b[44ma\u001b[47m\u001b[43mg\u001b[47m\u001b[44ma\u001b[47m\u001b[42mt\u001b[47m\u001b[42mt\u001b[47m\u001b[42mt\u001b[47m\u001b[43mg\u001b[47m\u001b[44mc\u001b[47m\u001b[44ma\u001b[47m\u001b[42mt\u001b[47m\u001b[42mt\u001b[47m\u001b[43mg\u001b[47m\u001b[43mg\u001b[47m\u001b[42mt\u001b[47m\u001b[42mt\u001b[47m\u001b[44ma\u001b[47m\u001b[44mc\u001b[47m\u001b[44mc\u001b[47m\u001b[44ma\u001b[47m\u001b[42mt\u001b[47m\u001b[0m\n",
      "A/chicken/Japan/TU20 \u001b[30m\u001b[47m\u001b[47m-\u001b[47m\u001b[47m-\u001b[47m\u001b[47m-\u001b[47m\u001b[47m-\u001b[47m\u001b[44ma\u001b[47m\u001b[44ma\u001b[47m\u001b[44ma\u001b[47m\u001b[43mg\u001b[47m\u001b[44mc\u001b[47m\u001b[44ma\u001b[47m\u001b[43mg\u001b[47m\u001b[43mg\u001b[47m\u001b[43mg\u001b[47m\u001b[43mg\u001b[47m\u001b[42mt\u001b[47m\u001b[42mt\u001b[47m\u001b[44mc\u001b[47m\u001b[44ma\u001b[47m\u001b[44mc\u001b[47m\u001b[42mt\u001b[47m\u001b[44mc\u001b[47m\u001b[42mt\u001b[47m\u001b[43mg\u001b[47m\u001b[42mt\u001b[47m\u001b[44mc\u001b[47m\u001b[44ma\u001b[47m\u001b[44ma\u001b[47m\u001b[44ma\u001b[47m\u001b[44ma\u001b[47m\u001b[42mt\u001b[47m\u001b[43mg\u001b[47m\u001b[43mg\u001b[47m\u001b[44ma\u001b[47m\u001b[43mg\u001b[47m\u001b[44ma\u001b[47m\u001b[44ma\u001b[47m\u001b[44mc\u001b[47m\u001b[44ma\u001b[47m\u001b[42mt\u001b[47m\u001b[44ma\u001b[47m\u001b[43mg\u001b[47m\u001b[42mt\u001b[47m\u001b[44ma\u001b[47m\u001b[44mc\u001b[47m\u001b[42mt\u001b[47m\u001b[42mt\u001b[47m\u001b[44mc\u001b[47m\u001b[42mt\u001b[47m\u001b[42mt\u001b[47m\u001b[44ma\u001b[47m\u001b[42mt\u001b[47m\u001b[42mt\u001b[47m\u001b[43mg\u001b[47m\u001b[44mc\u001b[47m\u001b[44ma\u001b[47m\u001b[44ma\u001b[47m\u001b[42mt\u001b[47m\u001b[44ma\u001b[47m\u001b[44ma\u001b[47m\u001b[42mt\u001b[47m\u001b[42mt\u001b[47m\u001b[44ma\u001b[47m\u001b[43mg\u001b[47m\u001b[44mc\u001b[47m\u001b[44mc\u001b[47m\u001b[42mt\u001b[47m\u001b[42mt\u001b[47m\u001b[43mg\u001b[47m\u001b[42mt\u001b[47m\u001b[42mt\u001b[47m\u001b[44ma\u001b[47m\u001b[44ma\u001b[47m\u001b[44ma\u001b[47m\u001b[44ma\u001b[47m\u001b[43mg\u001b[47m\u001b[42mt\u001b[47m\u001b[43mg\u001b[47m\u001b[44ma\u001b[47m\u001b[42mt\u001b[47m\u001b[44mc\u001b[47m\u001b[44ma\u001b[47m\u001b[43mg\u001b[47m\u001b[44ma\u001b[47m\u001b[42mt\u001b[47m\u001b[42mt\u001b[47m\u001b[42mt\u001b[47m\u001b[43mg\u001b[47m\u001b[44mc\u001b[47m\u001b[44ma\u001b[47m\u001b[42mt\u001b[47m\u001b[42mt\u001b[47m\u001b[43mg\u001b[47m\u001b[43mg\u001b[47m\u001b[42mt\u001b[47m\u001b[42mt\u001b[47m\u001b[44ma\u001b[47m\u001b[44mc\u001b[47m\u001b[44mc\u001b[47m\u001b[44ma\u001b[47m\u001b[42mt\u001b[47m\u001b[0m\n",
      "A/chicken/Magadan/14 \u001b[30m\u001b[47m\u001b[44ma\u001b[47m\u001b[43mg\u001b[47m\u001b[44mc\u001b[47m\u001b[44ma\u001b[47m\u001b[44ma\u001b[47m\u001b[44ma\u001b[47m\u001b[44ma\u001b[47m\u001b[43mg\u001b[47m\u001b[44mc\u001b[47m\u001b[44ma\u001b[47m\u001b[43mg\u001b[47m\u001b[43mg\u001b[47m\u001b[43mg\u001b[47m\u001b[43mg\u001b[47m\u001b[42mt\u001b[47m\u001b[42mt\u001b[47m\u001b[44mc\u001b[47m\u001b[44ma\u001b[47m\u001b[44mc\u001b[47m\u001b[42mt\u001b[47m\u001b[44mc\u001b[47m\u001b[42mt\u001b[47m\u001b[43mg\u001b[47m\u001b[42mt\u001b[47m\u001b[44mc\u001b[47m\u001b[44ma\u001b[47m\u001b[44ma\u001b[47m\u001b[44ma\u001b[47m\u001b[44ma\u001b[47m\u001b[42mt\u001b[47m\u001b[43mg\u001b[47m\u001b[43mg\u001b[47m\u001b[44ma\u001b[47m\u001b[43mg\u001b[47m\u001b[44ma\u001b[47m\u001b[44ma\u001b[47m\u001b[44mc\u001b[47m\u001b[44ma\u001b[47m\u001b[42mt\u001b[47m\u001b[44ma\u001b[47m\u001b[43mg\u001b[47m\u001b[42mt\u001b[47m\u001b[44ma\u001b[47m\u001b[44mc\u001b[47m\u001b[42mt\u001b[47m\u001b[42mt\u001b[47m\u001b[44mc\u001b[47m\u001b[42mt\u001b[47m\u001b[42mt\u001b[47m\u001b[44mc\u001b[47m\u001b[42mt\u001b[47m\u001b[42mt\u001b[47m\u001b[43mg\u001b[47m\u001b[44mc\u001b[47m\u001b[44ma\u001b[47m\u001b[44ma\u001b[47m\u001b[42mt\u001b[47m\u001b[44ma\u001b[47m\u001b[44ma\u001b[47m\u001b[42mt\u001b[47m\u001b[42mt\u001b[47m\u001b[44ma\u001b[47m\u001b[43mg\u001b[47m\u001b[44mc\u001b[47m\u001b[44mc\u001b[47m\u001b[42mt\u001b[47m\u001b[42mt\u001b[47m\u001b[43mg\u001b[47m\u001b[42mt\u001b[47m\u001b[42mt\u001b[47m\u001b[44ma\u001b[47m\u001b[44ma\u001b[47m\u001b[44ma\u001b[47m\u001b[44ma\u001b[47m\u001b[43mg\u001b[47m\u001b[42mt\u001b[47m\u001b[43mg\u001b[47m\u001b[44ma\u001b[47m\u001b[42mt\u001b[47m\u001b[44mc\u001b[47m\u001b[44ma\u001b[47m\u001b[43mg\u001b[47m\u001b[44ma\u001b[47m\u001b[42mt\u001b[47m\u001b[42mt\u001b[47m\u001b[42mt\u001b[47m\u001b[43mg\u001b[47m\u001b[44mc\u001b[47m\u001b[44ma\u001b[47m\u001b[42mt\u001b[47m\u001b[42mt\u001b[47m\u001b[43mg\u001b[47m\u001b[43mg\u001b[47m\u001b[42mt\u001b[47m\u001b[42mt\u001b[47m\u001b[44ma\u001b[47m\u001b[44mc\u001b[47m\u001b[44mc\u001b[47m\u001b[44ma\u001b[47m\u001b[42mt\u001b[47m\u001b[0m\n",
      "A/chicken/Magadan/23 \u001b[30m\u001b[47m\u001b[44ma\u001b[47m\u001b[43mg\u001b[47m\u001b[44mc\u001b[47m\u001b[44ma\u001b[47m\u001b[44ma\u001b[47m\u001b[44ma\u001b[47m\u001b[44ma\u001b[47m\u001b[43mg\u001b[47m\u001b[44mc\u001b[47m\u001b[44ma\u001b[47m\u001b[43mg\u001b[47m\u001b[43mg\u001b[47m\u001b[43mg\u001b[47m\u001b[43mg\u001b[47m\u001b[42mt\u001b[47m\u001b[42mt\u001b[47m\u001b[44mc\u001b[47m\u001b[44ma\u001b[47m\u001b[44mc\u001b[47m\u001b[42mt\u001b[47m\u001b[44mc\u001b[47m\u001b[42mt\u001b[47m\u001b[43mg\u001b[47m\u001b[42mt\u001b[47m\u001b[44mc\u001b[47m\u001b[44ma\u001b[47m\u001b[44ma\u001b[47m\u001b[44ma\u001b[47m\u001b[44ma\u001b[47m\u001b[42mt\u001b[47m\u001b[43mg\u001b[47m\u001b[43mg\u001b[47m\u001b[44ma\u001b[47m\u001b[43mg\u001b[47m\u001b[44ma\u001b[47m\u001b[44ma\u001b[47m\u001b[44mc\u001b[47m\u001b[44ma\u001b[47m\u001b[42mt\u001b[47m\u001b[44ma\u001b[47m\u001b[43mg\u001b[47m\u001b[42mt\u001b[47m\u001b[44ma\u001b[47m\u001b[44mc\u001b[47m\u001b[42mt\u001b[47m\u001b[42mt\u001b[47m\u001b[44mc\u001b[47m\u001b[42mt\u001b[47m\u001b[42mt\u001b[47m\u001b[44mc\u001b[47m\u001b[42mt\u001b[47m\u001b[42mt\u001b[47m\u001b[43mg\u001b[47m\u001b[44mc\u001b[47m\u001b[44ma\u001b[47m\u001b[44ma\u001b[47m\u001b[42mt\u001b[47m\u001b[44ma\u001b[47m\u001b[44ma\u001b[47m\u001b[42mt\u001b[47m\u001b[42mt\u001b[47m\u001b[44ma\u001b[47m\u001b[43mg\u001b[47m\u001b[44mc\u001b[47m\u001b[44mc\u001b[47m\u001b[42mt\u001b[47m\u001b[42mt\u001b[47m\u001b[43mg\u001b[47m\u001b[42mt\u001b[47m\u001b[42mt\u001b[47m\u001b[44ma\u001b[47m\u001b[44ma\u001b[47m\u001b[44ma\u001b[47m\u001b[44ma\u001b[47m\u001b[43mg\u001b[47m\u001b[42mt\u001b[47m\u001b[43mg\u001b[47m\u001b[44ma\u001b[47m\u001b[42mt\u001b[47m\u001b[44mc\u001b[47m\u001b[44ma\u001b[47m\u001b[43mg\u001b[47m\u001b[44ma\u001b[47m\u001b[42mt\u001b[47m\u001b[42mt\u001b[47m\u001b[42mt\u001b[47m\u001b[43mg\u001b[47m\u001b[44mc\u001b[47m\u001b[44ma\u001b[47m\u001b[42mt\u001b[47m\u001b[42mt\u001b[47m\u001b[43mg\u001b[47m\u001b[43mg\u001b[47m\u001b[42mt\u001b[47m\u001b[42mt\u001b[47m\u001b[44ma\u001b[47m\u001b[44mc\u001b[47m\u001b[44mc\u001b[47m\u001b[44ma\u001b[47m\u001b[42mt\u001b[47m\u001b[0m\n",
      "A/chicken/Magadan/23 \u001b[30m\u001b[47m\u001b[44ma\u001b[47m\u001b[43mg\u001b[47m\u001b[44mc\u001b[47m\u001b[44ma\u001b[47m\u001b[44ma\u001b[47m\u001b[44ma\u001b[47m\u001b[44ma\u001b[47m\u001b[43mg\u001b[47m\u001b[44mc\u001b[47m\u001b[44ma\u001b[47m\u001b[43mg\u001b[47m\u001b[43mg\u001b[47m\u001b[43mg\u001b[47m\u001b[43mg\u001b[47m\u001b[42mt\u001b[47m\u001b[42mt\u001b[47m\u001b[44mc\u001b[47m\u001b[44ma\u001b[47m\u001b[44mc\u001b[47m\u001b[42mt\u001b[47m\u001b[44mc\u001b[47m\u001b[42mt\u001b[47m\u001b[43mg\u001b[47m\u001b[42mt\u001b[47m\u001b[44mc\u001b[47m\u001b[44ma\u001b[47m\u001b[44ma\u001b[47m\u001b[44ma\u001b[47m\u001b[44ma\u001b[47m\u001b[42mt\u001b[47m\u001b[43mg\u001b[47m\u001b[43mg\u001b[47m\u001b[44ma\u001b[47m\u001b[43mg\u001b[47m\u001b[44ma\u001b[47m\u001b[44ma\u001b[47m\u001b[44mc\u001b[47m\u001b[44ma\u001b[47m\u001b[42mt\u001b[47m\u001b[44ma\u001b[47m\u001b[43mg\u001b[47m\u001b[42mt\u001b[47m\u001b[44ma\u001b[47m\u001b[44mc\u001b[47m\u001b[42mt\u001b[47m\u001b[42mt\u001b[47m\u001b[44mc\u001b[47m\u001b[42mt\u001b[47m\u001b[42mt\u001b[47m\u001b[44mc\u001b[47m\u001b[42mt\u001b[47m\u001b[42mt\u001b[47m\u001b[43mg\u001b[47m\u001b[44mc\u001b[47m\u001b[44ma\u001b[47m\u001b[44ma\u001b[47m\u001b[42mt\u001b[47m\u001b[44ma\u001b[47m\u001b[44ma\u001b[47m\u001b[42mt\u001b[47m\u001b[42mt\u001b[47m\u001b[44ma\u001b[47m\u001b[43mg\u001b[47m\u001b[44mc\u001b[47m\u001b[44mc\u001b[47m\u001b[42mt\u001b[47m\u001b[42mt\u001b[47m\u001b[43mg\u001b[47m\u001b[42mt\u001b[47m\u001b[42mt\u001b[47m\u001b[44ma\u001b[47m\u001b[44ma\u001b[47m\u001b[44ma\u001b[47m\u001b[44ma\u001b[47m\u001b[43mg\u001b[47m\u001b[42mt\u001b[47m\u001b[43mg\u001b[47m\u001b[44ma\u001b[47m\u001b[42mt\u001b[47m\u001b[44mc\u001b[47m\u001b[44ma\u001b[47m\u001b[43mg\u001b[47m\u001b[44ma\u001b[47m\u001b[42mt\u001b[47m\u001b[42mt\u001b[47m\u001b[42mt\u001b[47m\u001b[43mg\u001b[47m\u001b[44mc\u001b[47m\u001b[44ma\u001b[47m\u001b[42mt\u001b[47m\u001b[42mt\u001b[47m\u001b[43mg\u001b[47m\u001b[43mg\u001b[47m\u001b[42mt\u001b[47m\u001b[42mt\u001b[47m\u001b[44ma\u001b[47m\u001b[44mc\u001b[47m\u001b[44mc\u001b[47m\u001b[44ma\u001b[47m\u001b[42mt\u001b[47m\u001b[0m\n",
      "A/chicken/Miyagi/TU1 \u001b[30m\u001b[47m\u001b[47m-\u001b[47m\u001b[47m-\u001b[47m\u001b[47m-\u001b[47m\u001b[47m-\u001b[47m\u001b[44ma\u001b[47m\u001b[44ma\u001b[47m\u001b[44ma\u001b[47m\u001b[43mg\u001b[47m\u001b[44mc\u001b[47m\u001b[44ma\u001b[47m\u001b[43mg\u001b[47m\u001b[43mg\u001b[47m\u001b[43mg\u001b[47m\u001b[43mg\u001b[47m\u001b[42mt\u001b[47m\u001b[42mt\u001b[47m\u001b[44mc\u001b[47m\u001b[44ma\u001b[47m\u001b[44mc\u001b[47m\u001b[42mt\u001b[47m\u001b[44mc\u001b[47m\u001b[42mt\u001b[47m\u001b[43mg\u001b[47m\u001b[42mt\u001b[47m\u001b[44mc\u001b[47m\u001b[44ma\u001b[47m\u001b[44ma\u001b[47m\u001b[44ma\u001b[47m\u001b[44ma\u001b[47m\u001b[42mt\u001b[47m\u001b[43mg\u001b[47m\u001b[43mg\u001b[47m\u001b[44ma\u001b[47m\u001b[43mg\u001b[47m\u001b[44ma\u001b[47m\u001b[44ma\u001b[47m\u001b[44mc\u001b[47m\u001b[44ma\u001b[47m\u001b[42mt\u001b[47m\u001b[44ma\u001b[47m\u001b[43mg\u001b[47m\u001b[42mt\u001b[47m\u001b[44ma\u001b[47m\u001b[44mc\u001b[47m\u001b[42mt\u001b[47m\u001b[42mt\u001b[47m\u001b[44mc\u001b[47m\u001b[42mt\u001b[47m\u001b[42mt\u001b[47m\u001b[44mc\u001b[47m\u001b[42mt\u001b[47m\u001b[42mt\u001b[47m\u001b[43mg\u001b[47m\u001b[44mc\u001b[47m\u001b[44ma\u001b[47m\u001b[44ma\u001b[47m\u001b[42mt\u001b[47m\u001b[44ma\u001b[47m\u001b[44ma\u001b[47m\u001b[42mt\u001b[47m\u001b[42mt\u001b[47m\u001b[44ma\u001b[47m\u001b[43mg\u001b[47m\u001b[44mc\u001b[47m\u001b[44mc\u001b[47m\u001b[42mt\u001b[47m\u001b[42mt\u001b[47m\u001b[43mg\u001b[47m\u001b[42mt\u001b[47m\u001b[42mt\u001b[47m\u001b[44ma\u001b[47m\u001b[44ma\u001b[47m\u001b[44ma\u001b[47m\u001b[44ma\u001b[47m\u001b[43mg\u001b[47m\u001b[42mt\u001b[47m\u001b[43mg\u001b[47m\u001b[44ma\u001b[47m\u001b[42mt\u001b[47m\u001b[44mc\u001b[47m\u001b[44ma\u001b[47m\u001b[43mg\u001b[47m\u001b[44ma\u001b[47m\u001b[42mt\u001b[47m\u001b[42mt\u001b[47m\u001b[42mt\u001b[47m\u001b[43mg\u001b[47m\u001b[44mc\u001b[47m\u001b[44ma\u001b[47m\u001b[42mt\u001b[47m\u001b[42mt\u001b[47m\u001b[43mg\u001b[47m\u001b[43mg\u001b[47m\u001b[42mt\u001b[47m\u001b[42mt\u001b[47m\u001b[44ma\u001b[47m\u001b[44mc\u001b[47m\u001b[44mc\u001b[47m\u001b[44ma\u001b[47m\u001b[42mt\u001b[47m\u001b[0m\n",
      "A/chicken/Sakhalin/3 \u001b[30m\u001b[47m\u001b[44ma\u001b[47m\u001b[43mg\u001b[47m\u001b[44mc\u001b[47m\u001b[44ma\u001b[47m\u001b[44ma\u001b[47m\u001b[44ma\u001b[47m\u001b[44ma\u001b[47m\u001b[43mg\u001b[47m\u001b[44mc\u001b[47m\u001b[44ma\u001b[47m\u001b[43mg\u001b[47m\u001b[43mg\u001b[47m\u001b[43mg\u001b[47m\u001b[43mg\u001b[47m\u001b[42mt\u001b[47m\u001b[42mt\u001b[47m\u001b[44mc\u001b[47m\u001b[44ma\u001b[47m\u001b[44mc\u001b[47m\u001b[42mt\u001b[47m\u001b[44mc\u001b[47m\u001b[42mt\u001b[47m\u001b[43mg\u001b[47m\u001b[42mt\u001b[47m\u001b[44mc\u001b[47m\u001b[44ma\u001b[47m\u001b[44ma\u001b[47m\u001b[44ma\u001b[47m\u001b[44ma\u001b[47m\u001b[42mt\u001b[47m\u001b[43mg\u001b[47m\u001b[43mg\u001b[47m\u001b[44ma\u001b[47m\u001b[43mg\u001b[47m\u001b[44ma\u001b[47m\u001b[44ma\u001b[47m\u001b[44mc\u001b[47m\u001b[44ma\u001b[47m\u001b[42mt\u001b[47m\u001b[44ma\u001b[47m\u001b[43mg\u001b[47m\u001b[42mt\u001b[47m\u001b[44ma\u001b[47m\u001b[44mc\u001b[47m\u001b[42mt\u001b[47m\u001b[42mt\u001b[47m\u001b[44mc\u001b[47m\u001b[42mt\u001b[47m\u001b[42mt\u001b[47m\u001b[44mc\u001b[47m\u001b[42mt\u001b[47m\u001b[42mt\u001b[47m\u001b[43mg\u001b[47m\u001b[44mc\u001b[47m\u001b[44ma\u001b[47m\u001b[44ma\u001b[47m\u001b[42mt\u001b[47m\u001b[44ma\u001b[47m\u001b[44ma\u001b[47m\u001b[42mt\u001b[47m\u001b[42mt\u001b[47m\u001b[44ma\u001b[47m\u001b[43mg\u001b[47m\u001b[44mc\u001b[47m\u001b[44mc\u001b[47m\u001b[42mt\u001b[47m\u001b[42mt\u001b[47m\u001b[43mg\u001b[47m\u001b[42mt\u001b[47m\u001b[42mt\u001b[47m\u001b[44ma\u001b[47m\u001b[44ma\u001b[47m\u001b[44ma\u001b[47m\u001b[44ma\u001b[47m\u001b[43mg\u001b[47m\u001b[42mt\u001b[47m\u001b[43mg\u001b[47m\u001b[44ma\u001b[47m\u001b[42mt\u001b[47m\u001b[44mc\u001b[47m\u001b[44ma\u001b[47m\u001b[43mg\u001b[47m\u001b[44ma\u001b[47m\u001b[42mt\u001b[47m\u001b[42mt\u001b[47m\u001b[42mt\u001b[47m\u001b[43mg\u001b[47m\u001b[44mc\u001b[47m\u001b[44ma\u001b[47m\u001b[42mt\u001b[47m\u001b[42mt\u001b[47m\u001b[43mg\u001b[47m\u001b[43mg\u001b[47m\u001b[42mt\u001b[47m\u001b[42mt\u001b[47m\u001b[44ma\u001b[47m\u001b[44mc\u001b[47m\u001b[44mc\u001b[47m\u001b[44ma\u001b[47m\u001b[42mt\u001b[47m\u001b[0m\n",
      "A/chicken/Sakhalin/3 \u001b[30m\u001b[47m\u001b[44ma\u001b[47m\u001b[43mg\u001b[47m\u001b[44mc\u001b[47m\u001b[44ma\u001b[47m\u001b[44ma\u001b[47m\u001b[44ma\u001b[47m\u001b[44ma\u001b[47m\u001b[43mg\u001b[47m\u001b[44mc\u001b[47m\u001b[44ma\u001b[47m\u001b[43mg\u001b[47m\u001b[43mg\u001b[47m\u001b[43mg\u001b[47m\u001b[43mg\u001b[47m\u001b[42mt\u001b[47m\u001b[42mt\u001b[47m\u001b[44mc\u001b[47m\u001b[44ma\u001b[47m\u001b[44mc\u001b[47m\u001b[42mt\u001b[47m\u001b[44mc\u001b[47m\u001b[42mt\u001b[47m\u001b[43mg\u001b[47m\u001b[42mt\u001b[47m\u001b[44mc\u001b[47m\u001b[44ma\u001b[47m\u001b[44ma\u001b[47m\u001b[44ma\u001b[47m\u001b[44ma\u001b[47m\u001b[42mt\u001b[47m\u001b[43mg\u001b[47m\u001b[43mg\u001b[47m\u001b[44ma\u001b[47m\u001b[43mg\u001b[47m\u001b[44ma\u001b[47m\u001b[44ma\u001b[47m\u001b[44mc\u001b[47m\u001b[44ma\u001b[47m\u001b[42mt\u001b[47m\u001b[44ma\u001b[47m\u001b[43mg\u001b[47m\u001b[42mt\u001b[47m\u001b[44ma\u001b[47m\u001b[44mc\u001b[47m\u001b[42mt\u001b[47m\u001b[42mt\u001b[47m\u001b[44mc\u001b[47m\u001b[42mt\u001b[47m\u001b[42mt\u001b[47m\u001b[44mc\u001b[47m\u001b[42mt\u001b[47m\u001b[42mt\u001b[47m\u001b[43mg\u001b[47m\u001b[44mc\u001b[47m\u001b[44ma\u001b[47m\u001b[44ma\u001b[47m\u001b[42mt\u001b[47m\u001b[44ma\u001b[47m\u001b[44ma\u001b[47m\u001b[42mt\u001b[47m\u001b[42mt\u001b[47m\u001b[44ma\u001b[47m\u001b[43mg\u001b[47m\u001b[44mc\u001b[47m\u001b[44mc\u001b[47m\u001b[42mt\u001b[47m\u001b[42mt\u001b[47m\u001b[43mg\u001b[47m\u001b[42mt\u001b[47m\u001b[42mt\u001b[47m\u001b[44ma\u001b[47m\u001b[44ma\u001b[47m\u001b[44ma\u001b[47m\u001b[44ma\u001b[47m\u001b[43mg\u001b[47m\u001b[42mt\u001b[47m\u001b[43mg\u001b[47m\u001b[44ma\u001b[47m\u001b[42mt\u001b[47m\u001b[44mc\u001b[47m\u001b[44ma\u001b[47m\u001b[43mg\u001b[47m\u001b[44ma\u001b[47m\u001b[42mt\u001b[47m\u001b[42mt\u001b[47m\u001b[42mt\u001b[47m\u001b[43mg\u001b[47m\u001b[44mc\u001b[47m\u001b[44ma\u001b[47m\u001b[42mt\u001b[47m\u001b[42mt\u001b[47m\u001b[43mg\u001b[47m\u001b[43mg\u001b[47m\u001b[42mt\u001b[47m\u001b[42mt\u001b[47m\u001b[44ma\u001b[47m\u001b[44mc\u001b[47m\u001b[44mc\u001b[47m\u001b[44ma\u001b[47m\u001b[42mt\u001b[47m\u001b[0m\n",
      "A/Cooper_s_Hawk/BC/A \u001b[30m\u001b[47m\u001b[42mn\u001b[47m\u001b[43mg\u001b[47m\u001b[44mc\u001b[47m\u001b[42mn\u001b[47m\u001b[44ma\u001b[47m\u001b[44ma\u001b[47m\u001b[44ma\u001b[47m\u001b[43mg\u001b[47m\u001b[44mc\u001b[47m\u001b[44ma\u001b[47m\u001b[43mg\u001b[47m\u001b[43mg\u001b[47m\u001b[43mg\u001b[47m\u001b[43mg\u001b[47m\u001b[42mt\u001b[47m\u001b[42mt\u001b[47m\u001b[44mc\u001b[47m\u001b[44ma\u001b[47m\u001b[44mc\u001b[47m\u001b[42mt\u001b[47m\u001b[44mc\u001b[47m\u001b[42mt\u001b[47m\u001b[43mg\u001b[47m\u001b[42mt\u001b[47m\u001b[44mc\u001b[47m\u001b[44ma\u001b[47m\u001b[44ma\u001b[47m\u001b[44ma\u001b[47m\u001b[44ma\u001b[47m\u001b[42mt\u001b[47m\u001b[43mg\u001b[47m\u001b[43mg\u001b[47m\u001b[44ma\u001b[47m\u001b[43mg\u001b[47m\u001b[44ma\u001b[47m\u001b[44ma\u001b[47m\u001b[44mc\u001b[47m\u001b[44ma\u001b[47m\u001b[42mt\u001b[47m\u001b[44ma\u001b[47m\u001b[43mg\u001b[47m\u001b[42mt\u001b[47m\u001b[44ma\u001b[47m\u001b[44mc\u001b[47m\u001b[42mt\u001b[47m\u001b[42mt\u001b[47m\u001b[44mc\u001b[47m\u001b[42mt\u001b[47m\u001b[42mt\u001b[47m\u001b[44mc\u001b[47m\u001b[42mt\u001b[47m\u001b[42mt\u001b[47m\u001b[43mg\u001b[47m\u001b[44mc\u001b[47m\u001b[44ma\u001b[47m\u001b[44ma\u001b[47m\u001b[42mt\u001b[47m\u001b[44ma\u001b[47m\u001b[44ma\u001b[47m\u001b[42mt\u001b[47m\u001b[42mt\u001b[47m\u001b[44ma\u001b[47m\u001b[43mg\u001b[47m\u001b[44mc\u001b[47m\u001b[44mc\u001b[47m\u001b[42mt\u001b[47m\u001b[42mt\u001b[47m\u001b[43mg\u001b[47m\u001b[42mt\u001b[47m\u001b[42mt\u001b[47m\u001b[44ma\u001b[47m\u001b[44ma\u001b[47m\u001b[44ma\u001b[47m\u001b[44ma\u001b[47m\u001b[43mg\u001b[47m\u001b[42mt\u001b[47m\u001b[43mg\u001b[47m\u001b[44ma\u001b[47m\u001b[42mt\u001b[47m\u001b[44mc\u001b[47m\u001b[44ma\u001b[47m\u001b[43mg\u001b[47m\u001b[44ma\u001b[47m\u001b[42mt\u001b[47m\u001b[42mt\u001b[47m\u001b[42mt\u001b[47m\u001b[43mg\u001b[47m\u001b[44mc\u001b[47m\u001b[44ma\u001b[47m\u001b[42mt\u001b[47m\u001b[42mt\u001b[47m\u001b[43mg\u001b[47m\u001b[43mg\u001b[47m\u001b[42mt\u001b[47m\u001b[42mt\u001b[47m\u001b[44ma\u001b[47m\u001b[44mc\u001b[47m\u001b[44mc\u001b[47m\u001b[44ma\u001b[47m\u001b[42mt\u001b[47m\u001b[0m\n",
      "A/crow/Hokkaido/0102 \u001b[30m\u001b[47m\u001b[47m-\u001b[47m\u001b[47m-\u001b[47m\u001b[47m-\u001b[47m\u001b[47m-\u001b[47m\u001b[47m-\u001b[47m\u001b[44ma\u001b[47m\u001b[44ma\u001b[47m\u001b[43mg\u001b[47m\u001b[44mc\u001b[47m\u001b[44ma\u001b[47m\u001b[43mg\u001b[47m\u001b[43mg\u001b[47m\u001b[43mg\u001b[47m\u001b[43mg\u001b[47m\u001b[42mt\u001b[47m\u001b[42mt\u001b[47m\u001b[44mc\u001b[47m\u001b[44ma\u001b[47m\u001b[44mc\u001b[47m\u001b[42mt\u001b[47m\u001b[44mc\u001b[47m\u001b[42mt\u001b[47m\u001b[43mg\u001b[47m\u001b[42mt\u001b[47m\u001b[44mc\u001b[47m\u001b[44ma\u001b[47m\u001b[44ma\u001b[47m\u001b[44ma\u001b[47m\u001b[44ma\u001b[47m\u001b[42mt\u001b[47m\u001b[43mg\u001b[47m\u001b[43mg\u001b[47m\u001b[44ma\u001b[47m\u001b[43mg\u001b[47m\u001b[44ma\u001b[47m\u001b[44ma\u001b[47m\u001b[44mc\u001b[47m\u001b[44ma\u001b[47m\u001b[42mt\u001b[47m\u001b[44ma\u001b[47m\u001b[43mg\u001b[47m\u001b[42mt\u001b[47m\u001b[44ma\u001b[47m\u001b[44mc\u001b[47m\u001b[42mt\u001b[47m\u001b[42mt\u001b[47m\u001b[44mc\u001b[47m\u001b[42mt\u001b[47m\u001b[42mt\u001b[47m\u001b[44mc\u001b[47m\u001b[42mt\u001b[47m\u001b[42mt\u001b[47m\u001b[43mg\u001b[47m\u001b[44mc\u001b[47m\u001b[44ma\u001b[47m\u001b[44ma\u001b[47m\u001b[42mt\u001b[47m\u001b[44ma\u001b[47m\u001b[44ma\u001b[47m\u001b[42mt\u001b[47m\u001b[42mt\u001b[47m\u001b[44ma\u001b[47m\u001b[43mg\u001b[47m\u001b[44mc\u001b[47m\u001b[44mc\u001b[47m\u001b[42mt\u001b[47m\u001b[42mt\u001b[47m\u001b[43mg\u001b[47m\u001b[42mt\u001b[47m\u001b[42mt\u001b[47m\u001b[44ma\u001b[47m\u001b[44ma\u001b[47m\u001b[44ma\u001b[47m\u001b[44ma\u001b[47m\u001b[43mg\u001b[47m\u001b[42mt\u001b[47m\u001b[43mg\u001b[47m\u001b[44ma\u001b[47m\u001b[42mt\u001b[47m\u001b[44mc\u001b[47m\u001b[44ma\u001b[47m\u001b[43mg\u001b[47m\u001b[44ma\u001b[47m\u001b[42mt\u001b[47m\u001b[42mt\u001b[47m\u001b[42mt\u001b[47m\u001b[43mg\u001b[47m\u001b[44mc\u001b[47m\u001b[44ma\u001b[47m\u001b[42mt\u001b[47m\u001b[42mt\u001b[47m\u001b[43mg\u001b[47m\u001b[43mg\u001b[47m\u001b[42mt\u001b[47m\u001b[42mt\u001b[47m\u001b[44ma\u001b[47m\u001b[44mc\u001b[47m\u001b[44mc\u001b[47m\u001b[44ma\u001b[47m\u001b[42mt\u001b[47m\u001b[0m\n",
      "A/crow/Khabarovsk/21 \u001b[30m\u001b[47m\u001b[44ma\u001b[47m\u001b[43mg\u001b[47m\u001b[44mc\u001b[47m\u001b[44ma\u001b[47m\u001b[44ma\u001b[47m\u001b[44ma\u001b[47m\u001b[44ma\u001b[47m\u001b[43mg\u001b[47m\u001b[44mc\u001b[47m\u001b[44ma\u001b[47m\u001b[43mg\u001b[47m\u001b[43mg\u001b[47m\u001b[43mg\u001b[47m\u001b[43mg\u001b[47m\u001b[42mt\u001b[47m\u001b[42mt\u001b[47m\u001b[44mc\u001b[47m\u001b[44ma\u001b[47m\u001b[44mc\u001b[47m\u001b[42mt\u001b[47m\u001b[44mc\u001b[47m\u001b[42mt\u001b[47m\u001b[43mg\u001b[47m\u001b[42mt\u001b[47m\u001b[44mc\u001b[47m\u001b[44ma\u001b[47m\u001b[44ma\u001b[47m\u001b[44ma\u001b[47m\u001b[44ma\u001b[47m\u001b[42mt\u001b[47m\u001b[43mg\u001b[47m\u001b[43mg\u001b[47m\u001b[44ma\u001b[47m\u001b[43mg\u001b[47m\u001b[44ma\u001b[47m\u001b[44ma\u001b[47m\u001b[44mc\u001b[47m\u001b[44ma\u001b[47m\u001b[42mt\u001b[47m\u001b[44ma\u001b[47m\u001b[43mg\u001b[47m\u001b[42mt\u001b[47m\u001b[44ma\u001b[47m\u001b[44mc\u001b[47m\u001b[42mt\u001b[47m\u001b[42mt\u001b[47m\u001b[44mc\u001b[47m\u001b[42mt\u001b[47m\u001b[42mt\u001b[47m\u001b[44mc\u001b[47m\u001b[42mt\u001b[47m\u001b[42mt\u001b[47m\u001b[43mg\u001b[47m\u001b[44mc\u001b[47m\u001b[44ma\u001b[47m\u001b[44ma\u001b[47m\u001b[42mt\u001b[47m\u001b[44ma\u001b[47m\u001b[44ma\u001b[47m\u001b[42mt\u001b[47m\u001b[42mt\u001b[47m\u001b[44ma\u001b[47m\u001b[43mg\u001b[47m\u001b[44mc\u001b[47m\u001b[44mc\u001b[47m\u001b[42mt\u001b[47m\u001b[42mt\u001b[47m\u001b[43mg\u001b[47m\u001b[42mt\u001b[47m\u001b[42mt\u001b[47m\u001b[44ma\u001b[47m\u001b[44ma\u001b[47m\u001b[44ma\u001b[47m\u001b[44ma\u001b[47m\u001b[43mg\u001b[47m\u001b[42mt\u001b[47m\u001b[43mg\u001b[47m\u001b[44ma\u001b[47m\u001b[42mt\u001b[47m\u001b[44mc\u001b[47m\u001b[44ma\u001b[47m\u001b[43mg\u001b[47m\u001b[44ma\u001b[47m\u001b[42mt\u001b[47m\u001b[42mt\u001b[47m\u001b[42mt\u001b[47m\u001b[43mg\u001b[47m\u001b[44mc\u001b[47m\u001b[44ma\u001b[47m\u001b[42mt\u001b[47m\u001b[42mt\u001b[47m\u001b[43mg\u001b[47m\u001b[43mg\u001b[47m\u001b[42mt\u001b[47m\u001b[42mt\u001b[47m\u001b[44ma\u001b[47m\u001b[44mc\u001b[47m\u001b[44mc\u001b[47m\u001b[44ma\u001b[47m\u001b[42mt\u001b[47m\u001b[0m\n",
      "A/crow/Khabarovsk/21 \u001b[30m\u001b[47m\u001b[44ma\u001b[47m\u001b[43mg\u001b[47m\u001b[44mc\u001b[47m\u001b[44ma\u001b[47m\u001b[44ma\u001b[47m\u001b[44ma\u001b[47m\u001b[44ma\u001b[47m\u001b[43mg\u001b[47m\u001b[44mc\u001b[47m\u001b[44ma\u001b[47m\u001b[43mg\u001b[47m\u001b[43mg\u001b[47m\u001b[43mg\u001b[47m\u001b[43mg\u001b[47m\u001b[42mt\u001b[47m\u001b[42mt\u001b[47m\u001b[44mc\u001b[47m\u001b[44ma\u001b[47m\u001b[44mc\u001b[47m\u001b[42mt\u001b[47m\u001b[44mc\u001b[47m\u001b[42mt\u001b[47m\u001b[43mg\u001b[47m\u001b[42mt\u001b[47m\u001b[44mc\u001b[47m\u001b[44ma\u001b[47m\u001b[44ma\u001b[47m\u001b[44ma\u001b[47m\u001b[44ma\u001b[47m\u001b[42mt\u001b[47m\u001b[43mg\u001b[47m\u001b[43mg\u001b[47m\u001b[44ma\u001b[47m\u001b[43mg\u001b[47m\u001b[44ma\u001b[47m\u001b[44ma\u001b[47m\u001b[44mc\u001b[47m\u001b[44ma\u001b[47m\u001b[42mt\u001b[47m\u001b[44ma\u001b[47m\u001b[43mg\u001b[47m\u001b[42mt\u001b[47m\u001b[44ma\u001b[47m\u001b[44mc\u001b[47m\u001b[42mt\u001b[47m\u001b[42mt\u001b[47m\u001b[44mc\u001b[47m\u001b[42mt\u001b[47m\u001b[42mt\u001b[47m\u001b[44mc\u001b[47m\u001b[42mt\u001b[47m\u001b[42mt\u001b[47m\u001b[43mg\u001b[47m\u001b[44mc\u001b[47m\u001b[44ma\u001b[47m\u001b[44ma\u001b[47m\u001b[42mt\u001b[47m\u001b[44ma\u001b[47m\u001b[44ma\u001b[47m\u001b[42mt\u001b[47m\u001b[42mt\u001b[47m\u001b[44ma\u001b[47m\u001b[43mg\u001b[47m\u001b[44mc\u001b[47m\u001b[44mc\u001b[47m\u001b[42mt\u001b[47m\u001b[42mt\u001b[47m\u001b[43mg\u001b[47m\u001b[42mt\u001b[47m\u001b[42mt\u001b[47m\u001b[44ma\u001b[47m\u001b[44ma\u001b[47m\u001b[44ma\u001b[47m\u001b[44ma\u001b[47m\u001b[43mg\u001b[47m\u001b[42mt\u001b[47m\u001b[43mg\u001b[47m\u001b[44ma\u001b[47m\u001b[42mt\u001b[47m\u001b[44mc\u001b[47m\u001b[44ma\u001b[47m\u001b[43mg\u001b[47m\u001b[44ma\u001b[47m\u001b[42mt\u001b[47m\u001b[42mt\u001b[47m\u001b[42mt\u001b[47m\u001b[43mg\u001b[47m\u001b[44mc\u001b[47m\u001b[44ma\u001b[47m\u001b[42mt\u001b[47m\u001b[42mt\u001b[47m\u001b[43mg\u001b[47m\u001b[43mg\u001b[47m\u001b[42mt\u001b[47m\u001b[42mt\u001b[47m\u001b[44ma\u001b[47m\u001b[44mc\u001b[47m\u001b[44mc\u001b[47m\u001b[44ma\u001b[47m\u001b[42mt\u001b[47m\u001b[0m\n",
      "A/domestic_duck/Maga \u001b[30m\u001b[47m\u001b[44ma\u001b[47m\u001b[43mg\u001b[47m\u001b[44mc\u001b[47m\u001b[44ma\u001b[47m\u001b[44ma\u001b[47m\u001b[44ma\u001b[47m\u001b[44ma\u001b[47m\u001b[43mg\u001b[47m\u001b[44mc\u001b[47m\u001b[44ma\u001b[47m\u001b[43mg\u001b[47m\u001b[43mg\u001b[47m\u001b[43mg\u001b[47m\u001b[43mg\u001b[47m\u001b[42mt\u001b[47m\u001b[42mt\u001b[47m\u001b[44mc\u001b[47m\u001b[44ma\u001b[47m\u001b[44mc\u001b[47m\u001b[42mt\u001b[47m\u001b[44mc\u001b[47m\u001b[42mt\u001b[47m\u001b[43mg\u001b[47m\u001b[42mt\u001b[47m\u001b[44mc\u001b[47m\u001b[44ma\u001b[47m\u001b[44ma\u001b[47m\u001b[44ma\u001b[47m\u001b[44ma\u001b[47m\u001b[42mt\u001b[47m\u001b[43mg\u001b[47m\u001b[43mg\u001b[47m\u001b[44ma\u001b[47m\u001b[43mg\u001b[47m\u001b[44ma\u001b[47m\u001b[44ma\u001b[47m\u001b[44mc\u001b[47m\u001b[44ma\u001b[47m\u001b[42mt\u001b[47m\u001b[44ma\u001b[47m\u001b[43mg\u001b[47m\u001b[42mt\u001b[47m\u001b[44ma\u001b[47m\u001b[44mc\u001b[47m\u001b[42mt\u001b[47m\u001b[42mt\u001b[47m\u001b[44mc\u001b[47m\u001b[42mt\u001b[47m\u001b[42mt\u001b[47m\u001b[44mc\u001b[47m\u001b[42mt\u001b[47m\u001b[42mt\u001b[47m\u001b[43mg\u001b[47m\u001b[44mc\u001b[47m\u001b[44ma\u001b[47m\u001b[44ma\u001b[47m\u001b[42mt\u001b[47m\u001b[44ma\u001b[47m\u001b[44ma\u001b[47m\u001b[42mt\u001b[47m\u001b[42mt\u001b[47m\u001b[44ma\u001b[47m\u001b[43mg\u001b[47m\u001b[44mc\u001b[47m\u001b[44mc\u001b[47m\u001b[42mt\u001b[47m\u001b[42mt\u001b[47m\u001b[43mg\u001b[47m\u001b[42mt\u001b[47m\u001b[42mt\u001b[47m\u001b[44ma\u001b[47m\u001b[44ma\u001b[47m\u001b[44ma\u001b[47m\u001b[44ma\u001b[47m\u001b[43mg\u001b[47m\u001b[42mt\u001b[47m\u001b[43mg\u001b[47m\u001b[44ma\u001b[47m\u001b[42mt\u001b[47m\u001b[44mc\u001b[47m\u001b[44ma\u001b[47m\u001b[43mg\u001b[47m\u001b[44ma\u001b[47m\u001b[42mt\u001b[47m\u001b[42mt\u001b[47m\u001b[42mt\u001b[47m\u001b[43mg\u001b[47m\u001b[44mc\u001b[47m\u001b[44ma\u001b[47m\u001b[42mt\u001b[47m\u001b[42mt\u001b[47m\u001b[43mg\u001b[47m\u001b[43mg\u001b[47m\u001b[42mt\u001b[47m\u001b[42mt\u001b[47m\u001b[44ma\u001b[47m\u001b[44mc\u001b[47m\u001b[44mc\u001b[47m\u001b[44ma\u001b[47m\u001b[42mt\u001b[47m\u001b[0m\n",
      "A/domestic_goose/Mag \u001b[30m\u001b[47m\u001b[44ma\u001b[47m\u001b[43mg\u001b[47m\u001b[44mc\u001b[47m\u001b[44ma\u001b[47m\u001b[44ma\u001b[47m\u001b[44ma\u001b[47m\u001b[44ma\u001b[47m\u001b[43mg\u001b[47m\u001b[44mc\u001b[47m\u001b[44ma\u001b[47m\u001b[43mg\u001b[47m\u001b[43mg\u001b[47m\u001b[43mg\u001b[47m\u001b[43mg\u001b[47m\u001b[42mt\u001b[47m\u001b[42mt\u001b[47m\u001b[44mc\u001b[47m\u001b[44ma\u001b[47m\u001b[44mc\u001b[47m\u001b[42mt\u001b[47m\u001b[44mc\u001b[47m\u001b[42mt\u001b[47m\u001b[43mg\u001b[47m\u001b[42mt\u001b[47m\u001b[44mc\u001b[47m\u001b[44ma\u001b[47m\u001b[44ma\u001b[47m\u001b[44ma\u001b[47m\u001b[44ma\u001b[47m\u001b[42mt\u001b[47m\u001b[43mg\u001b[47m\u001b[43mg\u001b[47m\u001b[44ma\u001b[47m\u001b[43mg\u001b[47m\u001b[44ma\u001b[47m\u001b[44ma\u001b[47m\u001b[44mc\u001b[47m\u001b[44ma\u001b[47m\u001b[42mt\u001b[47m\u001b[44ma\u001b[47m\u001b[43mg\u001b[47m\u001b[42mt\u001b[47m\u001b[44ma\u001b[47m\u001b[44mc\u001b[47m\u001b[42mt\u001b[47m\u001b[42mt\u001b[47m\u001b[44mc\u001b[47m\u001b[42mt\u001b[47m\u001b[42mt\u001b[47m\u001b[44mc\u001b[47m\u001b[42mt\u001b[47m\u001b[42mt\u001b[47m\u001b[43mg\u001b[47m\u001b[44mc\u001b[47m\u001b[44ma\u001b[47m\u001b[44ma\u001b[47m\u001b[42mt\u001b[47m\u001b[44ma\u001b[47m\u001b[44ma\u001b[47m\u001b[42mt\u001b[47m\u001b[42mt\u001b[47m\u001b[44ma\u001b[47m\u001b[43mg\u001b[47m\u001b[44mc\u001b[47m\u001b[44mc\u001b[47m\u001b[42mt\u001b[47m\u001b[42mt\u001b[47m\u001b[43mg\u001b[47m\u001b[42mt\u001b[47m\u001b[42mt\u001b[47m\u001b[44ma\u001b[47m\u001b[44ma\u001b[47m\u001b[44ma\u001b[47m\u001b[44ma\u001b[47m\u001b[43mg\u001b[47m\u001b[42mt\u001b[47m\u001b[43mg\u001b[47m\u001b[44ma\u001b[47m\u001b[42mt\u001b[47m\u001b[44mc\u001b[47m\u001b[44ma\u001b[47m\u001b[43mg\u001b[47m\u001b[44ma\u001b[47m\u001b[42mt\u001b[47m\u001b[42mt\u001b[47m\u001b[42mt\u001b[47m\u001b[43mg\u001b[47m\u001b[44mc\u001b[47m\u001b[44ma\u001b[47m\u001b[42mt\u001b[47m\u001b[42mt\u001b[47m\u001b[43mg\u001b[47m\u001b[43mg\u001b[47m\u001b[42mt\u001b[47m\u001b[42mt\u001b[47m\u001b[44ma\u001b[47m\u001b[44mc\u001b[47m\u001b[44mc\u001b[47m\u001b[44ma\u001b[47m\u001b[42mt\u001b[47m\u001b[0m\n",
      "A/duck/Tottori/NK40/ \u001b[30m\u001b[47m\u001b[47m-\u001b[47m\u001b[43mg\u001b[47m\u001b[44mc\u001b[47m\u001b[44ma\u001b[47m\u001b[44ma\u001b[47m\u001b[44ma\u001b[47m\u001b[44ma\u001b[47m\u001b[43mg\u001b[47m\u001b[44mc\u001b[47m\u001b[44ma\u001b[47m\u001b[43mg\u001b[47m\u001b[43mg\u001b[47m\u001b[43mg\u001b[47m\u001b[43mg\u001b[47m\u001b[42mt\u001b[47m\u001b[42mt\u001b[47m\u001b[44mc\u001b[47m\u001b[44ma\u001b[47m\u001b[44mc\u001b[47m\u001b[42mt\u001b[47m\u001b[44mc\u001b[47m\u001b[42mt\u001b[47m\u001b[43mg\u001b[47m\u001b[42mt\u001b[47m\u001b[44mc\u001b[47m\u001b[44ma\u001b[47m\u001b[44ma\u001b[47m\u001b[44ma\u001b[47m\u001b[44ma\u001b[47m\u001b[42mt\u001b[47m\u001b[43mg\u001b[47m\u001b[43mg\u001b[47m\u001b[44ma\u001b[47m\u001b[43mg\u001b[47m\u001b[44ma\u001b[47m\u001b[44ma\u001b[47m\u001b[44mc\u001b[47m\u001b[44ma\u001b[47m\u001b[42mt\u001b[47m\u001b[44ma\u001b[47m\u001b[43mg\u001b[47m\u001b[42mt\u001b[47m\u001b[44ma\u001b[47m\u001b[44mc\u001b[47m\u001b[42mt\u001b[47m\u001b[42mt\u001b[47m\u001b[44mc\u001b[47m\u001b[42mt\u001b[47m\u001b[42mt\u001b[47m\u001b[44mc\u001b[47m\u001b[42mt\u001b[47m\u001b[42mt\u001b[47m\u001b[43mg\u001b[47m\u001b[44mc\u001b[47m\u001b[44ma\u001b[47m\u001b[44ma\u001b[47m\u001b[42mt\u001b[47m\u001b[44ma\u001b[47m\u001b[44ma\u001b[47m\u001b[42mt\u001b[47m\u001b[42mt\u001b[47m\u001b[44ma\u001b[47m\u001b[43mg\u001b[47m\u001b[44mc\u001b[47m\u001b[44mc\u001b[47m\u001b[42mt\u001b[47m\u001b[42mt\u001b[47m\u001b[43mg\u001b[47m\u001b[42mt\u001b[47m\u001b[42mt\u001b[47m\u001b[44ma\u001b[47m\u001b[44ma\u001b[47m\u001b[44ma\u001b[47m\u001b[44ma\u001b[47m\u001b[43mg\u001b[47m\u001b[42mt\u001b[47m\u001b[43mg\u001b[47m\u001b[44ma\u001b[47m\u001b[42mt\u001b[47m\u001b[44mc\u001b[47m\u001b[44ma\u001b[47m\u001b[43mg\u001b[47m\u001b[44ma\u001b[47m\u001b[42mt\u001b[47m\u001b[42mt\u001b[47m\u001b[42mt\u001b[47m\u001b[43mg\u001b[47m\u001b[44mc\u001b[47m\u001b[44ma\u001b[47m\u001b[42mt\u001b[47m\u001b[42mt\u001b[47m\u001b[43mg\u001b[47m\u001b[43mg\u001b[47m\u001b[42mt\u001b[47m\u001b[42mt\u001b[47m\u001b[44ma\u001b[47m\u001b[44mc\u001b[47m\u001b[44mc\u001b[47m\u001b[44ma\u001b[47m\u001b[42mt\u001b[47m\u001b[0m\n",
      "A/duck/Tottori/TG164 \u001b[30m\u001b[47m\u001b[44ma\u001b[47m\u001b[43mg\u001b[47m\u001b[44mc\u001b[47m\u001b[44ma\u001b[47m\u001b[44ma\u001b[47m\u001b[44ma\u001b[47m\u001b[44ma\u001b[47m\u001b[43mg\u001b[47m\u001b[44mc\u001b[47m\u001b[44ma\u001b[47m\u001b[43mg\u001b[47m\u001b[43mg\u001b[47m\u001b[43mg\u001b[47m\u001b[43mg\u001b[47m\u001b[42mt\u001b[47m\u001b[42mt\u001b[47m\u001b[44mc\u001b[47m\u001b[44ma\u001b[47m\u001b[44mc\u001b[47m\u001b[42mt\u001b[47m\u001b[44mc\u001b[47m\u001b[42mt\u001b[47m\u001b[43mg\u001b[47m\u001b[42mt\u001b[47m\u001b[44mc\u001b[47m\u001b[44ma\u001b[47m\u001b[44ma\u001b[47m\u001b[44ma\u001b[47m\u001b[44ma\u001b[47m\u001b[42mt\u001b[47m\u001b[43mg\u001b[47m\u001b[43mg\u001b[47m\u001b[44ma\u001b[47m\u001b[43mg\u001b[47m\u001b[44ma\u001b[47m\u001b[44ma\u001b[47m\u001b[44mc\u001b[47m\u001b[44ma\u001b[47m\u001b[42mt\u001b[47m\u001b[44ma\u001b[47m\u001b[43mg\u001b[47m\u001b[42mt\u001b[47m\u001b[44ma\u001b[47m\u001b[44mc\u001b[47m\u001b[42mt\u001b[47m\u001b[42mt\u001b[47m\u001b[44mc\u001b[47m\u001b[42mt\u001b[47m\u001b[42mt\u001b[47m\u001b[44mc\u001b[47m\u001b[42mt\u001b[47m\u001b[42mt\u001b[47m\u001b[43mg\u001b[47m\u001b[44mc\u001b[47m\u001b[44ma\u001b[47m\u001b[44ma\u001b[47m\u001b[42mt\u001b[47m\u001b[44ma\u001b[47m\u001b[44ma\u001b[47m\u001b[42mt\u001b[47m\u001b[42mt\u001b[47m\u001b[44ma\u001b[47m\u001b[43mg\u001b[47m\u001b[44mc\u001b[47m\u001b[44mc\u001b[47m\u001b[42mt\u001b[47m\u001b[42mt\u001b[47m\u001b[43mg\u001b[47m\u001b[42mt\u001b[47m\u001b[42mt\u001b[47m\u001b[44ma\u001b[47m\u001b[44ma\u001b[47m\u001b[44ma\u001b[47m\u001b[44ma\u001b[47m\u001b[43mg\u001b[47m\u001b[42mt\u001b[47m\u001b[43mg\u001b[47m\u001b[44ma\u001b[47m\u001b[42mt\u001b[47m\u001b[44mc\u001b[47m\u001b[44ma\u001b[47m\u001b[43mg\u001b[47m\u001b[44ma\u001b[47m\u001b[42mt\u001b[47m\u001b[42mt\u001b[47m\u001b[42mt\u001b[47m\u001b[43mg\u001b[47m\u001b[44mc\u001b[47m\u001b[44ma\u001b[47m\u001b[42mt\u001b[47m\u001b[42mt\u001b[47m\u001b[43mg\u001b[47m\u001b[43mg\u001b[47m\u001b[42mt\u001b[47m\u001b[42mt\u001b[47m\u001b[44ma\u001b[47m\u001b[44mc\u001b[47m\u001b[44mc\u001b[47m\u001b[44ma\u001b[47m\u001b[42mt\u001b[47m\u001b[0m\n",
      "A/eagle/Japan/OUAVM- \u001b[30m\u001b[47m\u001b[47m-\u001b[47m\u001b[47m-\u001b[47m\u001b[47m-\u001b[47m\u001b[47m-\u001b[47m\u001b[47m-\u001b[47m\u001b[47m-\u001b[47m\u001b[44ma\u001b[47m\u001b[43mg\u001b[47m\u001b[44mc\u001b[47m\u001b[44ma\u001b[47m\u001b[43mg\u001b[47m\u001b[43mg\u001b[47m\u001b[43mg\u001b[47m\u001b[43mg\u001b[47m\u001b[42mt\u001b[47m\u001b[42mt\u001b[47m\u001b[44mc\u001b[47m\u001b[44ma\u001b[47m\u001b[44mc\u001b[47m\u001b[42mt\u001b[47m\u001b[44mc\u001b[47m\u001b[42mt\u001b[47m\u001b[43mg\u001b[47m\u001b[42mt\u001b[47m\u001b[44mc\u001b[47m\u001b[44ma\u001b[47m\u001b[44ma\u001b[47m\u001b[44ma\u001b[47m\u001b[44ma\u001b[47m\u001b[42mt\u001b[47m\u001b[43mg\u001b[47m\u001b[43mg\u001b[47m\u001b[44ma\u001b[47m\u001b[44ma\u001b[47m\u001b[44ma\u001b[47m\u001b[44ma\u001b[47m\u001b[44mc\u001b[47m\u001b[44ma\u001b[47m\u001b[42mt\u001b[47m\u001b[44ma\u001b[47m\u001b[43mg\u001b[47m\u001b[42mt\u001b[47m\u001b[44ma\u001b[47m\u001b[44mc\u001b[47m\u001b[42mt\u001b[47m\u001b[42mt\u001b[47m\u001b[44mc\u001b[47m\u001b[42mt\u001b[47m\u001b[42mt\u001b[47m\u001b[44mc\u001b[47m\u001b[42mt\u001b[47m\u001b[42mt\u001b[47m\u001b[43mg\u001b[47m\u001b[44mc\u001b[47m\u001b[44ma\u001b[47m\u001b[44ma\u001b[47m\u001b[42mt\u001b[47m\u001b[44ma\u001b[47m\u001b[44ma\u001b[47m\u001b[42mt\u001b[47m\u001b[42mt\u001b[47m\u001b[44ma\u001b[47m\u001b[43mg\u001b[47m\u001b[44mc\u001b[47m\u001b[44mc\u001b[47m\u001b[42mt\u001b[47m\u001b[42mt\u001b[47m\u001b[43mg\u001b[47m\u001b[42mt\u001b[47m\u001b[42mt\u001b[47m\u001b[44ma\u001b[47m\u001b[44ma\u001b[47m\u001b[44ma\u001b[47m\u001b[44ma\u001b[47m\u001b[43mg\u001b[47m\u001b[42mt\u001b[47m\u001b[43mg\u001b[47m\u001b[44ma\u001b[47m\u001b[42mt\u001b[47m\u001b[44mc\u001b[47m\u001b[44ma\u001b[47m\u001b[43mg\u001b[47m\u001b[44ma\u001b[47m\u001b[42mt\u001b[47m\u001b[42mt\u001b[47m\u001b[42mt\u001b[47m\u001b[43mg\u001b[47m\u001b[44mc\u001b[47m\u001b[44ma\u001b[47m\u001b[42mt\u001b[47m\u001b[42mt\u001b[47m\u001b[43mg\u001b[47m\u001b[43mg\u001b[47m\u001b[42mt\u001b[47m\u001b[42mt\u001b[47m\u001b[44ma\u001b[47m\u001b[44mc\u001b[47m\u001b[44mc\u001b[47m\u001b[44ma\u001b[47m\u001b[42mt\u001b[47m\u001b[0m\n",
      "A/emu/Iwate/21B1T/20 \u001b[30m\u001b[47m\u001b[47m-\u001b[47m\u001b[47m-\u001b[47m\u001b[47m-\u001b[47m\u001b[47m-\u001b[47m\u001b[47m-\u001b[47m\u001b[47m-\u001b[47m\u001b[44ma\u001b[47m\u001b[43mg\u001b[47m\u001b[44mc\u001b[47m\u001b[44ma\u001b[47m\u001b[43mg\u001b[47m\u001b[43mg\u001b[47m\u001b[43mg\u001b[47m\u001b[43mg\u001b[47m\u001b[42mt\u001b[47m\u001b[42mt\u001b[47m\u001b[44mc\u001b[47m\u001b[44ma\u001b[47m\u001b[44mc\u001b[47m\u001b[42mt\u001b[47m\u001b[44mc\u001b[47m\u001b[42mt\u001b[47m\u001b[43mg\u001b[47m\u001b[42mt\u001b[47m\u001b[44mc\u001b[47m\u001b[44ma\u001b[47m\u001b[44ma\u001b[47m\u001b[44ma\u001b[47m\u001b[44ma\u001b[47m\u001b[42mt\u001b[47m\u001b[43mg\u001b[47m\u001b[43mg\u001b[47m\u001b[44ma\u001b[47m\u001b[43mg\u001b[47m\u001b[44ma\u001b[47m\u001b[44ma\u001b[47m\u001b[44mc\u001b[47m\u001b[44ma\u001b[47m\u001b[42mt\u001b[47m\u001b[44ma\u001b[47m\u001b[43mg\u001b[47m\u001b[42mt\u001b[47m\u001b[44ma\u001b[47m\u001b[44mc\u001b[47m\u001b[42mt\u001b[47m\u001b[42mt\u001b[47m\u001b[44mc\u001b[47m\u001b[42mt\u001b[47m\u001b[42mt\u001b[47m\u001b[44mc\u001b[47m\u001b[42mt\u001b[47m\u001b[42mt\u001b[47m\u001b[43mg\u001b[47m\u001b[44mc\u001b[47m\u001b[44ma\u001b[47m\u001b[44ma\u001b[47m\u001b[42mt\u001b[47m\u001b[44ma\u001b[47m\u001b[44ma\u001b[47m\u001b[42mt\u001b[47m\u001b[42mt\u001b[47m\u001b[44ma\u001b[47m\u001b[43mg\u001b[47m\u001b[44mc\u001b[47m\u001b[44mc\u001b[47m\u001b[42mt\u001b[47m\u001b[42mt\u001b[47m\u001b[43mg\u001b[47m\u001b[42mt\u001b[47m\u001b[42mt\u001b[47m\u001b[44ma\u001b[47m\u001b[44ma\u001b[47m\u001b[44ma\u001b[47m\u001b[44ma\u001b[47m\u001b[43mg\u001b[47m\u001b[42mt\u001b[47m\u001b[43mg\u001b[47m\u001b[44ma\u001b[47m\u001b[42mt\u001b[47m\u001b[44mc\u001b[47m\u001b[44ma\u001b[47m\u001b[43mg\u001b[47m\u001b[44ma\u001b[47m\u001b[42mt\u001b[47m\u001b[42mt\u001b[47m\u001b[42mt\u001b[47m\u001b[43mg\u001b[47m\u001b[44mc\u001b[47m\u001b[44ma\u001b[47m\u001b[42mt\u001b[47m\u001b[42mt\u001b[47m\u001b[43mg\u001b[47m\u001b[43mg\u001b[47m\u001b[42mt\u001b[47m\u001b[42mt\u001b[47m\u001b[44ma\u001b[47m\u001b[44mc\u001b[47m\u001b[44mc\u001b[47m\u001b[44ma\u001b[47m\u001b[42mt\u001b[47m\u001b[0m\n",
      "A/emu/Japan/TU21-12/ \u001b[30m\u001b[47m\u001b[47m-\u001b[47m\u001b[47m-\u001b[47m\u001b[47m-\u001b[47m\u001b[47m-\u001b[47m\u001b[47m-\u001b[47m\u001b[44ma\u001b[47m\u001b[44ma\u001b[47m\u001b[43mg\u001b[47m\u001b[44mc\u001b[47m\u001b[44ma\u001b[47m\u001b[43mg\u001b[47m\u001b[43mg\u001b[47m\u001b[43mg\u001b[47m\u001b[43mg\u001b[47m\u001b[42mt\u001b[47m\u001b[42mt\u001b[47m\u001b[44mc\u001b[47m\u001b[44ma\u001b[47m\u001b[44mc\u001b[47m\u001b[42mt\u001b[47m\u001b[44mc\u001b[47m\u001b[42mt\u001b[47m\u001b[43mg\u001b[47m\u001b[42mt\u001b[47m\u001b[44mc\u001b[47m\u001b[44ma\u001b[47m\u001b[44ma\u001b[47m\u001b[44ma\u001b[47m\u001b[44ma\u001b[47m\u001b[42mt\u001b[47m\u001b[43mg\u001b[47m\u001b[43mg\u001b[47m\u001b[44ma\u001b[47m\u001b[43mg\u001b[47m\u001b[44ma\u001b[47m\u001b[44ma\u001b[47m\u001b[44mc\u001b[47m\u001b[44ma\u001b[47m\u001b[42mt\u001b[47m\u001b[44ma\u001b[47m\u001b[43mg\u001b[47m\u001b[42mt\u001b[47m\u001b[44ma\u001b[47m\u001b[44mc\u001b[47m\u001b[42mt\u001b[47m\u001b[42mt\u001b[47m\u001b[44mc\u001b[47m\u001b[42mt\u001b[47m\u001b[42mt\u001b[47m\u001b[44mc\u001b[47m\u001b[42mt\u001b[47m\u001b[42mt\u001b[47m\u001b[43mg\u001b[47m\u001b[44mc\u001b[47m\u001b[44ma\u001b[47m\u001b[44ma\u001b[47m\u001b[42mt\u001b[47m\u001b[44ma\u001b[47m\u001b[44ma\u001b[47m\u001b[42mt\u001b[47m\u001b[42mt\u001b[47m\u001b[44ma\u001b[47m\u001b[43mg\u001b[47m\u001b[44mc\u001b[47m\u001b[44mc\u001b[47m\u001b[42mt\u001b[47m\u001b[42mt\u001b[47m\u001b[43mg\u001b[47m\u001b[42mt\u001b[47m\u001b[42mt\u001b[47m\u001b[44ma\u001b[47m\u001b[44ma\u001b[47m\u001b[44ma\u001b[47m\u001b[44ma\u001b[47m\u001b[43mg\u001b[47m\u001b[42mt\u001b[47m\u001b[43mg\u001b[47m\u001b[44ma\u001b[47m\u001b[42mt\u001b[47m\u001b[44mc\u001b[47m\u001b[44ma\u001b[47m\u001b[43mg\u001b[47m\u001b[44ma\u001b[47m\u001b[42mt\u001b[47m\u001b[42mt\u001b[47m\u001b[42mt\u001b[47m\u001b[43mg\u001b[47m\u001b[44mc\u001b[47m\u001b[44ma\u001b[47m\u001b[42mt\u001b[47m\u001b[42mt\u001b[47m\u001b[43mg\u001b[47m\u001b[43mg\u001b[47m\u001b[42mt\u001b[47m\u001b[42mt\u001b[47m\u001b[44ma\u001b[47m\u001b[44mc\u001b[47m\u001b[44mc\u001b[47m\u001b[44ma\u001b[47m\u001b[42mt\u001b[47m\u001b[0m\n",
      "A/goshawk/Gifu/1/202 \u001b[30m\u001b[47m\u001b[44ma\u001b[47m\u001b[43mg\u001b[47m\u001b[44mc\u001b[47m\u001b[43mg\u001b[47m\u001b[44ma\u001b[47m\u001b[44ma\u001b[47m\u001b[44ma\u001b[47m\u001b[43mg\u001b[47m\u001b[44mc\u001b[47m\u001b[44ma\u001b[47m\u001b[43mg\u001b[47m\u001b[43mg\u001b[47m\u001b[43mg\u001b[47m\u001b[43mg\u001b[47m\u001b[42mt\u001b[47m\u001b[42mt\u001b[47m\u001b[44mc\u001b[47m\u001b[44ma\u001b[47m\u001b[44mc\u001b[47m\u001b[42mt\u001b[47m\u001b[44mc\u001b[47m\u001b[42mt\u001b[47m\u001b[43mg\u001b[47m\u001b[42mt\u001b[47m\u001b[44mc\u001b[47m\u001b[44ma\u001b[47m\u001b[44ma\u001b[47m\u001b[44ma\u001b[47m\u001b[44ma\u001b[47m\u001b[42mt\u001b[47m\u001b[43mg\u001b[47m\u001b[43mg\u001b[47m\u001b[44ma\u001b[47m\u001b[43mg\u001b[47m\u001b[44ma\u001b[47m\u001b[44ma\u001b[47m\u001b[44mc\u001b[47m\u001b[44ma\u001b[47m\u001b[42mt\u001b[47m\u001b[44ma\u001b[47m\u001b[43mg\u001b[47m\u001b[42mt\u001b[47m\u001b[44ma\u001b[47m\u001b[44mc\u001b[47m\u001b[42mt\u001b[47m\u001b[42mt\u001b[47m\u001b[44mc\u001b[47m\u001b[42mt\u001b[47m\u001b[42mt\u001b[47m\u001b[44mc\u001b[47m\u001b[42mt\u001b[47m\u001b[42mt\u001b[47m\u001b[43mg\u001b[47m\u001b[44mc\u001b[47m\u001b[44ma\u001b[47m\u001b[44ma\u001b[47m\u001b[42mt\u001b[47m\u001b[44ma\u001b[47m\u001b[44ma\u001b[47m\u001b[42mt\u001b[47m\u001b[42mt\u001b[47m\u001b[44ma\u001b[47m\u001b[43mg\u001b[47m\u001b[44mc\u001b[47m\u001b[44mc\u001b[47m\u001b[42mt\u001b[47m\u001b[42mt\u001b[47m\u001b[43mg\u001b[47m\u001b[42mt\u001b[47m\u001b[42mt\u001b[47m\u001b[44ma\u001b[47m\u001b[44ma\u001b[47m\u001b[44ma\u001b[47m\u001b[44ma\u001b[47m\u001b[43mg\u001b[47m\u001b[42mt\u001b[47m\u001b[43mg\u001b[47m\u001b[44ma\u001b[47m\u001b[42mt\u001b[47m\u001b[44mc\u001b[47m\u001b[44ma\u001b[47m\u001b[43mg\u001b[47m\u001b[44ma\u001b[47m\u001b[42mt\u001b[47m\u001b[42mt\u001b[47m\u001b[42mt\u001b[47m\u001b[43mg\u001b[47m\u001b[44mc\u001b[47m\u001b[44ma\u001b[47m\u001b[42mt\u001b[47m\u001b[42mt\u001b[47m\u001b[43mg\u001b[47m\u001b[43mg\u001b[47m\u001b[42mt\u001b[47m\u001b[42mt\u001b[47m\u001b[44ma\u001b[47m\u001b[44mc\u001b[47m\u001b[44mc\u001b[47m\u001b[44ma\u001b[47m\u001b[42mt\u001b[47m\u001b[0m\n",
      "A/jungle_crow/Hokkai \u001b[30m\u001b[47m\u001b[47m-\u001b[47m\u001b[47m-\u001b[47m\u001b[47m-\u001b[47m\u001b[47m-\u001b[47m\u001b[47m-\u001b[47m\u001b[47m-\u001b[47m\u001b[44ma\u001b[47m\u001b[43mg\u001b[47m\u001b[44mc\u001b[47m\u001b[44ma\u001b[47m\u001b[43mg\u001b[47m\u001b[43mg\u001b[47m\u001b[43mg\u001b[47m\u001b[43mg\u001b[47m\u001b[42mt\u001b[47m\u001b[42mt\u001b[47m\u001b[44mc\u001b[47m\u001b[44ma\u001b[47m\u001b[44mc\u001b[47m\u001b[42mt\u001b[47m\u001b[44mc\u001b[47m\u001b[42mt\u001b[47m\u001b[43mg\u001b[47m\u001b[42mt\u001b[47m\u001b[44mc\u001b[47m\u001b[44ma\u001b[47m\u001b[44ma\u001b[47m\u001b[44ma\u001b[47m\u001b[44ma\u001b[47m\u001b[42mt\u001b[47m\u001b[43mg\u001b[47m\u001b[43mg\u001b[47m\u001b[44ma\u001b[47m\u001b[43mg\u001b[47m\u001b[44ma\u001b[47m\u001b[44ma\u001b[47m\u001b[44mc\u001b[47m\u001b[44ma\u001b[47m\u001b[42mt\u001b[47m\u001b[44ma\u001b[47m\u001b[43mg\u001b[47m\u001b[42mt\u001b[47m\u001b[44ma\u001b[47m\u001b[44mc\u001b[47m\u001b[42mt\u001b[47m\u001b[42mt\u001b[47m\u001b[44mc\u001b[47m\u001b[42mt\u001b[47m\u001b[42mt\u001b[47m\u001b[44mc\u001b[47m\u001b[42mt\u001b[47m\u001b[42mt\u001b[47m\u001b[43mg\u001b[47m\u001b[44mc\u001b[47m\u001b[44ma\u001b[47m\u001b[44ma\u001b[47m\u001b[42mt\u001b[47m\u001b[44ma\u001b[47m\u001b[44ma\u001b[47m\u001b[42mt\u001b[47m\u001b[42mt\u001b[47m\u001b[44ma\u001b[47m\u001b[43mg\u001b[47m\u001b[44mc\u001b[47m\u001b[44mc\u001b[47m\u001b[42mt\u001b[47m\u001b[42mt\u001b[47m\u001b[43mg\u001b[47m\u001b[42mt\u001b[47m\u001b[42mt\u001b[47m\u001b[44ma\u001b[47m\u001b[44ma\u001b[47m\u001b[44ma\u001b[47m\u001b[44ma\u001b[47m\u001b[43mg\u001b[47m\u001b[42mt\u001b[47m\u001b[43mg\u001b[47m\u001b[44ma\u001b[47m\u001b[42mt\u001b[47m\u001b[44mc\u001b[47m\u001b[44ma\u001b[47m\u001b[43mg\u001b[47m\u001b[44ma\u001b[47m\u001b[42mt\u001b[47m\u001b[42mt\u001b[47m\u001b[42mt\u001b[47m\u001b[43mg\u001b[47m\u001b[44mc\u001b[47m\u001b[44ma\u001b[47m\u001b[42mt\u001b[47m\u001b[42mt\u001b[47m\u001b[43mg\u001b[47m\u001b[43mg\u001b[47m\u001b[42mt\u001b[47m\u001b[42mt\u001b[47m\u001b[44ma\u001b[47m\u001b[44mc\u001b[47m\u001b[44mc\u001b[47m\u001b[44ma\u001b[47m\u001b[42mt\u001b[47m\u001b[0m\n",
      "A/jungle_crow/Hokkai \u001b[30m\u001b[47m\u001b[47m-\u001b[47m\u001b[47m-\u001b[47m\u001b[47m-\u001b[47m\u001b[47m-\u001b[47m\u001b[47m-\u001b[47m\u001b[47m-\u001b[47m\u001b[44ma\u001b[47m\u001b[43mg\u001b[47m\u001b[44mc\u001b[47m\u001b[44ma\u001b[47m\u001b[43mg\u001b[47m\u001b[43mg\u001b[47m\u001b[43mg\u001b[47m\u001b[43mg\u001b[47m\u001b[42mt\u001b[47m\u001b[42mt\u001b[47m\u001b[44mc\u001b[47m\u001b[44ma\u001b[47m\u001b[44mc\u001b[47m\u001b[42mt\u001b[47m\u001b[44mc\u001b[47m\u001b[42mt\u001b[47m\u001b[43mg\u001b[47m\u001b[42mt\u001b[47m\u001b[44mc\u001b[47m\u001b[44ma\u001b[47m\u001b[44ma\u001b[47m\u001b[44ma\u001b[47m\u001b[44ma\u001b[47m\u001b[42mt\u001b[47m\u001b[43mg\u001b[47m\u001b[43mg\u001b[47m\u001b[44ma\u001b[47m\u001b[43mg\u001b[47m\u001b[44ma\u001b[47m\u001b[44ma\u001b[47m\u001b[44mc\u001b[47m\u001b[44ma\u001b[47m\u001b[42mt\u001b[47m\u001b[44ma\u001b[47m\u001b[43mg\u001b[47m\u001b[42mt\u001b[47m\u001b[44ma\u001b[47m\u001b[44mc\u001b[47m\u001b[42mt\u001b[47m\u001b[42mt\u001b[47m\u001b[44mc\u001b[47m\u001b[42mt\u001b[47m\u001b[42mt\u001b[47m\u001b[44mc\u001b[47m\u001b[42mt\u001b[47m\u001b[42mt\u001b[47m\u001b[43mg\u001b[47m\u001b[44mc\u001b[47m\u001b[44ma\u001b[47m\u001b[44ma\u001b[47m\u001b[42mt\u001b[47m\u001b[44ma\u001b[47m\u001b[44ma\u001b[47m\u001b[42mt\u001b[47m\u001b[42mt\u001b[47m\u001b[44ma\u001b[47m\u001b[43mg\u001b[47m\u001b[44mc\u001b[47m\u001b[44mc\u001b[47m\u001b[42mt\u001b[47m\u001b[42mt\u001b[47m\u001b[43mg\u001b[47m\u001b[42mt\u001b[47m\u001b[42mt\u001b[47m\u001b[44ma\u001b[47m\u001b[44ma\u001b[47m\u001b[44ma\u001b[47m\u001b[44ma\u001b[47m\u001b[43mg\u001b[47m\u001b[42mt\u001b[47m\u001b[43mg\u001b[47m\u001b[44ma\u001b[47m\u001b[42mt\u001b[47m\u001b[44mc\u001b[47m\u001b[44ma\u001b[47m\u001b[43mg\u001b[47m\u001b[44ma\u001b[47m\u001b[42mt\u001b[47m\u001b[42mt\u001b[47m\u001b[42mt\u001b[47m\u001b[43mg\u001b[47m\u001b[44mc\u001b[47m\u001b[44ma\u001b[47m\u001b[42mt\u001b[47m\u001b[42mt\u001b[47m\u001b[43mg\u001b[47m\u001b[43mg\u001b[47m\u001b[42mt\u001b[47m\u001b[42mt\u001b[47m\u001b[44ma\u001b[47m\u001b[44mc\u001b[47m\u001b[44mc\u001b[47m\u001b[44ma\u001b[47m\u001b[42mt\u001b[47m\u001b[0m\n",
      "A/jungle_crow/Hokkai \u001b[30m\u001b[47m\u001b[47m-\u001b[47m\u001b[47m-\u001b[47m\u001b[47m-\u001b[47m\u001b[47m-\u001b[47m\u001b[47m-\u001b[47m\u001b[47m-\u001b[47m\u001b[44ma\u001b[47m\u001b[43mg\u001b[47m\u001b[44mc\u001b[47m\u001b[44ma\u001b[47m\u001b[43mg\u001b[47m\u001b[43mg\u001b[47m\u001b[43mg\u001b[47m\u001b[43mg\u001b[47m\u001b[42mt\u001b[47m\u001b[42mt\u001b[47m\u001b[44mc\u001b[47m\u001b[44ma\u001b[47m\u001b[44mc\u001b[47m\u001b[42mt\u001b[47m\u001b[44mc\u001b[47m\u001b[42mt\u001b[47m\u001b[43mg\u001b[47m\u001b[42mt\u001b[47m\u001b[44mc\u001b[47m\u001b[44ma\u001b[47m\u001b[44ma\u001b[47m\u001b[44ma\u001b[47m\u001b[44ma\u001b[47m\u001b[42mt\u001b[47m\u001b[43mg\u001b[47m\u001b[43mg\u001b[47m\u001b[44ma\u001b[47m\u001b[43mg\u001b[47m\u001b[44ma\u001b[47m\u001b[44ma\u001b[47m\u001b[44mc\u001b[47m\u001b[44ma\u001b[47m\u001b[42mt\u001b[47m\u001b[44ma\u001b[47m\u001b[43mg\u001b[47m\u001b[42mt\u001b[47m\u001b[44ma\u001b[47m\u001b[44mc\u001b[47m\u001b[42mt\u001b[47m\u001b[42mt\u001b[47m\u001b[44mc\u001b[47m\u001b[42mt\u001b[47m\u001b[42mt\u001b[47m\u001b[44mc\u001b[47m\u001b[42mt\u001b[47m\u001b[42mt\u001b[47m\u001b[43mg\u001b[47m\u001b[44mc\u001b[47m\u001b[44ma\u001b[47m\u001b[44ma\u001b[47m\u001b[42mt\u001b[47m\u001b[44ma\u001b[47m\u001b[44ma\u001b[47m\u001b[42mt\u001b[47m\u001b[42mt\u001b[47m\u001b[44ma\u001b[47m\u001b[43mg\u001b[47m\u001b[44mc\u001b[47m\u001b[44mc\u001b[47m\u001b[42mt\u001b[47m\u001b[42mt\u001b[47m\u001b[43mg\u001b[47m\u001b[42mt\u001b[47m\u001b[42mt\u001b[47m\u001b[44ma\u001b[47m\u001b[44ma\u001b[47m\u001b[44ma\u001b[47m\u001b[44ma\u001b[47m\u001b[43mg\u001b[47m\u001b[42mt\u001b[47m\u001b[43mg\u001b[47m\u001b[44ma\u001b[47m\u001b[42mt\u001b[47m\u001b[44mc\u001b[47m\u001b[44ma\u001b[47m\u001b[43mg\u001b[47m\u001b[44ma\u001b[47m\u001b[42mt\u001b[47m\u001b[42mt\u001b[47m\u001b[42mt\u001b[47m\u001b[43mg\u001b[47m\u001b[44mc\u001b[47m\u001b[44ma\u001b[47m\u001b[42mt\u001b[47m\u001b[42mt\u001b[47m\u001b[43mg\u001b[47m\u001b[43mg\u001b[47m\u001b[42mt\u001b[47m\u001b[42mt\u001b[47m\u001b[44ma\u001b[47m\u001b[44mc\u001b[47m\u001b[44mc\u001b[47m\u001b[44ma\u001b[47m\u001b[42mt\u001b[47m\u001b[0m\n",
      "A/jungle_crow/Hokkai \u001b[30m\u001b[47m\u001b[47m-\u001b[47m\u001b[47m-\u001b[47m\u001b[47m-\u001b[47m\u001b[47m-\u001b[47m\u001b[47m-\u001b[47m\u001b[47m-\u001b[47m\u001b[44ma\u001b[47m\u001b[43mg\u001b[47m\u001b[44mc\u001b[47m\u001b[44ma\u001b[47m\u001b[43mg\u001b[47m\u001b[43mg\u001b[47m\u001b[43mg\u001b[47m\u001b[43mg\u001b[47m\u001b[42mt\u001b[47m\u001b[42mt\u001b[47m\u001b[44mc\u001b[47m\u001b[44ma\u001b[47m\u001b[44mc\u001b[47m\u001b[42mt\u001b[47m\u001b[44mc\u001b[47m\u001b[42mt\u001b[47m\u001b[43mg\u001b[47m\u001b[42mt\u001b[47m\u001b[44mc\u001b[47m\u001b[44ma\u001b[47m\u001b[44ma\u001b[47m\u001b[44ma\u001b[47m\u001b[44ma\u001b[47m\u001b[42mt\u001b[47m\u001b[43mg\u001b[47m\u001b[43mg\u001b[47m\u001b[44ma\u001b[47m\u001b[43mg\u001b[47m\u001b[44ma\u001b[47m\u001b[44ma\u001b[47m\u001b[44mc\u001b[47m\u001b[44ma\u001b[47m\u001b[42mt\u001b[47m\u001b[44ma\u001b[47m\u001b[43mg\u001b[47m\u001b[42mt\u001b[47m\u001b[44ma\u001b[47m\u001b[44mc\u001b[47m\u001b[42mt\u001b[47m\u001b[42mt\u001b[47m\u001b[44mc\u001b[47m\u001b[42mt\u001b[47m\u001b[42mt\u001b[47m\u001b[44mc\u001b[47m\u001b[42mt\u001b[47m\u001b[42mt\u001b[47m\u001b[43mg\u001b[47m\u001b[44mc\u001b[47m\u001b[44ma\u001b[47m\u001b[44ma\u001b[47m\u001b[42mt\u001b[47m\u001b[44ma\u001b[47m\u001b[44ma\u001b[47m\u001b[42mt\u001b[47m\u001b[42mt\u001b[47m\u001b[44ma\u001b[47m\u001b[43mg\u001b[47m\u001b[44mc\u001b[47m\u001b[44mc\u001b[47m\u001b[42mt\u001b[47m\u001b[42mt\u001b[47m\u001b[43mg\u001b[47m\u001b[42mt\u001b[47m\u001b[42mt\u001b[47m\u001b[44ma\u001b[47m\u001b[44ma\u001b[47m\u001b[44ma\u001b[47m\u001b[44ma\u001b[47m\u001b[43mg\u001b[47m\u001b[42mt\u001b[47m\u001b[43mg\u001b[47m\u001b[44ma\u001b[47m\u001b[42mt\u001b[47m\u001b[44mc\u001b[47m\u001b[44ma\u001b[47m\u001b[43mg\u001b[47m\u001b[44ma\u001b[47m\u001b[42mt\u001b[47m\u001b[42mt\u001b[47m\u001b[42mt\u001b[47m\u001b[43mg\u001b[47m\u001b[44mc\u001b[47m\u001b[44ma\u001b[47m\u001b[42mt\u001b[47m\u001b[42mt\u001b[47m\u001b[43mg\u001b[47m\u001b[43mg\u001b[47m\u001b[42mt\u001b[47m\u001b[42mt\u001b[47m\u001b[44ma\u001b[47m\u001b[44mc\u001b[47m\u001b[44mc\u001b[47m\u001b[44ma\u001b[47m\u001b[42mt\u001b[47m\u001b[0m\n",
      "A/jungle_crow/Hokkai \u001b[30m\u001b[47m\u001b[47m-\u001b[47m\u001b[47m-\u001b[47m\u001b[47m-\u001b[47m\u001b[47m-\u001b[47m\u001b[47m-\u001b[47m\u001b[47m-\u001b[47m\u001b[44ma\u001b[47m\u001b[43mg\u001b[47m\u001b[44mc\u001b[47m\u001b[44ma\u001b[47m\u001b[43mg\u001b[47m\u001b[43mg\u001b[47m\u001b[43mg\u001b[47m\u001b[43mg\u001b[47m\u001b[42mt\u001b[47m\u001b[42mt\u001b[47m\u001b[44mc\u001b[47m\u001b[44ma\u001b[47m\u001b[44mc\u001b[47m\u001b[42mt\u001b[47m\u001b[44mc\u001b[47m\u001b[42mt\u001b[47m\u001b[43mg\u001b[47m\u001b[42mt\u001b[47m\u001b[44mc\u001b[47m\u001b[44ma\u001b[47m\u001b[44ma\u001b[47m\u001b[44ma\u001b[47m\u001b[44ma\u001b[47m\u001b[42mt\u001b[47m\u001b[43mg\u001b[47m\u001b[43mg\u001b[47m\u001b[44ma\u001b[47m\u001b[43mg\u001b[47m\u001b[44ma\u001b[47m\u001b[44ma\u001b[47m\u001b[44mc\u001b[47m\u001b[44ma\u001b[47m\u001b[42mt\u001b[47m\u001b[44ma\u001b[47m\u001b[43mg\u001b[47m\u001b[42mt\u001b[47m\u001b[44ma\u001b[47m\u001b[44mc\u001b[47m\u001b[42mt\u001b[47m\u001b[42mt\u001b[47m\u001b[44mc\u001b[47m\u001b[42mt\u001b[47m\u001b[42mt\u001b[47m\u001b[44mc\u001b[47m\u001b[42mt\u001b[47m\u001b[42mt\u001b[47m\u001b[43mg\u001b[47m\u001b[44mc\u001b[47m\u001b[44ma\u001b[47m\u001b[44ma\u001b[47m\u001b[42mt\u001b[47m\u001b[44ma\u001b[47m\u001b[44ma\u001b[47m\u001b[42mt\u001b[47m\u001b[42mt\u001b[47m\u001b[44ma\u001b[47m\u001b[43mg\u001b[47m\u001b[44mc\u001b[47m\u001b[44mc\u001b[47m\u001b[42mt\u001b[47m\u001b[42mt\u001b[47m\u001b[43mg\u001b[47m\u001b[42mt\u001b[47m\u001b[42mt\u001b[47m\u001b[44ma\u001b[47m\u001b[44ma\u001b[47m\u001b[44ma\u001b[47m\u001b[44ma\u001b[47m\u001b[43mg\u001b[47m\u001b[42mt\u001b[47m\u001b[43mg\u001b[47m\u001b[44ma\u001b[47m\u001b[42mt\u001b[47m\u001b[44mc\u001b[47m\u001b[44ma\u001b[47m\u001b[43mg\u001b[47m\u001b[44ma\u001b[47m\u001b[42mt\u001b[47m\u001b[42mt\u001b[47m\u001b[42mt\u001b[47m\u001b[43mg\u001b[47m\u001b[44mc\u001b[47m\u001b[44ma\u001b[47m\u001b[42mt\u001b[47m\u001b[42mt\u001b[47m\u001b[43mg\u001b[47m\u001b[43mg\u001b[47m\u001b[42mt\u001b[47m\u001b[42mt\u001b[47m\u001b[44ma\u001b[47m\u001b[44mc\u001b[47m\u001b[44mc\u001b[47m\u001b[44ma\u001b[47m\u001b[42mt\u001b[47m\u001b[0m\n",
      "A/jungle_crow/Hokkai \u001b[30m\u001b[47m\u001b[47m-\u001b[47m\u001b[47m-\u001b[47m\u001b[47m-\u001b[47m\u001b[47m-\u001b[47m\u001b[47m-\u001b[47m\u001b[47m-\u001b[47m\u001b[44ma\u001b[47m\u001b[43mg\u001b[47m\u001b[44mc\u001b[47m\u001b[44ma\u001b[47m\u001b[43mg\u001b[47m\u001b[43mg\u001b[47m\u001b[43mg\u001b[47m\u001b[43mg\u001b[47m\u001b[42mt\u001b[47m\u001b[42mt\u001b[47m\u001b[44mc\u001b[47m\u001b[44ma\u001b[47m\u001b[44mc\u001b[47m\u001b[42mt\u001b[47m\u001b[44mc\u001b[47m\u001b[42mt\u001b[47m\u001b[43mg\u001b[47m\u001b[42mt\u001b[47m\u001b[44mc\u001b[47m\u001b[44ma\u001b[47m\u001b[44ma\u001b[47m\u001b[44ma\u001b[47m\u001b[44ma\u001b[47m\u001b[42mt\u001b[47m\u001b[43mg\u001b[47m\u001b[43mg\u001b[47m\u001b[44ma\u001b[47m\u001b[43mg\u001b[47m\u001b[44ma\u001b[47m\u001b[44ma\u001b[47m\u001b[44mc\u001b[47m\u001b[44ma\u001b[47m\u001b[42mt\u001b[47m\u001b[44ma\u001b[47m\u001b[43mg\u001b[47m\u001b[42mt\u001b[47m\u001b[44ma\u001b[47m\u001b[44mc\u001b[47m\u001b[42mt\u001b[47m\u001b[42mt\u001b[47m\u001b[44mc\u001b[47m\u001b[42mt\u001b[47m\u001b[42mt\u001b[47m\u001b[44mc\u001b[47m\u001b[42mt\u001b[47m\u001b[42mt\u001b[47m\u001b[43mg\u001b[47m\u001b[44mc\u001b[47m\u001b[44ma\u001b[47m\u001b[44ma\u001b[47m\u001b[42mt\u001b[47m\u001b[44ma\u001b[47m\u001b[44ma\u001b[47m\u001b[42mt\u001b[47m\u001b[42mt\u001b[47m\u001b[44ma\u001b[47m\u001b[43mg\u001b[47m\u001b[44mc\u001b[47m\u001b[44mc\u001b[47m\u001b[42mt\u001b[47m\u001b[42mt\u001b[47m\u001b[43mg\u001b[47m\u001b[42mt\u001b[47m\u001b[42mt\u001b[47m\u001b[44ma\u001b[47m\u001b[44ma\u001b[47m\u001b[44ma\u001b[47m\u001b[44ma\u001b[47m\u001b[43mg\u001b[47m\u001b[42mt\u001b[47m\u001b[43mg\u001b[47m\u001b[44ma\u001b[47m\u001b[42mt\u001b[47m\u001b[44mc\u001b[47m\u001b[44ma\u001b[47m\u001b[43mg\u001b[47m\u001b[44ma\u001b[47m\u001b[42mt\u001b[47m\u001b[42mt\u001b[47m\u001b[42mt\u001b[47m\u001b[43mg\u001b[47m\u001b[44mc\u001b[47m\u001b[44ma\u001b[47m\u001b[42mt\u001b[47m\u001b[42mt\u001b[47m\u001b[43mg\u001b[47m\u001b[43mg\u001b[47m\u001b[42mt\u001b[47m\u001b[42mt\u001b[47m\u001b[44ma\u001b[47m\u001b[44mc\u001b[47m\u001b[44mc\u001b[47m\u001b[44ma\u001b[47m\u001b[42mt\u001b[47m\u001b[0m\n",
      "A/jungle_crow/Hokkai \u001b[30m\u001b[47m\u001b[47m-\u001b[47m\u001b[47m-\u001b[47m\u001b[47m-\u001b[47m\u001b[47m-\u001b[47m\u001b[47m-\u001b[47m\u001b[47m-\u001b[47m\u001b[44ma\u001b[47m\u001b[43mg\u001b[47m\u001b[44mc\u001b[47m\u001b[44ma\u001b[47m\u001b[43mg\u001b[47m\u001b[43mg\u001b[47m\u001b[43mg\u001b[47m\u001b[43mg\u001b[47m\u001b[42mt\u001b[47m\u001b[42mt\u001b[47m\u001b[44mc\u001b[47m\u001b[44ma\u001b[47m\u001b[44mc\u001b[47m\u001b[42mt\u001b[47m\u001b[44mc\u001b[47m\u001b[42mt\u001b[47m\u001b[43mg\u001b[47m\u001b[42mt\u001b[47m\u001b[44mc\u001b[47m\u001b[44ma\u001b[47m\u001b[44ma\u001b[47m\u001b[44ma\u001b[47m\u001b[44ma\u001b[47m\u001b[42mt\u001b[47m\u001b[43mg\u001b[47m\u001b[43mg\u001b[47m\u001b[44ma\u001b[47m\u001b[43mg\u001b[47m\u001b[44ma\u001b[47m\u001b[44ma\u001b[47m\u001b[44mc\u001b[47m\u001b[44ma\u001b[47m\u001b[42mt\u001b[47m\u001b[44ma\u001b[47m\u001b[43mg\u001b[47m\u001b[42mt\u001b[47m\u001b[44ma\u001b[47m\u001b[44mc\u001b[47m\u001b[42mt\u001b[47m\u001b[42mt\u001b[47m\u001b[44mc\u001b[47m\u001b[42mt\u001b[47m\u001b[42mt\u001b[47m\u001b[44mc\u001b[47m\u001b[42mt\u001b[47m\u001b[42mt\u001b[47m\u001b[43mg\u001b[47m\u001b[44mc\u001b[47m\u001b[44ma\u001b[47m\u001b[44ma\u001b[47m\u001b[42mt\u001b[47m\u001b[44ma\u001b[47m\u001b[44ma\u001b[47m\u001b[42mt\u001b[47m\u001b[42mt\u001b[47m\u001b[44ma\u001b[47m\u001b[43mg\u001b[47m\u001b[44mc\u001b[47m\u001b[44mc\u001b[47m\u001b[42mt\u001b[47m\u001b[42mt\u001b[47m\u001b[43mg\u001b[47m\u001b[42mt\u001b[47m\u001b[42mt\u001b[47m\u001b[44ma\u001b[47m\u001b[44ma\u001b[47m\u001b[44ma\u001b[47m\u001b[44ma\u001b[47m\u001b[43mg\u001b[47m\u001b[42mt\u001b[47m\u001b[43mg\u001b[47m\u001b[44ma\u001b[47m\u001b[42mt\u001b[47m\u001b[44mc\u001b[47m\u001b[44ma\u001b[47m\u001b[43mg\u001b[47m\u001b[44ma\u001b[47m\u001b[42mt\u001b[47m\u001b[42mt\u001b[47m\u001b[42mt\u001b[47m\u001b[43mg\u001b[47m\u001b[44mc\u001b[47m\u001b[44ma\u001b[47m\u001b[42mt\u001b[47m\u001b[42mt\u001b[47m\u001b[43mg\u001b[47m\u001b[43mg\u001b[47m\u001b[42mt\u001b[47m\u001b[42mt\u001b[47m\u001b[44ma\u001b[47m\u001b[44mc\u001b[47m\u001b[44mc\u001b[47m\u001b[44ma\u001b[47m\u001b[42mt\u001b[47m\u001b[0m\n",
      "A/jungle_crow/Japan/ \u001b[30m\u001b[47m\u001b[47m-\u001b[47m\u001b[47m-\u001b[47m\u001b[47m-\u001b[47m\u001b[47m-\u001b[47m\u001b[47m-\u001b[47m\u001b[44ma\u001b[47m\u001b[44ma\u001b[47m\u001b[43mg\u001b[47m\u001b[44mc\u001b[47m\u001b[44ma\u001b[47m\u001b[43mg\u001b[47m\u001b[43mg\u001b[47m\u001b[43mg\u001b[47m\u001b[43mg\u001b[47m\u001b[42mt\u001b[47m\u001b[42mt\u001b[47m\u001b[44mc\u001b[47m\u001b[44ma\u001b[47m\u001b[44mc\u001b[47m\u001b[42mt\u001b[47m\u001b[44mc\u001b[47m\u001b[42mt\u001b[47m\u001b[43mg\u001b[47m\u001b[42mt\u001b[47m\u001b[44mc\u001b[47m\u001b[44ma\u001b[47m\u001b[44ma\u001b[47m\u001b[44ma\u001b[47m\u001b[44ma\u001b[47m\u001b[42mt\u001b[47m\u001b[43mg\u001b[47m\u001b[43mg\u001b[47m\u001b[44ma\u001b[47m\u001b[43mg\u001b[47m\u001b[44ma\u001b[47m\u001b[44ma\u001b[47m\u001b[44mc\u001b[47m\u001b[44ma\u001b[47m\u001b[42mt\u001b[47m\u001b[44ma\u001b[47m\u001b[43mg\u001b[47m\u001b[42mt\u001b[47m\u001b[44ma\u001b[47m\u001b[44mc\u001b[47m\u001b[42mt\u001b[47m\u001b[42mt\u001b[47m\u001b[44mc\u001b[47m\u001b[42mt\u001b[47m\u001b[42mt\u001b[47m\u001b[44mc\u001b[47m\u001b[42mt\u001b[47m\u001b[42mt\u001b[47m\u001b[43mg\u001b[47m\u001b[44mc\u001b[47m\u001b[44ma\u001b[47m\u001b[44ma\u001b[47m\u001b[42mt\u001b[47m\u001b[44ma\u001b[47m\u001b[44ma\u001b[47m\u001b[42mt\u001b[47m\u001b[42mt\u001b[47m\u001b[44ma\u001b[47m\u001b[43mg\u001b[47m\u001b[44mc\u001b[47m\u001b[44mc\u001b[47m\u001b[42mt\u001b[47m\u001b[42mt\u001b[47m\u001b[43mg\u001b[47m\u001b[42mt\u001b[47m\u001b[42mt\u001b[47m\u001b[44ma\u001b[47m\u001b[44ma\u001b[47m\u001b[44ma\u001b[47m\u001b[44ma\u001b[47m\u001b[43mg\u001b[47m\u001b[42mt\u001b[47m\u001b[43mg\u001b[47m\u001b[44ma\u001b[47m\u001b[42mt\u001b[47m\u001b[44mc\u001b[47m\u001b[44ma\u001b[47m\u001b[43mg\u001b[47m\u001b[44ma\u001b[47m\u001b[42mt\u001b[47m\u001b[42mt\u001b[47m\u001b[42mt\u001b[47m\u001b[43mg\u001b[47m\u001b[44mc\u001b[47m\u001b[44ma\u001b[47m\u001b[42mt\u001b[47m\u001b[42mt\u001b[47m\u001b[43mg\u001b[47m\u001b[43mg\u001b[47m\u001b[42mt\u001b[47m\u001b[42mt\u001b[47m\u001b[44ma\u001b[47m\u001b[44mc\u001b[47m\u001b[44mc\u001b[47m\u001b[44ma\u001b[47m\u001b[42mt\u001b[47m\u001b[0m\n",
      "A/jungle_crow/Japan/ \u001b[30m\u001b[47m\u001b[47m-\u001b[47m\u001b[47m-\u001b[47m\u001b[47m-\u001b[47m\u001b[47m-\u001b[47m\u001b[47m-\u001b[47m\u001b[44ma\u001b[47m\u001b[44ma\u001b[47m\u001b[43mg\u001b[47m\u001b[44mc\u001b[47m\u001b[44ma\u001b[47m\u001b[43mg\u001b[47m\u001b[43mg\u001b[47m\u001b[43mg\u001b[47m\u001b[43mg\u001b[47m\u001b[42mt\u001b[47m\u001b[42mt\u001b[47m\u001b[44mc\u001b[47m\u001b[44ma\u001b[47m\u001b[44mc\u001b[47m\u001b[42mt\u001b[47m\u001b[44mc\u001b[47m\u001b[42mt\u001b[47m\u001b[43mg\u001b[47m\u001b[42mt\u001b[47m\u001b[44mc\u001b[47m\u001b[44ma\u001b[47m\u001b[44ma\u001b[47m\u001b[44ma\u001b[47m\u001b[44ma\u001b[47m\u001b[42mt\u001b[47m\u001b[43mg\u001b[47m\u001b[43mg\u001b[47m\u001b[44ma\u001b[47m\u001b[43mg\u001b[47m\u001b[44ma\u001b[47m\u001b[44ma\u001b[47m\u001b[44mc\u001b[47m\u001b[44ma\u001b[47m\u001b[42mt\u001b[47m\u001b[44ma\u001b[47m\u001b[43mg\u001b[47m\u001b[42mt\u001b[47m\u001b[44ma\u001b[47m\u001b[44mc\u001b[47m\u001b[42mt\u001b[47m\u001b[42mt\u001b[47m\u001b[44mc\u001b[47m\u001b[42mt\u001b[47m\u001b[42mt\u001b[47m\u001b[44mc\u001b[47m\u001b[42mt\u001b[47m\u001b[42mt\u001b[47m\u001b[43mg\u001b[47m\u001b[44mc\u001b[47m\u001b[44ma\u001b[47m\u001b[44ma\u001b[47m\u001b[42mt\u001b[47m\u001b[44ma\u001b[47m\u001b[44ma\u001b[47m\u001b[42mt\u001b[47m\u001b[42mt\u001b[47m\u001b[44ma\u001b[47m\u001b[43mg\u001b[47m\u001b[44mc\u001b[47m\u001b[44mc\u001b[47m\u001b[42mt\u001b[47m\u001b[42mt\u001b[47m\u001b[43mg\u001b[47m\u001b[42mt\u001b[47m\u001b[42mt\u001b[47m\u001b[44ma\u001b[47m\u001b[44ma\u001b[47m\u001b[44ma\u001b[47m\u001b[44ma\u001b[47m\u001b[43mg\u001b[47m\u001b[42mt\u001b[47m\u001b[43mg\u001b[47m\u001b[44ma\u001b[47m\u001b[42mt\u001b[47m\u001b[44mc\u001b[47m\u001b[44ma\u001b[47m\u001b[43mg\u001b[47m\u001b[44ma\u001b[47m\u001b[42mt\u001b[47m\u001b[42mt\u001b[47m\u001b[42mt\u001b[47m\u001b[43mg\u001b[47m\u001b[44mc\u001b[47m\u001b[44ma\u001b[47m\u001b[42mt\u001b[47m\u001b[42mt\u001b[47m\u001b[43mg\u001b[47m\u001b[43mg\u001b[47m\u001b[42mt\u001b[47m\u001b[42mt\u001b[47m\u001b[44ma\u001b[47m\u001b[44mc\u001b[47m\u001b[44mc\u001b[47m\u001b[44ma\u001b[47m\u001b[42mt\u001b[47m\u001b[0m\n",
      "A/large-billed_crow/ \u001b[30m\u001b[47m\u001b[47m-\u001b[47m\u001b[47m-\u001b[47m\u001b[47m-\u001b[47m\u001b[47m-\u001b[47m\u001b[47m-\u001b[47m\u001b[44ma\u001b[47m\u001b[44ma\u001b[47m\u001b[43mg\u001b[47m\u001b[44mc\u001b[47m\u001b[44ma\u001b[47m\u001b[43mg\u001b[47m\u001b[43mg\u001b[47m\u001b[43mg\u001b[47m\u001b[43mg\u001b[47m\u001b[42mt\u001b[47m\u001b[42mt\u001b[47m\u001b[44mc\u001b[47m\u001b[44ma\u001b[47m\u001b[44mc\u001b[47m\u001b[42mt\u001b[47m\u001b[44mc\u001b[47m\u001b[42mt\u001b[47m\u001b[43mg\u001b[47m\u001b[42mt\u001b[47m\u001b[44mc\u001b[47m\u001b[44ma\u001b[47m\u001b[44ma\u001b[47m\u001b[44ma\u001b[47m\u001b[44ma\u001b[47m\u001b[42mt\u001b[47m\u001b[43mg\u001b[47m\u001b[43mg\u001b[47m\u001b[44ma\u001b[47m\u001b[43mg\u001b[47m\u001b[44ma\u001b[47m\u001b[44ma\u001b[47m\u001b[44mc\u001b[47m\u001b[44ma\u001b[47m\u001b[42mt\u001b[47m\u001b[44ma\u001b[47m\u001b[43mg\u001b[47m\u001b[42mt\u001b[47m\u001b[44ma\u001b[47m\u001b[44mc\u001b[47m\u001b[42mt\u001b[47m\u001b[42mt\u001b[47m\u001b[44mc\u001b[47m\u001b[42mt\u001b[47m\u001b[42mt\u001b[47m\u001b[44mc\u001b[47m\u001b[42mt\u001b[47m\u001b[42mt\u001b[47m\u001b[43mg\u001b[47m\u001b[44mc\u001b[47m\u001b[44ma\u001b[47m\u001b[44ma\u001b[47m\u001b[42mt\u001b[47m\u001b[44ma\u001b[47m\u001b[44ma\u001b[47m\u001b[42mt\u001b[47m\u001b[42mt\u001b[47m\u001b[44ma\u001b[47m\u001b[43mg\u001b[47m\u001b[44mc\u001b[47m\u001b[44mc\u001b[47m\u001b[42mt\u001b[47m\u001b[42mt\u001b[47m\u001b[43mg\u001b[47m\u001b[42mt\u001b[47m\u001b[42mt\u001b[47m\u001b[44ma\u001b[47m\u001b[44ma\u001b[47m\u001b[44ma\u001b[47m\u001b[44ma\u001b[47m\u001b[43mg\u001b[47m\u001b[42mt\u001b[47m\u001b[43mg\u001b[47m\u001b[44ma\u001b[47m\u001b[42mt\u001b[47m\u001b[44mc\u001b[47m\u001b[44ma\u001b[47m\u001b[43mg\u001b[47m\u001b[44ma\u001b[47m\u001b[42mt\u001b[47m\u001b[42mt\u001b[47m\u001b[42mt\u001b[47m\u001b[43mg\u001b[47m\u001b[44mc\u001b[47m\u001b[44ma\u001b[47m\u001b[42mt\u001b[47m\u001b[42mt\u001b[47m\u001b[43mg\u001b[47m\u001b[43mg\u001b[47m\u001b[42mt\u001b[47m\u001b[42mt\u001b[47m\u001b[44ma\u001b[47m\u001b[44mc\u001b[47m\u001b[44mc\u001b[47m\u001b[44ma\u001b[47m\u001b[42mt\u001b[47m\u001b[0m\n",
      "A/mallard/Primorsky_ \u001b[30m\u001b[47m\u001b[44ma\u001b[47m\u001b[43mg\u001b[47m\u001b[44mc\u001b[47m\u001b[44ma\u001b[47m\u001b[44ma\u001b[47m\u001b[44ma\u001b[47m\u001b[44ma\u001b[47m\u001b[43mg\u001b[47m\u001b[44mc\u001b[47m\u001b[44ma\u001b[47m\u001b[43mg\u001b[47m\u001b[43mg\u001b[47m\u001b[43mg\u001b[47m\u001b[43mg\u001b[47m\u001b[42mt\u001b[47m\u001b[42mt\u001b[47m\u001b[44mc\u001b[47m\u001b[44ma\u001b[47m\u001b[44mc\u001b[47m\u001b[42mt\u001b[47m\u001b[44mc\u001b[47m\u001b[42mt\u001b[47m\u001b[43mg\u001b[47m\u001b[42mt\u001b[47m\u001b[44mc\u001b[47m\u001b[44ma\u001b[47m\u001b[44ma\u001b[47m\u001b[44ma\u001b[47m\u001b[44ma\u001b[47m\u001b[42mt\u001b[47m\u001b[43mg\u001b[47m\u001b[43mg\u001b[47m\u001b[44ma\u001b[47m\u001b[43mg\u001b[47m\u001b[44ma\u001b[47m\u001b[44ma\u001b[47m\u001b[44mc\u001b[47m\u001b[44ma\u001b[47m\u001b[42mt\u001b[47m\u001b[44ma\u001b[47m\u001b[43mg\u001b[47m\u001b[42mt\u001b[47m\u001b[44ma\u001b[47m\u001b[44mc\u001b[47m\u001b[42mt\u001b[47m\u001b[42mt\u001b[47m\u001b[44mc\u001b[47m\u001b[42mt\u001b[47m\u001b[42mt\u001b[47m\u001b[44mc\u001b[47m\u001b[42mt\u001b[47m\u001b[42mt\u001b[47m\u001b[43mg\u001b[47m\u001b[44mc\u001b[47m\u001b[44ma\u001b[47m\u001b[44ma\u001b[47m\u001b[42mt\u001b[47m\u001b[44ma\u001b[47m\u001b[44ma\u001b[47m\u001b[42mt\u001b[47m\u001b[42mt\u001b[47m\u001b[44ma\u001b[47m\u001b[43mg\u001b[47m\u001b[44mc\u001b[47m\u001b[44mc\u001b[47m\u001b[42mt\u001b[47m\u001b[42mt\u001b[47m\u001b[43mg\u001b[47m\u001b[42mt\u001b[47m\u001b[42mt\u001b[47m\u001b[44ma\u001b[47m\u001b[44ma\u001b[47m\u001b[44ma\u001b[47m\u001b[44ma\u001b[47m\u001b[43mg\u001b[47m\u001b[42mt\u001b[47m\u001b[43mg\u001b[47m\u001b[44ma\u001b[47m\u001b[42mt\u001b[47m\u001b[44mc\u001b[47m\u001b[44ma\u001b[47m\u001b[43mg\u001b[47m\u001b[44ma\u001b[47m\u001b[42mt\u001b[47m\u001b[42mt\u001b[47m\u001b[42mt\u001b[47m\u001b[43mg\u001b[47m\u001b[44mc\u001b[47m\u001b[44ma\u001b[47m\u001b[42mt\u001b[47m\u001b[42mt\u001b[47m\u001b[43mg\u001b[47m\u001b[43mg\u001b[47m\u001b[42mt\u001b[47m\u001b[42mt\u001b[47m\u001b[44ma\u001b[47m\u001b[44mc\u001b[47m\u001b[44mc\u001b[47m\u001b[44ma\u001b[47m\u001b[42mt\u001b[47m\u001b[0m\n",
      "A/swan/Japan/0302I00 \u001b[30m\u001b[47m\u001b[47m-\u001b[47m\u001b[47m-\u001b[47m\u001b[47m-\u001b[47m\u001b[47m-\u001b[47m\u001b[47m-\u001b[47m\u001b[44ma\u001b[47m\u001b[44ma\u001b[47m\u001b[43mg\u001b[47m\u001b[44mc\u001b[47m\u001b[44ma\u001b[47m\u001b[43mg\u001b[47m\u001b[43mg\u001b[47m\u001b[43mg\u001b[47m\u001b[43mg\u001b[47m\u001b[42mt\u001b[47m\u001b[42mt\u001b[47m\u001b[44mc\u001b[47m\u001b[44ma\u001b[47m\u001b[44mc\u001b[47m\u001b[42mt\u001b[47m\u001b[44mc\u001b[47m\u001b[42mt\u001b[47m\u001b[43mg\u001b[47m\u001b[42mt\u001b[47m\u001b[44mc\u001b[47m\u001b[44ma\u001b[47m\u001b[44ma\u001b[47m\u001b[44ma\u001b[47m\u001b[44ma\u001b[47m\u001b[42mt\u001b[47m\u001b[43mg\u001b[47m\u001b[43mg\u001b[47m\u001b[44ma\u001b[47m\u001b[43mg\u001b[47m\u001b[44ma\u001b[47m\u001b[44ma\u001b[47m\u001b[44mc\u001b[47m\u001b[44ma\u001b[47m\u001b[42mt\u001b[47m\u001b[44ma\u001b[47m\u001b[43mg\u001b[47m\u001b[42mt\u001b[47m\u001b[44ma\u001b[47m\u001b[44mc\u001b[47m\u001b[42mt\u001b[47m\u001b[42mt\u001b[47m\u001b[44mc\u001b[47m\u001b[42mt\u001b[47m\u001b[42mt\u001b[47m\u001b[44mc\u001b[47m\u001b[42mt\u001b[47m\u001b[42mt\u001b[47m\u001b[43mg\u001b[47m\u001b[44mc\u001b[47m\u001b[44ma\u001b[47m\u001b[44ma\u001b[47m\u001b[42mt\u001b[47m\u001b[44ma\u001b[47m\u001b[44ma\u001b[47m\u001b[42mt\u001b[47m\u001b[42mt\u001b[47m\u001b[44ma\u001b[47m\u001b[43mg\u001b[47m\u001b[44mc\u001b[47m\u001b[44mc\u001b[47m\u001b[42mt\u001b[47m\u001b[42mt\u001b[47m\u001b[43mg\u001b[47m\u001b[42mt\u001b[47m\u001b[42mt\u001b[47m\u001b[44ma\u001b[47m\u001b[44ma\u001b[47m\u001b[44ma\u001b[47m\u001b[44ma\u001b[47m\u001b[43mg\u001b[47m\u001b[42mt\u001b[47m\u001b[43mg\u001b[47m\u001b[44ma\u001b[47m\u001b[42mt\u001b[47m\u001b[44mc\u001b[47m\u001b[44ma\u001b[47m\u001b[43mg\u001b[47m\u001b[44ma\u001b[47m\u001b[42mt\u001b[47m\u001b[42mt\u001b[47m\u001b[42mt\u001b[47m\u001b[43mg\u001b[47m\u001b[44mc\u001b[47m\u001b[44ma\u001b[47m\u001b[42mt\u001b[47m\u001b[42mt\u001b[47m\u001b[43mg\u001b[47m\u001b[43mg\u001b[47m\u001b[42mt\u001b[47m\u001b[42mt\u001b[47m\u001b[44ma\u001b[47m\u001b[44mc\u001b[47m\u001b[44mc\u001b[47m\u001b[44ma\u001b[47m\u001b[42mt\u001b[47m\u001b[0m\n",
      "A/thick-billed_murre \u001b[30m\u001b[47m\u001b[44ma\u001b[47m\u001b[43mg\u001b[47m\u001b[44mc\u001b[47m\u001b[44ma\u001b[47m\u001b[44ma\u001b[47m\u001b[44ma\u001b[47m\u001b[44ma\u001b[47m\u001b[43mg\u001b[47m\u001b[44mc\u001b[47m\u001b[44ma\u001b[47m\u001b[43mg\u001b[47m\u001b[43mg\u001b[47m\u001b[43mg\u001b[47m\u001b[43mg\u001b[47m\u001b[42mt\u001b[47m\u001b[42mt\u001b[47m\u001b[44mc\u001b[47m\u001b[44ma\u001b[47m\u001b[44mc\u001b[47m\u001b[42mt\u001b[47m\u001b[44mc\u001b[47m\u001b[42mt\u001b[47m\u001b[43mg\u001b[47m\u001b[42mt\u001b[47m\u001b[44mc\u001b[47m\u001b[44ma\u001b[47m\u001b[44ma\u001b[47m\u001b[44ma\u001b[47m\u001b[44ma\u001b[47m\u001b[42mt\u001b[47m\u001b[43mg\u001b[47m\u001b[43mg\u001b[47m\u001b[44ma\u001b[47m\u001b[43mg\u001b[47m\u001b[44ma\u001b[47m\u001b[44ma\u001b[47m\u001b[44mc\u001b[47m\u001b[44ma\u001b[47m\u001b[42mt\u001b[47m\u001b[44ma\u001b[47m\u001b[43mg\u001b[47m\u001b[42mt\u001b[47m\u001b[44ma\u001b[47m\u001b[44mc\u001b[47m\u001b[42mt\u001b[47m\u001b[42mt\u001b[47m\u001b[44mc\u001b[47m\u001b[42mt\u001b[47m\u001b[42mt\u001b[47m\u001b[44mc\u001b[47m\u001b[42mt\u001b[47m\u001b[42mt\u001b[47m\u001b[43mg\u001b[47m\u001b[44mc\u001b[47m\u001b[44ma\u001b[47m\u001b[44ma\u001b[47m\u001b[42mt\u001b[47m\u001b[44ma\u001b[47m\u001b[44ma\u001b[47m\u001b[42mt\u001b[47m\u001b[42mt\u001b[47m\u001b[44ma\u001b[47m\u001b[43mg\u001b[47m\u001b[44mc\u001b[47m\u001b[44mc\u001b[47m\u001b[42mt\u001b[47m\u001b[42mt\u001b[47m\u001b[43mg\u001b[47m\u001b[42mt\u001b[47m\u001b[42mt\u001b[47m\u001b[44ma\u001b[47m\u001b[44ma\u001b[47m\u001b[44ma\u001b[47m\u001b[44ma\u001b[47m\u001b[43mg\u001b[47m\u001b[42mt\u001b[47m\u001b[43mg\u001b[47m\u001b[44ma\u001b[47m\u001b[42mt\u001b[47m\u001b[44mc\u001b[47m\u001b[44ma\u001b[47m\u001b[43mg\u001b[47m\u001b[44ma\u001b[47m\u001b[42mt\u001b[47m\u001b[42mt\u001b[47m\u001b[42mt\u001b[47m\u001b[43mg\u001b[47m\u001b[44mc\u001b[47m\u001b[44ma\u001b[47m\u001b[42mt\u001b[47m\u001b[42mt\u001b[47m\u001b[43mg\u001b[47m\u001b[43mg\u001b[47m\u001b[42mt\u001b[47m\u001b[42mt\u001b[47m\u001b[44ma\u001b[47m\u001b[44mc\u001b[47m\u001b[44mc\u001b[47m\u001b[44ma\u001b[47m\u001b[42mt\u001b[47m\u001b[0m\n",
      "A/thick-billed_murre \u001b[30m\u001b[47m\u001b[44ma\u001b[47m\u001b[43mg\u001b[47m\u001b[44mc\u001b[47m\u001b[44ma\u001b[47m\u001b[44ma\u001b[47m\u001b[44ma\u001b[47m\u001b[44ma\u001b[47m\u001b[43mg\u001b[47m\u001b[44mc\u001b[47m\u001b[44ma\u001b[47m\u001b[43mg\u001b[47m\u001b[43mg\u001b[47m\u001b[43mg\u001b[47m\u001b[43mg\u001b[47m\u001b[42mt\u001b[47m\u001b[42mt\u001b[47m\u001b[44mc\u001b[47m\u001b[44ma\u001b[47m\u001b[44mc\u001b[47m\u001b[42mt\u001b[47m\u001b[44mc\u001b[47m\u001b[42mt\u001b[47m\u001b[43mg\u001b[47m\u001b[42mt\u001b[47m\u001b[44mc\u001b[47m\u001b[44ma\u001b[47m\u001b[44ma\u001b[47m\u001b[44ma\u001b[47m\u001b[44ma\u001b[47m\u001b[42mt\u001b[47m\u001b[43mg\u001b[47m\u001b[43mg\u001b[47m\u001b[44ma\u001b[47m\u001b[43mg\u001b[47m\u001b[44ma\u001b[47m\u001b[44ma\u001b[47m\u001b[44mc\u001b[47m\u001b[44ma\u001b[47m\u001b[42mt\u001b[47m\u001b[44ma\u001b[47m\u001b[43mg\u001b[47m\u001b[42mt\u001b[47m\u001b[44ma\u001b[47m\u001b[44mc\u001b[47m\u001b[42mt\u001b[47m\u001b[42mt\u001b[47m\u001b[44mc\u001b[47m\u001b[42mt\u001b[47m\u001b[42mt\u001b[47m\u001b[44mc\u001b[47m\u001b[42mt\u001b[47m\u001b[42mt\u001b[47m\u001b[43mg\u001b[47m\u001b[44mc\u001b[47m\u001b[44ma\u001b[47m\u001b[44ma\u001b[47m\u001b[42mt\u001b[47m\u001b[44ma\u001b[47m\u001b[44ma\u001b[47m\u001b[42mt\u001b[47m\u001b[42mt\u001b[47m\u001b[44ma\u001b[47m\u001b[43mg\u001b[47m\u001b[44mc\u001b[47m\u001b[44mc\u001b[47m\u001b[42mt\u001b[47m\u001b[42mt\u001b[47m\u001b[43mg\u001b[47m\u001b[42mt\u001b[47m\u001b[42mt\u001b[47m\u001b[44ma\u001b[47m\u001b[44ma\u001b[47m\u001b[44ma\u001b[47m\u001b[44ma\u001b[47m\u001b[43mg\u001b[47m\u001b[42mt\u001b[47m\u001b[43mg\u001b[47m\u001b[44ma\u001b[47m\u001b[42mt\u001b[47m\u001b[44mc\u001b[47m\u001b[44ma\u001b[47m\u001b[43mg\u001b[47m\u001b[44ma\u001b[47m\u001b[42mt\u001b[47m\u001b[42mt\u001b[47m\u001b[42mt\u001b[47m\u001b[43mg\u001b[47m\u001b[44mc\u001b[47m\u001b[44ma\u001b[47m\u001b[42mt\u001b[47m\u001b[42mt\u001b[47m\u001b[43mg\u001b[47m\u001b[43mg\u001b[47m\u001b[42mt\u001b[47m\u001b[42mt\u001b[47m\u001b[44ma\u001b[47m\u001b[44mc\u001b[47m\u001b[44mc\u001b[47m\u001b[44ma\u001b[47m\u001b[42mt\u001b[47m\u001b[0m\n",
      "A/white-fronted_goos \u001b[30m\u001b[47m\u001b[47m-\u001b[47m\u001b[47m-\u001b[47m\u001b[47m-\u001b[47m\u001b[47m-\u001b[47m\u001b[44ma\u001b[47m\u001b[44ma\u001b[47m\u001b[44ma\u001b[47m\u001b[43mg\u001b[47m\u001b[44mc\u001b[47m\u001b[44ma\u001b[47m\u001b[43mg\u001b[47m\u001b[43mg\u001b[47m\u001b[43mg\u001b[47m\u001b[43mg\u001b[47m\u001b[42mt\u001b[47m\u001b[42mt\u001b[47m\u001b[44mc\u001b[47m\u001b[44ma\u001b[47m\u001b[44mc\u001b[47m\u001b[42mt\u001b[47m\u001b[44mc\u001b[47m\u001b[42mt\u001b[47m\u001b[43mg\u001b[47m\u001b[42mt\u001b[47m\u001b[44mc\u001b[47m\u001b[44ma\u001b[47m\u001b[44ma\u001b[47m\u001b[44ma\u001b[47m\u001b[44ma\u001b[47m\u001b[42mt\u001b[47m\u001b[43mg\u001b[47m\u001b[43mg\u001b[47m\u001b[44ma\u001b[47m\u001b[43mg\u001b[47m\u001b[44ma\u001b[47m\u001b[44ma\u001b[47m\u001b[44mc\u001b[47m\u001b[44ma\u001b[47m\u001b[42mt\u001b[47m\u001b[44ma\u001b[47m\u001b[43mg\u001b[47m\u001b[42mt\u001b[47m\u001b[44ma\u001b[47m\u001b[44mc\u001b[47m\u001b[42mt\u001b[47m\u001b[42mt\u001b[47m\u001b[44mc\u001b[47m\u001b[42mt\u001b[47m\u001b[42mt\u001b[47m\u001b[44mc\u001b[47m\u001b[42mt\u001b[47m\u001b[42mt\u001b[47m\u001b[43mg\u001b[47m\u001b[44mc\u001b[47m\u001b[44ma\u001b[47m\u001b[44ma\u001b[47m\u001b[42mt\u001b[47m\u001b[44ma\u001b[47m\u001b[44ma\u001b[47m\u001b[42mt\u001b[47m\u001b[42mt\u001b[47m\u001b[44ma\u001b[47m\u001b[43mg\u001b[47m\u001b[44mc\u001b[47m\u001b[44mc\u001b[47m\u001b[42mt\u001b[47m\u001b[42mt\u001b[47m\u001b[43mg\u001b[47m\u001b[42mt\u001b[47m\u001b[42mt\u001b[47m\u001b[44ma\u001b[47m\u001b[44ma\u001b[47m\u001b[44ma\u001b[47m\u001b[44ma\u001b[47m\u001b[43mg\u001b[47m\u001b[42mt\u001b[47m\u001b[43mg\u001b[47m\u001b[44ma\u001b[47m\u001b[42mt\u001b[47m\u001b[44mc\u001b[47m\u001b[44ma\u001b[47m\u001b[43mg\u001b[47m\u001b[44ma\u001b[47m\u001b[42mt\u001b[47m\u001b[42mt\u001b[47m\u001b[42mt\u001b[47m\u001b[43mg\u001b[47m\u001b[44mc\u001b[47m\u001b[44ma\u001b[47m\u001b[42mt\u001b[47m\u001b[42mt\u001b[47m\u001b[43mg\u001b[47m\u001b[43mg\u001b[47m\u001b[42mt\u001b[47m\u001b[42mt\u001b[47m\u001b[44ma\u001b[47m\u001b[44mc\u001b[47m\u001b[44mc\u001b[47m\u001b[44ma\u001b[47m\u001b[42mt\u001b[47m\u001b[0m\n",
      "A/white-tailed_eagle \u001b[30m\u001b[47m\u001b[47m-\u001b[47m\u001b[47m-\u001b[47m\u001b[47m-\u001b[47m\u001b[47m-\u001b[47m\u001b[47m-\u001b[47m\u001b[47m-\u001b[47m\u001b[47m-\u001b[47m\u001b[43mg\u001b[47m\u001b[44mc\u001b[47m\u001b[44ma\u001b[47m\u001b[43mg\u001b[47m\u001b[43mg\u001b[47m\u001b[43mg\u001b[47m\u001b[43mg\u001b[47m\u001b[42mt\u001b[47m\u001b[42mt\u001b[47m\u001b[44mc\u001b[47m\u001b[44ma\u001b[47m\u001b[44mc\u001b[47m\u001b[42mt\u001b[47m\u001b[44mc\u001b[47m\u001b[42mt\u001b[47m\u001b[43mg\u001b[47m\u001b[42mt\u001b[47m\u001b[44mc\u001b[47m\u001b[44ma\u001b[47m\u001b[44ma\u001b[47m\u001b[44ma\u001b[47m\u001b[44ma\u001b[47m\u001b[42mt\u001b[47m\u001b[43mg\u001b[47m\u001b[43mg\u001b[47m\u001b[44ma\u001b[47m\u001b[43mg\u001b[47m\u001b[44ma\u001b[47m\u001b[44ma\u001b[47m\u001b[44mc\u001b[47m\u001b[44ma\u001b[47m\u001b[42mt\u001b[47m\u001b[44ma\u001b[47m\u001b[43mg\u001b[47m\u001b[42mt\u001b[47m\u001b[44ma\u001b[47m\u001b[44mc\u001b[47m\u001b[42mt\u001b[47m\u001b[42mt\u001b[47m\u001b[44mc\u001b[47m\u001b[42mt\u001b[47m\u001b[42mt\u001b[47m\u001b[44mc\u001b[47m\u001b[42mt\u001b[47m\u001b[42mt\u001b[47m\u001b[43mg\u001b[47m\u001b[44mc\u001b[47m\u001b[44ma\u001b[47m\u001b[44ma\u001b[47m\u001b[42mt\u001b[47m\u001b[44ma\u001b[47m\u001b[44ma\u001b[47m\u001b[42mt\u001b[47m\u001b[42mt\u001b[47m\u001b[44ma\u001b[47m\u001b[43mg\u001b[47m\u001b[44mc\u001b[47m\u001b[44mc\u001b[47m\u001b[42mt\u001b[47m\u001b[42mt\u001b[47m\u001b[43mg\u001b[47m\u001b[42mt\u001b[47m\u001b[44mc\u001b[47m\u001b[44ma\u001b[47m\u001b[44ma\u001b[47m\u001b[44ma\u001b[47m\u001b[44ma\u001b[47m\u001b[43mg\u001b[47m\u001b[42mt\u001b[47m\u001b[43mg\u001b[47m\u001b[44ma\u001b[47m\u001b[42mt\u001b[47m\u001b[44mc\u001b[47m\u001b[44ma\u001b[47m\u001b[43mg\u001b[47m\u001b[44ma\u001b[47m\u001b[42mt\u001b[47m\u001b[42mt\u001b[47m\u001b[42mt\u001b[47m\u001b[43mg\u001b[47m\u001b[44mc\u001b[47m\u001b[44ma\u001b[47m\u001b[42mt\u001b[47m\u001b[42mt\u001b[47m\u001b[43mg\u001b[47m\u001b[43mg\u001b[47m\u001b[42mt\u001b[47m\u001b[42mt\u001b[47m\u001b[44ma\u001b[47m\u001b[44mc\u001b[47m\u001b[44mc\u001b[47m\u001b[44ma\u001b[47m\u001b[42mt\u001b[47m\u001b[0m\n",
      "                    0^                 20^                 40^                 60^                 80^\n",
      "\u001b[0m"
     ]
    }
   ],
   "source": [
    "# Run alv to shown the start of the alignment\n",
    "!alv -sa 0 100 -as 0 20 -w 1000 Dataset1.aln\n"
   ]
  },
  {
   "cell_type": "code",
   "execution_count": 16,
   "metadata": {
    "colab": {
     "base_uri": "https://localhost:8080/"
    },
    "id": "5NE3vXYai16K",
    "outputId": "4d12e0e7-dbc5-4eb5-94c1-515dac8a7fb4"
   },
   "outputs": [
    {
     "name": "stdout",
     "output_type": "stream",
     "text": [
      "A/Bald_Eagle/BC/OTH- \u001b[30m\u001b[47m\u001b[42mt\u001b[47m\u001b[42mt\u001b[47m\u001b[43mg\u001b[47m\u001b[44mc\u001b[47m\u001b[44ma\u001b[47m\u001b[42mt\u001b[47m\u001b[42mt\u001b[47m\u001b[42mt\u001b[47m\u001b[44ma\u001b[47m\u001b[43mg\u001b[47m\u001b[44ma\u001b[47m\u001b[42mt\u001b[47m\u001b[42mt\u001b[47m\u001b[42mt\u001b[47m\u001b[43mg\u001b[47m\u001b[42mt\u001b[47m\u001b[43mg\u001b[47m\u001b[44ma\u001b[47m\u001b[43mg\u001b[47m\u001b[44mc\u001b[47m\u001b[42mt\u001b[47m\u001b[44mc\u001b[47m\u001b[44ma\u001b[47m\u001b[43mg\u001b[47m\u001b[44ma\u001b[47m\u001b[42mt\u001b[47m\u001b[42mt\u001b[47m\u001b[43mg\u001b[47m\u001b[42mt\u001b[47m\u001b[44ma\u001b[47m\u001b[43mg\u001b[47m\u001b[42mt\u001b[47m\u001b[42mt\u001b[47m\u001b[44ma\u001b[47m\u001b[44ma\u001b[47m\u001b[44ma\u001b[47m\u001b[44ma\u001b[47m\u001b[44ma\u001b[47m\u001b[44mc\u001b[47m\u001b[44ma\u001b[47m\u001b[44mc\u001b[47m\u001b[44mc\u001b[47m\u001b[44mc\u001b[47m\u001b[42mt\u001b[47m\u001b[42mt\u001b[47m\u001b[43mg\u001b[47m\u001b[42mt\u001b[47m\u001b[42mt\u001b[47m\u001b[42mt\u001b[47m\u001b[44mc\u001b[47m\u001b[42mt\u001b[47m\u001b[44ma\u001b[47m\u001b[44mc\u001b[47m\u001b[42mt\u001b[47m\u001b[47m-\u001b[47m\u001b[47m-\u001b[47m\u001b[47m-\u001b[47m\u001b[47m-\u001b[47m\u001b[47m-\u001b[47m\u001b[47m-\u001b[47m\u001b[47m-\u001b[47m\u001b[47m-\u001b[47m\u001b[47m-\u001b[47m\u001b[47m-\u001b[47m\u001b[47m-\u001b[47m\u001b[47m-\u001b[47m\u001b[47m-\u001b[47m\u001b[47m-\u001b[47m\u001b[47m-\u001b[47m\u001b[47m-\u001b[47m\u001b[47m-\u001b[47m\u001b[47m-\u001b[47m\u001b[47m-\u001b[47m\u001b[47m-\u001b[47m\u001b[47m-\u001b[47m\u001b[47m-\u001b[47m\u001b[47m-\u001b[47m\u001b[47m-\u001b[47m\u001b[47m-\u001b[47m\u001b[47m-\u001b[47m\u001b[47m-\u001b[47m\u001b[47m-\u001b[47m\u001b[47m-\u001b[47m\u001b[47m-\u001b[47m\u001b[47m-\u001b[47m\u001b[47m-\u001b[47m\u001b[47m-\u001b[47m\u001b[47m-\u001b[47m\u001b[47m-\u001b[47m\u001b[47m-\u001b[47m\u001b[47m-\u001b[47m\u001b[47m-\u001b[47m\u001b[47m-\u001b[47m\u001b[47m-\u001b[47m\u001b[47m-\u001b[47m\u001b[47m-\u001b[47m\u001b[47m-\u001b[47m\u001b[47m-\u001b[47m\u001b[47m-\u001b[47m\u001b[47m-\u001b[47m\u001b[0m\n",
      "A/chicken/Aomori/21C \u001b[30m\u001b[47m\u001b[42mt\u001b[47m\u001b[42mt\u001b[47m\u001b[43mg\u001b[47m\u001b[44mc\u001b[47m\u001b[44ma\u001b[47m\u001b[42mt\u001b[47m\u001b[42mt\u001b[47m\u001b[42mt\u001b[47m\u001b[44ma\u001b[47m\u001b[43mg\u001b[47m\u001b[44ma\u001b[47m\u001b[42mt\u001b[47m\u001b[42mt\u001b[47m\u001b[42mt\u001b[47m\u001b[43mg\u001b[47m\u001b[42mt\u001b[47m\u001b[43mg\u001b[47m\u001b[44ma\u001b[47m\u001b[43mg\u001b[47m\u001b[44mc\u001b[47m\u001b[42mt\u001b[47m\u001b[44mc\u001b[47m\u001b[44ma\u001b[47m\u001b[43mg\u001b[47m\u001b[44ma\u001b[47m\u001b[42mt\u001b[47m\u001b[42mt\u001b[47m\u001b[43mg\u001b[47m\u001b[42mt\u001b[47m\u001b[44ma\u001b[47m\u001b[43mg\u001b[47m\u001b[42mt\u001b[47m\u001b[42mt\u001b[47m\u001b[44ma\u001b[47m\u001b[44ma\u001b[47m\u001b[44ma\u001b[47m\u001b[44ma\u001b[47m\u001b[44ma\u001b[47m\u001b[44mc\u001b[47m\u001b[44ma\u001b[47m\u001b[44mc\u001b[47m\u001b[44mc\u001b[47m\u001b[44mc\u001b[47m\u001b[42mt\u001b[47m\u001b[42mt\u001b[47m\u001b[43mg\u001b[47m\u001b[42mt\u001b[47m\u001b[42mt\u001b[47m\u001b[47m-\u001b[47m\u001b[47m-\u001b[47m\u001b[47m-\u001b[47m\u001b[47m-\u001b[47m\u001b[47m-\u001b[47m\u001b[47m-\u001b[47m\u001b[47m-\u001b[47m\u001b[47m-\u001b[47m\u001b[47m-\u001b[47m\u001b[47m-\u001b[47m\u001b[47m-\u001b[47m\u001b[47m-\u001b[47m\u001b[47m-\u001b[47m\u001b[47m-\u001b[47m\u001b[47m-\u001b[47m\u001b[47m-\u001b[47m\u001b[47m-\u001b[47m\u001b[47m-\u001b[47m\u001b[47m-\u001b[47m\u001b[47m-\u001b[47m\u001b[47m-\u001b[47m\u001b[47m-\u001b[47m\u001b[47m-\u001b[47m\u001b[47m-\u001b[47m\u001b[47m-\u001b[47m\u001b[47m-\u001b[47m\u001b[47m-\u001b[47m\u001b[47m-\u001b[47m\u001b[47m-\u001b[47m\u001b[47m-\u001b[47m\u001b[47m-\u001b[47m\u001b[47m-\u001b[47m\u001b[47m-\u001b[47m\u001b[47m-\u001b[47m\u001b[47m-\u001b[47m\u001b[47m-\u001b[47m\u001b[47m-\u001b[47m\u001b[47m-\u001b[47m\u001b[47m-\u001b[47m\u001b[47m-\u001b[47m\u001b[47m-\u001b[47m\u001b[47m-\u001b[47m\u001b[47m-\u001b[47m\u001b[47m-\u001b[47m\u001b[47m-\u001b[47m\u001b[47m-\u001b[47m\u001b[47m-\u001b[47m\u001b[47m-\u001b[47m\u001b[47m-\u001b[47m\u001b[47m-\u001b[47m\u001b[47m-\u001b[47m\u001b[47m-\u001b[47m\u001b[0m\n",
      "A/Chicken/BC/FAV-036 \u001b[30m\u001b[47m\u001b[42mt\u001b[47m\u001b[42mt\u001b[47m\u001b[43mg\u001b[47m\u001b[44mc\u001b[47m\u001b[44ma\u001b[47m\u001b[42mt\u001b[47m\u001b[42mt\u001b[47m\u001b[42mt\u001b[47m\u001b[44ma\u001b[47m\u001b[43mg\u001b[47m\u001b[44ma\u001b[47m\u001b[42mt\u001b[47m\u001b[42mt\u001b[47m\u001b[42mt\u001b[47m\u001b[43mg\u001b[47m\u001b[42mt\u001b[47m\u001b[43mg\u001b[47m\u001b[44ma\u001b[47m\u001b[43mg\u001b[47m\u001b[44mc\u001b[47m\u001b[42mt\u001b[47m\u001b[44mc\u001b[47m\u001b[44ma\u001b[47m\u001b[43mg\u001b[47m\u001b[44ma\u001b[47m\u001b[42mt\u001b[47m\u001b[42mt\u001b[47m\u001b[44ma\u001b[47m\u001b[42mt\u001b[47m\u001b[44ma\u001b[47m\u001b[43mg\u001b[47m\u001b[42mt\u001b[47m\u001b[42mt\u001b[47m\u001b[44ma\u001b[47m\u001b[44ma\u001b[47m\u001b[44ma\u001b[47m\u001b[44ma\u001b[47m\u001b[44ma\u001b[47m\u001b[44mc\u001b[47m\u001b[44ma\u001b[47m\u001b[44mc\u001b[47m\u001b[44mc\u001b[47m\u001b[44mc\u001b[47m\u001b[42mt\u001b[47m\u001b[42mt\u001b[47m\u001b[43mg\u001b[47m\u001b[42mt\u001b[47m\u001b[42mt\u001b[47m\u001b[42mt\u001b[47m\u001b[44mc\u001b[47m\u001b[42mt\u001b[47m\u001b[44ma\u001b[47m\u001b[44mc\u001b[47m\u001b[47m-\u001b[47m\u001b[47m-\u001b[47m\u001b[47m-\u001b[47m\u001b[47m-\u001b[47m\u001b[47m-\u001b[47m\u001b[47m-\u001b[47m\u001b[47m-\u001b[47m\u001b[47m-\u001b[47m\u001b[47m-\u001b[47m\u001b[47m-\u001b[47m\u001b[47m-\u001b[47m\u001b[47m-\u001b[47m\u001b[47m-\u001b[47m\u001b[47m-\u001b[47m\u001b[47m-\u001b[47m\u001b[47m-\u001b[47m\u001b[47m-\u001b[47m\u001b[47m-\u001b[47m\u001b[47m-\u001b[47m\u001b[47m-\u001b[47m\u001b[47m-\u001b[47m\u001b[47m-\u001b[47m\u001b[47m-\u001b[47m\u001b[47m-\u001b[47m\u001b[47m-\u001b[47m\u001b[47m-\u001b[47m\u001b[47m-\u001b[47m\u001b[47m-\u001b[47m\u001b[47m-\u001b[47m\u001b[47m-\u001b[47m\u001b[47m-\u001b[47m\u001b[47m-\u001b[47m\u001b[47m-\u001b[47m\u001b[47m-\u001b[47m\u001b[47m-\u001b[47m\u001b[47m-\u001b[47m\u001b[47m-\u001b[47m\u001b[47m-\u001b[47m\u001b[47m-\u001b[47m\u001b[47m-\u001b[47m\u001b[47m-\u001b[47m\u001b[47m-\u001b[47m\u001b[47m-\u001b[47m\u001b[47m-\u001b[47m\u001b[47m-\u001b[47m\u001b[47m-\u001b[47m\u001b[47m-\u001b[47m\u001b[0m\n",
      "A/chicken/Iwate/21A1 \u001b[30m\u001b[47m\u001b[42mt\u001b[47m\u001b[42mt\u001b[47m\u001b[43mg\u001b[47m\u001b[44mc\u001b[47m\u001b[44ma\u001b[47m\u001b[42mt\u001b[47m\u001b[42mt\u001b[47m\u001b[42mt\u001b[47m\u001b[44ma\u001b[47m\u001b[43mg\u001b[47m\u001b[44ma\u001b[47m\u001b[42mt\u001b[47m\u001b[42mt\u001b[47m\u001b[42mt\u001b[47m\u001b[43mg\u001b[47m\u001b[42mt\u001b[47m\u001b[43mg\u001b[47m\u001b[44ma\u001b[47m\u001b[43mg\u001b[47m\u001b[44mc\u001b[47m\u001b[42mt\u001b[47m\u001b[44mc\u001b[47m\u001b[44ma\u001b[47m\u001b[43mg\u001b[47m\u001b[44ma\u001b[47m\u001b[42mt\u001b[47m\u001b[42mt\u001b[47m\u001b[43mg\u001b[47m\u001b[42mt\u001b[47m\u001b[44ma\u001b[47m\u001b[43mg\u001b[47m\u001b[42mt\u001b[47m\u001b[42mt\u001b[47m\u001b[44ma\u001b[47m\u001b[44ma\u001b[47m\u001b[44ma\u001b[47m\u001b[44ma\u001b[47m\u001b[44ma\u001b[47m\u001b[44mc\u001b[47m\u001b[44ma\u001b[47m\u001b[44mc\u001b[47m\u001b[44mc\u001b[47m\u001b[44mc\u001b[47m\u001b[42mt\u001b[47m\u001b[42mt\u001b[47m\u001b[43mg\u001b[47m\u001b[47m-\u001b[47m\u001b[47m-\u001b[47m\u001b[47m-\u001b[47m\u001b[47m-\u001b[47m\u001b[47m-\u001b[47m\u001b[47m-\u001b[47m\u001b[47m-\u001b[47m\u001b[47m-\u001b[47m\u001b[47m-\u001b[47m\u001b[47m-\u001b[47m\u001b[47m-\u001b[47m\u001b[47m-\u001b[47m\u001b[47m-\u001b[47m\u001b[47m-\u001b[47m\u001b[47m-\u001b[47m\u001b[47m-\u001b[47m\u001b[47m-\u001b[47m\u001b[47m-\u001b[47m\u001b[47m-\u001b[47m\u001b[47m-\u001b[47m\u001b[47m-\u001b[47m\u001b[47m-\u001b[47m\u001b[47m-\u001b[47m\u001b[47m-\u001b[47m\u001b[47m-\u001b[47m\u001b[47m-\u001b[47m\u001b[47m-\u001b[47m\u001b[47m-\u001b[47m\u001b[47m-\u001b[47m\u001b[47m-\u001b[47m\u001b[47m-\u001b[47m\u001b[47m-\u001b[47m\u001b[47m-\u001b[47m\u001b[47m-\u001b[47m\u001b[47m-\u001b[47m\u001b[47m-\u001b[47m\u001b[47m-\u001b[47m\u001b[47m-\u001b[47m\u001b[47m-\u001b[47m\u001b[47m-\u001b[47m\u001b[47m-\u001b[47m\u001b[47m-\u001b[47m\u001b[47m-\u001b[47m\u001b[47m-\u001b[47m\u001b[47m-\u001b[47m\u001b[47m-\u001b[47m\u001b[47m-\u001b[47m\u001b[47m-\u001b[47m\u001b[47m-\u001b[47m\u001b[47m-\u001b[47m\u001b[47m-\u001b[47m\u001b[47m-\u001b[47m\u001b[47m-\u001b[47m\u001b[47m-\u001b[47m\u001b[0m\n",
      "A/chicken/Iwate/21A2 \u001b[30m\u001b[47m\u001b[42mt\u001b[47m\u001b[42mt\u001b[47m\u001b[43mg\u001b[47m\u001b[44mc\u001b[47m\u001b[44ma\u001b[47m\u001b[42mt\u001b[47m\u001b[42mt\u001b[47m\u001b[42mt\u001b[47m\u001b[44ma\u001b[47m\u001b[43mg\u001b[47m\u001b[44ma\u001b[47m\u001b[42mt\u001b[47m\u001b[42mt\u001b[47m\u001b[42mt\u001b[47m\u001b[43mg\u001b[47m\u001b[42mt\u001b[47m\u001b[43mg\u001b[47m\u001b[44ma\u001b[47m\u001b[43mg\u001b[47m\u001b[44mc\u001b[47m\u001b[42mt\u001b[47m\u001b[44mc\u001b[47m\u001b[44ma\u001b[47m\u001b[43mg\u001b[47m\u001b[44ma\u001b[47m\u001b[42mt\u001b[47m\u001b[42mt\u001b[47m\u001b[43mg\u001b[47m\u001b[42mt\u001b[47m\u001b[44ma\u001b[47m\u001b[43mg\u001b[47m\u001b[42mt\u001b[47m\u001b[42mt\u001b[47m\u001b[44ma\u001b[47m\u001b[44ma\u001b[47m\u001b[44ma\u001b[47m\u001b[44ma\u001b[47m\u001b[44ma\u001b[47m\u001b[44mc\u001b[47m\u001b[44ma\u001b[47m\u001b[44mc\u001b[47m\u001b[44mc\u001b[47m\u001b[44mc\u001b[47m\u001b[42mt\u001b[47m\u001b[42mt\u001b[47m\u001b[43mg\u001b[47m\u001b[47m-\u001b[47m\u001b[47m-\u001b[47m\u001b[47m-\u001b[47m\u001b[47m-\u001b[47m\u001b[47m-\u001b[47m\u001b[47m-\u001b[47m\u001b[47m-\u001b[47m\u001b[47m-\u001b[47m\u001b[47m-\u001b[47m\u001b[47m-\u001b[47m\u001b[47m-\u001b[47m\u001b[47m-\u001b[47m\u001b[47m-\u001b[47m\u001b[47m-\u001b[47m\u001b[47m-\u001b[47m\u001b[47m-\u001b[47m\u001b[47m-\u001b[47m\u001b[47m-\u001b[47m\u001b[47m-\u001b[47m\u001b[47m-\u001b[47m\u001b[47m-\u001b[47m\u001b[47m-\u001b[47m\u001b[47m-\u001b[47m\u001b[47m-\u001b[47m\u001b[47m-\u001b[47m\u001b[47m-\u001b[47m\u001b[47m-\u001b[47m\u001b[47m-\u001b[47m\u001b[47m-\u001b[47m\u001b[47m-\u001b[47m\u001b[47m-\u001b[47m\u001b[47m-\u001b[47m\u001b[47m-\u001b[47m\u001b[47m-\u001b[47m\u001b[47m-\u001b[47m\u001b[47m-\u001b[47m\u001b[47m-\u001b[47m\u001b[47m-\u001b[47m\u001b[47m-\u001b[47m\u001b[47m-\u001b[47m\u001b[47m-\u001b[47m\u001b[47m-\u001b[47m\u001b[47m-\u001b[47m\u001b[47m-\u001b[47m\u001b[47m-\u001b[47m\u001b[47m-\u001b[47m\u001b[47m-\u001b[47m\u001b[47m-\u001b[47m\u001b[47m-\u001b[47m\u001b[47m-\u001b[47m\u001b[47m-\u001b[47m\u001b[47m-\u001b[47m\u001b[47m-\u001b[47m\u001b[47m-\u001b[47m\u001b[0m\n",
      "A/chicken/Iwate/21A7 \u001b[30m\u001b[47m\u001b[42mt\u001b[47m\u001b[42mt\u001b[47m\u001b[43mg\u001b[47m\u001b[44mc\u001b[47m\u001b[44ma\u001b[47m\u001b[42mt\u001b[47m\u001b[42mt\u001b[47m\u001b[42mt\u001b[47m\u001b[44ma\u001b[47m\u001b[43mg\u001b[47m\u001b[44ma\u001b[47m\u001b[42mt\u001b[47m\u001b[42mt\u001b[47m\u001b[42mt\u001b[47m\u001b[43mg\u001b[47m\u001b[42mt\u001b[47m\u001b[43mg\u001b[47m\u001b[44ma\u001b[47m\u001b[43mg\u001b[47m\u001b[44mc\u001b[47m\u001b[42mt\u001b[47m\u001b[44mc\u001b[47m\u001b[44ma\u001b[47m\u001b[43mg\u001b[47m\u001b[44ma\u001b[47m\u001b[42mt\u001b[47m\u001b[42mt\u001b[47m\u001b[43mg\u001b[47m\u001b[42mt\u001b[47m\u001b[44ma\u001b[47m\u001b[43mg\u001b[47m\u001b[42mt\u001b[47m\u001b[42mt\u001b[47m\u001b[44ma\u001b[47m\u001b[44ma\u001b[47m\u001b[44ma\u001b[47m\u001b[44ma\u001b[47m\u001b[44ma\u001b[47m\u001b[44mc\u001b[47m\u001b[44ma\u001b[47m\u001b[44mc\u001b[47m\u001b[44mc\u001b[47m\u001b[44mc\u001b[47m\u001b[42mt\u001b[47m\u001b[42mt\u001b[47m\u001b[43mg\u001b[47m\u001b[47m-\u001b[47m\u001b[47m-\u001b[47m\u001b[47m-\u001b[47m\u001b[47m-\u001b[47m\u001b[47m-\u001b[47m\u001b[47m-\u001b[47m\u001b[47m-\u001b[47m\u001b[47m-\u001b[47m\u001b[47m-\u001b[47m\u001b[47m-\u001b[47m\u001b[47m-\u001b[47m\u001b[47m-\u001b[47m\u001b[47m-\u001b[47m\u001b[47m-\u001b[47m\u001b[47m-\u001b[47m\u001b[47m-\u001b[47m\u001b[47m-\u001b[47m\u001b[47m-\u001b[47m\u001b[47m-\u001b[47m\u001b[47m-\u001b[47m\u001b[47m-\u001b[47m\u001b[47m-\u001b[47m\u001b[47m-\u001b[47m\u001b[47m-\u001b[47m\u001b[47m-\u001b[47m\u001b[47m-\u001b[47m\u001b[47m-\u001b[47m\u001b[47m-\u001b[47m\u001b[47m-\u001b[47m\u001b[47m-\u001b[47m\u001b[47m-\u001b[47m\u001b[47m-\u001b[47m\u001b[47m-\u001b[47m\u001b[47m-\u001b[47m\u001b[47m-\u001b[47m\u001b[47m-\u001b[47m\u001b[47m-\u001b[47m\u001b[47m-\u001b[47m\u001b[47m-\u001b[47m\u001b[47m-\u001b[47m\u001b[47m-\u001b[47m\u001b[47m-\u001b[47m\u001b[47m-\u001b[47m\u001b[47m-\u001b[47m\u001b[47m-\u001b[47m\u001b[47m-\u001b[47m\u001b[47m-\u001b[47m\u001b[47m-\u001b[47m\u001b[47m-\u001b[47m\u001b[47m-\u001b[47m\u001b[47m-\u001b[47m\u001b[47m-\u001b[47m\u001b[47m-\u001b[47m\u001b[47m-\u001b[47m\u001b[0m\n",
      "A/chicken/Iwate/21A1 \u001b[30m\u001b[47m\u001b[42mt\u001b[47m\u001b[42mt\u001b[47m\u001b[43mg\u001b[47m\u001b[44mc\u001b[47m\u001b[44ma\u001b[47m\u001b[42mt\u001b[47m\u001b[42mt\u001b[47m\u001b[42mt\u001b[47m\u001b[44ma\u001b[47m\u001b[43mg\u001b[47m\u001b[44ma\u001b[47m\u001b[42mt\u001b[47m\u001b[42mt\u001b[47m\u001b[42mt\u001b[47m\u001b[43mg\u001b[47m\u001b[42mt\u001b[47m\u001b[43mg\u001b[47m\u001b[44ma\u001b[47m\u001b[43mg\u001b[47m\u001b[44mc\u001b[47m\u001b[42mt\u001b[47m\u001b[44mc\u001b[47m\u001b[44ma\u001b[47m\u001b[43mg\u001b[47m\u001b[44ma\u001b[47m\u001b[42mt\u001b[47m\u001b[42mt\u001b[47m\u001b[43mg\u001b[47m\u001b[42mt\u001b[47m\u001b[44ma\u001b[47m\u001b[43mg\u001b[47m\u001b[42mt\u001b[47m\u001b[42mt\u001b[47m\u001b[44ma\u001b[47m\u001b[44ma\u001b[47m\u001b[44ma\u001b[47m\u001b[44ma\u001b[47m\u001b[44ma\u001b[47m\u001b[44mc\u001b[47m\u001b[44ma\u001b[47m\u001b[44mc\u001b[47m\u001b[44mc\u001b[47m\u001b[44mc\u001b[47m\u001b[42mt\u001b[47m\u001b[42mt\u001b[47m\u001b[43mg\u001b[47m\u001b[47m-\u001b[47m\u001b[47m-\u001b[47m\u001b[47m-\u001b[47m\u001b[47m-\u001b[47m\u001b[47m-\u001b[47m\u001b[47m-\u001b[47m\u001b[47m-\u001b[47m\u001b[47m-\u001b[47m\u001b[47m-\u001b[47m\u001b[47m-\u001b[47m\u001b[47m-\u001b[47m\u001b[47m-\u001b[47m\u001b[47m-\u001b[47m\u001b[47m-\u001b[47m\u001b[47m-\u001b[47m\u001b[47m-\u001b[47m\u001b[47m-\u001b[47m\u001b[47m-\u001b[47m\u001b[47m-\u001b[47m\u001b[47m-\u001b[47m\u001b[47m-\u001b[47m\u001b[47m-\u001b[47m\u001b[47m-\u001b[47m\u001b[47m-\u001b[47m\u001b[47m-\u001b[47m\u001b[47m-\u001b[47m\u001b[47m-\u001b[47m\u001b[47m-\u001b[47m\u001b[47m-\u001b[47m\u001b[47m-\u001b[47m\u001b[47m-\u001b[47m\u001b[47m-\u001b[47m\u001b[47m-\u001b[47m\u001b[47m-\u001b[47m\u001b[47m-\u001b[47m\u001b[47m-\u001b[47m\u001b[47m-\u001b[47m\u001b[47m-\u001b[47m\u001b[47m-\u001b[47m\u001b[47m-\u001b[47m\u001b[47m-\u001b[47m\u001b[47m-\u001b[47m\u001b[47m-\u001b[47m\u001b[47m-\u001b[47m\u001b[47m-\u001b[47m\u001b[47m-\u001b[47m\u001b[47m-\u001b[47m\u001b[47m-\u001b[47m\u001b[47m-\u001b[47m\u001b[47m-\u001b[47m\u001b[47m-\u001b[47m\u001b[47m-\u001b[47m\u001b[47m-\u001b[47m\u001b[47m-\u001b[47m\u001b[0m\n",
      "A/chicken/Japan/TU16 \u001b[30m\u001b[47m\u001b[42mt\u001b[47m\u001b[42mt\u001b[47m\u001b[43mg\u001b[47m\u001b[44mc\u001b[47m\u001b[44ma\u001b[47m\u001b[42mt\u001b[47m\u001b[42mt\u001b[47m\u001b[42mt\u001b[47m\u001b[44ma\u001b[47m\u001b[43mg\u001b[47m\u001b[44ma\u001b[47m\u001b[42mt\u001b[47m\u001b[42mt\u001b[47m\u001b[42mt\u001b[47m\u001b[43mg\u001b[47m\u001b[42mt\u001b[47m\u001b[43mg\u001b[47m\u001b[44ma\u001b[47m\u001b[43mg\u001b[47m\u001b[44mc\u001b[47m\u001b[42mt\u001b[47m\u001b[44mc\u001b[47m\u001b[44ma\u001b[47m\u001b[43mg\u001b[47m\u001b[44ma\u001b[47m\u001b[42mt\u001b[47m\u001b[42mt\u001b[47m\u001b[43mg\u001b[47m\u001b[42mt\u001b[47m\u001b[44ma\u001b[47m\u001b[43mg\u001b[47m\u001b[42mt\u001b[47m\u001b[42mt\u001b[47m\u001b[44ma\u001b[47m\u001b[44ma\u001b[47m\u001b[44ma\u001b[47m\u001b[44ma\u001b[47m\u001b[44ma\u001b[47m\u001b[44mc\u001b[47m\u001b[44ma\u001b[47m\u001b[44mc\u001b[47m\u001b[44mc\u001b[47m\u001b[44mc\u001b[47m\u001b[42mt\u001b[47m\u001b[42mt\u001b[47m\u001b[43mg\u001b[47m\u001b[42mt\u001b[47m\u001b[42mt\u001b[47m\u001b[42mt\u001b[47m\u001b[47m-\u001b[47m\u001b[47m-\u001b[47m\u001b[47m-\u001b[47m\u001b[47m-\u001b[47m\u001b[47m-\u001b[47m\u001b[47m-\u001b[47m\u001b[47m-\u001b[47m\u001b[47m-\u001b[47m\u001b[47m-\u001b[47m\u001b[47m-\u001b[47m\u001b[47m-\u001b[47m\u001b[47m-\u001b[47m\u001b[47m-\u001b[47m\u001b[47m-\u001b[47m\u001b[47m-\u001b[47m\u001b[47m-\u001b[47m\u001b[47m-\u001b[47m\u001b[47m-\u001b[47m\u001b[47m-\u001b[47m\u001b[47m-\u001b[47m\u001b[47m-\u001b[47m\u001b[47m-\u001b[47m\u001b[47m-\u001b[47m\u001b[47m-\u001b[47m\u001b[47m-\u001b[47m\u001b[47m-\u001b[47m\u001b[47m-\u001b[47m\u001b[47m-\u001b[47m\u001b[47m-\u001b[47m\u001b[47m-\u001b[47m\u001b[47m-\u001b[47m\u001b[47m-\u001b[47m\u001b[47m-\u001b[47m\u001b[47m-\u001b[47m\u001b[47m-\u001b[47m\u001b[47m-\u001b[47m\u001b[47m-\u001b[47m\u001b[47m-\u001b[47m\u001b[47m-\u001b[47m\u001b[47m-\u001b[47m\u001b[47m-\u001b[47m\u001b[47m-\u001b[47m\u001b[47m-\u001b[47m\u001b[47m-\u001b[47m\u001b[47m-\u001b[47m\u001b[47m-\u001b[47m\u001b[47m-\u001b[47m\u001b[47m-\u001b[47m\u001b[47m-\u001b[47m\u001b[47m-\u001b[47m\u001b[47m-\u001b[47m\u001b[0m\n",
      "A/chicken/Japan/TU20 \u001b[30m\u001b[47m\u001b[42mt\u001b[47m\u001b[42mt\u001b[47m\u001b[43mg\u001b[47m\u001b[44mc\u001b[47m\u001b[44ma\u001b[47m\u001b[42mt\u001b[47m\u001b[42mt\u001b[47m\u001b[42mt\u001b[47m\u001b[44ma\u001b[47m\u001b[43mg\u001b[47m\u001b[44ma\u001b[47m\u001b[42mt\u001b[47m\u001b[42mt\u001b[47m\u001b[42mt\u001b[47m\u001b[43mg\u001b[47m\u001b[42mt\u001b[47m\u001b[43mg\u001b[47m\u001b[44ma\u001b[47m\u001b[43mg\u001b[47m\u001b[44mc\u001b[47m\u001b[42mt\u001b[47m\u001b[44mc\u001b[47m\u001b[44ma\u001b[47m\u001b[43mg\u001b[47m\u001b[44ma\u001b[47m\u001b[42mt\u001b[47m\u001b[42mt\u001b[47m\u001b[43mg\u001b[47m\u001b[42mt\u001b[47m\u001b[44ma\u001b[47m\u001b[43mg\u001b[47m\u001b[42mt\u001b[47m\u001b[42mt\u001b[47m\u001b[44ma\u001b[47m\u001b[44ma\u001b[47m\u001b[44ma\u001b[47m\u001b[44ma\u001b[47m\u001b[44ma\u001b[47m\u001b[44mc\u001b[47m\u001b[44ma\u001b[47m\u001b[44mc\u001b[47m\u001b[44mc\u001b[47m\u001b[44mc\u001b[47m\u001b[42mt\u001b[47m\u001b[42mt\u001b[47m\u001b[43mg\u001b[47m\u001b[42mt\u001b[47m\u001b[42mt\u001b[47m\u001b[42mt\u001b[47m\u001b[44mc\u001b[47m\u001b[42mt\u001b[47m\u001b[44ma\u001b[47m\u001b[44mc\u001b[47m\u001b[42mt\u001b[47m\u001b[47m-\u001b[47m\u001b[47m-\u001b[47m\u001b[47m-\u001b[47m\u001b[47m-\u001b[47m\u001b[47m-\u001b[47m\u001b[47m-\u001b[47m\u001b[47m-\u001b[47m\u001b[47m-\u001b[47m\u001b[47m-\u001b[47m\u001b[47m-\u001b[47m\u001b[47m-\u001b[47m\u001b[47m-\u001b[47m\u001b[47m-\u001b[47m\u001b[47m-\u001b[47m\u001b[47m-\u001b[47m\u001b[47m-\u001b[47m\u001b[47m-\u001b[47m\u001b[47m-\u001b[47m\u001b[47m-\u001b[47m\u001b[47m-\u001b[47m\u001b[47m-\u001b[47m\u001b[47m-\u001b[47m\u001b[47m-\u001b[47m\u001b[47m-\u001b[47m\u001b[47m-\u001b[47m\u001b[47m-\u001b[47m\u001b[47m-\u001b[47m\u001b[47m-\u001b[47m\u001b[47m-\u001b[47m\u001b[47m-\u001b[47m\u001b[47m-\u001b[47m\u001b[47m-\u001b[47m\u001b[47m-\u001b[47m\u001b[47m-\u001b[47m\u001b[47m-\u001b[47m\u001b[47m-\u001b[47m\u001b[47m-\u001b[47m\u001b[47m-\u001b[47m\u001b[47m-\u001b[47m\u001b[47m-\u001b[47m\u001b[47m-\u001b[47m\u001b[47m-\u001b[47m\u001b[47m-\u001b[47m\u001b[47m-\u001b[47m\u001b[47m-\u001b[47m\u001b[47m-\u001b[47m\u001b[0m\n",
      "A/chicken/Magadan/14 \u001b[30m\u001b[47m\u001b[42mt\u001b[47m\u001b[42mt\u001b[47m\u001b[43mg\u001b[47m\u001b[44mc\u001b[47m\u001b[44ma\u001b[47m\u001b[42mt\u001b[47m\u001b[42mt\u001b[47m\u001b[42mt\u001b[47m\u001b[44ma\u001b[47m\u001b[43mg\u001b[47m\u001b[44ma\u001b[47m\u001b[42mt\u001b[47m\u001b[42mt\u001b[47m\u001b[42mt\u001b[47m\u001b[43mg\u001b[47m\u001b[42mt\u001b[47m\u001b[43mg\u001b[47m\u001b[44ma\u001b[47m\u001b[43mg\u001b[47m\u001b[44mc\u001b[47m\u001b[42mt\u001b[47m\u001b[44mc\u001b[47m\u001b[44ma\u001b[47m\u001b[43mg\u001b[47m\u001b[44ma\u001b[47m\u001b[42mt\u001b[47m\u001b[42mt\u001b[47m\u001b[43mg\u001b[47m\u001b[42mt\u001b[47m\u001b[44ma\u001b[47m\u001b[43mg\u001b[47m\u001b[42mt\u001b[47m\u001b[42mt\u001b[47m\u001b[44ma\u001b[47m\u001b[44ma\u001b[47m\u001b[44ma\u001b[47m\u001b[44ma\u001b[47m\u001b[44ma\u001b[47m\u001b[44mc\u001b[47m\u001b[44ma\u001b[47m\u001b[44mc\u001b[47m\u001b[44mc\u001b[47m\u001b[44mc\u001b[47m\u001b[42mt\u001b[47m\u001b[42mt\u001b[47m\u001b[43mg\u001b[47m\u001b[42mt\u001b[47m\u001b[42mt\u001b[47m\u001b[42mt\u001b[47m\u001b[44mc\u001b[47m\u001b[42mt\u001b[47m\u001b[44ma\u001b[47m\u001b[44mc\u001b[47m\u001b[42mt\u001b[47m\u001b[47m-\u001b[47m\u001b[47m-\u001b[47m\u001b[47m-\u001b[47m\u001b[47m-\u001b[47m\u001b[47m-\u001b[47m\u001b[47m-\u001b[47m\u001b[47m-\u001b[47m\u001b[47m-\u001b[47m\u001b[47m-\u001b[47m\u001b[47m-\u001b[47m\u001b[47m-\u001b[47m\u001b[47m-\u001b[47m\u001b[47m-\u001b[47m\u001b[47m-\u001b[47m\u001b[47m-\u001b[47m\u001b[47m-\u001b[47m\u001b[47m-\u001b[47m\u001b[47m-\u001b[47m\u001b[47m-\u001b[47m\u001b[47m-\u001b[47m\u001b[47m-\u001b[47m\u001b[47m-\u001b[47m\u001b[47m-\u001b[47m\u001b[47m-\u001b[47m\u001b[47m-\u001b[47m\u001b[47m-\u001b[47m\u001b[47m-\u001b[47m\u001b[47m-\u001b[47m\u001b[47m-\u001b[47m\u001b[47m-\u001b[47m\u001b[47m-\u001b[47m\u001b[47m-\u001b[47m\u001b[47m-\u001b[47m\u001b[47m-\u001b[47m\u001b[47m-\u001b[47m\u001b[47m-\u001b[47m\u001b[47m-\u001b[47m\u001b[47m-\u001b[47m\u001b[47m-\u001b[47m\u001b[47m-\u001b[47m\u001b[47m-\u001b[47m\u001b[47m-\u001b[47m\u001b[47m-\u001b[47m\u001b[47m-\u001b[47m\u001b[47m-\u001b[47m\u001b[47m-\u001b[47m\u001b[0m\n",
      "A/chicken/Magadan/23 \u001b[30m\u001b[47m\u001b[42mt\u001b[47m\u001b[42mt\u001b[47m\u001b[43mg\u001b[47m\u001b[44mc\u001b[47m\u001b[44ma\u001b[47m\u001b[42mt\u001b[47m\u001b[42mt\u001b[47m\u001b[42mt\u001b[47m\u001b[44ma\u001b[47m\u001b[43mg\u001b[47m\u001b[44ma\u001b[47m\u001b[42mt\u001b[47m\u001b[42mt\u001b[47m\u001b[42mt\u001b[47m\u001b[43mg\u001b[47m\u001b[42mt\u001b[47m\u001b[43mg\u001b[47m\u001b[44ma\u001b[47m\u001b[43mg\u001b[47m\u001b[44mc\u001b[47m\u001b[42mt\u001b[47m\u001b[44mc\u001b[47m\u001b[44ma\u001b[47m\u001b[43mg\u001b[47m\u001b[44ma\u001b[47m\u001b[42mt\u001b[47m\u001b[42mt\u001b[47m\u001b[43mg\u001b[47m\u001b[42mt\u001b[47m\u001b[44ma\u001b[47m\u001b[43mg\u001b[47m\u001b[42mt\u001b[47m\u001b[42mt\u001b[47m\u001b[44ma\u001b[47m\u001b[44ma\u001b[47m\u001b[44ma\u001b[47m\u001b[44ma\u001b[47m\u001b[44ma\u001b[47m\u001b[44mc\u001b[47m\u001b[44ma\u001b[47m\u001b[44mc\u001b[47m\u001b[44mc\u001b[47m\u001b[44mc\u001b[47m\u001b[42mt\u001b[47m\u001b[42mt\u001b[47m\u001b[43mg\u001b[47m\u001b[42mt\u001b[47m\u001b[42mt\u001b[47m\u001b[42mt\u001b[47m\u001b[44mc\u001b[47m\u001b[42mt\u001b[47m\u001b[44ma\u001b[47m\u001b[44mc\u001b[47m\u001b[42mt\u001b[47m\u001b[47m-\u001b[47m\u001b[47m-\u001b[47m\u001b[47m-\u001b[47m\u001b[47m-\u001b[47m\u001b[47m-\u001b[47m\u001b[47m-\u001b[47m\u001b[47m-\u001b[47m\u001b[47m-\u001b[47m\u001b[47m-\u001b[47m\u001b[47m-\u001b[47m\u001b[47m-\u001b[47m\u001b[47m-\u001b[47m\u001b[47m-\u001b[47m\u001b[47m-\u001b[47m\u001b[47m-\u001b[47m\u001b[47m-\u001b[47m\u001b[47m-\u001b[47m\u001b[47m-\u001b[47m\u001b[47m-\u001b[47m\u001b[47m-\u001b[47m\u001b[47m-\u001b[47m\u001b[47m-\u001b[47m\u001b[47m-\u001b[47m\u001b[47m-\u001b[47m\u001b[47m-\u001b[47m\u001b[47m-\u001b[47m\u001b[47m-\u001b[47m\u001b[47m-\u001b[47m\u001b[47m-\u001b[47m\u001b[47m-\u001b[47m\u001b[47m-\u001b[47m\u001b[47m-\u001b[47m\u001b[47m-\u001b[47m\u001b[47m-\u001b[47m\u001b[47m-\u001b[47m\u001b[47m-\u001b[47m\u001b[47m-\u001b[47m\u001b[47m-\u001b[47m\u001b[47m-\u001b[47m\u001b[47m-\u001b[47m\u001b[47m-\u001b[47m\u001b[47m-\u001b[47m\u001b[47m-\u001b[47m\u001b[47m-\u001b[47m\u001b[47m-\u001b[47m\u001b[47m-\u001b[47m\u001b[0m\n",
      "A/chicken/Magadan/23 \u001b[30m\u001b[47m\u001b[42mt\u001b[47m\u001b[42mt\u001b[47m\u001b[43mg\u001b[47m\u001b[44mc\u001b[47m\u001b[44ma\u001b[47m\u001b[42mt\u001b[47m\u001b[42mt\u001b[47m\u001b[42mt\u001b[47m\u001b[44ma\u001b[47m\u001b[43mg\u001b[47m\u001b[44ma\u001b[47m\u001b[42mt\u001b[47m\u001b[42mt\u001b[47m\u001b[42mt\u001b[47m\u001b[43mg\u001b[47m\u001b[42mt\u001b[47m\u001b[43mg\u001b[47m\u001b[44ma\u001b[47m\u001b[43mg\u001b[47m\u001b[44mc\u001b[47m\u001b[42mt\u001b[47m\u001b[44mc\u001b[47m\u001b[44ma\u001b[47m\u001b[43mg\u001b[47m\u001b[44ma\u001b[47m\u001b[42mt\u001b[47m\u001b[42mt\u001b[47m\u001b[43mg\u001b[47m\u001b[42mt\u001b[47m\u001b[44ma\u001b[47m\u001b[43mg\u001b[47m\u001b[42mt\u001b[47m\u001b[42mt\u001b[47m\u001b[44ma\u001b[47m\u001b[44ma\u001b[47m\u001b[44ma\u001b[47m\u001b[44ma\u001b[47m\u001b[44ma\u001b[47m\u001b[44mc\u001b[47m\u001b[44ma\u001b[47m\u001b[44mc\u001b[47m\u001b[44mc\u001b[47m\u001b[44mc\u001b[47m\u001b[42mt\u001b[47m\u001b[42mt\u001b[47m\u001b[43mg\u001b[47m\u001b[42mt\u001b[47m\u001b[42mt\u001b[47m\u001b[42mt\u001b[47m\u001b[44mc\u001b[47m\u001b[42mt\u001b[47m\u001b[44ma\u001b[47m\u001b[44mc\u001b[47m\u001b[42mt\u001b[47m\u001b[47m-\u001b[47m\u001b[47m-\u001b[47m\u001b[47m-\u001b[47m\u001b[47m-\u001b[47m\u001b[47m-\u001b[47m\u001b[47m-\u001b[47m\u001b[47m-\u001b[47m\u001b[47m-\u001b[47m\u001b[47m-\u001b[47m\u001b[47m-\u001b[47m\u001b[47m-\u001b[47m\u001b[47m-\u001b[47m\u001b[47m-\u001b[47m\u001b[47m-\u001b[47m\u001b[47m-\u001b[47m\u001b[47m-\u001b[47m\u001b[47m-\u001b[47m\u001b[47m-\u001b[47m\u001b[47m-\u001b[47m\u001b[47m-\u001b[47m\u001b[47m-\u001b[47m\u001b[47m-\u001b[47m\u001b[47m-\u001b[47m\u001b[47m-\u001b[47m\u001b[47m-\u001b[47m\u001b[47m-\u001b[47m\u001b[47m-\u001b[47m\u001b[47m-\u001b[47m\u001b[47m-\u001b[47m\u001b[47m-\u001b[47m\u001b[47m-\u001b[47m\u001b[47m-\u001b[47m\u001b[47m-\u001b[47m\u001b[47m-\u001b[47m\u001b[47m-\u001b[47m\u001b[47m-\u001b[47m\u001b[47m-\u001b[47m\u001b[47m-\u001b[47m\u001b[47m-\u001b[47m\u001b[47m-\u001b[47m\u001b[47m-\u001b[47m\u001b[47m-\u001b[47m\u001b[47m-\u001b[47m\u001b[47m-\u001b[47m\u001b[47m-\u001b[47m\u001b[47m-\u001b[47m\u001b[0m\n",
      "A/chicken/Miyagi/TU1 \u001b[30m\u001b[47m\u001b[42mt\u001b[47m\u001b[42mt\u001b[47m\u001b[43mg\u001b[47m\u001b[44mc\u001b[47m\u001b[44ma\u001b[47m\u001b[42mt\u001b[47m\u001b[42mt\u001b[47m\u001b[42mt\u001b[47m\u001b[44ma\u001b[47m\u001b[43mg\u001b[47m\u001b[44ma\u001b[47m\u001b[42mt\u001b[47m\u001b[42mt\u001b[47m\u001b[42mt\u001b[47m\u001b[43mg\u001b[47m\u001b[42mt\u001b[47m\u001b[43mg\u001b[47m\u001b[44ma\u001b[47m\u001b[43mg\u001b[47m\u001b[44mc\u001b[47m\u001b[42mt\u001b[47m\u001b[44mc\u001b[47m\u001b[44ma\u001b[47m\u001b[43mg\u001b[47m\u001b[44ma\u001b[47m\u001b[42mt\u001b[47m\u001b[42mt\u001b[47m\u001b[43mg\u001b[47m\u001b[42mt\u001b[47m\u001b[44ma\u001b[47m\u001b[43mg\u001b[47m\u001b[42mt\u001b[47m\u001b[42mt\u001b[47m\u001b[44ma\u001b[47m\u001b[44ma\u001b[47m\u001b[44ma\u001b[47m\u001b[44ma\u001b[47m\u001b[44ma\u001b[47m\u001b[44mc\u001b[47m\u001b[44ma\u001b[47m\u001b[44mc\u001b[47m\u001b[44mc\u001b[47m\u001b[44mc\u001b[47m\u001b[42mt\u001b[47m\u001b[42mt\u001b[47m\u001b[43mg\u001b[47m\u001b[42mt\u001b[47m\u001b[42mt\u001b[47m\u001b[42mt\u001b[47m\u001b[47m-\u001b[47m\u001b[47m-\u001b[47m\u001b[47m-\u001b[47m\u001b[47m-\u001b[47m\u001b[47m-\u001b[47m\u001b[47m-\u001b[47m\u001b[47m-\u001b[47m\u001b[47m-\u001b[47m\u001b[47m-\u001b[47m\u001b[47m-\u001b[47m\u001b[47m-\u001b[47m\u001b[47m-\u001b[47m\u001b[47m-\u001b[47m\u001b[47m-\u001b[47m\u001b[47m-\u001b[47m\u001b[47m-\u001b[47m\u001b[47m-\u001b[47m\u001b[47m-\u001b[47m\u001b[47m-\u001b[47m\u001b[47m-\u001b[47m\u001b[47m-\u001b[47m\u001b[47m-\u001b[47m\u001b[47m-\u001b[47m\u001b[47m-\u001b[47m\u001b[47m-\u001b[47m\u001b[47m-\u001b[47m\u001b[47m-\u001b[47m\u001b[47m-\u001b[47m\u001b[47m-\u001b[47m\u001b[47m-\u001b[47m\u001b[47m-\u001b[47m\u001b[47m-\u001b[47m\u001b[47m-\u001b[47m\u001b[47m-\u001b[47m\u001b[47m-\u001b[47m\u001b[47m-\u001b[47m\u001b[47m-\u001b[47m\u001b[47m-\u001b[47m\u001b[47m-\u001b[47m\u001b[47m-\u001b[47m\u001b[47m-\u001b[47m\u001b[47m-\u001b[47m\u001b[47m-\u001b[47m\u001b[47m-\u001b[47m\u001b[47m-\u001b[47m\u001b[47m-\u001b[47m\u001b[47m-\u001b[47m\u001b[47m-\u001b[47m\u001b[47m-\u001b[47m\u001b[47m-\u001b[47m\u001b[47m-\u001b[47m\u001b[0m\n",
      "A/chicken/Sakhalin/3 \u001b[30m\u001b[47m\u001b[42mt\u001b[47m\u001b[42mt\u001b[47m\u001b[43mg\u001b[47m\u001b[44mc\u001b[47m\u001b[44ma\u001b[47m\u001b[42mt\u001b[47m\u001b[42mt\u001b[47m\u001b[42mt\u001b[47m\u001b[44ma\u001b[47m\u001b[43mg\u001b[47m\u001b[44ma\u001b[47m\u001b[42mt\u001b[47m\u001b[42mt\u001b[47m\u001b[42mt\u001b[47m\u001b[43mg\u001b[47m\u001b[42mt\u001b[47m\u001b[43mg\u001b[47m\u001b[44ma\u001b[47m\u001b[43mg\u001b[47m\u001b[44mc\u001b[47m\u001b[42mt\u001b[47m\u001b[44mc\u001b[47m\u001b[44ma\u001b[47m\u001b[43mg\u001b[47m\u001b[44ma\u001b[47m\u001b[42mt\u001b[47m\u001b[42mt\u001b[47m\u001b[43mg\u001b[47m\u001b[42mt\u001b[47m\u001b[44ma\u001b[47m\u001b[43mg\u001b[47m\u001b[42mt\u001b[47m\u001b[42mt\u001b[47m\u001b[44ma\u001b[47m\u001b[44ma\u001b[47m\u001b[44ma\u001b[47m\u001b[44ma\u001b[47m\u001b[44ma\u001b[47m\u001b[44mc\u001b[47m\u001b[44ma\u001b[47m\u001b[44mc\u001b[47m\u001b[44mc\u001b[47m\u001b[44mc\u001b[47m\u001b[42mt\u001b[47m\u001b[42mt\u001b[47m\u001b[43mg\u001b[47m\u001b[42mt\u001b[47m\u001b[42mt\u001b[47m\u001b[42mt\u001b[47m\u001b[44mc\u001b[47m\u001b[42mt\u001b[47m\u001b[44ma\u001b[47m\u001b[44mc\u001b[47m\u001b[42mt\u001b[47m\u001b[47m-\u001b[47m\u001b[47m-\u001b[47m\u001b[47m-\u001b[47m\u001b[47m-\u001b[47m\u001b[47m-\u001b[47m\u001b[47m-\u001b[47m\u001b[47m-\u001b[47m\u001b[47m-\u001b[47m\u001b[47m-\u001b[47m\u001b[47m-\u001b[47m\u001b[47m-\u001b[47m\u001b[47m-\u001b[47m\u001b[47m-\u001b[47m\u001b[47m-\u001b[47m\u001b[47m-\u001b[47m\u001b[47m-\u001b[47m\u001b[47m-\u001b[47m\u001b[47m-\u001b[47m\u001b[47m-\u001b[47m\u001b[47m-\u001b[47m\u001b[47m-\u001b[47m\u001b[47m-\u001b[47m\u001b[47m-\u001b[47m\u001b[47m-\u001b[47m\u001b[47m-\u001b[47m\u001b[47m-\u001b[47m\u001b[47m-\u001b[47m\u001b[47m-\u001b[47m\u001b[47m-\u001b[47m\u001b[47m-\u001b[47m\u001b[47m-\u001b[47m\u001b[47m-\u001b[47m\u001b[47m-\u001b[47m\u001b[47m-\u001b[47m\u001b[47m-\u001b[47m\u001b[47m-\u001b[47m\u001b[47m-\u001b[47m\u001b[47m-\u001b[47m\u001b[47m-\u001b[47m\u001b[47m-\u001b[47m\u001b[47m-\u001b[47m\u001b[47m-\u001b[47m\u001b[47m-\u001b[47m\u001b[47m-\u001b[47m\u001b[47m-\u001b[47m\u001b[47m-\u001b[47m\u001b[0m\n",
      "A/chicken/Sakhalin/3 \u001b[30m\u001b[47m\u001b[42mt\u001b[47m\u001b[42mt\u001b[47m\u001b[43mg\u001b[47m\u001b[44mc\u001b[47m\u001b[44ma\u001b[47m\u001b[42mt\u001b[47m\u001b[42mt\u001b[47m\u001b[42mt\u001b[47m\u001b[44ma\u001b[47m\u001b[43mg\u001b[47m\u001b[44ma\u001b[47m\u001b[42mt\u001b[47m\u001b[42mt\u001b[47m\u001b[42mt\u001b[47m\u001b[43mg\u001b[47m\u001b[42mt\u001b[47m\u001b[43mg\u001b[47m\u001b[44ma\u001b[47m\u001b[43mg\u001b[47m\u001b[44mc\u001b[47m\u001b[42mt\u001b[47m\u001b[44mc\u001b[47m\u001b[44ma\u001b[47m\u001b[43mg\u001b[47m\u001b[44ma\u001b[47m\u001b[42mt\u001b[47m\u001b[42mt\u001b[47m\u001b[43mg\u001b[47m\u001b[42mt\u001b[47m\u001b[44ma\u001b[47m\u001b[43mg\u001b[47m\u001b[42mt\u001b[47m\u001b[42mt\u001b[47m\u001b[44ma\u001b[47m\u001b[44ma\u001b[47m\u001b[44ma\u001b[47m\u001b[44ma\u001b[47m\u001b[44ma\u001b[47m\u001b[44mc\u001b[47m\u001b[44ma\u001b[47m\u001b[44mc\u001b[47m\u001b[44mc\u001b[47m\u001b[44mc\u001b[47m\u001b[42mt\u001b[47m\u001b[42mt\u001b[47m\u001b[43mg\u001b[47m\u001b[42mt\u001b[47m\u001b[42mt\u001b[47m\u001b[42mt\u001b[47m\u001b[44mc\u001b[47m\u001b[42mt\u001b[47m\u001b[44ma\u001b[47m\u001b[44mc\u001b[47m\u001b[42mt\u001b[47m\u001b[47m-\u001b[47m\u001b[47m-\u001b[47m\u001b[47m-\u001b[47m\u001b[47m-\u001b[47m\u001b[47m-\u001b[47m\u001b[47m-\u001b[47m\u001b[47m-\u001b[47m\u001b[47m-\u001b[47m\u001b[47m-\u001b[47m\u001b[47m-\u001b[47m\u001b[47m-\u001b[47m\u001b[47m-\u001b[47m\u001b[47m-\u001b[47m\u001b[47m-\u001b[47m\u001b[47m-\u001b[47m\u001b[47m-\u001b[47m\u001b[47m-\u001b[47m\u001b[47m-\u001b[47m\u001b[47m-\u001b[47m\u001b[47m-\u001b[47m\u001b[47m-\u001b[47m\u001b[47m-\u001b[47m\u001b[47m-\u001b[47m\u001b[47m-\u001b[47m\u001b[47m-\u001b[47m\u001b[47m-\u001b[47m\u001b[47m-\u001b[47m\u001b[47m-\u001b[47m\u001b[47m-\u001b[47m\u001b[47m-\u001b[47m\u001b[47m-\u001b[47m\u001b[47m-\u001b[47m\u001b[47m-\u001b[47m\u001b[47m-\u001b[47m\u001b[47m-\u001b[47m\u001b[47m-\u001b[47m\u001b[47m-\u001b[47m\u001b[47m-\u001b[47m\u001b[47m-\u001b[47m\u001b[47m-\u001b[47m\u001b[47m-\u001b[47m\u001b[47m-\u001b[47m\u001b[47m-\u001b[47m\u001b[47m-\u001b[47m\u001b[47m-\u001b[47m\u001b[47m-\u001b[47m\u001b[0m\n",
      "A/Cooper_s_Hawk/BC/A \u001b[30m\u001b[47m\u001b[42mt\u001b[47m\u001b[42mt\u001b[47m\u001b[43mg\u001b[47m\u001b[44mc\u001b[47m\u001b[44ma\u001b[47m\u001b[42mt\u001b[47m\u001b[42mt\u001b[47m\u001b[42mt\u001b[47m\u001b[44ma\u001b[47m\u001b[43mg\u001b[47m\u001b[44ma\u001b[47m\u001b[42mt\u001b[47m\u001b[42mt\u001b[47m\u001b[42mt\u001b[47m\u001b[43mg\u001b[47m\u001b[42mt\u001b[47m\u001b[43mg\u001b[47m\u001b[44ma\u001b[47m\u001b[43mg\u001b[47m\u001b[44mc\u001b[47m\u001b[42mt\u001b[47m\u001b[44mc\u001b[47m\u001b[44ma\u001b[47m\u001b[43mg\u001b[47m\u001b[44ma\u001b[47m\u001b[42mt\u001b[47m\u001b[42mt\u001b[47m\u001b[43mg\u001b[47m\u001b[42mt\u001b[47m\u001b[44ma\u001b[47m\u001b[43mg\u001b[47m\u001b[42mt\u001b[47m\u001b[42mt\u001b[47m\u001b[44ma\u001b[47m\u001b[44ma\u001b[47m\u001b[44ma\u001b[47m\u001b[44ma\u001b[47m\u001b[44ma\u001b[47m\u001b[44mc\u001b[47m\u001b[44ma\u001b[47m\u001b[44mc\u001b[47m\u001b[44mc\u001b[47m\u001b[44mc\u001b[47m\u001b[42mt\u001b[47m\u001b[42mt\u001b[47m\u001b[43mg\u001b[47m\u001b[42mt\u001b[47m\u001b[42mt\u001b[47m\u001b[42mt\u001b[47m\u001b[44mc\u001b[47m\u001b[42mt\u001b[47m\u001b[44ma\u001b[47m\u001b[44mc\u001b[47m\u001b[42mn\u001b[47m\u001b[47m-\u001b[47m\u001b[47m-\u001b[47m\u001b[47m-\u001b[47m\u001b[47m-\u001b[47m\u001b[47m-\u001b[47m\u001b[47m-\u001b[47m\u001b[47m-\u001b[47m\u001b[47m-\u001b[47m\u001b[47m-\u001b[47m\u001b[47m-\u001b[47m\u001b[47m-\u001b[47m\u001b[47m-\u001b[47m\u001b[47m-\u001b[47m\u001b[47m-\u001b[47m\u001b[47m-\u001b[47m\u001b[47m-\u001b[47m\u001b[47m-\u001b[47m\u001b[47m-\u001b[47m\u001b[47m-\u001b[47m\u001b[47m-\u001b[47m\u001b[47m-\u001b[47m\u001b[47m-\u001b[47m\u001b[47m-\u001b[47m\u001b[47m-\u001b[47m\u001b[47m-\u001b[47m\u001b[47m-\u001b[47m\u001b[47m-\u001b[47m\u001b[47m-\u001b[47m\u001b[47m-\u001b[47m\u001b[47m-\u001b[47m\u001b[47m-\u001b[47m\u001b[47m-\u001b[47m\u001b[47m-\u001b[47m\u001b[47m-\u001b[47m\u001b[47m-\u001b[47m\u001b[47m-\u001b[47m\u001b[47m-\u001b[47m\u001b[47m-\u001b[47m\u001b[47m-\u001b[47m\u001b[47m-\u001b[47m\u001b[47m-\u001b[47m\u001b[47m-\u001b[47m\u001b[47m-\u001b[47m\u001b[47m-\u001b[47m\u001b[47m-\u001b[47m\u001b[47m-\u001b[47m\u001b[0m\n",
      "A/crow/Hokkaido/0102 \u001b[30m\u001b[47m\u001b[42mt\u001b[47m\u001b[42mt\u001b[47m\u001b[43mg\u001b[47m\u001b[44mc\u001b[47m\u001b[44ma\u001b[47m\u001b[42mt\u001b[47m\u001b[42mt\u001b[47m\u001b[42mt\u001b[47m\u001b[44ma\u001b[47m\u001b[43mg\u001b[47m\u001b[44ma\u001b[47m\u001b[42mt\u001b[47m\u001b[42mt\u001b[47m\u001b[42mt\u001b[47m\u001b[43mg\u001b[47m\u001b[42mt\u001b[47m\u001b[43mg\u001b[47m\u001b[44ma\u001b[47m\u001b[43mg\u001b[47m\u001b[44mc\u001b[47m\u001b[42mt\u001b[47m\u001b[44mc\u001b[47m\u001b[44ma\u001b[47m\u001b[43mg\u001b[47m\u001b[44ma\u001b[47m\u001b[42mt\u001b[47m\u001b[42mt\u001b[47m\u001b[43mg\u001b[47m\u001b[42mt\u001b[47m\u001b[44ma\u001b[47m\u001b[43mg\u001b[47m\u001b[42mt\u001b[47m\u001b[42mt\u001b[47m\u001b[44ma\u001b[47m\u001b[44ma\u001b[47m\u001b[44ma\u001b[47m\u001b[44ma\u001b[47m\u001b[44ma\u001b[47m\u001b[44mc\u001b[47m\u001b[44ma\u001b[47m\u001b[44mc\u001b[47m\u001b[44mc\u001b[47m\u001b[44mc\u001b[47m\u001b[42mt\u001b[47m\u001b[42mt\u001b[47m\u001b[43mg\u001b[47m\u001b[42mt\u001b[47m\u001b[42mt\u001b[47m\u001b[42mt\u001b[47m\u001b[44mc\u001b[47m\u001b[42mt\u001b[47m\u001b[44ma\u001b[47m\u001b[47m-\u001b[47m\u001b[47m-\u001b[47m\u001b[47m-\u001b[47m\u001b[47m-\u001b[47m\u001b[47m-\u001b[47m\u001b[47m-\u001b[47m\u001b[47m-\u001b[47m\u001b[47m-\u001b[47m\u001b[47m-\u001b[47m\u001b[47m-\u001b[47m\u001b[47m-\u001b[47m\u001b[47m-\u001b[47m\u001b[47m-\u001b[47m\u001b[47m-\u001b[47m\u001b[47m-\u001b[47m\u001b[47m-\u001b[47m\u001b[47m-\u001b[47m\u001b[47m-\u001b[47m\u001b[47m-\u001b[47m\u001b[47m-\u001b[47m\u001b[47m-\u001b[47m\u001b[47m-\u001b[47m\u001b[47m-\u001b[47m\u001b[47m-\u001b[47m\u001b[47m-\u001b[47m\u001b[47m-\u001b[47m\u001b[47m-\u001b[47m\u001b[47m-\u001b[47m\u001b[47m-\u001b[47m\u001b[47m-\u001b[47m\u001b[47m-\u001b[47m\u001b[47m-\u001b[47m\u001b[47m-\u001b[47m\u001b[47m-\u001b[47m\u001b[47m-\u001b[47m\u001b[47m-\u001b[47m\u001b[47m-\u001b[47m\u001b[47m-\u001b[47m\u001b[47m-\u001b[47m\u001b[47m-\u001b[47m\u001b[47m-\u001b[47m\u001b[47m-\u001b[47m\u001b[47m-\u001b[47m\u001b[47m-\u001b[47m\u001b[47m-\u001b[47m\u001b[47m-\u001b[47m\u001b[47m-\u001b[47m\u001b[47m-\u001b[47m\u001b[0m\n",
      "A/crow/Khabarovsk/21 \u001b[30m\u001b[47m\u001b[42mt\u001b[47m\u001b[42mt\u001b[47m\u001b[43mg\u001b[47m\u001b[44mc\u001b[47m\u001b[44ma\u001b[47m\u001b[42mt\u001b[47m\u001b[42mt\u001b[47m\u001b[42mt\u001b[47m\u001b[44ma\u001b[47m\u001b[43mg\u001b[47m\u001b[44ma\u001b[47m\u001b[42mt\u001b[47m\u001b[42mt\u001b[47m\u001b[42mt\u001b[47m\u001b[43mg\u001b[47m\u001b[42mt\u001b[47m\u001b[43mg\u001b[47m\u001b[44ma\u001b[47m\u001b[43mg\u001b[47m\u001b[44mc\u001b[47m\u001b[42mt\u001b[47m\u001b[44mc\u001b[47m\u001b[44ma\u001b[47m\u001b[43mg\u001b[47m\u001b[44ma\u001b[47m\u001b[42mt\u001b[47m\u001b[42mt\u001b[47m\u001b[43mg\u001b[47m\u001b[42mt\u001b[47m\u001b[44ma\u001b[47m\u001b[43mg\u001b[47m\u001b[42mt\u001b[47m\u001b[42mt\u001b[47m\u001b[44ma\u001b[47m\u001b[44ma\u001b[47m\u001b[44ma\u001b[47m\u001b[44ma\u001b[47m\u001b[44ma\u001b[47m\u001b[44mc\u001b[47m\u001b[44ma\u001b[47m\u001b[44mc\u001b[47m\u001b[44mc\u001b[47m\u001b[44mc\u001b[47m\u001b[42mt\u001b[47m\u001b[42mt\u001b[47m\u001b[43mg\u001b[47m\u001b[42mt\u001b[47m\u001b[42mt\u001b[47m\u001b[42mt\u001b[47m\u001b[44mc\u001b[47m\u001b[42mt\u001b[47m\u001b[44ma\u001b[47m\u001b[44mc\u001b[47m\u001b[42mt\u001b[47m\u001b[47m-\u001b[47m\u001b[47m-\u001b[47m\u001b[47m-\u001b[47m\u001b[47m-\u001b[47m\u001b[47m-\u001b[47m\u001b[47m-\u001b[47m\u001b[47m-\u001b[47m\u001b[47m-\u001b[47m\u001b[47m-\u001b[47m\u001b[47m-\u001b[47m\u001b[47m-\u001b[47m\u001b[47m-\u001b[47m\u001b[47m-\u001b[47m\u001b[47m-\u001b[47m\u001b[47m-\u001b[47m\u001b[47m-\u001b[47m\u001b[47m-\u001b[47m\u001b[47m-\u001b[47m\u001b[47m-\u001b[47m\u001b[47m-\u001b[47m\u001b[47m-\u001b[47m\u001b[47m-\u001b[47m\u001b[47m-\u001b[47m\u001b[47m-\u001b[47m\u001b[47m-\u001b[47m\u001b[47m-\u001b[47m\u001b[47m-\u001b[47m\u001b[47m-\u001b[47m\u001b[47m-\u001b[47m\u001b[47m-\u001b[47m\u001b[47m-\u001b[47m\u001b[47m-\u001b[47m\u001b[47m-\u001b[47m\u001b[47m-\u001b[47m\u001b[47m-\u001b[47m\u001b[47m-\u001b[47m\u001b[47m-\u001b[47m\u001b[47m-\u001b[47m\u001b[47m-\u001b[47m\u001b[47m-\u001b[47m\u001b[47m-\u001b[47m\u001b[47m-\u001b[47m\u001b[47m-\u001b[47m\u001b[47m-\u001b[47m\u001b[47m-\u001b[47m\u001b[47m-\u001b[47m\u001b[0m\n",
      "A/crow/Khabarovsk/21 \u001b[30m\u001b[47m\u001b[42mt\u001b[47m\u001b[42mt\u001b[47m\u001b[43mg\u001b[47m\u001b[44mc\u001b[47m\u001b[44ma\u001b[47m\u001b[42mt\u001b[47m\u001b[42mt\u001b[47m\u001b[42mt\u001b[47m\u001b[44ma\u001b[47m\u001b[43mg\u001b[47m\u001b[44ma\u001b[47m\u001b[42mt\u001b[47m\u001b[42mt\u001b[47m\u001b[42mt\u001b[47m\u001b[43mg\u001b[47m\u001b[42mt\u001b[47m\u001b[43mg\u001b[47m\u001b[44ma\u001b[47m\u001b[43mg\u001b[47m\u001b[44mc\u001b[47m\u001b[42mt\u001b[47m\u001b[44mc\u001b[47m\u001b[44ma\u001b[47m\u001b[43mg\u001b[47m\u001b[44ma\u001b[47m\u001b[42mt\u001b[47m\u001b[42mt\u001b[47m\u001b[43mg\u001b[47m\u001b[42mt\u001b[47m\u001b[44ma\u001b[47m\u001b[43mg\u001b[47m\u001b[42mt\u001b[47m\u001b[42mt\u001b[47m\u001b[44ma\u001b[47m\u001b[44ma\u001b[47m\u001b[44ma\u001b[47m\u001b[44ma\u001b[47m\u001b[44ma\u001b[47m\u001b[44mc\u001b[47m\u001b[44ma\u001b[47m\u001b[44mc\u001b[47m\u001b[44mc\u001b[47m\u001b[44mc\u001b[47m\u001b[42mt\u001b[47m\u001b[42mt\u001b[47m\u001b[43mg\u001b[47m\u001b[42mt\u001b[47m\u001b[42mt\u001b[47m\u001b[42mt\u001b[47m\u001b[44mc\u001b[47m\u001b[42mt\u001b[47m\u001b[44ma\u001b[47m\u001b[44mc\u001b[47m\u001b[42mt\u001b[47m\u001b[47m-\u001b[47m\u001b[47m-\u001b[47m\u001b[47m-\u001b[47m\u001b[47m-\u001b[47m\u001b[47m-\u001b[47m\u001b[47m-\u001b[47m\u001b[47m-\u001b[47m\u001b[47m-\u001b[47m\u001b[47m-\u001b[47m\u001b[47m-\u001b[47m\u001b[47m-\u001b[47m\u001b[47m-\u001b[47m\u001b[47m-\u001b[47m\u001b[47m-\u001b[47m\u001b[47m-\u001b[47m\u001b[47m-\u001b[47m\u001b[47m-\u001b[47m\u001b[47m-\u001b[47m\u001b[47m-\u001b[47m\u001b[47m-\u001b[47m\u001b[47m-\u001b[47m\u001b[47m-\u001b[47m\u001b[47m-\u001b[47m\u001b[47m-\u001b[47m\u001b[47m-\u001b[47m\u001b[47m-\u001b[47m\u001b[47m-\u001b[47m\u001b[47m-\u001b[47m\u001b[47m-\u001b[47m\u001b[47m-\u001b[47m\u001b[47m-\u001b[47m\u001b[47m-\u001b[47m\u001b[47m-\u001b[47m\u001b[47m-\u001b[47m\u001b[47m-\u001b[47m\u001b[47m-\u001b[47m\u001b[47m-\u001b[47m\u001b[47m-\u001b[47m\u001b[47m-\u001b[47m\u001b[47m-\u001b[47m\u001b[47m-\u001b[47m\u001b[47m-\u001b[47m\u001b[47m-\u001b[47m\u001b[47m-\u001b[47m\u001b[47m-\u001b[47m\u001b[47m-\u001b[47m\u001b[0m\n",
      "A/domestic_duck/Maga \u001b[30m\u001b[47m\u001b[42mt\u001b[47m\u001b[42mt\u001b[47m\u001b[43mg\u001b[47m\u001b[44mc\u001b[47m\u001b[44ma\u001b[47m\u001b[42mt\u001b[47m\u001b[42mt\u001b[47m\u001b[42mt\u001b[47m\u001b[44ma\u001b[47m\u001b[43mg\u001b[47m\u001b[44ma\u001b[47m\u001b[42mt\u001b[47m\u001b[42mt\u001b[47m\u001b[42mt\u001b[47m\u001b[43mg\u001b[47m\u001b[42mt\u001b[47m\u001b[43mg\u001b[47m\u001b[44ma\u001b[47m\u001b[43mg\u001b[47m\u001b[44mc\u001b[47m\u001b[42mt\u001b[47m\u001b[44mc\u001b[47m\u001b[44ma\u001b[47m\u001b[43mg\u001b[47m\u001b[44ma\u001b[47m\u001b[42mt\u001b[47m\u001b[42mt\u001b[47m\u001b[43mg\u001b[47m\u001b[42mt\u001b[47m\u001b[44ma\u001b[47m\u001b[43mg\u001b[47m\u001b[42mt\u001b[47m\u001b[42mt\u001b[47m\u001b[44ma\u001b[47m\u001b[44ma\u001b[47m\u001b[44ma\u001b[47m\u001b[44ma\u001b[47m\u001b[44ma\u001b[47m\u001b[44mc\u001b[47m\u001b[44ma\u001b[47m\u001b[44mc\u001b[47m\u001b[44mc\u001b[47m\u001b[44mc\u001b[47m\u001b[42mt\u001b[47m\u001b[42mt\u001b[47m\u001b[43mg\u001b[47m\u001b[42mt\u001b[47m\u001b[42mt\u001b[47m\u001b[42mt\u001b[47m\u001b[44mc\u001b[47m\u001b[42mt\u001b[47m\u001b[44ma\u001b[47m\u001b[44mc\u001b[47m\u001b[42mt\u001b[47m\u001b[47m-\u001b[47m\u001b[47m-\u001b[47m\u001b[47m-\u001b[47m\u001b[47m-\u001b[47m\u001b[47m-\u001b[47m\u001b[47m-\u001b[47m\u001b[47m-\u001b[47m\u001b[47m-\u001b[47m\u001b[47m-\u001b[47m\u001b[47m-\u001b[47m\u001b[47m-\u001b[47m\u001b[47m-\u001b[47m\u001b[47m-\u001b[47m\u001b[47m-\u001b[47m\u001b[47m-\u001b[47m\u001b[47m-\u001b[47m\u001b[47m-\u001b[47m\u001b[47m-\u001b[47m\u001b[47m-\u001b[47m\u001b[47m-\u001b[47m\u001b[47m-\u001b[47m\u001b[47m-\u001b[47m\u001b[47m-\u001b[47m\u001b[47m-\u001b[47m\u001b[47m-\u001b[47m\u001b[47m-\u001b[47m\u001b[47m-\u001b[47m\u001b[47m-\u001b[47m\u001b[47m-\u001b[47m\u001b[47m-\u001b[47m\u001b[47m-\u001b[47m\u001b[47m-\u001b[47m\u001b[47m-\u001b[47m\u001b[47m-\u001b[47m\u001b[47m-\u001b[47m\u001b[47m-\u001b[47m\u001b[47m-\u001b[47m\u001b[47m-\u001b[47m\u001b[47m-\u001b[47m\u001b[47m-\u001b[47m\u001b[47m-\u001b[47m\u001b[47m-\u001b[47m\u001b[47m-\u001b[47m\u001b[47m-\u001b[47m\u001b[47m-\u001b[47m\u001b[47m-\u001b[47m\u001b[0m\n",
      "A/domestic_goose/Mag \u001b[30m\u001b[47m\u001b[42mt\u001b[47m\u001b[42mt\u001b[47m\u001b[43mg\u001b[47m\u001b[44mc\u001b[47m\u001b[44ma\u001b[47m\u001b[42mt\u001b[47m\u001b[42mt\u001b[47m\u001b[42mt\u001b[47m\u001b[44ma\u001b[47m\u001b[43mg\u001b[47m\u001b[44ma\u001b[47m\u001b[42mt\u001b[47m\u001b[42mt\u001b[47m\u001b[42mt\u001b[47m\u001b[43mg\u001b[47m\u001b[42mt\u001b[47m\u001b[43mg\u001b[47m\u001b[44ma\u001b[47m\u001b[43mg\u001b[47m\u001b[44mc\u001b[47m\u001b[42mt\u001b[47m\u001b[44mc\u001b[47m\u001b[44ma\u001b[47m\u001b[43mg\u001b[47m\u001b[44ma\u001b[47m\u001b[42mt\u001b[47m\u001b[42mt\u001b[47m\u001b[43mg\u001b[47m\u001b[42mt\u001b[47m\u001b[44ma\u001b[47m\u001b[43mg\u001b[47m\u001b[42mt\u001b[47m\u001b[42mt\u001b[47m\u001b[44ma\u001b[47m\u001b[44ma\u001b[47m\u001b[44ma\u001b[47m\u001b[44ma\u001b[47m\u001b[44ma\u001b[47m\u001b[44mc\u001b[47m\u001b[44ma\u001b[47m\u001b[44mc\u001b[47m\u001b[44mc\u001b[47m\u001b[44mc\u001b[47m\u001b[42mt\u001b[47m\u001b[42mt\u001b[47m\u001b[43mg\u001b[47m\u001b[42mt\u001b[47m\u001b[42mt\u001b[47m\u001b[42mt\u001b[47m\u001b[44mc\u001b[47m\u001b[42mt\u001b[47m\u001b[44ma\u001b[47m\u001b[44mc\u001b[47m\u001b[42mt\u001b[47m\u001b[47m-\u001b[47m\u001b[47m-\u001b[47m\u001b[47m-\u001b[47m\u001b[47m-\u001b[47m\u001b[47m-\u001b[47m\u001b[47m-\u001b[47m\u001b[47m-\u001b[47m\u001b[47m-\u001b[47m\u001b[47m-\u001b[47m\u001b[47m-\u001b[47m\u001b[47m-\u001b[47m\u001b[47m-\u001b[47m\u001b[47m-\u001b[47m\u001b[47m-\u001b[47m\u001b[47m-\u001b[47m\u001b[47m-\u001b[47m\u001b[47m-\u001b[47m\u001b[47m-\u001b[47m\u001b[47m-\u001b[47m\u001b[47m-\u001b[47m\u001b[47m-\u001b[47m\u001b[47m-\u001b[47m\u001b[47m-\u001b[47m\u001b[47m-\u001b[47m\u001b[47m-\u001b[47m\u001b[47m-\u001b[47m\u001b[47m-\u001b[47m\u001b[47m-\u001b[47m\u001b[47m-\u001b[47m\u001b[47m-\u001b[47m\u001b[47m-\u001b[47m\u001b[47m-\u001b[47m\u001b[47m-\u001b[47m\u001b[47m-\u001b[47m\u001b[47m-\u001b[47m\u001b[47m-\u001b[47m\u001b[47m-\u001b[47m\u001b[47m-\u001b[47m\u001b[47m-\u001b[47m\u001b[47m-\u001b[47m\u001b[47m-\u001b[47m\u001b[47m-\u001b[47m\u001b[47m-\u001b[47m\u001b[47m-\u001b[47m\u001b[47m-\u001b[47m\u001b[47m-\u001b[47m\u001b[0m\n",
      "A/duck/Tottori/NK40/ \u001b[30m\u001b[47m\u001b[42mt\u001b[47m\u001b[42mt\u001b[47m\u001b[43mg\u001b[47m\u001b[44mc\u001b[47m\u001b[44ma\u001b[47m\u001b[42mt\u001b[47m\u001b[42mt\u001b[47m\u001b[42mt\u001b[47m\u001b[44ma\u001b[47m\u001b[43mg\u001b[47m\u001b[44ma\u001b[47m\u001b[42mt\u001b[47m\u001b[42mt\u001b[47m\u001b[42mt\u001b[47m\u001b[43mg\u001b[47m\u001b[42mt\u001b[47m\u001b[43mg\u001b[47m\u001b[44ma\u001b[47m\u001b[43mg\u001b[47m\u001b[44mc\u001b[47m\u001b[42mt\u001b[47m\u001b[44mc\u001b[47m\u001b[44ma\u001b[47m\u001b[43mg\u001b[47m\u001b[44ma\u001b[47m\u001b[42mt\u001b[47m\u001b[42mt\u001b[47m\u001b[43mg\u001b[47m\u001b[42mt\u001b[47m\u001b[44ma\u001b[47m\u001b[43mg\u001b[47m\u001b[42mt\u001b[47m\u001b[42mt\u001b[47m\u001b[44ma\u001b[47m\u001b[44ma\u001b[47m\u001b[44ma\u001b[47m\u001b[44ma\u001b[47m\u001b[44ma\u001b[47m\u001b[44mc\u001b[47m\u001b[44ma\u001b[47m\u001b[44mc\u001b[47m\u001b[44mc\u001b[47m\u001b[44mc\u001b[47m\u001b[42mt\u001b[47m\u001b[42mt\u001b[47m\u001b[43mg\u001b[47m\u001b[42mt\u001b[47m\u001b[42mt\u001b[47m\u001b[42mt\u001b[47m\u001b[47m-\u001b[47m\u001b[47m-\u001b[47m\u001b[47m-\u001b[47m\u001b[47m-\u001b[47m\u001b[47m-\u001b[47m\u001b[47m-\u001b[47m\u001b[47m-\u001b[47m\u001b[47m-\u001b[47m\u001b[47m-\u001b[47m\u001b[47m-\u001b[47m\u001b[47m-\u001b[47m\u001b[47m-\u001b[47m\u001b[47m-\u001b[47m\u001b[47m-\u001b[47m\u001b[47m-\u001b[47m\u001b[47m-\u001b[47m\u001b[47m-\u001b[47m\u001b[47m-\u001b[47m\u001b[47m-\u001b[47m\u001b[47m-\u001b[47m\u001b[47m-\u001b[47m\u001b[47m-\u001b[47m\u001b[47m-\u001b[47m\u001b[47m-\u001b[47m\u001b[47m-\u001b[47m\u001b[47m-\u001b[47m\u001b[47m-\u001b[47m\u001b[47m-\u001b[47m\u001b[47m-\u001b[47m\u001b[47m-\u001b[47m\u001b[47m-\u001b[47m\u001b[47m-\u001b[47m\u001b[47m-\u001b[47m\u001b[47m-\u001b[47m\u001b[47m-\u001b[47m\u001b[47m-\u001b[47m\u001b[47m-\u001b[47m\u001b[47m-\u001b[47m\u001b[47m-\u001b[47m\u001b[47m-\u001b[47m\u001b[47m-\u001b[47m\u001b[47m-\u001b[47m\u001b[47m-\u001b[47m\u001b[47m-\u001b[47m\u001b[47m-\u001b[47m\u001b[47m-\u001b[47m\u001b[47m-\u001b[47m\u001b[47m-\u001b[47m\u001b[47m-\u001b[47m\u001b[47m-\u001b[47m\u001b[47m-\u001b[47m\u001b[0m\n",
      "A/duck/Tottori/TG164 \u001b[30m\u001b[47m\u001b[42mt\u001b[47m\u001b[42mt\u001b[47m\u001b[43mg\u001b[47m\u001b[44mc\u001b[47m\u001b[44ma\u001b[47m\u001b[42mt\u001b[47m\u001b[42mt\u001b[47m\u001b[42mt\u001b[47m\u001b[44ma\u001b[47m\u001b[43mg\u001b[47m\u001b[44ma\u001b[47m\u001b[42mt\u001b[47m\u001b[42mt\u001b[47m\u001b[42mt\u001b[47m\u001b[43mg\u001b[47m\u001b[42mt\u001b[47m\u001b[43mg\u001b[47m\u001b[44ma\u001b[47m\u001b[43mg\u001b[47m\u001b[44mc\u001b[47m\u001b[42mt\u001b[47m\u001b[44mc\u001b[47m\u001b[44ma\u001b[47m\u001b[43mg\u001b[47m\u001b[44ma\u001b[47m\u001b[42mt\u001b[47m\u001b[42mt\u001b[47m\u001b[43mg\u001b[47m\u001b[42mt\u001b[47m\u001b[44ma\u001b[47m\u001b[43mg\u001b[47m\u001b[42mt\u001b[47m\u001b[42mt\u001b[47m\u001b[44ma\u001b[47m\u001b[44ma\u001b[47m\u001b[44ma\u001b[47m\u001b[44ma\u001b[47m\u001b[44ma\u001b[47m\u001b[44mc\u001b[47m\u001b[44ma\u001b[47m\u001b[44mc\u001b[47m\u001b[44mc\u001b[47m\u001b[44mc\u001b[47m\u001b[42mt\u001b[47m\u001b[42mt\u001b[47m\u001b[43mg\u001b[47m\u001b[42mt\u001b[47m\u001b[42mt\u001b[47m\u001b[42mt\u001b[47m\u001b[47m-\u001b[47m\u001b[47m-\u001b[47m\u001b[47m-\u001b[47m\u001b[47m-\u001b[47m\u001b[47m-\u001b[47m\u001b[47m-\u001b[47m\u001b[47m-\u001b[47m\u001b[47m-\u001b[47m\u001b[47m-\u001b[47m\u001b[47m-\u001b[47m\u001b[47m-\u001b[47m\u001b[47m-\u001b[47m\u001b[47m-\u001b[47m\u001b[47m-\u001b[47m\u001b[47m-\u001b[47m\u001b[47m-\u001b[47m\u001b[47m-\u001b[47m\u001b[47m-\u001b[47m\u001b[47m-\u001b[47m\u001b[47m-\u001b[47m\u001b[47m-\u001b[47m\u001b[47m-\u001b[47m\u001b[47m-\u001b[47m\u001b[47m-\u001b[47m\u001b[47m-\u001b[47m\u001b[47m-\u001b[47m\u001b[47m-\u001b[47m\u001b[47m-\u001b[47m\u001b[47m-\u001b[47m\u001b[47m-\u001b[47m\u001b[47m-\u001b[47m\u001b[47m-\u001b[47m\u001b[47m-\u001b[47m\u001b[47m-\u001b[47m\u001b[47m-\u001b[47m\u001b[47m-\u001b[47m\u001b[47m-\u001b[47m\u001b[47m-\u001b[47m\u001b[47m-\u001b[47m\u001b[47m-\u001b[47m\u001b[47m-\u001b[47m\u001b[47m-\u001b[47m\u001b[47m-\u001b[47m\u001b[47m-\u001b[47m\u001b[47m-\u001b[47m\u001b[47m-\u001b[47m\u001b[47m-\u001b[47m\u001b[47m-\u001b[47m\u001b[47m-\u001b[47m\u001b[47m-\u001b[47m\u001b[47m-\u001b[47m\u001b[0m\n",
      "A/eagle/Japan/OUAVM- \u001b[30m\u001b[47m\u001b[42mt\u001b[47m\u001b[42mt\u001b[47m\u001b[43mg\u001b[47m\u001b[44mc\u001b[47m\u001b[44ma\u001b[47m\u001b[42mt\u001b[47m\u001b[42mt\u001b[47m\u001b[42mt\u001b[47m\u001b[44ma\u001b[47m\u001b[43mg\u001b[47m\u001b[44ma\u001b[47m\u001b[42mt\u001b[47m\u001b[42mt\u001b[47m\u001b[42mt\u001b[47m\u001b[43mg\u001b[47m\u001b[42mt\u001b[47m\u001b[43mg\u001b[47m\u001b[44ma\u001b[47m\u001b[43mg\u001b[47m\u001b[44mc\u001b[47m\u001b[42mt\u001b[47m\u001b[44mc\u001b[47m\u001b[44ma\u001b[47m\u001b[43mg\u001b[47m\u001b[44ma\u001b[47m\u001b[42mt\u001b[47m\u001b[42mt\u001b[47m\u001b[43mg\u001b[47m\u001b[42mt\u001b[47m\u001b[44ma\u001b[47m\u001b[43mg\u001b[47m\u001b[42mt\u001b[47m\u001b[42mt\u001b[47m\u001b[44ma\u001b[47m\u001b[44ma\u001b[47m\u001b[44ma\u001b[47m\u001b[44ma\u001b[47m\u001b[44ma\u001b[47m\u001b[44mc\u001b[47m\u001b[44ma\u001b[47m\u001b[44mc\u001b[47m\u001b[44mc\u001b[47m\u001b[44mc\u001b[47m\u001b[42mt\u001b[47m\u001b[42mt\u001b[47m\u001b[43mg\u001b[47m\u001b[42mt\u001b[47m\u001b[42mt\u001b[47m\u001b[42mt\u001b[47m\u001b[44mc\u001b[47m\u001b[42mt\u001b[47m\u001b[44ma\u001b[47m\u001b[44mc\u001b[47m\u001b[42mt\u001b[47m\u001b[44mc\u001b[47m\u001b[42mt\u001b[47m\u001b[42mt\u001b[47m\u001b[42mt\u001b[47m\u001b[42mt\u001b[47m\u001b[42mt\u001b[47m\u001b[44ma\u001b[47m\u001b[44ma\u001b[47m\u001b[42mt\u001b[47m\u001b[44mc\u001b[47m\u001b[42mt\u001b[47m\u001b[42mt\u001b[47m\u001b[43mg\u001b[47m\u001b[44mc\u001b[47m\u001b[42mt\u001b[47m\u001b[42mt\u001b[47m\u001b[44mc\u001b[47m\u001b[42mt\u001b[47m\u001b[42mt\u001b[47m\u001b[44mc\u001b[47m\u001b[42mt\u001b[47m\u001b[43mg\u001b[47m\u001b[44ma\u001b[47m\u001b[44ma\u001b[47m\u001b[42mt\u001b[47m\u001b[44ma\u001b[47m\u001b[44mc\u001b[47m\u001b[42mt\u001b[47m\u001b[43mg\u001b[47m\u001b[44ma\u001b[47m\u001b[43mg\u001b[47m\u001b[43mg\u001b[47m\u001b[43mg\u001b[47m\u001b[42mt\u001b[47m\u001b[44ma\u001b[47m\u001b[43mg\u001b[47m\u001b[42mt\u001b[47m\u001b[44mc\u001b[47m\u001b[44ma\u001b[47m\u001b[42mt\u001b[47m\u001b[44ma\u001b[47m\u001b[44mc\u001b[47m\u001b[43mg\u001b[47m\u001b[42mt\u001b[47m\u001b[44mc\u001b[47m\u001b[44mc\u001b[47m\u001b[0m\n",
      "A/emu/Iwate/21B1T/20 \u001b[30m\u001b[47m\u001b[42mt\u001b[47m\u001b[42mt\u001b[47m\u001b[43mg\u001b[47m\u001b[44mc\u001b[47m\u001b[44ma\u001b[47m\u001b[42mt\u001b[47m\u001b[42mt\u001b[47m\u001b[42mt\u001b[47m\u001b[44ma\u001b[47m\u001b[43mg\u001b[47m\u001b[44ma\u001b[47m\u001b[42mt\u001b[47m\u001b[42mt\u001b[47m\u001b[42mt\u001b[47m\u001b[43mg\u001b[47m\u001b[42mt\u001b[47m\u001b[43mg\u001b[47m\u001b[44ma\u001b[47m\u001b[43mg\u001b[47m\u001b[44mc\u001b[47m\u001b[42mt\u001b[47m\u001b[44mc\u001b[47m\u001b[44ma\u001b[47m\u001b[43mg\u001b[47m\u001b[44ma\u001b[47m\u001b[42mt\u001b[47m\u001b[42mt\u001b[47m\u001b[43mg\u001b[47m\u001b[42mt\u001b[47m\u001b[44ma\u001b[47m\u001b[43mg\u001b[47m\u001b[42mt\u001b[47m\u001b[42mt\u001b[47m\u001b[44ma\u001b[47m\u001b[44ma\u001b[47m\u001b[44ma\u001b[47m\u001b[44ma\u001b[47m\u001b[44ma\u001b[47m\u001b[44mc\u001b[47m\u001b[44ma\u001b[47m\u001b[44mc\u001b[47m\u001b[44mc\u001b[47m\u001b[44mc\u001b[47m\u001b[42mt\u001b[47m\u001b[42mt\u001b[47m\u001b[43mg\u001b[47m\u001b[42mt\u001b[47m\u001b[42mt\u001b[47m\u001b[47m-\u001b[47m\u001b[47m-\u001b[47m\u001b[47m-\u001b[47m\u001b[47m-\u001b[47m\u001b[47m-\u001b[47m\u001b[47m-\u001b[47m\u001b[47m-\u001b[47m\u001b[47m-\u001b[47m\u001b[47m-\u001b[47m\u001b[47m-\u001b[47m\u001b[47m-\u001b[47m\u001b[47m-\u001b[47m\u001b[47m-\u001b[47m\u001b[47m-\u001b[47m\u001b[47m-\u001b[47m\u001b[47m-\u001b[47m\u001b[47m-\u001b[47m\u001b[47m-\u001b[47m\u001b[47m-\u001b[47m\u001b[47m-\u001b[47m\u001b[47m-\u001b[47m\u001b[47m-\u001b[47m\u001b[47m-\u001b[47m\u001b[47m-\u001b[47m\u001b[47m-\u001b[47m\u001b[47m-\u001b[47m\u001b[47m-\u001b[47m\u001b[47m-\u001b[47m\u001b[47m-\u001b[47m\u001b[47m-\u001b[47m\u001b[47m-\u001b[47m\u001b[47m-\u001b[47m\u001b[47m-\u001b[47m\u001b[47m-\u001b[47m\u001b[47m-\u001b[47m\u001b[47m-\u001b[47m\u001b[47m-\u001b[47m\u001b[47m-\u001b[47m\u001b[47m-\u001b[47m\u001b[47m-\u001b[47m\u001b[47m-\u001b[47m\u001b[47m-\u001b[47m\u001b[47m-\u001b[47m\u001b[47m-\u001b[47m\u001b[47m-\u001b[47m\u001b[47m-\u001b[47m\u001b[47m-\u001b[47m\u001b[47m-\u001b[47m\u001b[47m-\u001b[47m\u001b[47m-\u001b[47m\u001b[47m-\u001b[47m\u001b[47m-\u001b[47m\u001b[0m\n",
      "A/emu/Japan/TU21-12/ \u001b[30m\u001b[47m\u001b[42mt\u001b[47m\u001b[42mt\u001b[47m\u001b[43mg\u001b[47m\u001b[44mc\u001b[47m\u001b[44ma\u001b[47m\u001b[42mt\u001b[47m\u001b[42mt\u001b[47m\u001b[42mt\u001b[47m\u001b[44ma\u001b[47m\u001b[43mg\u001b[47m\u001b[44ma\u001b[47m\u001b[42mt\u001b[47m\u001b[42mt\u001b[47m\u001b[42mt\u001b[47m\u001b[43mg\u001b[47m\u001b[42mt\u001b[47m\u001b[43mg\u001b[47m\u001b[44ma\u001b[47m\u001b[43mg\u001b[47m\u001b[44mc\u001b[47m\u001b[42mt\u001b[47m\u001b[44mc\u001b[47m\u001b[44ma\u001b[47m\u001b[43mg\u001b[47m\u001b[44ma\u001b[47m\u001b[42mt\u001b[47m\u001b[42mt\u001b[47m\u001b[43mg\u001b[47m\u001b[42mt\u001b[47m\u001b[44ma\u001b[47m\u001b[43mg\u001b[47m\u001b[42mt\u001b[47m\u001b[42mt\u001b[47m\u001b[44ma\u001b[47m\u001b[44ma\u001b[47m\u001b[44ma\u001b[47m\u001b[44ma\u001b[47m\u001b[44ma\u001b[47m\u001b[44mc\u001b[47m\u001b[44ma\u001b[47m\u001b[44mc\u001b[47m\u001b[44mc\u001b[47m\u001b[44mc\u001b[47m\u001b[42mt\u001b[47m\u001b[42mt\u001b[47m\u001b[43mg\u001b[47m\u001b[42mt\u001b[47m\u001b[42mt\u001b[47m\u001b[42mt\u001b[47m\u001b[44mc\u001b[47m\u001b[42mt\u001b[47m\u001b[44ma\u001b[47m\u001b[44mc\u001b[47m\u001b[42mt\u001b[47m\u001b[47m-\u001b[47m\u001b[47m-\u001b[47m\u001b[47m-\u001b[47m\u001b[47m-\u001b[47m\u001b[47m-\u001b[47m\u001b[47m-\u001b[47m\u001b[47m-\u001b[47m\u001b[47m-\u001b[47m\u001b[47m-\u001b[47m\u001b[47m-\u001b[47m\u001b[47m-\u001b[47m\u001b[47m-\u001b[47m\u001b[47m-\u001b[47m\u001b[47m-\u001b[47m\u001b[47m-\u001b[47m\u001b[47m-\u001b[47m\u001b[47m-\u001b[47m\u001b[47m-\u001b[47m\u001b[47m-\u001b[47m\u001b[47m-\u001b[47m\u001b[47m-\u001b[47m\u001b[47m-\u001b[47m\u001b[47m-\u001b[47m\u001b[47m-\u001b[47m\u001b[47m-\u001b[47m\u001b[47m-\u001b[47m\u001b[47m-\u001b[47m\u001b[47m-\u001b[47m\u001b[47m-\u001b[47m\u001b[47m-\u001b[47m\u001b[47m-\u001b[47m\u001b[47m-\u001b[47m\u001b[47m-\u001b[47m\u001b[47m-\u001b[47m\u001b[47m-\u001b[47m\u001b[47m-\u001b[47m\u001b[47m-\u001b[47m\u001b[47m-\u001b[47m\u001b[47m-\u001b[47m\u001b[47m-\u001b[47m\u001b[47m-\u001b[47m\u001b[47m-\u001b[47m\u001b[47m-\u001b[47m\u001b[47m-\u001b[47m\u001b[47m-\u001b[47m\u001b[47m-\u001b[47m\u001b[0m\n",
      "A/goshawk/Gifu/1/202 \u001b[30m\u001b[47m\u001b[42mt\u001b[47m\u001b[42mt\u001b[47m\u001b[43mg\u001b[47m\u001b[44mc\u001b[47m\u001b[44ma\u001b[47m\u001b[42mt\u001b[47m\u001b[42mt\u001b[47m\u001b[42mt\u001b[47m\u001b[44ma\u001b[47m\u001b[43mg\u001b[47m\u001b[44ma\u001b[47m\u001b[42mt\u001b[47m\u001b[42mt\u001b[47m\u001b[42mt\u001b[47m\u001b[43mg\u001b[47m\u001b[42mt\u001b[47m\u001b[43mg\u001b[47m\u001b[44ma\u001b[47m\u001b[43mg\u001b[47m\u001b[44mc\u001b[47m\u001b[42mt\u001b[47m\u001b[44mc\u001b[47m\u001b[44ma\u001b[47m\u001b[43mg\u001b[47m\u001b[44ma\u001b[47m\u001b[42mt\u001b[47m\u001b[42mt\u001b[47m\u001b[43mg\u001b[47m\u001b[42mt\u001b[47m\u001b[44ma\u001b[47m\u001b[43mg\u001b[47m\u001b[42mt\u001b[47m\u001b[42mt\u001b[47m\u001b[44ma\u001b[47m\u001b[44ma\u001b[47m\u001b[44ma\u001b[47m\u001b[44ma\u001b[47m\u001b[44ma\u001b[47m\u001b[44mc\u001b[47m\u001b[44ma\u001b[47m\u001b[44mc\u001b[47m\u001b[44mc\u001b[47m\u001b[44mc\u001b[47m\u001b[42mt\u001b[47m\u001b[42mt\u001b[47m\u001b[43mg\u001b[47m\u001b[42mt\u001b[47m\u001b[42mt\u001b[47m\u001b[42mt\u001b[47m\u001b[44mc\u001b[47m\u001b[42mt\u001b[47m\u001b[44ma\u001b[47m\u001b[44mc\u001b[47m\u001b[42mt\u001b[47m\u001b[47m-\u001b[47m\u001b[47m-\u001b[47m\u001b[47m-\u001b[47m\u001b[47m-\u001b[47m\u001b[47m-\u001b[47m\u001b[47m-\u001b[47m\u001b[47m-\u001b[47m\u001b[47m-\u001b[47m\u001b[47m-\u001b[47m\u001b[47m-\u001b[47m\u001b[47m-\u001b[47m\u001b[47m-\u001b[47m\u001b[47m-\u001b[47m\u001b[47m-\u001b[47m\u001b[47m-\u001b[47m\u001b[47m-\u001b[47m\u001b[47m-\u001b[47m\u001b[47m-\u001b[47m\u001b[47m-\u001b[47m\u001b[47m-\u001b[47m\u001b[47m-\u001b[47m\u001b[47m-\u001b[47m\u001b[47m-\u001b[47m\u001b[47m-\u001b[47m\u001b[47m-\u001b[47m\u001b[47m-\u001b[47m\u001b[47m-\u001b[47m\u001b[47m-\u001b[47m\u001b[47m-\u001b[47m\u001b[47m-\u001b[47m\u001b[47m-\u001b[47m\u001b[47m-\u001b[47m\u001b[47m-\u001b[47m\u001b[47m-\u001b[47m\u001b[47m-\u001b[47m\u001b[47m-\u001b[47m\u001b[47m-\u001b[47m\u001b[47m-\u001b[47m\u001b[47m-\u001b[47m\u001b[47m-\u001b[47m\u001b[47m-\u001b[47m\u001b[47m-\u001b[47m\u001b[47m-\u001b[47m\u001b[47m-\u001b[47m\u001b[47m-\u001b[47m\u001b[47m-\u001b[47m\u001b[0m\n",
      "A/jungle_crow/Hokkai \u001b[30m\u001b[47m\u001b[42mt\u001b[47m\u001b[42mt\u001b[47m\u001b[43mg\u001b[47m\u001b[44mc\u001b[47m\u001b[44ma\u001b[47m\u001b[42mt\u001b[47m\u001b[42mt\u001b[47m\u001b[42mt\u001b[47m\u001b[44ma\u001b[47m\u001b[43mg\u001b[47m\u001b[44ma\u001b[47m\u001b[42mt\u001b[47m\u001b[42mt\u001b[47m\u001b[42mt\u001b[47m\u001b[43mg\u001b[47m\u001b[42mt\u001b[47m\u001b[43mg\u001b[47m\u001b[44ma\u001b[47m\u001b[43mg\u001b[47m\u001b[44mc\u001b[47m\u001b[42mt\u001b[47m\u001b[44mc\u001b[47m\u001b[44ma\u001b[47m\u001b[43mg\u001b[47m\u001b[44ma\u001b[47m\u001b[42mt\u001b[47m\u001b[42mt\u001b[47m\u001b[43mg\u001b[47m\u001b[42mt\u001b[47m\u001b[44ma\u001b[47m\u001b[43mg\u001b[47m\u001b[42mt\u001b[47m\u001b[42mt\u001b[47m\u001b[44ma\u001b[47m\u001b[44ma\u001b[47m\u001b[44ma\u001b[47m\u001b[44ma\u001b[47m\u001b[44ma\u001b[47m\u001b[44mc\u001b[47m\u001b[44ma\u001b[47m\u001b[44mc\u001b[47m\u001b[44mc\u001b[47m\u001b[44mc\u001b[47m\u001b[42mt\u001b[47m\u001b[42mt\u001b[47m\u001b[43mg\u001b[47m\u001b[47m-\u001b[47m\u001b[47m-\u001b[47m\u001b[47m-\u001b[47m\u001b[47m-\u001b[47m\u001b[47m-\u001b[47m\u001b[47m-\u001b[47m\u001b[47m-\u001b[47m\u001b[47m-\u001b[47m\u001b[47m-\u001b[47m\u001b[47m-\u001b[47m\u001b[47m-\u001b[47m\u001b[47m-\u001b[47m\u001b[47m-\u001b[47m\u001b[47m-\u001b[47m\u001b[47m-\u001b[47m\u001b[47m-\u001b[47m\u001b[47m-\u001b[47m\u001b[47m-\u001b[47m\u001b[47m-\u001b[47m\u001b[47m-\u001b[47m\u001b[47m-\u001b[47m\u001b[47m-\u001b[47m\u001b[47m-\u001b[47m\u001b[47m-\u001b[47m\u001b[47m-\u001b[47m\u001b[47m-\u001b[47m\u001b[47m-\u001b[47m\u001b[47m-\u001b[47m\u001b[47m-\u001b[47m\u001b[47m-\u001b[47m\u001b[47m-\u001b[47m\u001b[47m-\u001b[47m\u001b[47m-\u001b[47m\u001b[47m-\u001b[47m\u001b[47m-\u001b[47m\u001b[47m-\u001b[47m\u001b[47m-\u001b[47m\u001b[47m-\u001b[47m\u001b[47m-\u001b[47m\u001b[47m-\u001b[47m\u001b[47m-\u001b[47m\u001b[47m-\u001b[47m\u001b[47m-\u001b[47m\u001b[47m-\u001b[47m\u001b[47m-\u001b[47m\u001b[47m-\u001b[47m\u001b[47m-\u001b[47m\u001b[47m-\u001b[47m\u001b[47m-\u001b[47m\u001b[47m-\u001b[47m\u001b[47m-\u001b[47m\u001b[47m-\u001b[47m\u001b[47m-\u001b[47m\u001b[47m-\u001b[47m\u001b[0m\n",
      "A/jungle_crow/Hokkai \u001b[30m\u001b[47m\u001b[42mt\u001b[47m\u001b[42mt\u001b[47m\u001b[43mg\u001b[47m\u001b[44mc\u001b[47m\u001b[44ma\u001b[47m\u001b[42mt\u001b[47m\u001b[42mt\u001b[47m\u001b[42mt\u001b[47m\u001b[44ma\u001b[47m\u001b[43mg\u001b[47m\u001b[44ma\u001b[47m\u001b[42mt\u001b[47m\u001b[42mt\u001b[47m\u001b[42mt\u001b[47m\u001b[43mg\u001b[47m\u001b[42mt\u001b[47m\u001b[43mg\u001b[47m\u001b[44ma\u001b[47m\u001b[43mg\u001b[47m\u001b[44mc\u001b[47m\u001b[42mt\u001b[47m\u001b[44mc\u001b[47m\u001b[44ma\u001b[47m\u001b[43mg\u001b[47m\u001b[44ma\u001b[47m\u001b[42mt\u001b[47m\u001b[42mt\u001b[47m\u001b[43mg\u001b[47m\u001b[42mt\u001b[47m\u001b[44ma\u001b[47m\u001b[43mg\u001b[47m\u001b[42mt\u001b[47m\u001b[42mt\u001b[47m\u001b[44ma\u001b[47m\u001b[44ma\u001b[47m\u001b[44ma\u001b[47m\u001b[44ma\u001b[47m\u001b[44ma\u001b[47m\u001b[44mc\u001b[47m\u001b[44ma\u001b[47m\u001b[44mc\u001b[47m\u001b[44mc\u001b[47m\u001b[44mc\u001b[47m\u001b[42mt\u001b[47m\u001b[42mt\u001b[47m\u001b[43mg\u001b[47m\u001b[47m-\u001b[47m\u001b[47m-\u001b[47m\u001b[47m-\u001b[47m\u001b[47m-\u001b[47m\u001b[47m-\u001b[47m\u001b[47m-\u001b[47m\u001b[47m-\u001b[47m\u001b[47m-\u001b[47m\u001b[47m-\u001b[47m\u001b[47m-\u001b[47m\u001b[47m-\u001b[47m\u001b[47m-\u001b[47m\u001b[47m-\u001b[47m\u001b[47m-\u001b[47m\u001b[47m-\u001b[47m\u001b[47m-\u001b[47m\u001b[47m-\u001b[47m\u001b[47m-\u001b[47m\u001b[47m-\u001b[47m\u001b[47m-\u001b[47m\u001b[47m-\u001b[47m\u001b[47m-\u001b[47m\u001b[47m-\u001b[47m\u001b[47m-\u001b[47m\u001b[47m-\u001b[47m\u001b[47m-\u001b[47m\u001b[47m-\u001b[47m\u001b[47m-\u001b[47m\u001b[47m-\u001b[47m\u001b[47m-\u001b[47m\u001b[47m-\u001b[47m\u001b[47m-\u001b[47m\u001b[47m-\u001b[47m\u001b[47m-\u001b[47m\u001b[47m-\u001b[47m\u001b[47m-\u001b[47m\u001b[47m-\u001b[47m\u001b[47m-\u001b[47m\u001b[47m-\u001b[47m\u001b[47m-\u001b[47m\u001b[47m-\u001b[47m\u001b[47m-\u001b[47m\u001b[47m-\u001b[47m\u001b[47m-\u001b[47m\u001b[47m-\u001b[47m\u001b[47m-\u001b[47m\u001b[47m-\u001b[47m\u001b[47m-\u001b[47m\u001b[47m-\u001b[47m\u001b[47m-\u001b[47m\u001b[47m-\u001b[47m\u001b[47m-\u001b[47m\u001b[47m-\u001b[47m\u001b[47m-\u001b[47m\u001b[0m\n",
      "A/jungle_crow/Hokkai \u001b[30m\u001b[47m\u001b[42mt\u001b[47m\u001b[42mt\u001b[47m\u001b[43mg\u001b[47m\u001b[44mc\u001b[47m\u001b[44ma\u001b[47m\u001b[42mt\u001b[47m\u001b[42mt\u001b[47m\u001b[42mt\u001b[47m\u001b[44ma\u001b[47m\u001b[43mg\u001b[47m\u001b[44ma\u001b[47m\u001b[42mt\u001b[47m\u001b[42mt\u001b[47m\u001b[42mt\u001b[47m\u001b[43mg\u001b[47m\u001b[42mt\u001b[47m\u001b[43mg\u001b[47m\u001b[44ma\u001b[47m\u001b[43mg\u001b[47m\u001b[44mc\u001b[47m\u001b[42mt\u001b[47m\u001b[44mc\u001b[47m\u001b[44ma\u001b[47m\u001b[43mg\u001b[47m\u001b[44ma\u001b[47m\u001b[42mt\u001b[47m\u001b[42mt\u001b[47m\u001b[43mg\u001b[47m\u001b[42mt\u001b[47m\u001b[44ma\u001b[47m\u001b[43mg\u001b[47m\u001b[42mt\u001b[47m\u001b[42mt\u001b[47m\u001b[44ma\u001b[47m\u001b[44ma\u001b[47m\u001b[44ma\u001b[47m\u001b[44ma\u001b[47m\u001b[44ma\u001b[47m\u001b[44mc\u001b[47m\u001b[44ma\u001b[47m\u001b[44mc\u001b[47m\u001b[44mc\u001b[47m\u001b[44mc\u001b[47m\u001b[42mt\u001b[47m\u001b[42mt\u001b[47m\u001b[43mg\u001b[47m\u001b[47m-\u001b[47m\u001b[47m-\u001b[47m\u001b[47m-\u001b[47m\u001b[47m-\u001b[47m\u001b[47m-\u001b[47m\u001b[47m-\u001b[47m\u001b[47m-\u001b[47m\u001b[47m-\u001b[47m\u001b[47m-\u001b[47m\u001b[47m-\u001b[47m\u001b[47m-\u001b[47m\u001b[47m-\u001b[47m\u001b[47m-\u001b[47m\u001b[47m-\u001b[47m\u001b[47m-\u001b[47m\u001b[47m-\u001b[47m\u001b[47m-\u001b[47m\u001b[47m-\u001b[47m\u001b[47m-\u001b[47m\u001b[47m-\u001b[47m\u001b[47m-\u001b[47m\u001b[47m-\u001b[47m\u001b[47m-\u001b[47m\u001b[47m-\u001b[47m\u001b[47m-\u001b[47m\u001b[47m-\u001b[47m\u001b[47m-\u001b[47m\u001b[47m-\u001b[47m\u001b[47m-\u001b[47m\u001b[47m-\u001b[47m\u001b[47m-\u001b[47m\u001b[47m-\u001b[47m\u001b[47m-\u001b[47m\u001b[47m-\u001b[47m\u001b[47m-\u001b[47m\u001b[47m-\u001b[47m\u001b[47m-\u001b[47m\u001b[47m-\u001b[47m\u001b[47m-\u001b[47m\u001b[47m-\u001b[47m\u001b[47m-\u001b[47m\u001b[47m-\u001b[47m\u001b[47m-\u001b[47m\u001b[47m-\u001b[47m\u001b[47m-\u001b[47m\u001b[47m-\u001b[47m\u001b[47m-\u001b[47m\u001b[47m-\u001b[47m\u001b[47m-\u001b[47m\u001b[47m-\u001b[47m\u001b[47m-\u001b[47m\u001b[47m-\u001b[47m\u001b[47m-\u001b[47m\u001b[47m-\u001b[47m\u001b[0m\n",
      "A/jungle_crow/Hokkai \u001b[30m\u001b[47m\u001b[42mt\u001b[47m\u001b[42mt\u001b[47m\u001b[43mg\u001b[47m\u001b[44mc\u001b[47m\u001b[44ma\u001b[47m\u001b[42mt\u001b[47m\u001b[42mt\u001b[47m\u001b[42mt\u001b[47m\u001b[44ma\u001b[47m\u001b[43mg\u001b[47m\u001b[44ma\u001b[47m\u001b[42mt\u001b[47m\u001b[42mt\u001b[47m\u001b[42mt\u001b[47m\u001b[43mg\u001b[47m\u001b[42mt\u001b[47m\u001b[43mg\u001b[47m\u001b[44ma\u001b[47m\u001b[43mg\u001b[47m\u001b[44mc\u001b[47m\u001b[42mt\u001b[47m\u001b[44mc\u001b[47m\u001b[44ma\u001b[47m\u001b[43mg\u001b[47m\u001b[44ma\u001b[47m\u001b[42mt\u001b[47m\u001b[42mt\u001b[47m\u001b[43mg\u001b[47m\u001b[42mt\u001b[47m\u001b[44ma\u001b[47m\u001b[43mg\u001b[47m\u001b[42mt\u001b[47m\u001b[42mt\u001b[47m\u001b[44ma\u001b[47m\u001b[44ma\u001b[47m\u001b[44ma\u001b[47m\u001b[44ma\u001b[47m\u001b[44ma\u001b[47m\u001b[44mc\u001b[47m\u001b[44ma\u001b[47m\u001b[44mc\u001b[47m\u001b[44mc\u001b[47m\u001b[44mc\u001b[47m\u001b[42mt\u001b[47m\u001b[42mt\u001b[47m\u001b[43mg\u001b[47m\u001b[47m-\u001b[47m\u001b[47m-\u001b[47m\u001b[47m-\u001b[47m\u001b[47m-\u001b[47m\u001b[47m-\u001b[47m\u001b[47m-\u001b[47m\u001b[47m-\u001b[47m\u001b[47m-\u001b[47m\u001b[47m-\u001b[47m\u001b[47m-\u001b[47m\u001b[47m-\u001b[47m\u001b[47m-\u001b[47m\u001b[47m-\u001b[47m\u001b[47m-\u001b[47m\u001b[47m-\u001b[47m\u001b[47m-\u001b[47m\u001b[47m-\u001b[47m\u001b[47m-\u001b[47m\u001b[47m-\u001b[47m\u001b[47m-\u001b[47m\u001b[47m-\u001b[47m\u001b[47m-\u001b[47m\u001b[47m-\u001b[47m\u001b[47m-\u001b[47m\u001b[47m-\u001b[47m\u001b[47m-\u001b[47m\u001b[47m-\u001b[47m\u001b[47m-\u001b[47m\u001b[47m-\u001b[47m\u001b[47m-\u001b[47m\u001b[47m-\u001b[47m\u001b[47m-\u001b[47m\u001b[47m-\u001b[47m\u001b[47m-\u001b[47m\u001b[47m-\u001b[47m\u001b[47m-\u001b[47m\u001b[47m-\u001b[47m\u001b[47m-\u001b[47m\u001b[47m-\u001b[47m\u001b[47m-\u001b[47m\u001b[47m-\u001b[47m\u001b[47m-\u001b[47m\u001b[47m-\u001b[47m\u001b[47m-\u001b[47m\u001b[47m-\u001b[47m\u001b[47m-\u001b[47m\u001b[47m-\u001b[47m\u001b[47m-\u001b[47m\u001b[47m-\u001b[47m\u001b[47m-\u001b[47m\u001b[47m-\u001b[47m\u001b[47m-\u001b[47m\u001b[47m-\u001b[47m\u001b[47m-\u001b[47m\u001b[0m\n",
      "A/jungle_crow/Hokkai \u001b[30m\u001b[47m\u001b[42mt\u001b[47m\u001b[42mt\u001b[47m\u001b[43mg\u001b[47m\u001b[44mc\u001b[47m\u001b[44ma\u001b[47m\u001b[42mt\u001b[47m\u001b[42mt\u001b[47m\u001b[42mt\u001b[47m\u001b[44ma\u001b[47m\u001b[43mg\u001b[47m\u001b[44ma\u001b[47m\u001b[42mt\u001b[47m\u001b[42mt\u001b[47m\u001b[42mt\u001b[47m\u001b[43mg\u001b[47m\u001b[42mt\u001b[47m\u001b[43mg\u001b[47m\u001b[44ma\u001b[47m\u001b[43mg\u001b[47m\u001b[44mc\u001b[47m\u001b[42mt\u001b[47m\u001b[44mc\u001b[47m\u001b[44ma\u001b[47m\u001b[43mg\u001b[47m\u001b[44ma\u001b[47m\u001b[42mt\u001b[47m\u001b[42mt\u001b[47m\u001b[43mg\u001b[47m\u001b[42mt\u001b[47m\u001b[44ma\u001b[47m\u001b[43mg\u001b[47m\u001b[42mt\u001b[47m\u001b[42mt\u001b[47m\u001b[44ma\u001b[47m\u001b[44ma\u001b[47m\u001b[44ma\u001b[47m\u001b[44ma\u001b[47m\u001b[44ma\u001b[47m\u001b[44mc\u001b[47m\u001b[44ma\u001b[47m\u001b[44mc\u001b[47m\u001b[44mc\u001b[47m\u001b[44mc\u001b[47m\u001b[42mt\u001b[47m\u001b[42mt\u001b[47m\u001b[43mg\u001b[47m\u001b[47m-\u001b[47m\u001b[47m-\u001b[47m\u001b[47m-\u001b[47m\u001b[47m-\u001b[47m\u001b[47m-\u001b[47m\u001b[47m-\u001b[47m\u001b[47m-\u001b[47m\u001b[47m-\u001b[47m\u001b[47m-\u001b[47m\u001b[47m-\u001b[47m\u001b[47m-\u001b[47m\u001b[47m-\u001b[47m\u001b[47m-\u001b[47m\u001b[47m-\u001b[47m\u001b[47m-\u001b[47m\u001b[47m-\u001b[47m\u001b[47m-\u001b[47m\u001b[47m-\u001b[47m\u001b[47m-\u001b[47m\u001b[47m-\u001b[47m\u001b[47m-\u001b[47m\u001b[47m-\u001b[47m\u001b[47m-\u001b[47m\u001b[47m-\u001b[47m\u001b[47m-\u001b[47m\u001b[47m-\u001b[47m\u001b[47m-\u001b[47m\u001b[47m-\u001b[47m\u001b[47m-\u001b[47m\u001b[47m-\u001b[47m\u001b[47m-\u001b[47m\u001b[47m-\u001b[47m\u001b[47m-\u001b[47m\u001b[47m-\u001b[47m\u001b[47m-\u001b[47m\u001b[47m-\u001b[47m\u001b[47m-\u001b[47m\u001b[47m-\u001b[47m\u001b[47m-\u001b[47m\u001b[47m-\u001b[47m\u001b[47m-\u001b[47m\u001b[47m-\u001b[47m\u001b[47m-\u001b[47m\u001b[47m-\u001b[47m\u001b[47m-\u001b[47m\u001b[47m-\u001b[47m\u001b[47m-\u001b[47m\u001b[47m-\u001b[47m\u001b[47m-\u001b[47m\u001b[47m-\u001b[47m\u001b[47m-\u001b[47m\u001b[47m-\u001b[47m\u001b[47m-\u001b[47m\u001b[47m-\u001b[47m\u001b[0m\n",
      "A/jungle_crow/Hokkai \u001b[30m\u001b[47m\u001b[42mt\u001b[47m\u001b[42mt\u001b[47m\u001b[43mg\u001b[47m\u001b[44mc\u001b[47m\u001b[44ma\u001b[47m\u001b[42mt\u001b[47m\u001b[42mt\u001b[47m\u001b[42mt\u001b[47m\u001b[44ma\u001b[47m\u001b[43mg\u001b[47m\u001b[44ma\u001b[47m\u001b[42mt\u001b[47m\u001b[42mt\u001b[47m\u001b[42mt\u001b[47m\u001b[43mg\u001b[47m\u001b[42mt\u001b[47m\u001b[43mg\u001b[47m\u001b[44ma\u001b[47m\u001b[43mg\u001b[47m\u001b[44mc\u001b[47m\u001b[42mt\u001b[47m\u001b[44mc\u001b[47m\u001b[44ma\u001b[47m\u001b[43mg\u001b[47m\u001b[44ma\u001b[47m\u001b[42mt\u001b[47m\u001b[42mt\u001b[47m\u001b[43mg\u001b[47m\u001b[42mt\u001b[47m\u001b[44ma\u001b[47m\u001b[43mg\u001b[47m\u001b[42mt\u001b[47m\u001b[42mt\u001b[47m\u001b[44ma\u001b[47m\u001b[44ma\u001b[47m\u001b[44ma\u001b[47m\u001b[44ma\u001b[47m\u001b[44ma\u001b[47m\u001b[44mc\u001b[47m\u001b[44ma\u001b[47m\u001b[44mc\u001b[47m\u001b[44mc\u001b[47m\u001b[44mc\u001b[47m\u001b[42mt\u001b[47m\u001b[42mt\u001b[47m\u001b[43mg\u001b[47m\u001b[47m-\u001b[47m\u001b[47m-\u001b[47m\u001b[47m-\u001b[47m\u001b[47m-\u001b[47m\u001b[47m-\u001b[47m\u001b[47m-\u001b[47m\u001b[47m-\u001b[47m\u001b[47m-\u001b[47m\u001b[47m-\u001b[47m\u001b[47m-\u001b[47m\u001b[47m-\u001b[47m\u001b[47m-\u001b[47m\u001b[47m-\u001b[47m\u001b[47m-\u001b[47m\u001b[47m-\u001b[47m\u001b[47m-\u001b[47m\u001b[47m-\u001b[47m\u001b[47m-\u001b[47m\u001b[47m-\u001b[47m\u001b[47m-\u001b[47m\u001b[47m-\u001b[47m\u001b[47m-\u001b[47m\u001b[47m-\u001b[47m\u001b[47m-\u001b[47m\u001b[47m-\u001b[47m\u001b[47m-\u001b[47m\u001b[47m-\u001b[47m\u001b[47m-\u001b[47m\u001b[47m-\u001b[47m\u001b[47m-\u001b[47m\u001b[47m-\u001b[47m\u001b[47m-\u001b[47m\u001b[47m-\u001b[47m\u001b[47m-\u001b[47m\u001b[47m-\u001b[47m\u001b[47m-\u001b[47m\u001b[47m-\u001b[47m\u001b[47m-\u001b[47m\u001b[47m-\u001b[47m\u001b[47m-\u001b[47m\u001b[47m-\u001b[47m\u001b[47m-\u001b[47m\u001b[47m-\u001b[47m\u001b[47m-\u001b[47m\u001b[47m-\u001b[47m\u001b[47m-\u001b[47m\u001b[47m-\u001b[47m\u001b[47m-\u001b[47m\u001b[47m-\u001b[47m\u001b[47m-\u001b[47m\u001b[47m-\u001b[47m\u001b[47m-\u001b[47m\u001b[47m-\u001b[47m\u001b[47m-\u001b[47m\u001b[0m\n",
      "A/jungle_crow/Hokkai \u001b[30m\u001b[47m\u001b[42mt\u001b[47m\u001b[42mt\u001b[47m\u001b[43mg\u001b[47m\u001b[44mc\u001b[47m\u001b[44ma\u001b[47m\u001b[42mt\u001b[47m\u001b[42mt\u001b[47m\u001b[42mt\u001b[47m\u001b[44ma\u001b[47m\u001b[43mg\u001b[47m\u001b[44ma\u001b[47m\u001b[42mt\u001b[47m\u001b[42mt\u001b[47m\u001b[42mt\u001b[47m\u001b[43mg\u001b[47m\u001b[42mt\u001b[47m\u001b[43mg\u001b[47m\u001b[44ma\u001b[47m\u001b[43mg\u001b[47m\u001b[44mc\u001b[47m\u001b[42mt\u001b[47m\u001b[44mc\u001b[47m\u001b[44ma\u001b[47m\u001b[43mg\u001b[47m\u001b[44ma\u001b[47m\u001b[42mt\u001b[47m\u001b[42mt\u001b[47m\u001b[43mg\u001b[47m\u001b[42mt\u001b[47m\u001b[44ma\u001b[47m\u001b[43mg\u001b[47m\u001b[42mt\u001b[47m\u001b[42mt\u001b[47m\u001b[44ma\u001b[47m\u001b[44ma\u001b[47m\u001b[44ma\u001b[47m\u001b[44ma\u001b[47m\u001b[44ma\u001b[47m\u001b[44mc\u001b[47m\u001b[44ma\u001b[47m\u001b[44mc\u001b[47m\u001b[44mc\u001b[47m\u001b[44mc\u001b[47m\u001b[42mt\u001b[47m\u001b[42mt\u001b[47m\u001b[43mg\u001b[47m\u001b[47m-\u001b[47m\u001b[47m-\u001b[47m\u001b[47m-\u001b[47m\u001b[47m-\u001b[47m\u001b[47m-\u001b[47m\u001b[47m-\u001b[47m\u001b[47m-\u001b[47m\u001b[47m-\u001b[47m\u001b[47m-\u001b[47m\u001b[47m-\u001b[47m\u001b[47m-\u001b[47m\u001b[47m-\u001b[47m\u001b[47m-\u001b[47m\u001b[47m-\u001b[47m\u001b[47m-\u001b[47m\u001b[47m-\u001b[47m\u001b[47m-\u001b[47m\u001b[47m-\u001b[47m\u001b[47m-\u001b[47m\u001b[47m-\u001b[47m\u001b[47m-\u001b[47m\u001b[47m-\u001b[47m\u001b[47m-\u001b[47m\u001b[47m-\u001b[47m\u001b[47m-\u001b[47m\u001b[47m-\u001b[47m\u001b[47m-\u001b[47m\u001b[47m-\u001b[47m\u001b[47m-\u001b[47m\u001b[47m-\u001b[47m\u001b[47m-\u001b[47m\u001b[47m-\u001b[47m\u001b[47m-\u001b[47m\u001b[47m-\u001b[47m\u001b[47m-\u001b[47m\u001b[47m-\u001b[47m\u001b[47m-\u001b[47m\u001b[47m-\u001b[47m\u001b[47m-\u001b[47m\u001b[47m-\u001b[47m\u001b[47m-\u001b[47m\u001b[47m-\u001b[47m\u001b[47m-\u001b[47m\u001b[47m-\u001b[47m\u001b[47m-\u001b[47m\u001b[47m-\u001b[47m\u001b[47m-\u001b[47m\u001b[47m-\u001b[47m\u001b[47m-\u001b[47m\u001b[47m-\u001b[47m\u001b[47m-\u001b[47m\u001b[47m-\u001b[47m\u001b[47m-\u001b[47m\u001b[47m-\u001b[47m\u001b[0m\n",
      "A/jungle_crow/Japan/ \u001b[30m\u001b[47m\u001b[42mt\u001b[47m\u001b[42mt\u001b[47m\u001b[43mg\u001b[47m\u001b[44mc\u001b[47m\u001b[44ma\u001b[47m\u001b[42mt\u001b[47m\u001b[42mt\u001b[47m\u001b[42mt\u001b[47m\u001b[44ma\u001b[47m\u001b[43mg\u001b[47m\u001b[44ma\u001b[47m\u001b[42mt\u001b[47m\u001b[42mt\u001b[47m\u001b[42mt\u001b[47m\u001b[43mg\u001b[47m\u001b[42mt\u001b[47m\u001b[43mg\u001b[47m\u001b[44ma\u001b[47m\u001b[43mg\u001b[47m\u001b[44mc\u001b[47m\u001b[42mt\u001b[47m\u001b[44mc\u001b[47m\u001b[44ma\u001b[47m\u001b[43mg\u001b[47m\u001b[44ma\u001b[47m\u001b[42mt\u001b[47m\u001b[42mt\u001b[47m\u001b[43mg\u001b[47m\u001b[42mt\u001b[47m\u001b[44ma\u001b[47m\u001b[43mg\u001b[47m\u001b[42mt\u001b[47m\u001b[42mt\u001b[47m\u001b[44ma\u001b[47m\u001b[44ma\u001b[47m\u001b[44ma\u001b[47m\u001b[44ma\u001b[47m\u001b[44ma\u001b[47m\u001b[44mc\u001b[47m\u001b[44ma\u001b[47m\u001b[44mc\u001b[47m\u001b[44mc\u001b[47m\u001b[44mc\u001b[47m\u001b[42mt\u001b[47m\u001b[42mt\u001b[47m\u001b[43mg\u001b[47m\u001b[42mt\u001b[47m\u001b[42mt\u001b[47m\u001b[42mt\u001b[47m\u001b[44mc\u001b[47m\u001b[42mt\u001b[47m\u001b[44ma\u001b[47m\u001b[44mc\u001b[47m\u001b[47m-\u001b[47m\u001b[47m-\u001b[47m\u001b[47m-\u001b[47m\u001b[47m-\u001b[47m\u001b[47m-\u001b[47m\u001b[47m-\u001b[47m\u001b[47m-\u001b[47m\u001b[47m-\u001b[47m\u001b[47m-\u001b[47m\u001b[47m-\u001b[47m\u001b[47m-\u001b[47m\u001b[47m-\u001b[47m\u001b[47m-\u001b[47m\u001b[47m-\u001b[47m\u001b[47m-\u001b[47m\u001b[47m-\u001b[47m\u001b[47m-\u001b[47m\u001b[47m-\u001b[47m\u001b[47m-\u001b[47m\u001b[47m-\u001b[47m\u001b[47m-\u001b[47m\u001b[47m-\u001b[47m\u001b[47m-\u001b[47m\u001b[47m-\u001b[47m\u001b[47m-\u001b[47m\u001b[47m-\u001b[47m\u001b[47m-\u001b[47m\u001b[47m-\u001b[47m\u001b[47m-\u001b[47m\u001b[47m-\u001b[47m\u001b[47m-\u001b[47m\u001b[47m-\u001b[47m\u001b[47m-\u001b[47m\u001b[47m-\u001b[47m\u001b[47m-\u001b[47m\u001b[47m-\u001b[47m\u001b[47m-\u001b[47m\u001b[47m-\u001b[47m\u001b[47m-\u001b[47m\u001b[47m-\u001b[47m\u001b[47m-\u001b[47m\u001b[47m-\u001b[47m\u001b[47m-\u001b[47m\u001b[47m-\u001b[47m\u001b[47m-\u001b[47m\u001b[47m-\u001b[47m\u001b[47m-\u001b[47m\u001b[0m\n",
      "A/jungle_crow/Japan/ \u001b[30m\u001b[47m\u001b[42mt\u001b[47m\u001b[42mt\u001b[47m\u001b[43mg\u001b[47m\u001b[44mc\u001b[47m\u001b[44ma\u001b[47m\u001b[42mt\u001b[47m\u001b[42mt\u001b[47m\u001b[42mt\u001b[47m\u001b[44ma\u001b[47m\u001b[43mg\u001b[47m\u001b[44ma\u001b[47m\u001b[42mt\u001b[47m\u001b[42mt\u001b[47m\u001b[42mt\u001b[47m\u001b[43mg\u001b[47m\u001b[42mt\u001b[47m\u001b[43mg\u001b[47m\u001b[44ma\u001b[47m\u001b[43mg\u001b[47m\u001b[44mc\u001b[47m\u001b[42mt\u001b[47m\u001b[44mc\u001b[47m\u001b[44ma\u001b[47m\u001b[43mg\u001b[47m\u001b[44ma\u001b[47m\u001b[42mt\u001b[47m\u001b[42mt\u001b[47m\u001b[43mg\u001b[47m\u001b[42mt\u001b[47m\u001b[44ma\u001b[47m\u001b[43mg\u001b[47m\u001b[42mt\u001b[47m\u001b[42mt\u001b[47m\u001b[44ma\u001b[47m\u001b[44ma\u001b[47m\u001b[44ma\u001b[47m\u001b[44ma\u001b[47m\u001b[44ma\u001b[47m\u001b[44mc\u001b[47m\u001b[44ma\u001b[47m\u001b[44mc\u001b[47m\u001b[44mc\u001b[47m\u001b[44mc\u001b[47m\u001b[42mt\u001b[47m\u001b[42mt\u001b[47m\u001b[43mg\u001b[47m\u001b[42mt\u001b[47m\u001b[42mt\u001b[47m\u001b[42mt\u001b[47m\u001b[44mc\u001b[47m\u001b[42mt\u001b[47m\u001b[44ma\u001b[47m\u001b[44mc\u001b[47m\u001b[47m-\u001b[47m\u001b[47m-\u001b[47m\u001b[47m-\u001b[47m\u001b[47m-\u001b[47m\u001b[47m-\u001b[47m\u001b[47m-\u001b[47m\u001b[47m-\u001b[47m\u001b[47m-\u001b[47m\u001b[47m-\u001b[47m\u001b[47m-\u001b[47m\u001b[47m-\u001b[47m\u001b[47m-\u001b[47m\u001b[47m-\u001b[47m\u001b[47m-\u001b[47m\u001b[47m-\u001b[47m\u001b[47m-\u001b[47m\u001b[47m-\u001b[47m\u001b[47m-\u001b[47m\u001b[47m-\u001b[47m\u001b[47m-\u001b[47m\u001b[47m-\u001b[47m\u001b[47m-\u001b[47m\u001b[47m-\u001b[47m\u001b[47m-\u001b[47m\u001b[47m-\u001b[47m\u001b[47m-\u001b[47m\u001b[47m-\u001b[47m\u001b[47m-\u001b[47m\u001b[47m-\u001b[47m\u001b[47m-\u001b[47m\u001b[47m-\u001b[47m\u001b[47m-\u001b[47m\u001b[47m-\u001b[47m\u001b[47m-\u001b[47m\u001b[47m-\u001b[47m\u001b[47m-\u001b[47m\u001b[47m-\u001b[47m\u001b[47m-\u001b[47m\u001b[47m-\u001b[47m\u001b[47m-\u001b[47m\u001b[47m-\u001b[47m\u001b[47m-\u001b[47m\u001b[47m-\u001b[47m\u001b[47m-\u001b[47m\u001b[47m-\u001b[47m\u001b[47m-\u001b[47m\u001b[47m-\u001b[47m\u001b[0m\n",
      "A/large-billed_crow/ \u001b[30m\u001b[47m\u001b[42mt\u001b[47m\u001b[42mt\u001b[47m\u001b[43mg\u001b[47m\u001b[44mc\u001b[47m\u001b[44ma\u001b[47m\u001b[42mt\u001b[47m\u001b[42mt\u001b[47m\u001b[42mt\u001b[47m\u001b[44ma\u001b[47m\u001b[43mg\u001b[47m\u001b[44ma\u001b[47m\u001b[42mt\u001b[47m\u001b[42mt\u001b[47m\u001b[42mt\u001b[47m\u001b[43mg\u001b[47m\u001b[42mt\u001b[47m\u001b[43mg\u001b[47m\u001b[44ma\u001b[47m\u001b[43mg\u001b[47m\u001b[44mc\u001b[47m\u001b[42mt\u001b[47m\u001b[44mc\u001b[47m\u001b[44ma\u001b[47m\u001b[43mg\u001b[47m\u001b[44ma\u001b[47m\u001b[42mt\u001b[47m\u001b[42mt\u001b[47m\u001b[43mg\u001b[47m\u001b[42mt\u001b[47m\u001b[44ma\u001b[47m\u001b[43mg\u001b[47m\u001b[42mt\u001b[47m\u001b[42mt\u001b[47m\u001b[44ma\u001b[47m\u001b[44ma\u001b[47m\u001b[44ma\u001b[47m\u001b[44ma\u001b[47m\u001b[44ma\u001b[47m\u001b[44mc\u001b[47m\u001b[44ma\u001b[47m\u001b[44mc\u001b[47m\u001b[44mc\u001b[47m\u001b[44mc\u001b[47m\u001b[42mt\u001b[47m\u001b[42mt\u001b[47m\u001b[43mg\u001b[47m\u001b[42mt\u001b[47m\u001b[47m-\u001b[47m\u001b[47m-\u001b[47m\u001b[47m-\u001b[47m\u001b[47m-\u001b[47m\u001b[47m-\u001b[47m\u001b[47m-\u001b[47m\u001b[47m-\u001b[47m\u001b[47m-\u001b[47m\u001b[47m-\u001b[47m\u001b[47m-\u001b[47m\u001b[47m-\u001b[47m\u001b[47m-\u001b[47m\u001b[47m-\u001b[47m\u001b[47m-\u001b[47m\u001b[47m-\u001b[47m\u001b[47m-\u001b[47m\u001b[47m-\u001b[47m\u001b[47m-\u001b[47m\u001b[47m-\u001b[47m\u001b[47m-\u001b[47m\u001b[47m-\u001b[47m\u001b[47m-\u001b[47m\u001b[47m-\u001b[47m\u001b[47m-\u001b[47m\u001b[47m-\u001b[47m\u001b[47m-\u001b[47m\u001b[47m-\u001b[47m\u001b[47m-\u001b[47m\u001b[47m-\u001b[47m\u001b[47m-\u001b[47m\u001b[47m-\u001b[47m\u001b[47m-\u001b[47m\u001b[47m-\u001b[47m\u001b[47m-\u001b[47m\u001b[47m-\u001b[47m\u001b[47m-\u001b[47m\u001b[47m-\u001b[47m\u001b[47m-\u001b[47m\u001b[47m-\u001b[47m\u001b[47m-\u001b[47m\u001b[47m-\u001b[47m\u001b[47m-\u001b[47m\u001b[47m-\u001b[47m\u001b[47m-\u001b[47m\u001b[47m-\u001b[47m\u001b[47m-\u001b[47m\u001b[47m-\u001b[47m\u001b[47m-\u001b[47m\u001b[47m-\u001b[47m\u001b[47m-\u001b[47m\u001b[47m-\u001b[47m\u001b[47m-\u001b[47m\u001b[47m-\u001b[47m\u001b[0m\n",
      "A/mallard/Primorsky_ \u001b[30m\u001b[47m\u001b[42mt\u001b[47m\u001b[42mt\u001b[47m\u001b[43mg\u001b[47m\u001b[44mc\u001b[47m\u001b[44ma\u001b[47m\u001b[42mt\u001b[47m\u001b[42mt\u001b[47m\u001b[42mt\u001b[47m\u001b[44ma\u001b[47m\u001b[43mg\u001b[47m\u001b[44ma\u001b[47m\u001b[42mt\u001b[47m\u001b[42mt\u001b[47m\u001b[42mt\u001b[47m\u001b[43mg\u001b[47m\u001b[42mt\u001b[47m\u001b[43mg\u001b[47m\u001b[44ma\u001b[47m\u001b[43mg\u001b[47m\u001b[44mc\u001b[47m\u001b[42mt\u001b[47m\u001b[44mc\u001b[47m\u001b[44ma\u001b[47m\u001b[43mg\u001b[47m\u001b[44ma\u001b[47m\u001b[42mt\u001b[47m\u001b[42mt\u001b[47m\u001b[43mg\u001b[47m\u001b[42mt\u001b[47m\u001b[44ma\u001b[47m\u001b[43mg\u001b[47m\u001b[42mt\u001b[47m\u001b[42mt\u001b[47m\u001b[44ma\u001b[47m\u001b[44ma\u001b[47m\u001b[44ma\u001b[47m\u001b[44ma\u001b[47m\u001b[44ma\u001b[47m\u001b[44mc\u001b[47m\u001b[44ma\u001b[47m\u001b[44mc\u001b[47m\u001b[44mc\u001b[47m\u001b[44mc\u001b[47m\u001b[42mt\u001b[47m\u001b[42mt\u001b[47m\u001b[43mg\u001b[47m\u001b[42mt\u001b[47m\u001b[42mt\u001b[47m\u001b[42mt\u001b[47m\u001b[44mc\u001b[47m\u001b[42mt\u001b[47m\u001b[44ma\u001b[47m\u001b[44mc\u001b[47m\u001b[42mt\u001b[47m\u001b[47m-\u001b[47m\u001b[47m-\u001b[47m\u001b[47m-\u001b[47m\u001b[47m-\u001b[47m\u001b[47m-\u001b[47m\u001b[47m-\u001b[47m\u001b[47m-\u001b[47m\u001b[47m-\u001b[47m\u001b[47m-\u001b[47m\u001b[47m-\u001b[47m\u001b[47m-\u001b[47m\u001b[47m-\u001b[47m\u001b[47m-\u001b[47m\u001b[47m-\u001b[47m\u001b[47m-\u001b[47m\u001b[47m-\u001b[47m\u001b[47m-\u001b[47m\u001b[47m-\u001b[47m\u001b[47m-\u001b[47m\u001b[47m-\u001b[47m\u001b[47m-\u001b[47m\u001b[47m-\u001b[47m\u001b[47m-\u001b[47m\u001b[47m-\u001b[47m\u001b[47m-\u001b[47m\u001b[47m-\u001b[47m\u001b[47m-\u001b[47m\u001b[47m-\u001b[47m\u001b[47m-\u001b[47m\u001b[47m-\u001b[47m\u001b[47m-\u001b[47m\u001b[47m-\u001b[47m\u001b[47m-\u001b[47m\u001b[47m-\u001b[47m\u001b[47m-\u001b[47m\u001b[47m-\u001b[47m\u001b[47m-\u001b[47m\u001b[47m-\u001b[47m\u001b[47m-\u001b[47m\u001b[47m-\u001b[47m\u001b[47m-\u001b[47m\u001b[47m-\u001b[47m\u001b[47m-\u001b[47m\u001b[47m-\u001b[47m\u001b[47m-\u001b[47m\u001b[47m-\u001b[47m\u001b[0m\n",
      "A/swan/Japan/0302I00 \u001b[30m\u001b[47m\u001b[42mt\u001b[47m\u001b[42mt\u001b[47m\u001b[43mg\u001b[47m\u001b[44mc\u001b[47m\u001b[44ma\u001b[47m\u001b[42mt\u001b[47m\u001b[42mt\u001b[47m\u001b[42mt\u001b[47m\u001b[44ma\u001b[47m\u001b[43mg\u001b[47m\u001b[44ma\u001b[47m\u001b[42mt\u001b[47m\u001b[42mt\u001b[47m\u001b[42mt\u001b[47m\u001b[43mg\u001b[47m\u001b[42mt\u001b[47m\u001b[43mg\u001b[47m\u001b[44ma\u001b[47m\u001b[43mg\u001b[47m\u001b[44mc\u001b[47m\u001b[42mt\u001b[47m\u001b[44mc\u001b[47m\u001b[44ma\u001b[47m\u001b[43mg\u001b[47m\u001b[44ma\u001b[47m\u001b[42mt\u001b[47m\u001b[42mt\u001b[47m\u001b[43mg\u001b[47m\u001b[42mt\u001b[47m\u001b[44ma\u001b[47m\u001b[43mg\u001b[47m\u001b[42mt\u001b[47m\u001b[42mt\u001b[47m\u001b[44ma\u001b[47m\u001b[44ma\u001b[47m\u001b[44ma\u001b[47m\u001b[44ma\u001b[47m\u001b[44ma\u001b[47m\u001b[44mc\u001b[47m\u001b[44ma\u001b[47m\u001b[44mc\u001b[47m\u001b[44mc\u001b[47m\u001b[44mc\u001b[47m\u001b[42mt\u001b[47m\u001b[42mt\u001b[47m\u001b[43mg\u001b[47m\u001b[42mt\u001b[47m\u001b[42mt\u001b[47m\u001b[42mt\u001b[47m\u001b[47m-\u001b[47m\u001b[47m-\u001b[47m\u001b[47m-\u001b[47m\u001b[47m-\u001b[47m\u001b[47m-\u001b[47m\u001b[47m-\u001b[47m\u001b[47m-\u001b[47m\u001b[47m-\u001b[47m\u001b[47m-\u001b[47m\u001b[47m-\u001b[47m\u001b[47m-\u001b[47m\u001b[47m-\u001b[47m\u001b[47m-\u001b[47m\u001b[47m-\u001b[47m\u001b[47m-\u001b[47m\u001b[47m-\u001b[47m\u001b[47m-\u001b[47m\u001b[47m-\u001b[47m\u001b[47m-\u001b[47m\u001b[47m-\u001b[47m\u001b[47m-\u001b[47m\u001b[47m-\u001b[47m\u001b[47m-\u001b[47m\u001b[47m-\u001b[47m\u001b[47m-\u001b[47m\u001b[47m-\u001b[47m\u001b[47m-\u001b[47m\u001b[47m-\u001b[47m\u001b[47m-\u001b[47m\u001b[47m-\u001b[47m\u001b[47m-\u001b[47m\u001b[47m-\u001b[47m\u001b[47m-\u001b[47m\u001b[47m-\u001b[47m\u001b[47m-\u001b[47m\u001b[47m-\u001b[47m\u001b[47m-\u001b[47m\u001b[47m-\u001b[47m\u001b[47m-\u001b[47m\u001b[47m-\u001b[47m\u001b[47m-\u001b[47m\u001b[47m-\u001b[47m\u001b[47m-\u001b[47m\u001b[47m-\u001b[47m\u001b[47m-\u001b[47m\u001b[47m-\u001b[47m\u001b[47m-\u001b[47m\u001b[47m-\u001b[47m\u001b[47m-\u001b[47m\u001b[47m-\u001b[47m\u001b[47m-\u001b[47m\u001b[0m\n",
      "A/thick-billed_murre \u001b[30m\u001b[47m\u001b[42mt\u001b[47m\u001b[42mt\u001b[47m\u001b[43mg\u001b[47m\u001b[44mc\u001b[47m\u001b[44ma\u001b[47m\u001b[42mt\u001b[47m\u001b[42mt\u001b[47m\u001b[42mt\u001b[47m\u001b[44ma\u001b[47m\u001b[43mg\u001b[47m\u001b[44ma\u001b[47m\u001b[42mt\u001b[47m\u001b[42mt\u001b[47m\u001b[42mt\u001b[47m\u001b[43mg\u001b[47m\u001b[42mt\u001b[47m\u001b[43mg\u001b[47m\u001b[44ma\u001b[47m\u001b[43mg\u001b[47m\u001b[44mc\u001b[47m\u001b[42mt\u001b[47m\u001b[44mc\u001b[47m\u001b[44ma\u001b[47m\u001b[43mg\u001b[47m\u001b[44ma\u001b[47m\u001b[42mt\u001b[47m\u001b[42mt\u001b[47m\u001b[43mg\u001b[47m\u001b[42mt\u001b[47m\u001b[44ma\u001b[47m\u001b[43mg\u001b[47m\u001b[42mt\u001b[47m\u001b[42mt\u001b[47m\u001b[44ma\u001b[47m\u001b[44ma\u001b[47m\u001b[44ma\u001b[47m\u001b[44ma\u001b[47m\u001b[44ma\u001b[47m\u001b[44mc\u001b[47m\u001b[44ma\u001b[47m\u001b[44mc\u001b[47m\u001b[44mc\u001b[47m\u001b[44mc\u001b[47m\u001b[42mt\u001b[47m\u001b[42mt\u001b[47m\u001b[43mg\u001b[47m\u001b[42mt\u001b[47m\u001b[42mt\u001b[47m\u001b[42mt\u001b[47m\u001b[44mc\u001b[47m\u001b[42mt\u001b[47m\u001b[44ma\u001b[47m\u001b[44mc\u001b[47m\u001b[42mt\u001b[47m\u001b[47m-\u001b[47m\u001b[47m-\u001b[47m\u001b[47m-\u001b[47m\u001b[47m-\u001b[47m\u001b[47m-\u001b[47m\u001b[47m-\u001b[47m\u001b[47m-\u001b[47m\u001b[47m-\u001b[47m\u001b[47m-\u001b[47m\u001b[47m-\u001b[47m\u001b[47m-\u001b[47m\u001b[47m-\u001b[47m\u001b[47m-\u001b[47m\u001b[47m-\u001b[47m\u001b[47m-\u001b[47m\u001b[47m-\u001b[47m\u001b[47m-\u001b[47m\u001b[47m-\u001b[47m\u001b[47m-\u001b[47m\u001b[47m-\u001b[47m\u001b[47m-\u001b[47m\u001b[47m-\u001b[47m\u001b[47m-\u001b[47m\u001b[47m-\u001b[47m\u001b[47m-\u001b[47m\u001b[47m-\u001b[47m\u001b[47m-\u001b[47m\u001b[47m-\u001b[47m\u001b[47m-\u001b[47m\u001b[47m-\u001b[47m\u001b[47m-\u001b[47m\u001b[47m-\u001b[47m\u001b[47m-\u001b[47m\u001b[47m-\u001b[47m\u001b[47m-\u001b[47m\u001b[47m-\u001b[47m\u001b[47m-\u001b[47m\u001b[47m-\u001b[47m\u001b[47m-\u001b[47m\u001b[47m-\u001b[47m\u001b[47m-\u001b[47m\u001b[47m-\u001b[47m\u001b[47m-\u001b[47m\u001b[47m-\u001b[47m\u001b[47m-\u001b[47m\u001b[47m-\u001b[47m\u001b[0m\n",
      "A/thick-billed_murre \u001b[30m\u001b[47m\u001b[42mt\u001b[47m\u001b[42mt\u001b[47m\u001b[43mg\u001b[47m\u001b[44mc\u001b[47m\u001b[44ma\u001b[47m\u001b[42mt\u001b[47m\u001b[42mt\u001b[47m\u001b[42mt\u001b[47m\u001b[44ma\u001b[47m\u001b[43mg\u001b[47m\u001b[44ma\u001b[47m\u001b[42mt\u001b[47m\u001b[42mt\u001b[47m\u001b[42mt\u001b[47m\u001b[43mg\u001b[47m\u001b[42mt\u001b[47m\u001b[43mg\u001b[47m\u001b[44ma\u001b[47m\u001b[43mg\u001b[47m\u001b[44mc\u001b[47m\u001b[42mt\u001b[47m\u001b[44mc\u001b[47m\u001b[44ma\u001b[47m\u001b[43mg\u001b[47m\u001b[44ma\u001b[47m\u001b[42mt\u001b[47m\u001b[42mt\u001b[47m\u001b[43mg\u001b[47m\u001b[42mt\u001b[47m\u001b[44ma\u001b[47m\u001b[43mg\u001b[47m\u001b[42mt\u001b[47m\u001b[42mt\u001b[47m\u001b[44ma\u001b[47m\u001b[44ma\u001b[47m\u001b[44ma\u001b[47m\u001b[44ma\u001b[47m\u001b[44ma\u001b[47m\u001b[44mc\u001b[47m\u001b[44ma\u001b[47m\u001b[44mc\u001b[47m\u001b[44mc\u001b[47m\u001b[44mc\u001b[47m\u001b[42mt\u001b[47m\u001b[42mt\u001b[47m\u001b[43mg\u001b[47m\u001b[42mt\u001b[47m\u001b[42mt\u001b[47m\u001b[42mt\u001b[47m\u001b[44mc\u001b[47m\u001b[42mt\u001b[47m\u001b[44ma\u001b[47m\u001b[44mc\u001b[47m\u001b[42mt\u001b[47m\u001b[47m-\u001b[47m\u001b[47m-\u001b[47m\u001b[47m-\u001b[47m\u001b[47m-\u001b[47m\u001b[47m-\u001b[47m\u001b[47m-\u001b[47m\u001b[47m-\u001b[47m\u001b[47m-\u001b[47m\u001b[47m-\u001b[47m\u001b[47m-\u001b[47m\u001b[47m-\u001b[47m\u001b[47m-\u001b[47m\u001b[47m-\u001b[47m\u001b[47m-\u001b[47m\u001b[47m-\u001b[47m\u001b[47m-\u001b[47m\u001b[47m-\u001b[47m\u001b[47m-\u001b[47m\u001b[47m-\u001b[47m\u001b[47m-\u001b[47m\u001b[47m-\u001b[47m\u001b[47m-\u001b[47m\u001b[47m-\u001b[47m\u001b[47m-\u001b[47m\u001b[47m-\u001b[47m\u001b[47m-\u001b[47m\u001b[47m-\u001b[47m\u001b[47m-\u001b[47m\u001b[47m-\u001b[47m\u001b[47m-\u001b[47m\u001b[47m-\u001b[47m\u001b[47m-\u001b[47m\u001b[47m-\u001b[47m\u001b[47m-\u001b[47m\u001b[47m-\u001b[47m\u001b[47m-\u001b[47m\u001b[47m-\u001b[47m\u001b[47m-\u001b[47m\u001b[47m-\u001b[47m\u001b[47m-\u001b[47m\u001b[47m-\u001b[47m\u001b[47m-\u001b[47m\u001b[47m-\u001b[47m\u001b[47m-\u001b[47m\u001b[47m-\u001b[47m\u001b[47m-\u001b[47m\u001b[0m\n",
      "A/white-fronted_goos \u001b[30m\u001b[47m\u001b[42mt\u001b[47m\u001b[42mt\u001b[47m\u001b[43mg\u001b[47m\u001b[44mc\u001b[47m\u001b[44ma\u001b[47m\u001b[42mt\u001b[47m\u001b[42mt\u001b[47m\u001b[42mt\u001b[47m\u001b[44ma\u001b[47m\u001b[43mg\u001b[47m\u001b[44ma\u001b[47m\u001b[42mt\u001b[47m\u001b[42mt\u001b[47m\u001b[42mt\u001b[47m\u001b[43mg\u001b[47m\u001b[42mt\u001b[47m\u001b[43mg\u001b[47m\u001b[44ma\u001b[47m\u001b[43mg\u001b[47m\u001b[44mc\u001b[47m\u001b[42mt\u001b[47m\u001b[44mc\u001b[47m\u001b[44ma\u001b[47m\u001b[43mg\u001b[47m\u001b[44ma\u001b[47m\u001b[42mt\u001b[47m\u001b[42mt\u001b[47m\u001b[43mg\u001b[47m\u001b[42mt\u001b[47m\u001b[44ma\u001b[47m\u001b[43mg\u001b[47m\u001b[42mt\u001b[47m\u001b[42mt\u001b[47m\u001b[44ma\u001b[47m\u001b[44ma\u001b[47m\u001b[44ma\u001b[47m\u001b[44ma\u001b[47m\u001b[44ma\u001b[47m\u001b[44mc\u001b[47m\u001b[44ma\u001b[47m\u001b[44mc\u001b[47m\u001b[44mc\u001b[47m\u001b[44mc\u001b[47m\u001b[42mt\u001b[47m\u001b[42mt\u001b[47m\u001b[43mg\u001b[47m\u001b[42mt\u001b[47m\u001b[42mt\u001b[47m\u001b[42mt\u001b[47m\u001b[44mc\u001b[47m\u001b[42mt\u001b[47m\u001b[44ma\u001b[47m\u001b[44mc\u001b[47m\u001b[42mt\u001b[47m\u001b[47m-\u001b[47m\u001b[47m-\u001b[47m\u001b[47m-\u001b[47m\u001b[47m-\u001b[47m\u001b[47m-\u001b[47m\u001b[47m-\u001b[47m\u001b[47m-\u001b[47m\u001b[47m-\u001b[47m\u001b[47m-\u001b[47m\u001b[47m-\u001b[47m\u001b[47m-\u001b[47m\u001b[47m-\u001b[47m\u001b[47m-\u001b[47m\u001b[47m-\u001b[47m\u001b[47m-\u001b[47m\u001b[47m-\u001b[47m\u001b[47m-\u001b[47m\u001b[47m-\u001b[47m\u001b[47m-\u001b[47m\u001b[47m-\u001b[47m\u001b[47m-\u001b[47m\u001b[47m-\u001b[47m\u001b[47m-\u001b[47m\u001b[47m-\u001b[47m\u001b[47m-\u001b[47m\u001b[47m-\u001b[47m\u001b[47m-\u001b[47m\u001b[47m-\u001b[47m\u001b[47m-\u001b[47m\u001b[47m-\u001b[47m\u001b[47m-\u001b[47m\u001b[47m-\u001b[47m\u001b[47m-\u001b[47m\u001b[47m-\u001b[47m\u001b[47m-\u001b[47m\u001b[47m-\u001b[47m\u001b[47m-\u001b[47m\u001b[47m-\u001b[47m\u001b[47m-\u001b[47m\u001b[47m-\u001b[47m\u001b[47m-\u001b[47m\u001b[47m-\u001b[47m\u001b[47m-\u001b[47m\u001b[47m-\u001b[47m\u001b[47m-\u001b[47m\u001b[47m-\u001b[47m\u001b[0m\n",
      "A/white-tailed_eagle \u001b[30m\u001b[47m\u001b[42mt\u001b[47m\u001b[42mt\u001b[47m\u001b[43mg\u001b[47m\u001b[44mc\u001b[47m\u001b[44ma\u001b[47m\u001b[42mt\u001b[47m\u001b[42mt\u001b[47m\u001b[42mt\u001b[47m\u001b[44ma\u001b[47m\u001b[43mg\u001b[47m\u001b[44ma\u001b[47m\u001b[42mt\u001b[47m\u001b[42mt\u001b[47m\u001b[42mt\u001b[47m\u001b[43mg\u001b[47m\u001b[42mt\u001b[47m\u001b[43mg\u001b[47m\u001b[44ma\u001b[47m\u001b[43mg\u001b[47m\u001b[44mc\u001b[47m\u001b[42mt\u001b[47m\u001b[44mc\u001b[47m\u001b[44ma\u001b[47m\u001b[43mg\u001b[47m\u001b[44ma\u001b[47m\u001b[42mt\u001b[47m\u001b[42mt\u001b[47m\u001b[43mg\u001b[47m\u001b[42mt\u001b[47m\u001b[44ma\u001b[47m\u001b[43mg\u001b[47m\u001b[42mt\u001b[47m\u001b[42mt\u001b[47m\u001b[44ma\u001b[47m\u001b[44ma\u001b[47m\u001b[44ma\u001b[47m\u001b[44ma\u001b[47m\u001b[44ma\u001b[47m\u001b[44mc\u001b[47m\u001b[44ma\u001b[47m\u001b[44mc\u001b[47m\u001b[44mc\u001b[47m\u001b[44mc\u001b[47m\u001b[42mt\u001b[47m\u001b[42mt\u001b[47m\u001b[43mg\u001b[47m\u001b[47m-\u001b[47m\u001b[47m-\u001b[47m\u001b[47m-\u001b[47m\u001b[47m-\u001b[47m\u001b[47m-\u001b[47m\u001b[47m-\u001b[47m\u001b[47m-\u001b[47m\u001b[47m-\u001b[47m\u001b[47m-\u001b[47m\u001b[47m-\u001b[47m\u001b[47m-\u001b[47m\u001b[47m-\u001b[47m\u001b[47m-\u001b[47m\u001b[47m-\u001b[47m\u001b[47m-\u001b[47m\u001b[47m-\u001b[47m\u001b[47m-\u001b[47m\u001b[47m-\u001b[47m\u001b[47m-\u001b[47m\u001b[47m-\u001b[47m\u001b[47m-\u001b[47m\u001b[47m-\u001b[47m\u001b[47m-\u001b[47m\u001b[47m-\u001b[47m\u001b[47m-\u001b[47m\u001b[47m-\u001b[47m\u001b[47m-\u001b[47m\u001b[47m-\u001b[47m\u001b[47m-\u001b[47m\u001b[47m-\u001b[47m\u001b[47m-\u001b[47m\u001b[47m-\u001b[47m\u001b[47m-\u001b[47m\u001b[47m-\u001b[47m\u001b[47m-\u001b[47m\u001b[47m-\u001b[47m\u001b[47m-\u001b[47m\u001b[47m-\u001b[47m\u001b[47m-\u001b[47m\u001b[47m-\u001b[47m\u001b[47m-\u001b[47m\u001b[47m-\u001b[47m\u001b[47m-\u001b[47m\u001b[47m-\u001b[47m\u001b[47m-\u001b[47m\u001b[47m-\u001b[47m\u001b[47m-\u001b[47m\u001b[47m-\u001b[47m\u001b[47m-\u001b[47m\u001b[47m-\u001b[47m\u001b[47m-\u001b[47m\u001b[47m-\u001b[47m\u001b[47m-\u001b[47m\u001b[47m-\u001b[47m\u001b[0m\n",
      "                 1722^             1740^               1760^               1780^               1800^               1820^\n",
      "\u001b[0m"
     ]
    }
   ],
   "source": [
    "# Run alv to shown the end of the alignment\n",
    "!alv -sa 1722 1822 -as 0 20 -w 1000 Dataset1.aln"
   ]
  },
  {
   "cell_type": "markdown",
   "metadata": {
    "id": "uYXCh6_h-SIb"
   },
   "source": [
    "### Trimming by using first seq as reference.  "
   ]
  },
  {
   "cell_type": "code",
   "execution_count": 17,
   "metadata": {
    "colab": {
     "base_uri": "https://localhost:8080/"
    },
    "id": "bx7ECWHe-Q-L",
    "outputId": "762f4164-10c0-4183-9cda-3a1fcbf6e7ee"
   },
   "outputs": [
    {
     "name": "stdout",
     "output_type": "stream",
     "text": [
      "seqID\tpatternName\tpattern\tstrand\tstart\tend\tmatched\n",
      "A/Bald_Eagle/BC/OTH-33-36/2022_H5N1|A/Bald_Eagle/BC/OTH-33-36/2022|2022-02-03|\t(N)\t(N)\t+\t1\t1\ta\n",
      "A/Bald_Eagle/BC/OTH-33-36/2022_H5N1|A/Bald_Eagle/BC/OTH-33-36/2022|2022-02-03|\t(N)\t(N)\t+\t1776\t1776\tt\n"
     ]
    }
   ],
   "source": [
    "!seqkit head -n 1 Dataset1.aln | seqkit locate -Pdip '(N)' | head -n2 # find the first base i.e. not a gap\n",
    "!seqkit head -n 1 Dataset1.aln | seqkit locate -Pdip '(N)' | tail -n1 # find the last base i.e. not a gap"
   ]
  },
  {
   "cell_type": "code",
   "execution_count": 18,
   "metadata": {
    "colab": {
     "base_uri": "https://localhost:8080/"
    },
    "id": "GKVTCk-ICBFz",
    "outputId": "0c8cf035-ce7e-4649-8aaf-f3bdde0e6bef"
   },
   "outputs": [
    {
     "name": "stdout",
     "output_type": "stream",
     "text": [
      "[INFO]\u001b[0m create or read FASTA index ...\n",
      "[INFO]\u001b[0m create FASTA index for Dataset1.aln\n",
      "[INFO]\u001b[0m   43 records loaded from Dataset1.aln.seqkit.fai\n"
     ]
    }
   ],
   "source": [
    "start, *_ = !seqkit head -n 1 Dataset1.aln | seqkit locate -Pdip '(N)' | sed -n '2p' | awk '{print $5}'\n",
    "end, *_ = !seqkit head -n 1 Dataset1.aln | seqkit locate -Pdip '(N)' | sed -n '$p' | awk '{print $5}'\n",
    "!seqkit -w 0 subseq -r $start:$end Dataset1.aln > Dataset1.trimmed.aln && cp Dataset1.trimmed.aln Dataset1.aln"
   ]
  },
  {
   "cell_type": "code",
   "execution_count": 19,
   "metadata": {
    "colab": {
     "base_uri": "https://localhost:8080/"
    },
    "id": "O-gX5_UaaB7-",
    "outputId": "7ceff000-6478-4ced-bcdb-d455d5b72430"
   },
   "outputs": [
    {
     "name": "stdout",
     "output_type": "stream",
     "text": [
      "file          format  type  num_seqs  sum_len  min_len  avg_len  max_len\n",
      "Dataset1.aln  FASTA   DNA         43   76,368    1,776    1,776    1,776\n"
     ]
    }
   ],
   "source": [
    "!seqkit stats Dataset1.aln"
   ]
  },
  {
   "cell_type": "markdown",
   "metadata": {
    "id": "igKarWrtB-ZM"
   },
   "source": [
    "To filter poorly aligned sequences we use [Biopython](https://biopython.org/). and do it using following script. This code has been reused from original pipeline."
   ]
  },
  {
   "cell_type": "code",
   "execution_count": 22,
   "metadata": {
    "id": "l0r75Nr4BzU8"
   },
   "outputs": [],
   "source": [
    "from Bio import AlignIO\n",
    "from Bio import SeqIO\n",
    "from Bio.SeqRecord import SeqRecord\n",
    "\n",
    "# Load the MSA file\n",
    "alignment = AlignIO.read(\"Dataset1.aln\", \"fasta\")\n",
    "\n",
    "# Select the first sequence as the reference\n",
    "reference_seq = alignment[0].seq\n",
    "\n",
    "# Define a similarity threshold (e.g., 90%)\n",
    "threshold = 0.6\n",
    "\n",
    "def calculate_similarity(seq1, seq2):\n",
    "    \"\"\"Calculate the similarity score between two sequences.\"\"\"\n",
    "    matches = sum(res1 == res2 for res1, res2 in zip(seq1, seq2))\n",
    "    return matches / len(seq1)\n",
    "\n",
    "# Filter sequences\n",
    "filtered_sequences = []\n",
    "for record in alignment:\n",
    "    similarity = calculate_similarity(reference_seq, record.seq)\n",
    "    if similarity >= threshold:\n",
    "        filtered_sequences.append(record)\n",
    "    else:\n",
    "        print(f\"Removing sequence {record.id} with similarity {similarity:.2f}\")\n",
    "\n",
    "# Save the filtered sequences to a new FASTA file\n",
    "with open(\"Dataset1.clean.aln\", \"w\") as output_handle:\n",
    "    SeqIO.write(filtered_sequences, output_handle, \"fasta\")"
   ]
  },
  {
   "cell_type": "code",
   "execution_count": 23,
   "metadata": {
    "colab": {
     "base_uri": "https://localhost:8080/"
    },
    "id": "siQdWjy4EgCY",
    "outputId": "20ca5f65-4faf-4677-8ca4-3063bb76aeed"
   },
   "outputs": [
    {
     "name": "stdout",
     "output_type": "stream",
     "text": [
      "file                format  type  num_seqs  sum_len  min_len  avg_len  max_len\n",
      "Dataset1.clean.aln  FASTA   DNA         43   76,368    1,776    1,776    1,776\n"
     ]
    }
   ],
   "source": [
    "!seqkit stats Dataset1.clean.aln  #appears that no sequences were removed since num_seqs is still 43"
   ]
  },
  {
   "cell_type": "code",
   "execution_count": 25,
   "metadata": {
    "colab": {
     "base_uri": "https://localhost:8080/"
    },
    "id": "aZjTRtOKlUXd",
    "outputId": "5394a5fb-c913-4d0e-c432-803dd2715068"
   },
   "outputs": [
    {
     "name": "stdout",
     "output_type": "stream",
     "text": [
      "IQ-TREE multicore version 2.3.6 for Linux x86 64-bit built Aug  4 2024\n",
      "Developed by Bui Quang Minh, Nguyen Lam Tung, Olga Chernomor, Heiko Schmidt,\n",
      "Dominik Schrempf, Michael Woodhams, Ly Trong Nhan, Thomas Wong\n",
      "\n",
      "Host:    d063f6b6905d (AVX2, FMA3, 12 GB RAM)\n",
      "Command: iqtree -s Dataset1.aln -m TEST -B 100000 -redo\n",
      "Seed:    509250 (Using SPRNG - Scalable Parallel Random Number Generator)\n",
      "Time:    Mon Oct 21 00:38:27 2024\n",
      "Kernel:  AVX+FMA - 1 threads (2 CPU cores detected)\n",
      "\n",
      "HINT: Use -nt option to specify number of threads because your CPU has 2 cores!\n",
      "HINT: -nt AUTO will automatically determine the best number of threads to use.\n",
      "\n",
      "Reading alignment file Dataset1.aln ... Fasta format detected\n",
      "Reading fasta file: done in 0.00140151 secs using 90.33% CPU\n",
      "Alignment most likely contains DNA/RNA sequences\n",
      "Alignment has 43 sequences with 1776 columns, 75 distinct patterns\n",
      "22 parsimony-informative, 48 singleton sites, 1706 constant sites\n",
      "                                                                                Gap/Ambiguity  Composition  p-value\n",
      "Analyzing sequences: done in 2.0849e-05 secs using 95.93% CPU\n",
      "   1  A/Bald_Eagle/BC/OTH-33-36/2022_H5N1|A/Bald_Eagle/BC/OTH-33-36/2022|2022-02-03|    0.00%    passed     99.97%\n",
      "   2  A/chicken/Aomori/21C14T/2022|2022-04-14|                                          0.68%    passed     99.98%\n",
      "   3  A/Chicken/BC/FAV-0369-OS/2022|2.3.4.4b|2022-03-05                                 0.17%    passed     99.89%\n",
      "   4  A/chicken/Iwate/21A1T/2022|2022-02-11|                                            0.68%    passed     99.99%\n",
      "   5  A/chicken/Iwate/21A2T/2022|2022-02-11|                                            0.79%    passed     99.98%\n",
      "   6  A/chicken/Iwate/21A7T/2022|2022-02-11|                                            0.79%    passed     99.98%\n",
      "   7  A/chicken/Iwate/21A13T/2022|2022-02-11|                                           0.79%    passed     99.98%\n",
      "   8  A/chicken/Japan/TU16-1112/2022|2022-02-12|                                        0.56%    passed     99.99%\n",
      "   9  A/chicken/Japan/TU20-2829/2022|2022-04-16|                                        0.23%    passed     99.82%\n",
      "  10  A/chicken/Magadan/14-1V/2022|221221_106_H5N1_36PHA|2022-10-12|                    0.00%    passed     99.97%\n",
      "  11  A/chicken/Magadan/235-57V/2022|220824_79_61_H5N1HA|2022-07-28|                    0.00%    passed     99.95%\n",
      "  12  A/chicken/Magadan/235-58V/2022|220824_79_62_H5N1HA|2022-07-28|                    0.00%    passed     99.98%\n",
      "  13  A/chicken/Miyagi/TU17-1718/2022|2022-03-25|                                       0.51%    passed     99.99%\n",
      "  14  A/chicken/Sakhalin/37-1V/2022|221221_106_H5N1_62PHA|2022-11-04|                   0.00%    passed     99.94%\n",
      "  15  A/chicken/Sakhalin/37-20V/2022|221221_106_H5N1_72PHA|2022-11-04|                  0.00%    passed     99.94%\n",
      "  16  A/Cooper_s_Hawk/BC/AIVPHL-893/2023|2023-01-16|                                    0.17%    passed     99.94%\n",
      "  17  A/crow/Hokkaido/0102F046/2022|2022-02-07|                                         0.39%    passed     99.97%\n",
      "  18  A/crow/Khabarovsk/216-11V/2022|220519_60_68_H5N1HA|2022-04-21|                    0.00%    passed     99.95%\n",
      "  19  A/crow/Khabarovsk/216-13V/2022|220519_60_73_H5N1HA|2022-04-21|                    0.00%    passed     99.97%\n",
      "  20  A/domestic_duck/Magadan/14-4V/2022|221221_106_H5N1_38PHA|2022-10-12|              0.00%    passed     99.97%\n",
      "  21  A/domestic_goose/Magadan/14-9V/2022|221221_106_H5N1_47PHA|2022-10-12|             0.00%    passed     99.97%\n",
      "  22  A/duck/Tottori/NK40/2023|2023-11-09|                                              0.34%    passed     99.97%\n",
      "  23  A/duck/Tottori/TG164/2023|2023-12-02|                                             0.28%    passed     99.88%\n",
      "  24  A/eagle/Japan/OUAVM-62888/2022|2022-11-23|                                        0.34%    passed     99.81%\n",
      "  25  A/emu/Iwate/21B1T/2022|2022-05-11|                                                0.68%    passed    100.00%\n",
      "  26  A/emu/Japan/TU21-12/2022|2022-04-16|                                              0.28%    passed     99.99%\n",
      "  27  A/goshawk/Gifu/1/2023|A/Hodgsons_hawk_eagle/Mie/HU-NIES001/2023|2023-08-31|       0.00%    passed     99.89%\n",
      "  28  A/jungle_crow/Hokkaido/0102Q067T/2022|2022-02-20|                                 0.79%    passed    100.00%\n",
      "  29  A/jungle_crow/Hokkaido/0103Q076T/2022|2022-03-09|                                 0.79%    passed     99.92%\n",
      "  30  A/jungle_crow/Hokkaido/0103Q078T/2022|2022-03-09|                                 0.96%    passed     99.93%\n",
      "  31  A/jungle_crow/Hokkaido/0104Q081T/2022|2022-04-09|                                 0.84%    passed     99.99%\n",
      "  32  A/jungle_crow/Hokkaido/20220404002E/2022|2022-04-04|                              1.07%    passed     99.94%\n",
      "  33  A/jungle_crow/Hokkaido/20220404003E/2022|2022-04-04|                              0.84%    passed     99.97%\n",
      "  34  A/jungle_crow/Hokkaido/20220404003T/2022|2022-04-04|                              0.79%    passed     99.98%\n",
      "  35  A/jungle_crow/Japan/0104B087/2022|2022-04-28|                                     0.51%    passed    100.00%\n",
      "  36  A/jungle_crow/Japan/0304I001/2022|2022-04-06|                                     0.34%    passed     99.99%\n",
      "  37  A/large-billed_crow/Hokkaido/4810Z002C/2023|2023-10-04|                           0.68%    passed     99.98%\n",
      "  38  A/mallard/Primorsky_Krai/407-14V/2023|240128_7_H5N1_28NHA|2023-08-20|             0.00%    passed     99.91%\n",
      "  39  A/swan/Japan/0302I001T/2022|2022-02-08|                                           0.56%    passed     99.99%\n",
      "  40  A/thick-billed_murre/Sakhalin/407-2V/2023|240128_7_A_21NHA|2023-08-21|            0.00%    passed     99.91%\n",
      "  41  A/thick-billed_murre/Sakhalin/407-12V/2023|240128_7_A_27NHA|2023-08-21|           0.00%    passed     99.72%\n",
      "  42  A/white-fronted_goose/Japan/TU16-74/2022|2022-02-12|                              0.23%    passed     99.98%\n",
      "  43  A/white-tailed_eagle/Hokkaido/20220418002T/2022|2022-04-18|                       0.84%    passed     99.92%\n",
      "****  TOTAL                                                                             0.39%  0 sequences failed composition chi2 test (p-value<5%; df=3)\n",
      "NOTE: A/chicken/Iwate/21A7T/2022|2022-02-11| is identical to A/chicken/Iwate/21A2T/2022|2022-02-11| but kept for subsequent analysis\n",
      "NOTE: A/swan/Japan/0302I001T/2022|2022-02-08| is identical to A/chicken/Japan/TU16-1112/2022|2022-02-12| but kept for subsequent analysis\n",
      "NOTE: A/domestic_duck/Magadan/14-4V/2022|221221_106_H5N1_38PHA|2022-10-12| is identical to A/chicken/Magadan/14-1V/2022|221221_106_H5N1_36PHA|2022-10-12| but kept for subsequent analysis\n",
      "NOTE: A/chicken/Sakhalin/37-20V/2022|221221_106_H5N1_72PHA|2022-11-04| is identical to A/chicken/Sakhalin/37-1V/2022|221221_106_H5N1_62PHA|2022-11-04| but kept for subsequent analysis\n",
      "NOTE: 3 identical sequences (see below) will be ignored for subsequent analysis\n",
      "NOTE: A/chicken/Iwate/21A13T/2022|2022-02-11| (identical to A/chicken/Iwate/21A2T/2022|2022-02-11|) is ignored but added at the end\n",
      "NOTE: A/jungle_crow/Hokkaido/20220404003T/2022|2022-04-04| (identical to A/chicken/Iwate/21A2T/2022|2022-02-11|) is ignored but added at the end\n",
      "NOTE: A/domestic_goose/Magadan/14-9V/2022|221221_106_H5N1_47PHA|2022-10-12| (identical to A/chicken/Magadan/14-1V/2022|221221_106_H5N1_36PHA|2022-10-12|) is ignored but added at the end\n",
      "Alignment was printed to Dataset1.aln.uniqueseq.phy\n",
      "\n",
      "For your convenience alignment with unique sequences printed to Dataset1.aln.uniqueseq.phy\n",
      "\n",
      "Creating fast initial parsimony tree by random order stepwise addition...\n",
      "0.003 seconds, parsimony score: 75 (based on 70 sites)\n",
      "Perform fast likelihood tree search using GTR+I+G model...\n",
      "Estimate model parameters (epsilon = 5.000)\n",
      "Perform nearest neighbor interchange...\n",
      "Estimate model parameters (epsilon = 1.000)\n",
      "1. Initial log-likelihood: -2974.449\n",
      "Optimal log-likelihood: -2974.367\n",
      "Rate parameters:  A-C: 1.17289  A-G: 6.86029  A-T: 0.73381  C-G: 0.00010  C-T: 10.55728  G-T: 1.00000\n",
      "Warning! Some parameters hit the boundaries\n",
      "Base frequencies:  A: 0.341  C: 0.190  G: 0.231  T: 0.237\n",
      "Proportion of invariable sites: 0.480\n",
      "Gamma shape alpha: 0.720\n",
      "Parameters optimization took 1 rounds (0.021 sec)\n",
      "Time for fast ML tree search: 0.090 seconds\n",
      "\n",
      "NOTE: ModelFinder requires 30 MB RAM!\n",
      "ModelFinder will test up to 88 DNA models (sample size: 1776 epsilon: 0.100) ...\n",
      " No. Model         -LnL         df  AIC          AICc         BIC\n",
      "  1  GTR+F         2977.353     85  6124.705     6133.356     6590.685\n",
      "  2  GTR+F+I       2974.117     86  6120.234     6129.094     6591.697\n",
      "  3  GTR+F+G4      2973.844     86  6119.688     6128.548     6591.150\n",
      "  4  GTR+F+I+G4    2973.857     87  6121.713     6130.784     6598.658\n",
      "  5  SYM           3021.019     82  6206.037     6214.077     6655.571\n",
      "  6  SYM+I         3017.797     83  6201.595     6209.836     6656.611\n",
      "  7  SYM+G4        3017.790     83  6201.581     6209.822     6656.597\n",
      "  8  SYM+I+G4      3017.845     84  6203.690     6212.134     6664.188\n",
      "  9  TVM+F         2978.360     84  6124.719     6133.164     6585.217\n",
      " 10  TVM+F+I       2975.123     85  6120.247     6128.898     6586.227\n",
      " 11  TVM+F+G4      2975.115     85  6120.231     6128.881     6586.211\n",
      " 12  TVM+F+I+G4    2975.123     86  6122.245     6131.105     6593.707\n",
      " 13  TVMe          3021.187     81  6204.374     6212.216     6648.426\n",
      " 14  TVMe+I        3017.924     82  6199.848     6207.889     6649.382\n",
      " 15  TVMe+G4       3017.917     82  6199.833     6207.874     6649.367\n",
      " 16  TVMe+I+G4     3017.961     83  6201.922     6210.163     6656.938\n",
      " 17  TIM3+F        2979.190     83  6124.380     6132.621     6579.396\n",
      " 18  TIM3+F+I      2976.068     84  6120.136     6128.581     6580.634\n",
      " 19  TIM3+F+G4     2976.076     84  6120.151     6128.596     6580.649\n",
      " 20  TIM3+F+I+G4   2976.133     85  6122.267     6130.917     6588.247\n",
      " 21  TIM3e         3023.944     80  6207.888     6215.534     6646.457\n",
      " 22  TIM3e+I       3020.750     81  6203.500     6211.341     6647.551\n",
      " 23  TIM3e+G4      3020.755     81  6203.509     6211.351     6647.561\n",
      " 24  TIM3e+I+G4    3020.822     82  6205.645     6213.685     6655.178\n",
      " 25  TIM2+F        2976.966     83  6119.931     6128.172     6574.947\n",
      " 26  TIM2+F+I      2973.871     84  6115.741     6124.186     6576.239\n",
      " 27  TIM2+F+G4     2973.879     84  6115.759     6124.203     6576.257\n",
      " 28  TIM2+F+I+G4   2973.939     85  6117.878     6126.529     6583.858\n",
      " 29  TIM2e         3021.124     80  6202.248     6209.894     6640.818\n",
      " 30  TIM2e+I       3017.894     81  6197.788     6205.629     6641.839\n",
      " 31  TIM2e+G4      3017.897     81  6197.794     6205.636     6641.846\n",
      " 32  TIM2e+I+G4    3017.965     82  6199.930     6207.970     6649.463\n",
      " 33  TIM+F         2979.002     83  6124.005     6132.246     6579.021\n",
      " 34  TIM+F+I       2975.872     84  6119.745     6128.190     6580.243\n",
      " 35  TIM+F+G4      2975.880     84  6119.759     6128.204     6580.257\n",
      " 36  TIM+F+I+G4    2975.938     85  6121.877     6130.527     6587.857\n",
      " 37  TIMe          3023.752     80  6207.505     6215.151     6646.074\n",
      " 38  TIMe+I        3020.545     81  6203.090     6210.931     6647.141\n",
      " 39  TIMe+G4       3020.549     81  6203.098     6210.940     6647.150\n",
      " 40  TIMe+I+G4     3020.618     82  6205.237     6213.277     6654.770\n",
      " 41  TPM3u+F       2980.918     82  6125.837     6133.877     6575.371\n",
      " 42  TPM3u+F+I     2977.643     83  6121.286     6129.527     6576.302\n",
      " 43  TPM3u+F+G4    2977.644     83  6121.289     6129.530     6576.305\n",
      " 44  TPM3u+F+I+G4  2977.669     84  6123.337     6131.782     6583.835\n",
      " 45  TPM3          3024.271     79  6206.541     6213.994     6639.628\n",
      " 46  TPM3+I        3021.038     80  6202.076     6209.722     6640.646\n",
      " 47  TPM3+G4       3021.041     80  6202.082     6209.728     6640.651\n",
      " 48  TPM3+I+G4     3021.094     81  6204.187     6212.029     6648.239\n",
      " 49  TPM2u+F       2978.686     82  6121.372     6129.412     6570.906\n",
      " 50  TPM2u+F+I     2975.468     83  6116.936     6125.177     6571.952\n",
      " 51  TPM2u+F+G4    2975.469     83  6116.938     6125.179     6571.954\n",
      " 52  TPM2u+F+I+G4  2975.495     84  6118.989     6127.434     6579.487\n",
      " 53  TPM2          3021.441     79  6200.882     6208.334     6633.969\n",
      " 54  TPM2+I        3018.177     80  6196.354     6204.000     6634.923\n",
      " 55  TPM2+G4       3018.179     80  6196.357     6204.003     6634.927\n",
      " 56  TPM2+I+G4     3018.232     81  6198.463     6206.305     6642.515\n",
      " 57  K3Pu+F        2980.724     82  6125.449     6133.489     6574.982\n",
      " 58  K3Pu+F+I      2977.445     83  6120.891     6129.132     6575.907\n",
      " 59  K3Pu+F+G4     2977.447     83  6120.893     6129.134     6575.909\n",
      " 60  K3Pu+F+I+G4   2977.471     84  6122.943     6131.388     6583.441\n",
      " 61  K3P           3024.071     79  6206.142     6213.595     6639.229\n",
      " 62  K3P+I         3020.830     80  6201.659     6209.305     6640.229\n",
      " 63  K3P+G4        3020.832     80  6201.664     6209.310     6640.234\n",
      " 64  K3P+I+G4      3020.886     81  6203.772     6211.614     6647.824\n",
      " 65  TN+F          2979.252     82  6122.505     6130.545     6572.039\n",
      " 66  TN+F+I        2976.132     83  6118.265     6126.506     6573.281\n",
      " 67  TN+F+G4       2976.140     83  6118.280     6126.521     6573.296\n",
      " 68  TN+F+I+G4     2976.199     84  6120.398     6128.842     6580.896\n",
      " 69  TNe           3023.957     79  6205.914     6213.367     6639.001\n",
      " 70  TNe+I         3020.760     80  6201.521     6209.167     6640.090\n",
      " 71  TNe+G4        3020.765     80  6201.530     6209.176     6640.099\n",
      " 72  TNe+I+G4      3020.832     81  6203.664     6211.506     6647.716\n",
      " 73  HKY+F         2980.974     81  6123.947     6131.789     6567.999\n",
      " 74  HKY+F+I       2977.707     82  6119.414     6127.454     6568.947\n",
      " 75  HKY+F+G4      2977.708     82  6119.416     6127.456     6568.950\n",
      " 76  HKY+F+I+G4    2977.733     83  6121.466     6129.707     6576.482\n",
      " 77  K2P           3024.274     78  6204.549     6211.811     6632.154\n",
      " 78  K2P+I         3021.046     79  6200.093     6207.546     6633.180\n",
      " 79  K2P+G4        3021.049     79  6200.098     6207.551     6633.185\n",
      " 80  K2P+I+G4      3021.102     80  6202.204     6209.850     6640.774\n",
      " 81  F81+F         3026.490     80  6212.980     6220.626     6651.549\n",
      " 82  F81+F+I       3023.425     81  6208.849     6216.691     6652.901\n",
      " 83  F81+F+G4      3023.433     81  6208.866     6216.708     6652.917\n",
      " 84  F81+F+I+G4    3023.483     82  6210.966     6219.006     6660.499\n",
      " 85  JC            3070.325     77  6294.649     6301.723     6716.772\n",
      " 86  JC+I          3067.199     78  6290.398     6297.660     6718.004\n",
      " 87  JC+G4         3067.205     78  6290.410     6297.672     6718.015\n",
      " 88  JC+I+G4       3067.251     79  6292.502     6299.955     6725.590\n",
      "Akaike Information Criterion:           TIM2+F+I\n",
      "Corrected Akaike Information Criterion: TIM2+F+I\n",
      "Bayesian Information Criterion:         HKY+F\n",
      "Best-fit model: HKY+F chosen according to BIC\n",
      "\n",
      "All model information printed to Dataset1.aln.model.gz\n",
      "CPU time for ModelFinder: 0.915 seconds (0h:0m:0s)\n",
      "Wall-clock time for ModelFinder: 0.994 seconds (0h:0m:0s)\n",
      "Generating 100000 samples for ultrafast bootstrap (seed: 509250)...\n",
      "\n",
      "NOTE: 30 MB RAM (0 GB) is required!\n",
      "Estimate model parameters (epsilon = 0.100)\n",
      "1. Initial log-likelihood: -3026.498\n",
      "2. Current log-likelihood: -2985.271\n",
      "Optimal log-likelihood: -2985.245\n",
      "Rate parameters:  A-C: 1.00000  A-G: 40.34185  A-T: 1.00000  C-G: 1.00000  C-T: 40.34185  G-T: 1.00000\n",
      "Base frequencies:  A: 0.341  C: 0.190  G: 0.231  T: 0.237\n",
      "Parameters optimization took 2 rounds (0.006 sec)\n",
      "Wrote distance file to... \n",
      "Computing ML distances based on estimated model parameters...\n",
      "Calculating distance matrix: done in 0.00705321 secs using 99.78% CPU\n",
      "Computing ML distances took 0.007200 sec (of wall-clock time) 0.007190 sec (of CPU time)\n",
      "Setting up auxiliary I and S matrices: done in 0.000142181 secs using 99.17% CPU\n",
      "Computing RapidNJ tree took 0.000636 sec (of wall-clock time) 0.001135 sec (of CPU time)\n",
      "Log-likelihood of RapidNJ tree: -2991.069\n",
      "--------------------------------------------------------------------\n",
      "|             INITIALIZING CANDIDATE TREE SET                      |\n",
      "--------------------------------------------------------------------\n",
      "Generating 98 parsimony trees... 0.634 second\n",
      "Computing log-likelihood of 98 initial trees ... 0.160 seconds\n",
      "Current best score: -2985.245\n",
      "\n",
      "Do NNI search on 20 best initial trees\n",
      "Estimate model parameters (epsilon = 0.100)\n",
      "BETTER TREE FOUND at iteration 1: -2985.219\n",
      "BETTER TREE FOUND at iteration 2: -2985.219\n",
      "Iteration 10 / LogL: -2985.219 / Time: 0h:0m:6s\n",
      "Iteration 20 / LogL: -2985.219 / Time: 0h:0m:10s\n",
      "Finish initializing candidate tree set (20)\n",
      "Current best tree score: -2985.219 / CPU time: 9.590\n",
      "Number of iterations: 20\n",
      "--------------------------------------------------------------------\n",
      "|               OPTIMIZING CANDIDATE TREE SET                      |\n",
      "--------------------------------------------------------------------\n",
      "BETTER TREE FOUND at iteration 25: -2985.219\n",
      "Iteration 30 / LogL: -3012.210 / Time: 0h:0m:20s (0h:1m:5s left)\n",
      "Iteration 40 / LogL: -2985.236 / Time: 0h:0m:32s (0h:1m:8s left)\n",
      "Iteration 50 / LogL: -2985.229 / Time: 0h:0m:43s (0h:1m:5s left)\n",
      "Log-likelihood cutoff on original alignment: -3052.732\n",
      "Iteration 60 / LogL: -2985.224 / Time: 0h:1m:12s (0h:1m:18s left)\n",
      "BETTER TREE FOUND at iteration 61: -2985.219\n",
      "Iteration 70 / LogL: -2985.224 / Time: 0h:1m:23s (0h:1m:49s left)\n",
      "Iteration 80 / LogL: -2993.440 / Time: 0h:1m:34s (0h:1m:36s left)\n",
      "Iteration 90 / LogL: -2987.492 / Time: 0h:1m:44s (0h:1m:22s left)\n",
      "Iteration 100 / LogL: -2985.219 / Time: 0h:1m:55s (0h:1m:10s left)\n",
      "Log-likelihood cutoff on original alignment: -3054.290\n",
      "NOTE: Bootstrap correlation coefficient of split occurrence frequencies: 0.843\n",
      "NOTE: UFBoot does not converge, continue at least 100 more iterations\n",
      "Iteration 110 / LogL: -2985.233 / Time: 0h:2m:19s (0h:1m:54s left)\n",
      "Iteration 120 / LogL: -2985.224 / Time: 0h:2m:28s (0h:1m:39s left)\n",
      "BETTER TREE FOUND at iteration 126: -2985.219\n",
      "BETTER TREE FOUND at iteration 130: -2985.219\n",
      "Iteration 130 / LogL: -2985.219 / Time: 0h:2m:36s (0h:2m:0s left)\n",
      "Iteration 140 / LogL: -2985.231 / Time: 0h:2m:47s (0h:1m:47s left)\n",
      "Iteration 150 / LogL: -2985.221 / Time: 0h:2m:58s (0h:1m:35s left)\n",
      "Log-likelihood cutoff on original alignment: -3053.674\n",
      "BETTER TREE FOUND at iteration 155: -2985.219\n",
      "Iteration 160 / LogL: -2985.227 / Time: 0h:3m:21s (0h:1m:59s left)\n",
      "Iteration 170 / LogL: -2985.221 / Time: 0h:3m:32s (0h:1m:46s left)\n",
      "BETTER TREE FOUND at iteration 172: -2985.219\n",
      "Iteration 180 / LogL: -2995.703 / Time: 0h:3m:43s (0h:1m:54s left)\n",
      "Iteration 190 / LogL: -2985.225 / Time: 0h:3m:53s (0h:1m:40s left)\n",
      "Iteration 200 / LogL: -2985.227 / Time: 0h:4m:4s (0h:1m:28s left)\n",
      "Log-likelihood cutoff on original alignment: -3055.857\n",
      "NOTE: Bootstrap correlation coefficient of split occurrence frequencies: 0.920\n",
      "NOTE: UFBoot does not converge, continue at least 100 more iterations\n",
      "Iteration 210 / LogL: -2992.050 / Time: 0h:4m:27s (0h:1m:54s left)\n",
      "Iteration 220 / LogL: -2985.238 / Time: 0h:4m:38s (0h:1m:41s left)\n",
      "Iteration 230 / LogL: -2985.222 / Time: 0h:4m:49s (0h:1m:28s left)\n",
      "BETTER TREE FOUND at iteration 236: -2985.219\n",
      "Iteration 240 / LogL: -2985.225 / Time: 0h:4m:59s (0h:1m:59s left)\n",
      "BETTER TREE FOUND at iteration 247: -2985.219\n",
      "Iteration 250 / LogL: -2985.229 / Time: 0h:5m:9s (0h:2m:0s left)\n",
      "Log-likelihood cutoff on original alignment: -3055.857\n",
      "Iteration 260 / LogL: -2985.224 / Time: 0h:5m:34s (0h:1m:51s left)\n",
      "Iteration 270 / LogL: -2985.236 / Time: 0h:5m:46s (0h:1m:38s left)\n",
      "Iteration 280 / LogL: -2985.232 / Time: 0h:5m:57s (0h:1m:25s left)\n",
      "Iteration 290 / LogL: -2985.229 / Time: 0h:6m:8s (0h:1m:12s left)\n",
      "Iteration 300 / LogL: -2992.060 / Time: 0h:6m:19s (0h:0m:59s left)\n",
      "Log-likelihood cutoff on original alignment: -3056.344\n",
      "NOTE: Bootstrap correlation coefficient of split occurrence frequencies: 0.918\n",
      "NOTE: UFBoot does not converge, continue at least 100 more iterations\n",
      "Iteration 310 / LogL: -2985.219 / Time: 0h:6m:42s (0h:1m:56s left)\n",
      "Iteration 320 / LogL: -2985.222 / Time: 0h:6m:53s (0h:1m:43s left)\n",
      "BETTER TREE FOUND at iteration 326: -2985.219\n",
      "Iteration 330 / LogL: -2985.226 / Time: 0h:7m:4s (0h:2m:3s left)\n",
      "Iteration 340 / LogL: -2985.228 / Time: 0h:7m:15s (0h:1m:50s left)\n",
      "Iteration 350 / LogL: -2990.573 / Time: 0h:7m:26s (0h:1m:36s left)\n",
      "Log-likelihood cutoff on original alignment: -3057.191\n",
      "Iteration 360 / LogL: -2985.227 / Time: 0h:7m:49s (0h:1m:26s left)\n",
      "Iteration 370 / LogL: -2985.225 / Time: 0h:8m:0s (0h:1m:12s left)\n",
      "BETTER TREE FOUND at iteration 376: -2985.219\n",
      "Iteration 380 / LogL: -2985.239 / Time: 0h:8m:13s (0h:2m:4s left)\n",
      "Iteration 390 / LogL: -2990.565 / Time: 0h:8m:24s (0h:1m:51s left)\n",
      "BETTER TREE FOUND at iteration 394: -2985.219\n",
      "Iteration 400 / LogL: -2985.226 / Time: 0h:8m:35s (0h:2m:1s left)\n",
      "Log-likelihood cutoff on original alignment: -3057.794\n",
      "NOTE: Bootstrap correlation coefficient of split occurrence frequencies: 0.801\n",
      "NOTE: UFBoot does not converge, continue at least 100 more iterations\n",
      "Iteration 410 / LogL: -2985.229 / Time: 0h:9m:0s (0h:1m:58s left)\n",
      "Iteration 420 / LogL: -2985.228 / Time: 0h:9m:11s (0h:1m:45s left)\n",
      "Iteration 430 / LogL: -2985.225 / Time: 0h:9m:22s (0h:1m:31s left)\n",
      "Iteration 440 / LogL: -2985.219 / Time: 0h:9m:34s (0h:1m:18s left)\n",
      "Iteration 450 / LogL: -2985.226 / Time: 0h:9m:45s (0h:1m:5s left)\n",
      "Log-likelihood cutoff on original alignment: -3057.794\n",
      "Iteration 460 / LogL: -2985.230 / Time: 0h:10m:8s (0h:0m:52s left)\n",
      "Iteration 470 / LogL: -2985.235 / Time: 0h:10m:19s (0h:0m:39s left)\n",
      "Iteration 480 / LogL: -2985.230 / Time: 0h:10m:30s (0h:0m:26s left)\n",
      "Iteration 490 / LogL: -2985.224 / Time: 0h:10m:42s (0h:0m:13s left)\n",
      "Iteration 500 / LogL: -3020.323 / Time: 0h:10m:52s (0h:0m:0s left)\n",
      "Log-likelihood cutoff on original alignment: -3058.698\n",
      "NOTE: Bootstrap correlation coefficient of split occurrence frequencies: 0.863\n",
      "NOTE: UFBoot does not converge, continue at least 100 more iterations\n",
      "Iteration 510 / LogL: -2985.232 / Time: 0h:11m:16s (0h:1m:59s left)\n",
      "Iteration 520 / LogL: -2985.221 / Time: 0h:11m:27s (0h:1m:45s left)\n",
      "Iteration 530 / LogL: -2985.221 / Time: 0h:11m:38s (0h:1m:32s left)\n",
      "Iteration 540 / LogL: -2997.386 / Time: 0h:11m:48s (0h:1m:18s left)\n",
      "BETTER TREE FOUND at iteration 544: -2985.219\n",
      "Iteration 550 / LogL: -2985.232 / Time: 0h:12m:0s (0h:2m:3s left)\n",
      "Log-likelihood cutoff on original alignment: -3058.698\n",
      "Iteration 560 / LogL: -2985.235 / Time: 0h:12m:24s (0h:1m:51s left)\n",
      "Iteration 570 / LogL: -2985.219 / Time: 0h:12m:35s (0h:1m:38s left)\n",
      "Iteration 580 / LogL: -2985.222 / Time: 0h:12m:46s (0h:1m:24s left)\n",
      "Iteration 590 / LogL: -2985.227 / Time: 0h:12m:58s (0h:1m:11s left)\n",
      "Iteration 600 / LogL: -2985.230 / Time: 0h:13m:10s (0h:0m:58s left)\n",
      "Log-likelihood cutoff on original alignment: -3058.698\n",
      "NOTE: Bootstrap correlation coefficient of split occurrence frequencies: 0.869\n",
      "NOTE: UFBoot does not converge, continue at least 100 more iterations\n",
      "Iteration 610 / LogL: -2985.230 / Time: 0h:13m:34s (0h:2m:0s left)\n",
      "Iteration 620 / LogL: -2997.251 / Time: 0h:13m:45s (0h:1m:46s left)\n",
      "Iteration 630 / LogL: -2985.231 / Time: 0h:13m:57s (0h:1m:33s left)\n",
      "Iteration 640 / LogL: -2985.230 / Time: 0h:14m:9s (0h:1m:19s left)\n",
      "BETTER TREE FOUND at iteration 648: -2985.219\n",
      "Iteration 650 / LogL: -2985.229 / Time: 0h:14m:21s (0h:2m:9s left)\n",
      "Log-likelihood cutoff on original alignment: -3058.698\n",
      "Iteration 660 / LogL: -2985.230 / Time: 0h:14m:46s (0h:1m:58s left)\n",
      "Iteration 670 / LogL: -2995.874 / Time: 0h:14m:58s (0h:1m:44s left)\n",
      "Iteration 680 / LogL: -2985.226 / Time: 0h:15m:9s (0h:1m:30s left)\n",
      "Iteration 690 / LogL: -2985.234 / Time: 0h:15m:21s (0h:1m:17s left)\n",
      "Iteration 700 / LogL: -2985.227 / Time: 0h:15m:34s (0h:1m:4s left)\n",
      "Log-likelihood cutoff on original alignment: -3058.698\n",
      "NOTE: Bootstrap correlation coefficient of split occurrence frequencies: 0.894\n",
      "NOTE: UFBoot does not converge, continue at least 100 more iterations\n",
      "Iteration 710 / LogL: -2985.231 / Time: 0h:15m:59s (0h:2m:1s left)\n",
      "Iteration 720 / LogL: -2997.387 / Time: 0h:16m:9s (0h:1m:47s left)\n",
      "Iteration 730 / LogL: -2985.225 / Time: 0h:16m:20s (0h:1m:34s left)\n",
      "Iteration 740 / LogL: -2985.235 / Time: 0h:16m:33s (0h:1m:20s left)\n",
      "Iteration 750 / LogL: -2985.221 / Time: 0h:16m:45s (0h:1m:7s left)\n",
      "Log-likelihood cutoff on original alignment: -3058.698\n",
      "Iteration 760 / LogL: -2995.869 / Time: 0h:17m:9s (0h:0m:54s left)\n",
      "Iteration 770 / LogL: -2987.499 / Time: 0h:17m:22s (0h:0m:40s left)\n",
      "Iteration 780 / LogL: -2999.658 / Time: 0h:17m:35s (0h:0m:27s left)\n",
      "BETTER TREE FOUND at iteration 785: -2985.219\n",
      "Iteration 790 / LogL: -3041.448 / Time: 0h:17m:47s (0h:2m:8s left)\n",
      "Iteration 800 / LogL: -2985.232 / Time: 0h:18m:0s (0h:1m:54s left)\n",
      "Log-likelihood cutoff on original alignment: -3058.698\n",
      "NOTE: Bootstrap correlation coefficient of split occurrence frequencies: 0.883\n",
      "NOTE: UFBoot does not converge, continue at least 100 more iterations\n",
      "Iteration 810 / LogL: -2992.043 / Time: 0h:18m:25s (0h:2m:2s left)\n",
      "BETTER TREE FOUND at iteration 820: -2985.219\n",
      "Iteration 820 / LogL: -2985.219 / Time: 0h:18m:38s (0h:2m:16s left)\n",
      "Iteration 830 / LogL: -2985.227 / Time: 0h:18m:50s (0h:2m:2s left)\n",
      "Iteration 840 / LogL: -2985.223 / Time: 0h:19m:1s (0h:1m:48s left)\n",
      "Iteration 850 / LogL: -2985.223 / Time: 0h:19m:14s (0h:1m:35s left)\n",
      "Log-likelihood cutoff on original alignment: -3058.698\n",
      "Iteration 860 / LogL: -3004.697 / Time: 0h:19m:36s (0h:1m:22s left)\n",
      "Iteration 870 / LogL: -2985.228 / Time: 0h:19m:49s (0h:1m:8s left)\n",
      "Iteration 880 / LogL: -2985.219 / Time: 0h:20m:1s (0h:0m:54s left)\n",
      "BETTER TREE FOUND at iteration 889: -2985.219\n",
      "Iteration 890 / LogL: -2985.229 / Time: 0h:20m:13s (0h:2m:14s left)\n",
      "Iteration 900 / LogL: -2985.221 / Time: 0h:20m:24s (0h:2m:1s left)\n",
      "Log-likelihood cutoff on original alignment: -3058.698\n",
      "NOTE: Bootstrap correlation coefficient of split occurrence frequencies: 0.853\n",
      "NOTE: UFBoot does not converge, continue at least 100 more iterations\n",
      "Iteration 910 / LogL: -2985.225 / Time: 0h:20m:50s (0h:2m:3s left)\n",
      "Iteration 920 / LogL: -2997.254 / Time: 0h:21m:2s (0h:1m:49s left)\n",
      "Iteration 930 / LogL: -2987.500 / Time: 0h:21m:14s (0h:1m:35s left)\n",
      "Iteration 940 / LogL: -2985.234 / Time: 0h:21m:26s (0h:1m:22s left)\n",
      "Iteration 950 / LogL: -2985.223 / Time: 0h:21m:39s (0h:1m:8s left)\n",
      "Log-likelihood cutoff on original alignment: -3058.698\n",
      "Iteration 960 / LogL: -2985.223 / Time: 0h:22m:4s (0h:0m:55s left)\n",
      "Iteration 970 / LogL: -2985.221 / Time: 0h:22m:17s (0h:0m:41s left)\n",
      "Iteration 980 / LogL: -2985.219 / Time: 0h:22m:29s (0h:0m:27s left)\n",
      "Iteration 990 / LogL: -2991.119 / Time: 0h:22m:42s (0h:0m:13s left)\n",
      "Iteration 1000 / LogL: -2985.221 / Time: 0h:22m:55s (0h:0m:0s left)\n",
      "Log-likelihood cutoff on original alignment: -3058.697\n",
      "NOTE: Bootstrap correlation coefficient of split occurrence frequencies: 0.872\n",
      "NOTE: UFBoot does not converge, continue at least 100 more iterations\n",
      "WARNING: bootstrap analysis did not converge. You should rerun with higher number of iterations (-nm option)\n",
      "TREE SEARCH COMPLETED AFTER 1001 ITERATIONS / Time: 0h:23m:10s\n",
      "\n",
      "--------------------------------------------------------------------\n",
      "|                    FINALIZING TREE SEARCH                        |\n",
      "--------------------------------------------------------------------\n",
      "Performs final model parameters optimization\n",
      "Estimate model parameters (epsilon = 0.010)\n",
      "1. Initial log-likelihood: -2985.219\n",
      "2. Current log-likelihood: -2985.193\n",
      "3. Current log-likelihood: -2985.167\n",
      "4. Current log-likelihood: -2985.141\n",
      "5. Current log-likelihood: -2985.115\n",
      "6. Current log-likelihood: -2985.088\n",
      "7. Current log-likelihood: -2985.062\n",
      "8. Current log-likelihood: -2985.035\n",
      "9. Current log-likelihood: -2985.009\n",
      "10. Current log-likelihood: -2984.982\n",
      "11. Current log-likelihood: -2984.955\n",
      "12. Current log-likelihood: -2984.928\n",
      "13. Current log-likelihood: -2984.901\n",
      "14. Current log-likelihood: -2984.874\n",
      "15. Current log-likelihood: -2984.847\n",
      "16. Current log-likelihood: -2984.819\n",
      "17. Current log-likelihood: -2984.792\n",
      "18. Current log-likelihood: -2984.764\n",
      "19. Current log-likelihood: -2984.737\n",
      "20. Current log-likelihood: -2984.709\n",
      "21. Current log-likelihood: -2984.681\n",
      "22. Current log-likelihood: -2984.653\n",
      "23. Current log-likelihood: -2984.625\n",
      "24. Current log-likelihood: -2984.597\n",
      "25. Current log-likelihood: -2984.568\n",
      "26. Current log-likelihood: -2984.540\n",
      "27. Current log-likelihood: -2984.511\n",
      "28. Current log-likelihood: -2984.483\n",
      "29. Current log-likelihood: -2984.454\n",
      "30. Current log-likelihood: -2984.425\n",
      "31. Current log-likelihood: -2984.396\n",
      "32. Current log-likelihood: -2984.367\n",
      "33. Current log-likelihood: -2984.338\n",
      "34. Current log-likelihood: -2984.309\n",
      "35. Current log-likelihood: -2984.280\n",
      "36. Current log-likelihood: -2984.250\n",
      "37. Current log-likelihood: -2984.221\n",
      "38. Current log-likelihood: -2984.191\n",
      "39. Current log-likelihood: -2984.161\n",
      "40. Current log-likelihood: -2984.131\n",
      "41. Current log-likelihood: -2984.101\n",
      "42. Current log-likelihood: -2984.071\n",
      "43. Current log-likelihood: -2984.041\n",
      "44. Current log-likelihood: -2984.011\n",
      "45. Current log-likelihood: -2983.981\n",
      "46. Current log-likelihood: -2983.950\n",
      "47. Current log-likelihood: -2983.920\n",
      "48. Current log-likelihood: -2983.889\n",
      "49. Current log-likelihood: -2983.858\n",
      "50. Current log-likelihood: -2983.827\n",
      "51. Current log-likelihood: -2983.797\n",
      "52. Current log-likelihood: -2983.766\n",
      "53. Current log-likelihood: -2983.735\n",
      "54. Current log-likelihood: -2983.703\n",
      "55. Current log-likelihood: -2983.672\n",
      "56. Current log-likelihood: -2983.641\n",
      "57. Current log-likelihood: -2983.609\n",
      "58. Current log-likelihood: -2983.578\n",
      "59. Current log-likelihood: -2983.546\n",
      "60. Current log-likelihood: -2983.515\n",
      "61. Current log-likelihood: -2983.483\n",
      "62. Current log-likelihood: -2983.451\n",
      "63. Current log-likelihood: -2983.419\n",
      "64. Current log-likelihood: -2983.388\n",
      "65. Current log-likelihood: -2983.356\n",
      "66. Current log-likelihood: -2983.324\n",
      "67. Current log-likelihood: -2983.291\n",
      "68. Current log-likelihood: -2983.259\n",
      "69. Current log-likelihood: -2983.227\n",
      "70. Current log-likelihood: -2983.195\n",
      "71. Current log-likelihood: -2983.163\n",
      "72. Current log-likelihood: -2983.130\n",
      "73. Current log-likelihood: -2983.098\n",
      "74. Current log-likelihood: -2983.066\n",
      "75. Current log-likelihood: -2983.033\n",
      "76. Current log-likelihood: -2983.001\n",
      "77. Current log-likelihood: -2982.968\n",
      "78. Current log-likelihood: -2982.936\n",
      "79. Current log-likelihood: -2982.903\n",
      "80. Current log-likelihood: -2980.975\n",
      "Optimal log-likelihood: -2980.975\n",
      "Rate parameters:  A-C: 1.00000  A-G: 13.11961  A-T: 1.00000  C-G: 1.00000  C-T: 13.11961  G-T: 1.00000\n",
      "Base frequencies:  A: 0.341  C: 0.190  G: 0.231  T: 0.237\n",
      "Parameters optimization took 80 rounds (0.135 sec)\n",
      "BEST SCORE FOUND : -2980.975\n",
      "Creating bootstrap support values...\n",
      "Split supports printed to NEXUS file Dataset1.aln.splits.nex\n",
      "Total tree length: 0.043\n",
      "\n",
      "Total number of iterations: 1001\n",
      "CPU time used for tree search: 1371.730 sec (0h:22m:51s)\n",
      "Wall-clock time used for tree search: 1388.656 sec (0h:23m:8s)\n",
      "Total CPU time used: 1386.264 sec (0h:23m:6s)\n",
      "Total wall-clock time used: 1403.433 sec (0h:23m:23s)\n",
      "\n",
      "Computing bootstrap consensus tree...\n",
      "Reading input file Dataset1.aln.splits.nex...\n",
      "40 taxa and 2855 splits.\n",
      "Consensus tree written to Dataset1.aln.contree\n",
      "Reading input trees file Dataset1.aln.contree\n",
      "Log-likelihood of consensus tree: -2981.066\n",
      "\n",
      "Analysis results written to: \n",
      "  IQ-TREE report:                Dataset1.aln.iqtree\n",
      "  Maximum-likelihood tree:       Dataset1.aln.treefile\n",
      "  Likelihood distances:          Dataset1.aln.mldist\n",
      "\n",
      "Ultrafast bootstrap approximation results written to:\n",
      "  Split support values:          Dataset1.aln.splits.nex\n",
      "  Consensus tree:                Dataset1.aln.contree\n",
      "  Screen log file:               Dataset1.aln.log\n",
      "\n",
      "Date and Time: Mon Oct 21 01:01:51 2024\n"
     ]
    }
   ],
   "source": [
    "!iqtree -s Dataset1.aln -m TEST -B 100000 -redo\n",
    "\n",
    "#100,000 replicated using ultra fast bootstrap. Redo was done since I had already ran it once and output had been generated"
   ]
  },
  {
   "cell_type": "code",
   "execution_count": 26,
   "metadata": {
    "colab": {
     "base_uri": "https://localhost:8080/"
    },
    "id": "58xEg9Ap0kVy",
    "outputId": "485235aa-1d94-4027-a7b4-3b25b5f076c9"
   },
   "outputs": [
    {
     "name": "stdout",
     "output_type": "stream",
     "text": [
      "IQ-TREE multicore version 2.3.6 for Linux x86 64-bit built Aug  4 2024\n",
      "Developed by Bui Quang Minh, Nguyen Lam Tung, Olga Chernomor, Heiko Schmidt,\n",
      "Dominik Schrempf, Michael Woodhams, Ly Trong Nhan, Thomas Wong\n",
      "\n",
      "Host:    d063f6b6905d (AVX2, FMA3, 12 GB RAM)\n",
      "Command: iqtree -con Dataset1.aln.treefile -minsup 0.5\n",
      "Seed:    242244 (Using SPRNG - Scalable Parallel Random Number Generator)\n",
      "Time:    Mon Oct 21 01:01:52 2024\n",
      "Kernel:  AVX+FMA - 1 threads (2 CPU cores detected)\n",
      "\n",
      "HINT: Use -nt option to specify number of threads because your CPU has 2 cores!\n",
      "HINT: -nt AUTO will automatically determine the best number of threads to use.\n",
      "\n",
      "Reading tree(s) file Dataset1.aln.treefile ...\n",
      "1 tree(s) loaded (0 rooted and 1 unrooted)\n",
      "0 split(s) discarded because frequency <= 0.500\n",
      "83 splits found\n",
      "Consensus tree written to Dataset1.aln.treefile.contree\n",
      "Date and Time: Mon Oct 21 01:01:52 2024\n"
     ]
    }
   ],
   "source": [
    "!iqtree -con Dataset1.aln.treefile -minsup 0.5  #majority rule consensus based on 0.5 threshold"
   ]
  },
  {
   "cell_type": "markdown",
   "metadata": {
    "id": "Q_0IS1XPPOLF"
   },
   "source": [
    "## Chronogram\n"
   ]
  },
  {
   "cell_type": "code",
   "execution_count": 51,
   "metadata": {
    "id": "9_x_MlyKP2bT"
   },
   "outputs": [],
   "source": [
    "import re\n",
    "\n",
    "def extract_date(header):\n",
    "    # Regex to match the date in the format YYYY-MM-DD\n",
    "    date_match = re.search(r'\\d{4}-\\d{2}-\\d{2}', header)\n",
    "    if date_match:\n",
    "        return date_match.group(0)\n",
    "    else:\n",
    "        return \"\"  # In case no date is found, return empty\n",
    "\n",
    "with open(\"Dataset1.metadata\", \"w\") as f:\n",
    "    f.write(\"name,date\\n\")\n",
    "    for line in open(\"Dataset1.aln\"):\n",
    "        if not line.startswith(\">\"):\n",
    "            continue\n",
    "        header = line.strip()[1:]  # Remove the \">\"\n",
    "        date = extract_date(header)  # Extract the date using regex\n",
    "        f.write(f\"{header},{date}\\n\")\n"
   ]
  },
  {
   "cell_type": "code",
   "execution_count": 29,
   "metadata": {
    "colab": {
     "base_uri": "https://localhost:8080/"
    },
    "id": "yMvg24X8PrMs",
    "outputId": "46d8a22c-287c-4d65-bb26-f82b912dbbda"
   },
   "outputs": [
    {
     "name": "stdout",
     "output_type": "stream",
     "text": [
      "\n",
      "Attempting to parse dates...\n",
      "\tUsing column 'name' as name. This needs match the taxon names in the tree!!\n",
      "\tUsing column 'date' as date.\n",
      "\n",
      "0.00\t-TreeAnc: set-up\n",
      "\n",
      "0.28\tTreeTime.reroot: with method or node: least-squares\n",
      "\n",
      "0.28\tTreeTime.reroot: rerooting will ignore covariance and shared ancestry.\n",
      "\n",
      "0.36\tTreeTime.reroot: with method or node: least-squares\n",
      "\n",
      "0.36\tTreeTime.reroot: rerooting will ignore covariance and shared ancestry.\n",
      "\n",
      "0.55\t###TreeTime.run: INITIAL ROUND\n",
      "\n",
      "1.27\tTreeTime.reroot: with method or node: least-squares\n",
      "\n",
      "1.27\tTreeTime.reroot: rerooting will ignore covariance and shared ancestry.\n",
      "\n",
      "1.37\t###TreeTime.run: rerunning timetree after rerooting\n",
      "\n",
      "2.19\t###TreeTime.run: ITERATION 1 out of 2 iterations\n",
      "\n",
      "2.19\tDEPRECATION WARNING. TreeTime.resolve_polytomies: You are resolving\n",
      "    \tpolytomies using the old 'greedy' mode. This is not well suited for large\n",
      "    \tpolytomies. Stochastic resolution will become the default in future\n",
      "    \tversions. To switch now, rerun with the flag `--stochastic-resolve`. To\n",
      "    \tkeep using the greedy method in the future, run with `--greedy-resolve`\n",
      "\n",
      "3.92\t###TreeTime.run: ITERATION 2 out of 2 iterations\n",
      "\n",
      "Inferred sequence evolution model (saved as timetree/sequence_evolution_model.txt):\n",
      "Substitution rate (mu): 1.0\n",
      "\n",
      "Equilibrium frequencies (pi_i):\n",
      "  A: 0.3362\n",
      "  C: 0.1909\n",
      "  G: 0.2284\n",
      "  T: 0.2345\n",
      "  -: 0.0099\n",
      "\n",
      "Symmetrized rates from j->i (W_ij):\n",
      "\tA\tC\tG\tT\t-\n",
      "  A\t0\t0.6392\t3.2835\t0.5472\t0.1836\n",
      "  C\t0.6392\t0\t0.1829\t3.0181\t0.1836\n",
      "  G\t3.2835\t0.1829\t0\t0.2742\t0.1836\n",
      "  T\t0.5472\t3.0181\t0.2742\t0\t0.1836\n",
      "  -\t0.1836\t0.1836\t0.1836\t0.1836\t0\n",
      "\n",
      "Actual rates from j->i (Q_ij):\n",
      "\tA\tC\tG\tT\t-\n",
      "  A\t0\t0.2149\t1.104\t0.184\t0.0617\n",
      "  C\t0.122\t0\t0.0349\t0.5762\t0.0351\n",
      "  G\t0.75\t0.0418\t0\t0.0626\t0.0419\n",
      "  T\t0.1283\t0.7079\t0.0643\t0\t0.0431\n",
      "  -\t0.0018\t0.0018\t0.0018\t0.0018\t0\n",
      "\n",
      "\n",
      "Inferred sequence evolution model (saved as timetree/molecular_clock.txt):\n",
      "Root-Tip-Regression:\n",
      " --rate:\t3.324e-04\n",
      " --r^2:  \t0.03\n",
      "\n",
      "--- saved tree as \n",
      "\t timetree/timetree.pdf\n",
      "\n",
      "--- root-to-tip plot saved to  \n",
      "\ttimetree/root_to_tip_regression.pdf\n",
      "\n",
      "--- alignment including ancestral nodes saved as  \n",
      "\t timetree/ancestral_sequences.fasta\n",
      "\n",
      "--- saved divergence times in \n",
      "\t timetree/dates.tsv\n",
      "\n",
      "--- tree saved in nexus format as  \n",
      "\t timetree/timetree.nexus\n",
      "\n",
      "--- tree saved in auspice json format as  \n",
      "\t timetree/auspice_tree.json\n",
      "\n",
      "--- divergence tree saved in nexus format as  \n",
      "\t timetree/divergence_tree.nexus\n",
      "\n"
     ]
    }
   ],
   "source": [
    "!treetime --tree Dataset1.aln.treefile.contree --dates Dataset1.metadata --aln Dataset1.aln --outdir timetree #compiling tree, metadta and alignment and directing ouput to folder."
   ]
  },
  {
   "cell_type": "code",
   "execution_count": 30,
   "metadata": {
    "id": "mdlVa1eQ09Q_"
   },
   "outputs": [],
   "source": [
    "%load_ext rpy2.ipython"
   ]
  },
  {
   "cell_type": "code",
   "execution_count": 31,
   "metadata": {
    "colab": {
     "base_uri": "https://localhost:8080/"
    },
    "id": "bV3vZL18l2d7",
    "outputId": "22aeeb77-0ef3-45d0-e01f-f35b21a82461"
   },
   "outputs": [
    {
     "name": "stderr",
     "output_type": "stream",
     "text": [
      "R[write to console]: Installing package into ‘/usr/local/lib/R/site-library’\n",
      "(as ‘lib’ is unspecified)\n",
      "\n",
      "R[write to console]: trying URL 'https://cran.rstudio.com/src/contrib/BiocManager_1.30.25.tar.gz'\n",
      "\n",
      "R[write to console]: Content type 'application/x-gzip'\n",
      "R[write to console]:  length 593414 bytes (579 KB)\n",
      "\n",
      "R[write to console]: =\n",
      "R[write to console]: =\n",
      "R[write to console]: =\n",
      "R[write to console]: =\n",
      "R[write to console]: =\n",
      "R[write to console]: =\n",
      "R[write to console]: =\n",
      "R[write to console]: =\n",
      "R[write to console]: =\n",
      "R[write to console]: =\n",
      "R[write to console]: =\n",
      "R[write to console]: =\n",
      "R[write to console]: =\n",
      "R[write to console]: =\n",
      "R[write to console]: =\n",
      "R[write to console]: =\n",
      "R[write to console]: =\n",
      "R[write to console]: =\n",
      "R[write to console]: =\n",
      "R[write to console]: =\n",
      "R[write to console]: =\n",
      "R[write to console]: =\n",
      "R[write to console]: =\n",
      "R[write to console]: =\n",
      "R[write to console]: =\n",
      "R[write to console]: =\n",
      "R[write to console]: =\n",
      "R[write to console]: =\n",
      "R[write to console]: =\n",
      "R[write to console]: =\n",
      "R[write to console]: =\n",
      "R[write to console]: =\n",
      "R[write to console]: =\n",
      "R[write to console]: =\n",
      "R[write to console]: =\n",
      "R[write to console]: =\n",
      "R[write to console]: =\n",
      "R[write to console]: =\n",
      "R[write to console]: =\n",
      "R[write to console]: =\n",
      "R[write to console]: =\n",
      "R[write to console]: =\n",
      "R[write to console]: =\n",
      "R[write to console]: =\n",
      "R[write to console]: =\n",
      "R[write to console]: =\n",
      "R[write to console]: =\n",
      "R[write to console]: =\n",
      "R[write to console]: =\n",
      "R[write to console]: =\n",
      "R[write to console]: \n",
      "\n",
      "R[write to console]: downloaded 579 KB\n",
      "\n",
      "\n",
      "R[write to console]: \n",
      "\n",
      "R[write to console]: \n",
      "R[write to console]: The downloaded source packages are in\n",
      "\t‘/tmp/Rtmp4NHY7d/downloaded_packages’\n",
      "R[write to console]: \n",
      "R[write to console]: \n",
      "\n",
      "R[write to console]: 'getOption(\"repos\")' replaces Bioconductor standard repositories, see\n",
      "'help(\"repositories\", package = \"BiocManager\")' for details.\n",
      "Replacement repositories:\n",
      "    CRAN: https://cran.rstudio.com\n",
      "\n",
      "R[write to console]: Bioconductor version 3.19 (BiocManager 1.30.25), R 4.4.1 (2024-06-14)\n",
      "\n",
      "R[write to console]: Installing package(s) 'BiocVersion', 'ggtree'\n",
      "\n",
      "R[write to console]: also installing the dependencies ‘gridGraphics’, ‘ggplotify’, ‘patchwork’, ‘lazyeval’, ‘ape’, ‘aplot’, ‘ggfun’, ‘yulab.utils’, ‘tidytree’, ‘treeio’\n",
      "\n",
      "\n",
      "R[write to console]: Old packages: 'Matrix'\n",
      "\n"
     ]
    },
    {
     "name": "stdout",
     "output_type": "stream",
     "text": [
      "Update all/some/none? [a/s/n]: n\n"
     ]
    },
    {
     "name": "stderr",
     "output_type": "stream",
     "text": [
      "R[write to console]: Installing package into ‘/usr/local/lib/R/site-library’\n",
      "(as ‘lib’ is unspecified)\n",
      "\n",
      "R[write to console]: trying URL 'https://cran.rstudio.com/src/contrib/ggnewscale_0.5.0.tar.gz'\n",
      "\n",
      "R[write to console]: Content type 'application/x-gzip'\n",
      "R[write to console]:  length 411919 bytes (402 KB)\n",
      "\n",
      "R[write to console]: =\n",
      "R[write to console]: =\n",
      "R[write to console]: =\n",
      "R[write to console]: =\n",
      "R[write to console]: =\n",
      "R[write to console]: =\n",
      "R[write to console]: =\n",
      "R[write to console]: =\n",
      "R[write to console]: =\n",
      "R[write to console]: =\n",
      "R[write to console]: =\n",
      "R[write to console]: =\n",
      "R[write to console]: =\n",
      "R[write to console]: =\n",
      "R[write to console]: =\n",
      "R[write to console]: =\n",
      "R[write to console]: =\n",
      "R[write to console]: =\n",
      "R[write to console]: =\n",
      "R[write to console]: =\n",
      "R[write to console]: =\n",
      "R[write to console]: =\n",
      "R[write to console]: =\n",
      "R[write to console]: =\n",
      "R[write to console]: =\n",
      "R[write to console]: =\n",
      "R[write to console]: =\n",
      "R[write to console]: =\n",
      "R[write to console]: =\n",
      "R[write to console]: =\n",
      "R[write to console]: =\n",
      "R[write to console]: =\n",
      "R[write to console]: =\n",
      "R[write to console]: =\n",
      "R[write to console]: =\n",
      "R[write to console]: =\n",
      "R[write to console]: =\n",
      "R[write to console]: =\n",
      "R[write to console]: =\n",
      "R[write to console]: =\n",
      "R[write to console]: =\n",
      "R[write to console]: =\n",
      "R[write to console]: =\n",
      "R[write to console]: =\n",
      "R[write to console]: =\n",
      "R[write to console]: =\n",
      "R[write to console]: =\n",
      "R[write to console]: =\n",
      "R[write to console]: =\n",
      "R[write to console]: =\n",
      "R[write to console]: \n",
      "\n",
      "R[write to console]: downloaded 402 KB\n",
      "\n",
      "\n",
      "R[write to console]: \n",
      "\n",
      "R[write to console]: \n",
      "R[write to console]: The downloaded source packages are in\n",
      "\t‘/tmp/Rtmp4NHY7d/downloaded_packages’\n",
      "R[write to console]: \n",
      "R[write to console]: \n",
      "\n"
     ]
    }
   ],
   "source": [
    "%%R\n",
    "\n",
    "if (!requireNamespace(\"BiocManager\", quietly = TRUE)) {\n",
    "    install.packages(\"BiocManager\")\n",
    "    }\n",
    "if (system.file(package = \"ggtree\") == '') {\n",
    "        BiocManager::install(\"ggtree\",quiet = TRUE)\n",
    "    }\n",
    "if (system.file(package = \"treeio\") == '') {\n",
    "        BiocManager::install(\"treeio\",quiet = TRUE)\n",
    "    }\n",
    "\n",
    "install.packages(\"ggnewscale\")"
   ]
  },
  {
   "cell_type": "code",
   "execution_count": 32,
   "metadata": {
    "colab": {
     "base_uri": "https://localhost:8080/",
     "height": 1000
    },
    "id": "k6rYCPJR5iRu",
    "outputId": "74770a8d-1da6-4460-eea6-7ee27843c2bd"
   },
   "outputs": [
    {
     "name": "stderr",
     "output_type": "stream",
     "text": [
      "R[write to console]: ggtree v3.12.0 For help: https://yulab-smu.top/treedata-book/\n",
      "\n",
      "If you use the ggtree package suite in published research, please cite\n",
      "the appropriate paper(s):\n",
      "\n",
      "Guangchuang Yu, David Smith, Huachen Zhu, Yi Guan, Tommy Tsan-Yuk Lam.\n",
      "ggtree: an R package for visualization and annotation of phylogenetic\n",
      "trees with their covariates and other associated data. Methods in\n",
      "Ecology and Evolution. 2017, 8(1):28-36. doi:10.1111/2041-210X.12628\n",
      "\n",
      "Shuangbin Xu, Lin Li, Xiao Luo, Meijun Chen, Wenli Tang, Li Zhan, Zehan\n",
      "Dai, Tommy T. Lam, Yi Guan, Guangchuang Yu. Ggtree: A serialized data\n",
      "object for visualization of a phylogenetic tree and annotation data.\n",
      "iMeta 2022, 1(4):e56. doi:10.1002/imt2.56\n",
      "\n",
      "Guangchuang Yu.  Data Integration, Manipulation and Visualization of\n",
      "Phylogenetic Trees (1st edition). Chapman and Hall/CRC. 2022,\n",
      "doi:10.1201/9781003279242\n",
      "\n",
      "R[write to console]: treeio v1.28.0 For help: https://yulab-smu.top/treedata-book/\n",
      "\n",
      "If you use the ggtree package suite in published research, please cite\n",
      "the appropriate paper(s):\n",
      "\n",
      "LG Wang, TTY Lam, S Xu, Z Dai, L Zhou, T Feng, P Guo, CW Dunn, BR\n",
      "Jones, T Bradley, H Zhu, Y Guan, Y Jiang, G Yu. treeio: an R package\n",
      "for phylogenetic tree input and output with richly annotated and\n",
      "associated data. Molecular Biology and Evolution. 2020, 37(2):599-603.\n",
      "doi: 10.1093/molbev/msz240\n",
      "\n",
      "S Xu, Z Dai, P Guo, X Fu, S Liu, L Zhou, W Tang, T Feng, M Chen, L\n",
      "Zhan, T Wu, E Hu, Y Jiang, X Bo, G Yu. ggtreeExtra: Compact\n",
      "visualization of richly annotated phylogenetic data. Molecular Biology\n",
      "and Evolution. 2021, 38(9):4039-4042. doi: 10.1093/molbev/msab166\n",
      "\n",
      "Guangchuang Yu.  Data Integration, Manipulation and Visualization of\n",
      "Phylogenetic Trees (1st edition). Chapman and Hall/CRC. 2022,\n",
      "doi:10.1201/9781003279242\n",
      "\n"
     ]
    },
    {
     "data": {
      "image/png": "[encoded data removed]"
     },
     "metadata": {},
     "output_type": "display_data"
    }
   ],
   "source": [
    "%%R\n",
    "library(ggtree)\n",
    "library(treeio)\n",
    "\n",
    "tree <- read.nexus(\"/content/timetree/timetree.nexus\")\n",
    "ggtree(tree)"
   ]
  },
  {
   "cell_type": "code",
   "execution_count": 40,
   "metadata": {
    "colab": {
     "base_uri": "https://localhost:8080/"
    },
    "id": "xHPw8OOcsbjP",
    "outputId": "df8da656-9d4c-4893-e04b-e3774fa55e16"
   },
   "outputs": [
    {
     "name": "stderr",
     "output_type": "stream",
     "text": [
      "R[write to console]: Installing package into ‘/usr/local/lib/R/site-library’\n",
      "(as ‘lib’ is unspecified)\n",
      "\n",
      "R[write to console]: trying URL 'https://cran.rstudio.com/src/contrib/tidyr_1.3.1.tar.gz'\n",
      "\n",
      "R[write to console]: Content type 'application/x-gzip'\n",
      "R[write to console]:  length 809058 bytes (790 KB)\n",
      "\n",
      "R[write to console]: =\n",
      "R[write to console]: =\n",
      "R[write to console]: =\n",
      "R[write to console]: =\n",
      "R[write to console]: =\n",
      "R[write to console]: =\n",
      "R[write to console]: =\n",
      "R[write to console]: =\n",
      "R[write to console]: =\n",
      "R[write to console]: =\n",
      "R[write to console]: =\n",
      "R[write to console]: =\n",
      "R[write to console]: =\n",
      "R[write to console]: =\n",
      "R[write to console]: =\n",
      "R[write to console]: =\n",
      "R[write to console]: =\n",
      "R[write to console]: =\n",
      "R[write to console]: =\n",
      "R[write to console]: =\n",
      "R[write to console]: =\n",
      "R[write to console]: =\n",
      "R[write to console]: =\n",
      "R[write to console]: =\n",
      "R[write to console]: =\n",
      "R[write to console]: =\n",
      "R[write to console]: =\n",
      "R[write to console]: =\n",
      "R[write to console]: =\n",
      "R[write to console]: =\n",
      "R[write to console]: =\n",
      "R[write to console]: =\n",
      "R[write to console]: =\n",
      "R[write to console]: =\n",
      "R[write to console]: =\n",
      "R[write to console]: =\n",
      "R[write to console]: =\n",
      "R[write to console]: =\n",
      "R[write to console]: =\n",
      "R[write to console]: =\n",
      "R[write to console]: =\n",
      "R[write to console]: =\n",
      "R[write to console]: =\n",
      "R[write to console]: =\n",
      "R[write to console]: =\n",
      "R[write to console]: =\n",
      "R[write to console]: =\n",
      "R[write to console]: =\n",
      "R[write to console]: =\n",
      "R[write to console]: =\n",
      "R[write to console]: \n",
      "\n",
      "R[write to console]: downloaded 790 KB\n",
      "\n",
      "\n",
      "R[write to console]: \n",
      "\n",
      "R[write to console]: \n",
      "R[write to console]: The downloaded source packages are in\n",
      "\t‘/tmp/Rtmp4NHY7d/downloaded_packages’\n",
      "R[write to console]: \n",
      "R[write to console]: \n",
      "\n"
     ]
    }
   ],
   "source": [
    "%%R\n",
    "#install.packages(\"ggtree\")\n",
    "#install.packages(\"ape\")\n",
    "#install.packages(\"dplyr\")\n",
    "#install.packages(\"ggnewscale\")\n",
    "install.packages(\"tidyr\")"
   ]
  },
  {
   "cell_type": "code",
   "execution_count": 46,
   "metadata": {
    "colab": {
     "base_uri": "https://localhost:8080/"
    },
    "id": "dO2nwho2Fvip",
    "outputId": "f49af548-a829-417c-8a68-2f1e32ac235f"
   },
   "outputs": [
    {
     "name": "stdout",
     "output_type": "stream",
     "text": [
      "\"name,country,region\"\r\n",
      "\"A/Bald_Eagle/BC/OTH-33-36/2022_H5N1|A/Bald_Eagle/BC/OTH-33-36/2022|2022-02-03|,BC,Canada\"\r\n",
      "\"A/chicken/Aomori/21C14T/2022|2022-04-14|,Aomori,Japan\"\r\n",
      "\"A/Chicken/BC/FAV-0369-OS/2022|2.3.4.4b|2022-03-05|,BC,Canada\"\r\n",
      "\"A/chicken/Iwate/21A1T/2022|2022-02-11|,Iwate,Japan\"\r\n",
      "\"A/chicken/Iwate/21A2T/2022|2022-02-11|,Iwate,Japan\"\r\n",
      "\"A/chicken/Iwate/21A7T/2022|2022-02-11|,Iwate,Japan\"\r\n",
      "\"A/chicken/Iwate/21A13T/2022|2022-02-11|,Iwate,Japan\"\r\n",
      "\"A/chicken/Japan/TU16-1112/2022|2022-02-12|,Japan,Japan\"\r\n",
      "\"A/chicken/Japan/TU20-2829/2022|2022-04-16|,Japan,Japan\"\r\n"
     ]
    }
   ],
   "source": [
    "!head Dataset1.country.csv  #created a csv offline and uploaded"
   ]
  },
  {
   "cell_type": "code",
   "execution_count": 58,
   "metadata": {
    "id": "ewwLG5ae_E3x"
   },
   "outputs": [],
   "source": [
    "%%R\n",
    "# Load libraries\n",
    "# Load libraries\n",
    "# Load libraries\n",
    "library(ggtree)\n",
    "library(ape)\n",
    "library(dplyr)\n",
    "library(ggnewscale)\n",
    "library(tidyr)\n",
    "\n"
   ]
  },
  {
   "cell_type": "code",
   "execution_count": 74,
   "metadata": {
    "colab": {
     "base_uri": "https://localhost:8080/",
     "height": 533
    },
    "id": "l-2j3j7vs-FY",
    "outputId": "9b435e3f-d8df-492e-8f8c-54c6afa97cfc"
   },
   "outputs": [
    {
     "name": "stdout",
     "output_type": "stream",
     "text": [
      "Scale for y is already present.\n",
      "Adding another scale for y, which will replace the existing scale.\n"
     ]
    },
    {
     "data": {
      "image/png": "[encoded data removed]"
     },
     "metadata": {},
     "output_type": "display_data"
    }
   ],
   "source": [
    "%%R\n",
    "# Load the tree and metadata\n",
    "tree <- read.nexus(\"/content/timetree/timetree.nexus\")\n",
    "country_metadata <- read.csv(\"Dataset1.country.csv\", sep = \",\")\n",
    "name_date_metadata <- read.csv(\"Dataset1.metadata\")\n",
    "\n",
    "\n",
    "country_metadata <- country_metadata %>%\n",
    "  separate(name.country.region, into = c(\"name\", \"city\", \"country\"), sep = \",\")\n",
    "colnames(country_metadata)\n",
    "\n",
    "# merge based on the 'name' field\n",
    "metadata_full <- merge(country_metadata, name_date_metadata, by = \"name\")\n",
    "\n",
    "# Rename 'name' column in metadata to 'label'\n",
    "metadata_full <- metadata_full %>% rename(label = name)\n",
    "\n",
    "p <- ggtree(tree, mrsd=\"2022-07-14\") +\n",
    "  theme_tree2()\n",
    "\n",
    "# Convert metadata to a format suitable\n",
    "rownames(metadata_full) <- metadata_full$label\n",
    "metadata_full <- metadata_full %>% select(-label)  # Remove label column since it's now rownames\n",
    "\n",
    "# Create a heatmap next to the tree\n",
    "p_heatmap <- gheatmap(p, metadata_full %>% select(city), width = 0.1, offset=.1, colnames = FALSE, colnames_offset_y = .25, legend_title = \"City\") +\n",
    "  scale_x_ggtree() +\n",
    "  new_scale_fill()\n",
    "\n",
    "\n",
    "# Display the plot with heatmap\n",
    "p_heatmap\n"
   ]
  },
  {
   "cell_type": "markdown",
   "metadata": {
    "id": "SsaYS3m4BAaU"
   },
   "source": [
    "### Divergence times confidence intervals\n"
   ]
  },
  {
   "cell_type": "code",
   "execution_count": 44,
   "metadata": {
    "colab": {
     "base_uri": "https://localhost:8080/"
    },
    "id": "luflHHX7A-Fy",
    "outputId": "ba00332a-bfdb-488e-cfc0-4931f858abb4"
   },
   "outputs": [
    {
     "name": "stdout",
     "output_type": "stream",
     "text": [
      "\n",
      "Attempting to parse dates...\n",
      "\tUsing column 'name' as name. This needs match the taxon names in the tree!!\n",
      "\tUsing column 'date' as date.\n",
      "\n",
      "0.00\t-TreeAnc: set-up\n",
      "\n",
      "0.26\tTreeTime.reroot: with method or node: least-squares\n",
      "\n",
      "0.26\tTreeTime.reroot: rerooting will ignore covariance and shared ancestry.\n",
      "\n",
      "0.36\tTreeTime.reroot: with method or node: least-squares\n",
      "\n",
      "0.36\tTreeTime.reroot: rerooting will account for covariance and shared ancestry.\n",
      "\n",
      "0.54\t###TreeTime.run: INITIAL ROUND\n",
      "\n",
      "1.26\tTreeTime.reroot: with method or node: least-squares\n",
      "\n",
      "1.26\tTreeTime.reroot: rerooting will account for covariance and shared ancestry.\n",
      "\n",
      "1.37\t###TreeTime.run: rerunning timetree after rerooting\n",
      "\n",
      "2.17\t###TreeTime.run: ITERATION 1 out of 2 iterations\n",
      "\n",
      "2.17\tDEPRECATION WARNING. TreeTime.resolve_polytomies: You are resolving\n",
      "    \tpolytomies using the old 'greedy' mode. This is not well suited for large\n",
      "    \tpolytomies. Stochastic resolution will become the default in future\n",
      "    \tversions. To switch now, rerun with the flag `--stochastic-resolve`. To\n",
      "    \tkeep using the greedy method in the future, run with `--greedy-resolve`\n",
      "\n",
      "3.89\t###TreeTime.run: ITERATION 2 out of 2 iterations\n",
      "\n",
      "11.79\t###TreeTime.run: FINAL ROUND - confidence estimation via marginal\n",
      "     \treconstruction\n",
      "\n",
      "Inferred sequence evolution model (saved as timetree-confidence/sequence_evolution_model.txt):\n",
      "Substitution rate (mu): 1.0\n",
      "\n",
      "Equilibrium frequencies (pi_i):\n",
      "  A: 0.3362\n",
      "  C: 0.1909\n",
      "  G: 0.2284\n",
      "  T: 0.2345\n",
      "  -: 0.0099\n",
      "\n",
      "Symmetrized rates from j->i (W_ij):\n",
      "\tA\tC\tG\tT\t-\n",
      "  A\t0\t0.6392\t3.2835\t0.5472\t0.1836\n",
      "  C\t0.6392\t0\t0.1829\t3.0181\t0.1836\n",
      "  G\t3.2835\t0.1829\t0\t0.2742\t0.1836\n",
      "  T\t0.5472\t3.0181\t0.2742\t0\t0.1836\n",
      "  -\t0.1836\t0.1836\t0.1836\t0.1836\t0\n",
      "\n",
      "Actual rates from j->i (Q_ij):\n",
      "\tA\tC\tG\tT\t-\n",
      "  A\t0\t0.2149\t1.104\t0.184\t0.0617\n",
      "  C\t0.122\t0\t0.0349\t0.5762\t0.0351\n",
      "  G\t0.75\t0.0418\t0\t0.0626\t0.0419\n",
      "  T\t0.1283\t0.7079\t0.0643\t0\t0.0431\n",
      "  -\t0.0018\t0.0018\t0.0018\t0.0018\t0\n",
      "\n",
      "\n",
      "Inferred sequence evolution model (saved as timetree-confidence/molecular_clock.txt):\n",
      "Root-Tip-Regression:\n",
      " --rate:\t5.188e-04 +/- 7.11e-04 (one std-dev)\n",
      " --chi^2:\t21.42\n",
      " --r^2:  \t0.07\n",
      "\n",
      "--- saved tree as \n",
      "\t timetree-confidence/timetree.pdf\n",
      "\n",
      "--- root-to-tip plot saved to  \n",
      "\ttimetree-confidence/root_to_tip_regression.pdf\n",
      "\n",
      "--- alignment including ancestral nodes saved as  \n",
      "\t timetree-confidence/ancestral_sequences.fasta\n",
      "\n",
      "--- saved divergence times in \n",
      "\t timetree-confidence/dates.tsv\n",
      "\n",
      "--- tree saved in nexus format as  \n",
      "\t timetree-confidence/timetree.nexus\n",
      "\n",
      "--- tree saved in auspice json format as  \n",
      "\t timetree-confidence/auspice_tree.json\n",
      "\n",
      "--- divergence tree saved in nexus format as  \n",
      "\t timetree-confidence/divergence_tree.nexus\n",
      "\n"
     ]
    }
   ],
   "source": [
    "!treetime --tree Dataset1.aln.treefile.contree --dates Dataset1.metadata --aln Dataset1.aln --outdir timetree-confidence --confidence --covariation  #changed input to contree"
   ]
  },
  {
   "cell_type": "code",
   "execution_count": 45,
   "metadata": {
    "colab": {
     "base_uri": "https://localhost:8080/",
     "height": 1000
    },
    "id": "TxhO34slATtO",
    "outputId": "934f07ad-8138-4682-a0a9-39f5db0c0b73"
   },
   "outputs": [
    {
     "name": "stdout",
     "output_type": "stream",
     "text": [
      "  adding: .config/ (stored 0%)\n",
      "  adding: .config/hidden_gcloud_config_universe_descriptor_data_cache_configs.db (deflated 97%)\n",
      "  adding: .config/active_config (stored 0%)\n",
      "  adding: .config/.last_update_check.json (deflated 22%)\n",
      "  adding: .config/logs/ (stored 0%)\n",
      "  adding: .config/logs/2024.10.17/ (stored 0%)\n",
      "  adding: .config/logs/2024.10.17/13.21.11.207512.log (deflated 57%)\n",
      "  adding: .config/logs/2024.10.17/13.20.28.159945.log (deflated 93%)\n",
      "  adding: .config/logs/2024.10.17/13.20.49.100599.log (deflated 58%)\n",
      "  adding: .config/logs/2024.10.17/13.21.10.553091.log (deflated 57%)\n",
      "  adding: .config/logs/2024.10.17/13.21.00.148611.log (deflated 57%)\n",
      "  adding: .config/logs/2024.10.17/13.20.58.994073.log (deflated 85%)\n",
      "  adding: .config/configurations/ (stored 0%)\n",
      "  adding: .config/configurations/config_default (deflated 15%)\n",
      "  adding: .config/gce (stored 0%)\n",
      "  adding: .config/.last_survey_prompt.yaml (stored 0%)\n",
      "  adding: .config/config_sentinel (stored 0%)\n",
      "  adding: .config/default_configs.db (deflated 98%)\n",
      "  adding: .config/.last_opt_in_prompt.yaml (stored 0%)\n",
      "  adding: Dataset1.filtered.fasta (deflated 95%)\n",
      "  adding: Dataset1.metadata (deflated 70%)\n",
      "  adding: Dataset1.aln.treefile (deflated 70%)\n",
      "  adding: Dataset1.clean.aln (deflated 97%)\n",
      "  adding: Dataset1.aln.contree (deflated 70%)\n",
      "  adding: Dataset1.aln.ckp.gz (deflated 0%)\n",
      "  adding: Dataset1.aln.model.gz (stored 0%)\n",
      "  adding: Dataset1.aln.mldist (deflated 78%)\n",
      "  adding: timetree-confidence/ (stored 0%)\n",
      "  adding: timetree-confidence/branch_mutations.txt (deflated 73%)\n",
      "  adding: timetree-confidence/trace_run.log (deflated 43%)\n",
      "  adding: timetree-confidence/root_to_tip_regression.pdf (deflated 31%)\n",
      "  adding: timetree-confidence/dates.tsv (deflated 72%)\n",
      "  adding: timetree-confidence/timetree.nexus (deflated 74%)\n",
      "  adding: timetree-confidence/sequence_evolution_model.txt (deflated 48%)\n",
      "  adding: timetree-confidence/molecular_clock.txt (deflated 9%)\n",
      "  adding: timetree-confidence/divergence_tree.nexus (deflated 77%)\n",
      "  adding: timetree-confidence/auspice_tree.json (deflated 86%)\n",
      "  adding: timetree-confidence/ancestral_sequences.fasta (deflated 98%)\n",
      "  adding: timetree-confidence/timetree.pdf (deflated 23%)\n",
      "  adding: Dataset1.aln.treefile.contree (deflated 67%)\n",
      "  adding: Dataset1.aln.iqtree (deflated 75%)\n",
      "  adding: Dataset1.aln.splits.nex (deflated 84%)\n",
      "  adding: Dataset1.aligned.fasta (deflated 97%)\n",
      "  adding: sequence_to_filter.txt (stored 0%)\n",
      "  adding: Dataset1.fasta (deflated 95%)\n",
      "  adding: timetree/ (stored 0%)\n",
      "  adding: timetree/branch_mutations.txt (deflated 72%)\n",
      "  adding: timetree/trace_run.log (deflated 40%)\n",
      "  adding: timetree/root_to_tip_regression.pdf (deflated 38%)\n",
      "  adding: timetree/dates.tsv (deflated 69%)\n",
      "  adding: timetree/timetree.nexus (deflated 75%)\n",
      "  adding: timetree/sequence_evolution_model.txt (deflated 48%)\n",
      "  adding: timetree/molecular_clock.txt (deflated 2%)\n",
      "  adding: timetree/divergence_tree.nexus (deflated 77%)\n",
      "  adding: timetree/auspice_tree.json (deflated 86%)\n",
      "  adding: timetree/ancestral_sequences.fasta (deflated 98%)\n",
      "  adding: timetree/timetree.pdf (deflated 27%)\n",
      "  adding: Dataset1.aln.seqkit.fai (deflated 69%)\n",
      "  adding: Dataset1.realigned.aln (deflated 97%)\n",
      "  adding: Dataset1.aln.log (deflated 75%)\n",
      "  adding: Dataset1.aln.uniqueseq.phy (deflated 97%)\n",
      "  adding: Dataset1.dna.fasta (deflated 95%)\n",
      "  adding: Dataset1.aln.treefile.log (deflated 38%)\n",
      "  adding: Dataset1.trimmed.aln (deflated 97%)\n",
      "  adding: Dataset1.aln (deflated 97%)\n",
      "  adding: Dataset1.country.csv (deflated 72%)\n",
      "  adding: Dataset1.aln.parstree (deflated 73%)\n",
      "  adding: condacolab_install.log (deflated 75%)\n",
      "  adding: Dataset1.aln.bionj (deflated 61%)\n",
      "  adding: sample_data/ (stored 0%)\n",
      "  adding: sample_data/README.md (deflated 39%)\n",
      "  adding: sample_data/anscombe.json (deflated 83%)\n",
      "  adding: sample_data/mnist_train_small.csv (deflated 88%)\n",
      "  adding: sample_data/mnist_test.csv (deflated 88%)\n",
      "  adding: sample_data/california_housing_train.csv (deflated 79%)\n",
      "  adding: sample_data/california_housing_test.csv (deflated 76%)\n"
     ]
    },
    {
     "data": {
      "application/javascript": "\n    async function download(id, filename, size) {\n      if (!google.colab.kernel.accessAllowed) {\n        return;\n      }\n      const div = document.createElement('div');\n      const label = document.createElement('label');\n      label.textContent = `Downloading \"${filename}\": `;\n      div.appendChild(label);\n      const progress = document.createElement('progress');\n      progress.max = size;\n      div.appendChild(progress);\n      document.body.appendChild(div);\n\n      const buffers = [];\n      let downloaded = 0;\n\n      const channel = await google.colab.kernel.comms.open(id);\n      // Send a message to notify the kernel that we're ready.\n      channel.send({})\n\n      for await (const message of channel.messages) {\n        // Send a message to notify the kernel that we're ready.\n        channel.send({})\n        if (message.buffers) {\n          for (const buffer of message.buffers) {\n            buffers.push(buffer);\n            downloaded += buffer.byteLength;\n            progress.value = downloaded;\n          }\n        }\n      }\n      const blob = new Blob(buffers, {type: 'application/binary'});\n      const a = document.createElement('a');\n      a.href = window.URL.createObjectURL(blob);\n      a.download = filename;\n      div.appendChild(a);\n      a.click();\n      div.remove();\n    }\n  ",
      "text/plain": [
       "<IPython.core.display.Javascript object>"
      ]
     },
     "metadata": {},
     "output_type": "display_data"
    },
    {
     "data": {
      "application/javascript": "download(\"download_89d8cd29-1da2-4e6d-8849-e48f4df9695b\", \"BINF90004-phylo.zip\", 12710171)",
      "text/plain": [
       "<IPython.core.display.Javascript object>"
      ]
     },
     "metadata": {},
     "output_type": "display_data"
    }
   ],
   "source": [
    "!zip -r BINF90004-phylo.zip .\n",
    "\n",
    "from google.colab import files\n",
    "files.download(\"BINF90004-phylo.zip\")"
   ]
  }
 ],
 "metadata": {
  "colab": {
   "provenance": []
  },
  "kernelspec": {
   "display_name": "Python 3",
   "name": "python3"
  },
  "language_info": {
   "name": "python"
  }
 },
 "nbformat": 4,
 "nbformat_minor": 0
}
